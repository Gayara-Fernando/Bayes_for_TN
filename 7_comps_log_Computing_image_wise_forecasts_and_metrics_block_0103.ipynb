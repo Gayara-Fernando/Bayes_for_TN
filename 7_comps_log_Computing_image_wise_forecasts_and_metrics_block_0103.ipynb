{
 "cells": [
  {
   "cell_type": "code",
   "execution_count": 1,
   "id": "792bd9f2-28fd-4116-89fa-5bd269c51a47",
   "metadata": {},
   "outputs": [],
   "source": [
    "import pandas as pd\n",
    "import numpy as np\n",
    "import matplotlib.pyplot as plt\n",
    "import os\n",
    "from sklearn.metrics import mean_absolute_error, mean_squared_error, r2_score\n",
    "from scipy.stats import pearsonr"
   ]
  },
  {
   "cell_type": "code",
   "execution_count": 2,
   "id": "16cdfbd4-b38a-43fd-b756-676ca221b4bc",
   "metadata": {},
   "outputs": [],
   "source": [
    "# path to dataframes\n",
    "path_to_dfs = \"log_of_counts/forecasted_counts/block_0103/\""
   ]
  },
  {
   "cell_type": "code",
   "execution_count": 3,
   "id": "e517faff-1694-419f-bd7d-13e76cefa34f",
   "metadata": {},
   "outputs": [],
   "source": [
    "# os.listdir(path_to_dfs)"
   ]
  },
  {
   "cell_type": "code",
   "execution_count": 4,
   "id": "34a0b10e-63ef-433d-bc8a-21cccaf3ece2",
   "metadata": {},
   "outputs": [],
   "source": [
    "averaged_forecasts_csvs = []\n",
    "for file in os.listdir(path_to_dfs):\n",
    "    if file[:8] =='averaged':\n",
    "        averaged_forecasts_csvs.append(file)"
   ]
  },
  {
   "cell_type": "code",
   "execution_count": 5,
   "id": "dbdb3d7e-5b1a-4bab-8edc-34db54869856",
   "metadata": {},
   "outputs": [
    {
     "data": {
      "text/plain": [
       "['averaged_forecasts_sub_0.csv',\n",
       " 'averaged_forecasts_sub_1.csv',\n",
       " 'averaged_forecasts_sub_10.csv',\n",
       " 'averaged_forecasts_sub_11.csv',\n",
       " 'averaged_forecasts_sub_2.csv',\n",
       " 'averaged_forecasts_sub_3.csv',\n",
       " 'averaged_forecasts_sub_4.csv',\n",
       " 'averaged_forecasts_sub_5.csv',\n",
       " 'averaged_forecasts_sub_6.csv',\n",
       " 'averaged_forecasts_sub_7.csv',\n",
       " 'averaged_forecasts_sub_8.csv',\n",
       " 'averaged_forecasts_sub_9.csv']"
      ]
     },
     "execution_count": 5,
     "metadata": {},
     "output_type": "execute_result"
    }
   ],
   "source": [
    "averaged_forecasts_csvs.sort()\n",
    "averaged_forecasts_csvs"
   ]
  },
  {
   "cell_type": "code",
   "execution_count": 6,
   "id": "e64ec5d3-ef54-423f-af9a-56eca9d9e82e",
   "metadata": {},
   "outputs": [],
   "source": [
    "# add the 10, 11 at the end\n",
    "csv_files_10_11 = ['averaged_forecasts_sub_10.csv', 'averaged_forecasts_sub_11.csv']"
   ]
  },
  {
   "cell_type": "code",
   "execution_count": 7,
   "id": "0ebe0a4d-521c-496e-a946-269fba9f29f8",
   "metadata": {},
   "outputs": [],
   "source": [
    "other_files = [i for i in averaged_forecasts_csvs if i not in csv_files_10_11]"
   ]
  },
  {
   "cell_type": "code",
   "execution_count": 8,
   "id": "7cb7f455-42e2-4846-a1c3-04c626eb6536",
   "metadata": {},
   "outputs": [],
   "source": [
    "ordered_csv_files = other_files + csv_files_10_11"
   ]
  },
  {
   "cell_type": "code",
   "execution_count": 9,
   "id": "c0ab9bbb-b6de-42ee-ab0f-dbbf3d0e5233",
   "metadata": {},
   "outputs": [
    {
     "data": {
      "text/plain": [
       "['averaged_forecasts_sub_0.csv',\n",
       " 'averaged_forecasts_sub_1.csv',\n",
       " 'averaged_forecasts_sub_2.csv',\n",
       " 'averaged_forecasts_sub_3.csv',\n",
       " 'averaged_forecasts_sub_4.csv',\n",
       " 'averaged_forecasts_sub_5.csv',\n",
       " 'averaged_forecasts_sub_6.csv',\n",
       " 'averaged_forecasts_sub_7.csv',\n",
       " 'averaged_forecasts_sub_8.csv',\n",
       " 'averaged_forecasts_sub_9.csv',\n",
       " 'averaged_forecasts_sub_10.csv',\n",
       " 'averaged_forecasts_sub_11.csv']"
      ]
     },
     "execution_count": 9,
     "metadata": {},
     "output_type": "execute_result"
    }
   ],
   "source": [
    "ordered_csv_files"
   ]
  },
  {
   "cell_type": "code",
   "execution_count": 10,
   "id": "d7210813-d54e-4a90-a3c9-509b6e153350",
   "metadata": {},
   "outputs": [],
   "source": [
    "all_dfs = []\n",
    "for file in ordered_csv_files:\n",
    "    read_df = pd.read_csv(path_to_dfs + '/' + file)\n",
    "    all_dfs.append(read_df)"
   ]
  },
  {
   "cell_type": "code",
   "execution_count": 11,
   "id": "e6536dbe-60f7-4ced-bf03-7fbbd91d0aa5",
   "metadata": {},
   "outputs": [],
   "source": [
    "# make a single dataframe out of the many\n",
    "combined_df = pd.concat(all_dfs, axis = 1)"
   ]
  },
  {
   "cell_type": "code",
   "execution_count": 12,
   "id": "cabf05c1-2fcf-43f6-a413-cf325d7e705b",
   "metadata": {},
   "outputs": [
    {
     "data": {
      "text/html": [
       "<div>\n",
       "<style scoped>\n",
       "    .dataframe tbody tr th:only-of-type {\n",
       "        vertical-align: middle;\n",
       "    }\n",
       "\n",
       "    .dataframe tbody tr th {\n",
       "        vertical-align: top;\n",
       "    }\n",
       "\n",
       "    .dataframe thead th {\n",
       "        text-align: right;\n",
       "    }\n",
       "</style>\n",
       "<table border=\"1\" class=\"dataframe\">\n",
       "  <thead>\n",
       "    <tr style=\"text-align: right;\">\n",
       "      <th></th>\n",
       "      <th>True_value</th>\n",
       "      <th>Forecasted_value</th>\n",
       "      <th>True_value</th>\n",
       "      <th>Forecasted_value</th>\n",
       "      <th>True_value</th>\n",
       "      <th>Forecasted_value</th>\n",
       "      <th>True_value</th>\n",
       "      <th>Forecasted_value</th>\n",
       "      <th>True_value</th>\n",
       "      <th>Forecasted_value</th>\n",
       "      <th>...</th>\n",
       "      <th>True_value</th>\n",
       "      <th>Forecasted_value</th>\n",
       "      <th>True_value</th>\n",
       "      <th>Forecasted_value</th>\n",
       "      <th>True_value</th>\n",
       "      <th>Forecasted_value</th>\n",
       "      <th>True_value</th>\n",
       "      <th>Forecasted_value</th>\n",
       "      <th>True_value</th>\n",
       "      <th>Forecasted_value</th>\n",
       "    </tr>\n",
       "  </thead>\n",
       "  <tbody>\n",
       "    <tr>\n",
       "      <th>0</th>\n",
       "      <td>1.386294</td>\n",
       "      <td>1.541261</td>\n",
       "      <td>1.611060</td>\n",
       "      <td>1.674360</td>\n",
       "      <td>1.974523</td>\n",
       "      <td>2.029238</td>\n",
       "      <td>1.098615</td>\n",
       "      <td>0.794054</td>\n",
       "      <td>1.468809</td>\n",
       "      <td>1.895101</td>\n",
       "      <td>...</td>\n",
       "      <td>0.693474</td>\n",
       "      <td>0.510615</td>\n",
       "      <td>0.504370</td>\n",
       "      <td>0.979441</td>\n",
       "      <td>1.116603</td>\n",
       "      <td>1.117897</td>\n",
       "      <td>1.609424</td>\n",
       "      <td>1.741466</td>\n",
       "      <td>0.000000</td>\n",
       "      <td>-0.051043</td>\n",
       "    </tr>\n",
       "    <tr>\n",
       "      <th>1</th>\n",
       "      <td>1.609941</td>\n",
       "      <td>1.497684</td>\n",
       "      <td>1.566259</td>\n",
       "      <td>1.645498</td>\n",
       "      <td>2.185501</td>\n",
       "      <td>2.157015</td>\n",
       "      <td>1.072574</td>\n",
       "      <td>0.756410</td>\n",
       "      <td>1.795093</td>\n",
       "      <td>1.689149</td>\n",
       "      <td>...</td>\n",
       "      <td>0.158616</td>\n",
       "      <td>0.202568</td>\n",
       "      <td>1.091066</td>\n",
       "      <td>0.882499</td>\n",
       "      <td>1.296354</td>\n",
       "      <td>1.280092</td>\n",
       "      <td>1.671756</td>\n",
       "      <td>1.732130</td>\n",
       "      <td>0.000000</td>\n",
       "      <td>-0.919408</td>\n",
       "    </tr>\n",
       "    <tr>\n",
       "      <th>2</th>\n",
       "      <td>1.609469</td>\n",
       "      <td>1.528779</td>\n",
       "      <td>1.610357</td>\n",
       "      <td>1.754615</td>\n",
       "      <td>2.037852</td>\n",
       "      <td>2.021067</td>\n",
       "      <td>0.693146</td>\n",
       "      <td>0.881894</td>\n",
       "      <td>1.609407</td>\n",
       "      <td>1.836416</td>\n",
       "      <td>...</td>\n",
       "      <td>0.000005</td>\n",
       "      <td>0.629209</td>\n",
       "      <td>1.386294</td>\n",
       "      <td>1.113030</td>\n",
       "      <td>1.386294</td>\n",
       "      <td>1.346618</td>\n",
       "      <td>1.945908</td>\n",
       "      <td>1.748624</td>\n",
       "      <td>0.000013</td>\n",
       "      <td>0.469310</td>\n",
       "    </tr>\n",
       "    <tr>\n",
       "      <th>3</th>\n",
       "      <td>1.386294</td>\n",
       "      <td>1.377315</td>\n",
       "      <td>1.609438</td>\n",
       "      <td>1.480263</td>\n",
       "      <td>1.609444</td>\n",
       "      <td>2.461640</td>\n",
       "      <td>0.405465</td>\n",
       "      <td>0.712273</td>\n",
       "      <td>1.386294</td>\n",
       "      <td>1.334526</td>\n",
       "      <td>...</td>\n",
       "      <td>0.405465</td>\n",
       "      <td>-0.555601</td>\n",
       "      <td>0.693147</td>\n",
       "      <td>0.644745</td>\n",
       "      <td>1.052637</td>\n",
       "      <td>0.627986</td>\n",
       "      <td>1.625379</td>\n",
       "      <td>1.608207</td>\n",
       "      <td>0.000000</td>\n",
       "      <td>-1.675839</td>\n",
       "    </tr>\n",
       "    <tr>\n",
       "      <th>4</th>\n",
       "      <td>1.386294</td>\n",
       "      <td>1.464426</td>\n",
       "      <td>1.613938</td>\n",
       "      <td>1.528388</td>\n",
       "      <td>1.728711</td>\n",
       "      <td>2.085491</td>\n",
       "      <td>0.685896</td>\n",
       "      <td>0.758700</td>\n",
       "      <td>1.098612</td>\n",
       "      <td>1.120669</td>\n",
       "      <td>...</td>\n",
       "      <td>0.022302</td>\n",
       "      <td>-0.565679</td>\n",
       "      <td>1.098612</td>\n",
       "      <td>0.469817</td>\n",
       "      <td>0.693163</td>\n",
       "      <td>0.765362</td>\n",
       "      <td>1.790403</td>\n",
       "      <td>1.602998</td>\n",
       "      <td>0.008069</td>\n",
       "      <td>-0.488779</td>\n",
       "    </tr>\n",
       "  </tbody>\n",
       "</table>\n",
       "<p>5 rows × 24 columns</p>\n",
       "</div>"
      ],
      "text/plain": [
       "   True_value  Forecasted_value  True_value  Forecasted_value  True_value  \\\n",
       "0    1.386294          1.541261    1.611060          1.674360    1.974523   \n",
       "1    1.609941          1.497684    1.566259          1.645498    2.185501   \n",
       "2    1.609469          1.528779    1.610357          1.754615    2.037852   \n",
       "3    1.386294          1.377315    1.609438          1.480263    1.609444   \n",
       "4    1.386294          1.464426    1.613938          1.528388    1.728711   \n",
       "\n",
       "   Forecasted_value  True_value  Forecasted_value  True_value  \\\n",
       "0          2.029238    1.098615          0.794054    1.468809   \n",
       "1          2.157015    1.072574          0.756410    1.795093   \n",
       "2          2.021067    0.693146          0.881894    1.609407   \n",
       "3          2.461640    0.405465          0.712273    1.386294   \n",
       "4          2.085491    0.685896          0.758700    1.098612   \n",
       "\n",
       "   Forecasted_value  ...  True_value  Forecasted_value  True_value  \\\n",
       "0          1.895101  ...    0.693474          0.510615    0.504370   \n",
       "1          1.689149  ...    0.158616          0.202568    1.091066   \n",
       "2          1.836416  ...    0.000005          0.629209    1.386294   \n",
       "3          1.334526  ...    0.405465         -0.555601    0.693147   \n",
       "4          1.120669  ...    0.022302         -0.565679    1.098612   \n",
       "\n",
       "   Forecasted_value  True_value  Forecasted_value  True_value  \\\n",
       "0          0.979441    1.116603          1.117897    1.609424   \n",
       "1          0.882499    1.296354          1.280092    1.671756   \n",
       "2          1.113030    1.386294          1.346618    1.945908   \n",
       "3          0.644745    1.052637          0.627986    1.625379   \n",
       "4          0.469817    0.693163          0.765362    1.790403   \n",
       "\n",
       "   Forecasted_value  True_value  Forecasted_value  \n",
       "0          1.741466    0.000000         -0.051043  \n",
       "1          1.732130    0.000000         -0.919408  \n",
       "2          1.748624    0.000013          0.469310  \n",
       "3          1.608207    0.000000         -1.675839  \n",
       "4          1.602998    0.008069         -0.488779  \n",
       "\n",
       "[5 rows x 24 columns]"
      ]
     },
     "execution_count": 12,
     "metadata": {},
     "output_type": "execute_result"
    }
   ],
   "source": [
    "combined_df.head()"
   ]
  },
  {
   "cell_type": "code",
   "execution_count": 13,
   "id": "2bd7311d-b36e-4352-9a44-ebec9719e9ae",
   "metadata": {},
   "outputs": [
    {
     "data": {
      "text/plain": [
       "(7, 24)"
      ]
     },
     "execution_count": 13,
     "metadata": {},
     "output_type": "execute_result"
    }
   ],
   "source": [
    "combined_df.shape"
   ]
  },
  {
   "cell_type": "code",
   "execution_count": 14,
   "id": "ae952a0a-3035-4353-aede-905d22bd842f",
   "metadata": {},
   "outputs": [],
   "source": [
    "# get the true values\n",
    "True_values_df = combined_df[['True_value']]"
   ]
  },
  {
   "cell_type": "code",
   "execution_count": 15,
   "id": "baf73275-144e-4bb3-bd47-d94c519f86a2",
   "metadata": {},
   "outputs": [
    {
     "data": {
      "text/html": [
       "<div>\n",
       "<style scoped>\n",
       "    .dataframe tbody tr th:only-of-type {\n",
       "        vertical-align: middle;\n",
       "    }\n",
       "\n",
       "    .dataframe tbody tr th {\n",
       "        vertical-align: top;\n",
       "    }\n",
       "\n",
       "    .dataframe thead th {\n",
       "        text-align: right;\n",
       "    }\n",
       "</style>\n",
       "<table border=\"1\" class=\"dataframe\">\n",
       "  <thead>\n",
       "    <tr style=\"text-align: right;\">\n",
       "      <th></th>\n",
       "      <th>True_value</th>\n",
       "      <th>True_value</th>\n",
       "      <th>True_value</th>\n",
       "      <th>True_value</th>\n",
       "      <th>True_value</th>\n",
       "      <th>True_value</th>\n",
       "      <th>True_value</th>\n",
       "      <th>True_value</th>\n",
       "      <th>True_value</th>\n",
       "      <th>True_value</th>\n",
       "      <th>True_value</th>\n",
       "      <th>True_value</th>\n",
       "    </tr>\n",
       "  </thead>\n",
       "  <tbody>\n",
       "    <tr>\n",
       "      <th>0</th>\n",
       "      <td>1.386294</td>\n",
       "      <td>1.611060</td>\n",
       "      <td>1.974523</td>\n",
       "      <td>1.098615</td>\n",
       "      <td>1.468809</td>\n",
       "      <td>1.598489</td>\n",
       "      <td>2.378505</td>\n",
       "      <td>0.693474</td>\n",
       "      <td>0.504370</td>\n",
       "      <td>1.116603</td>\n",
       "      <td>1.609424</td>\n",
       "      <td>0.000000</td>\n",
       "    </tr>\n",
       "    <tr>\n",
       "      <th>1</th>\n",
       "      <td>1.609941</td>\n",
       "      <td>1.566259</td>\n",
       "      <td>2.185501</td>\n",
       "      <td>1.072574</td>\n",
       "      <td>1.795093</td>\n",
       "      <td>1.437771</td>\n",
       "      <td>1.615950</td>\n",
       "      <td>0.158616</td>\n",
       "      <td>1.091066</td>\n",
       "      <td>1.296354</td>\n",
       "      <td>1.671756</td>\n",
       "      <td>0.000000</td>\n",
       "    </tr>\n",
       "    <tr>\n",
       "      <th>2</th>\n",
       "      <td>1.609469</td>\n",
       "      <td>1.610357</td>\n",
       "      <td>2.037852</td>\n",
       "      <td>0.693146</td>\n",
       "      <td>1.609407</td>\n",
       "      <td>1.608518</td>\n",
       "      <td>1.844651</td>\n",
       "      <td>0.000005</td>\n",
       "      <td>1.386294</td>\n",
       "      <td>1.386294</td>\n",
       "      <td>1.945908</td>\n",
       "      <td>0.000013</td>\n",
       "    </tr>\n",
       "    <tr>\n",
       "      <th>3</th>\n",
       "      <td>1.386294</td>\n",
       "      <td>1.609438</td>\n",
       "      <td>1.609444</td>\n",
       "      <td>0.405465</td>\n",
       "      <td>1.386294</td>\n",
       "      <td>1.399817</td>\n",
       "      <td>1.945906</td>\n",
       "      <td>0.405465</td>\n",
       "      <td>0.693147</td>\n",
       "      <td>1.052637</td>\n",
       "      <td>1.625379</td>\n",
       "      <td>0.000000</td>\n",
       "    </tr>\n",
       "    <tr>\n",
       "      <th>4</th>\n",
       "      <td>1.386294</td>\n",
       "      <td>1.613938</td>\n",
       "      <td>1.728711</td>\n",
       "      <td>0.685896</td>\n",
       "      <td>1.098612</td>\n",
       "      <td>1.625379</td>\n",
       "      <td>1.833479</td>\n",
       "      <td>0.022302</td>\n",
       "      <td>1.098612</td>\n",
       "      <td>0.693163</td>\n",
       "      <td>1.790403</td>\n",
       "      <td>0.008069</td>\n",
       "    </tr>\n",
       "    <tr>\n",
       "      <th>5</th>\n",
       "      <td>1.609438</td>\n",
       "      <td>1.953659</td>\n",
       "      <td>1.800381</td>\n",
       "      <td>1.081147</td>\n",
       "      <td>1.098612</td>\n",
       "      <td>1.632744</td>\n",
       "      <td>1.911756</td>\n",
       "      <td>1.117335</td>\n",
       "      <td>0.693147</td>\n",
       "      <td>0.699477</td>\n",
       "      <td>1.945249</td>\n",
       "      <td>0.693147</td>\n",
       "    </tr>\n",
       "    <tr>\n",
       "      <th>6</th>\n",
       "      <td>0.693147</td>\n",
       "      <td>1.704748</td>\n",
       "      <td>1.640148</td>\n",
       "      <td>0.002523</td>\n",
       "      <td>1.386126</td>\n",
       "      <td>1.098612</td>\n",
       "      <td>1.847514</td>\n",
       "      <td>1.097832</td>\n",
       "      <td>0.693484</td>\n",
       "      <td>0.693147</td>\n",
       "      <td>1.386302</td>\n",
       "      <td>0.000000</td>\n",
       "    </tr>\n",
       "  </tbody>\n",
       "</table>\n",
       "</div>"
      ],
      "text/plain": [
       "   True_value  True_value  True_value  True_value  True_value  True_value  \\\n",
       "0    1.386294    1.611060    1.974523    1.098615    1.468809    1.598489   \n",
       "1    1.609941    1.566259    2.185501    1.072574    1.795093    1.437771   \n",
       "2    1.609469    1.610357    2.037852    0.693146    1.609407    1.608518   \n",
       "3    1.386294    1.609438    1.609444    0.405465    1.386294    1.399817   \n",
       "4    1.386294    1.613938    1.728711    0.685896    1.098612    1.625379   \n",
       "5    1.609438    1.953659    1.800381    1.081147    1.098612    1.632744   \n",
       "6    0.693147    1.704748    1.640148    0.002523    1.386126    1.098612   \n",
       "\n",
       "   True_value  True_value  True_value  True_value  True_value  True_value  \n",
       "0    2.378505    0.693474    0.504370    1.116603    1.609424    0.000000  \n",
       "1    1.615950    0.158616    1.091066    1.296354    1.671756    0.000000  \n",
       "2    1.844651    0.000005    1.386294    1.386294    1.945908    0.000013  \n",
       "3    1.945906    0.405465    0.693147    1.052637    1.625379    0.000000  \n",
       "4    1.833479    0.022302    1.098612    0.693163    1.790403    0.008069  \n",
       "5    1.911756    1.117335    0.693147    0.699477    1.945249    0.693147  \n",
       "6    1.847514    1.097832    0.693484    0.693147    1.386302    0.000000  "
      ]
     },
     "execution_count": 15,
     "metadata": {},
     "output_type": "execute_result"
    }
   ],
   "source": [
    "True_values_df"
   ]
  },
  {
   "cell_type": "code",
   "execution_count": 16,
   "id": "a2b13e7b-e392-4897-8c2a-daee45bc37d6",
   "metadata": {},
   "outputs": [],
   "source": [
    "exp_true = np.exp(True_values_df)-1"
   ]
  },
  {
   "cell_type": "code",
   "execution_count": 17,
   "id": "7645988e-8d19-400d-b5c9-301b6819514b",
   "metadata": {},
   "outputs": [],
   "source": [
    "# sum the true values - since the sub images are not overlapping, we can get the sum across columns in the above dataframe\n",
    "sum_true_values = exp_true.sum(axis = 1)"
   ]
  },
  {
   "cell_type": "code",
   "execution_count": 18,
   "id": "17b55908-f95a-4308-a49d-92058bd738af",
   "metadata": {},
   "outputs": [
    {
     "data": {
      "text/plain": [
       "0    40.000662\n",
       "1    39.000001\n",
       "2    41.000000\n",
       "3    31.000000\n",
       "4    32.000000\n",
       "5    40.002086\n",
       "6    27.000176\n",
       "dtype: float64"
      ]
     },
     "execution_count": 18,
     "metadata": {},
     "output_type": "execute_result"
    }
   ],
   "source": [
    "sum_true_values"
   ]
  },
  {
   "cell_type": "code",
   "execution_count": 19,
   "id": "a516e483-354a-4c8f-b9b8-d464a6e7c216",
   "metadata": {},
   "outputs": [],
   "source": [
    "# get the forecasted values\n",
    "Forecasted_values_df = combined_df[['Forecasted_value']]"
   ]
  },
  {
   "cell_type": "code",
   "execution_count": 20,
   "id": "ea17d667-b9de-4625-9a95-576446a115a9",
   "metadata": {},
   "outputs": [
    {
     "data": {
      "text/html": [
       "<div>\n",
       "<style scoped>\n",
       "    .dataframe tbody tr th:only-of-type {\n",
       "        vertical-align: middle;\n",
       "    }\n",
       "\n",
       "    .dataframe tbody tr th {\n",
       "        vertical-align: top;\n",
       "    }\n",
       "\n",
       "    .dataframe thead th {\n",
       "        text-align: right;\n",
       "    }\n",
       "</style>\n",
       "<table border=\"1\" class=\"dataframe\">\n",
       "  <thead>\n",
       "    <tr style=\"text-align: right;\">\n",
       "      <th></th>\n",
       "      <th>Forecasted_value</th>\n",
       "      <th>Forecasted_value</th>\n",
       "      <th>Forecasted_value</th>\n",
       "      <th>Forecasted_value</th>\n",
       "      <th>Forecasted_value</th>\n",
       "      <th>Forecasted_value</th>\n",
       "      <th>Forecasted_value</th>\n",
       "      <th>Forecasted_value</th>\n",
       "      <th>Forecasted_value</th>\n",
       "      <th>Forecasted_value</th>\n",
       "      <th>Forecasted_value</th>\n",
       "      <th>Forecasted_value</th>\n",
       "    </tr>\n",
       "  </thead>\n",
       "  <tbody>\n",
       "    <tr>\n",
       "      <th>0</th>\n",
       "      <td>1.541261</td>\n",
       "      <td>1.674360</td>\n",
       "      <td>2.029238</td>\n",
       "      <td>0.794054</td>\n",
       "      <td>1.895101</td>\n",
       "      <td>1.484582</td>\n",
       "      <td>1.871356</td>\n",
       "      <td>0.510615</td>\n",
       "      <td>0.979441</td>\n",
       "      <td>1.117897</td>\n",
       "      <td>1.741466</td>\n",
       "      <td>-0.051043</td>\n",
       "    </tr>\n",
       "    <tr>\n",
       "      <th>1</th>\n",
       "      <td>1.497684</td>\n",
       "      <td>1.645498</td>\n",
       "      <td>2.157015</td>\n",
       "      <td>0.756410</td>\n",
       "      <td>1.689149</td>\n",
       "      <td>1.493823</td>\n",
       "      <td>1.799283</td>\n",
       "      <td>0.202568</td>\n",
       "      <td>0.882499</td>\n",
       "      <td>1.280092</td>\n",
       "      <td>1.732130</td>\n",
       "      <td>-0.919408</td>\n",
       "    </tr>\n",
       "    <tr>\n",
       "      <th>2</th>\n",
       "      <td>1.528779</td>\n",
       "      <td>1.754615</td>\n",
       "      <td>2.021067</td>\n",
       "      <td>0.881894</td>\n",
       "      <td>1.836416</td>\n",
       "      <td>1.545791</td>\n",
       "      <td>2.094138</td>\n",
       "      <td>0.629209</td>\n",
       "      <td>1.113030</td>\n",
       "      <td>1.346618</td>\n",
       "      <td>1.748624</td>\n",
       "      <td>0.469310</td>\n",
       "    </tr>\n",
       "    <tr>\n",
       "      <th>3</th>\n",
       "      <td>1.377315</td>\n",
       "      <td>1.480263</td>\n",
       "      <td>2.461640</td>\n",
       "      <td>0.712273</td>\n",
       "      <td>1.334526</td>\n",
       "      <td>1.501658</td>\n",
       "      <td>1.792906</td>\n",
       "      <td>-0.555601</td>\n",
       "      <td>0.644745</td>\n",
       "      <td>0.627986</td>\n",
       "      <td>1.608207</td>\n",
       "      <td>-1.675839</td>\n",
       "    </tr>\n",
       "    <tr>\n",
       "      <th>4</th>\n",
       "      <td>1.464426</td>\n",
       "      <td>1.528388</td>\n",
       "      <td>2.085491</td>\n",
       "      <td>0.758700</td>\n",
       "      <td>1.120669</td>\n",
       "      <td>1.516777</td>\n",
       "      <td>1.750450</td>\n",
       "      <td>-0.565679</td>\n",
       "      <td>0.469817</td>\n",
       "      <td>0.765362</td>\n",
       "      <td>1.602998</td>\n",
       "      <td>-0.488779</td>\n",
       "    </tr>\n",
       "    <tr>\n",
       "      <th>5</th>\n",
       "      <td>1.490099</td>\n",
       "      <td>1.542499</td>\n",
       "      <td>2.234002</td>\n",
       "      <td>0.753876</td>\n",
       "      <td>1.388816</td>\n",
       "      <td>1.511065</td>\n",
       "      <td>1.725781</td>\n",
       "      <td>0.533435</td>\n",
       "      <td>0.880940</td>\n",
       "      <td>1.016455</td>\n",
       "      <td>1.689029</td>\n",
       "      <td>-0.603235</td>\n",
       "    </tr>\n",
       "    <tr>\n",
       "      <th>6</th>\n",
       "      <td>1.458566</td>\n",
       "      <td>1.392803</td>\n",
       "      <td>2.363627</td>\n",
       "      <td>0.764778</td>\n",
       "      <td>1.460895</td>\n",
       "      <td>1.516922</td>\n",
       "      <td>1.735019</td>\n",
       "      <td>0.526583</td>\n",
       "      <td>0.764317</td>\n",
       "      <td>0.345154</td>\n",
       "      <td>1.610968</td>\n",
       "      <td>-1.608834</td>\n",
       "    </tr>\n",
       "  </tbody>\n",
       "</table>\n",
       "</div>"
      ],
      "text/plain": [
       "   Forecasted_value  Forecasted_value  Forecasted_value  Forecasted_value  \\\n",
       "0          1.541261          1.674360          2.029238          0.794054   \n",
       "1          1.497684          1.645498          2.157015          0.756410   \n",
       "2          1.528779          1.754615          2.021067          0.881894   \n",
       "3          1.377315          1.480263          2.461640          0.712273   \n",
       "4          1.464426          1.528388          2.085491          0.758700   \n",
       "5          1.490099          1.542499          2.234002          0.753876   \n",
       "6          1.458566          1.392803          2.363627          0.764778   \n",
       "\n",
       "   Forecasted_value  Forecasted_value  Forecasted_value  Forecasted_value  \\\n",
       "0          1.895101          1.484582          1.871356          0.510615   \n",
       "1          1.689149          1.493823          1.799283          0.202568   \n",
       "2          1.836416          1.545791          2.094138          0.629209   \n",
       "3          1.334526          1.501658          1.792906         -0.555601   \n",
       "4          1.120669          1.516777          1.750450         -0.565679   \n",
       "5          1.388816          1.511065          1.725781          0.533435   \n",
       "6          1.460895          1.516922          1.735019          0.526583   \n",
       "\n",
       "   Forecasted_value  Forecasted_value  Forecasted_value  Forecasted_value  \n",
       "0          0.979441          1.117897          1.741466         -0.051043  \n",
       "1          0.882499          1.280092          1.732130         -0.919408  \n",
       "2          1.113030          1.346618          1.748624          0.469310  \n",
       "3          0.644745          0.627986          1.608207         -1.675839  \n",
       "4          0.469817          0.765362          1.602998         -0.488779  \n",
       "5          0.880940          1.016455          1.689029         -0.603235  \n",
       "6          0.764317          0.345154          1.610968         -1.608834  "
      ]
     },
     "execution_count": 20,
     "metadata": {},
     "output_type": "execute_result"
    }
   ],
   "source": [
    "Forecasted_values_df"
   ]
  },
  {
   "cell_type": "code",
   "execution_count": 21,
   "id": "a52bb5de-a241-49a4-b6ab-4702fda67c15",
   "metadata": {},
   "outputs": [],
   "source": [
    "exp_forecasted = np.exp(Forecasted_values_df)-1"
   ]
  },
  {
   "cell_type": "code",
   "execution_count": 22,
   "id": "d60b6f71-5d5d-41a0-b230-2aacb7b109ef",
   "metadata": {},
   "outputs": [
    {
     "data": {
      "text/html": [
       "<div>\n",
       "<style scoped>\n",
       "    .dataframe tbody tr th:only-of-type {\n",
       "        vertical-align: middle;\n",
       "    }\n",
       "\n",
       "    .dataframe tbody tr th {\n",
       "        vertical-align: top;\n",
       "    }\n",
       "\n",
       "    .dataframe thead th {\n",
       "        text-align: right;\n",
       "    }\n",
       "</style>\n",
       "<table border=\"1\" class=\"dataframe\">\n",
       "  <thead>\n",
       "    <tr style=\"text-align: right;\">\n",
       "      <th></th>\n",
       "      <th>Forecasted_value</th>\n",
       "      <th>Forecasted_value</th>\n",
       "      <th>Forecasted_value</th>\n",
       "      <th>Forecasted_value</th>\n",
       "      <th>Forecasted_value</th>\n",
       "      <th>Forecasted_value</th>\n",
       "      <th>Forecasted_value</th>\n",
       "      <th>Forecasted_value</th>\n",
       "      <th>Forecasted_value</th>\n",
       "      <th>Forecasted_value</th>\n",
       "      <th>Forecasted_value</th>\n",
       "      <th>Forecasted_value</th>\n",
       "    </tr>\n",
       "  </thead>\n",
       "  <tbody>\n",
       "    <tr>\n",
       "      <th>0</th>\n",
       "      <td>3.670475</td>\n",
       "      <td>4.335380</td>\n",
       "      <td>6.608290</td>\n",
       "      <td>1.212348</td>\n",
       "      <td>5.653219</td>\n",
       "      <td>3.413121</td>\n",
       "      <td>5.497101</td>\n",
       "      <td>0.666316</td>\n",
       "      <td>1.662967</td>\n",
       "      <td>2.058414</td>\n",
       "      <td>4.705701</td>\n",
       "      <td>-0.049762</td>\n",
       "    </tr>\n",
       "    <tr>\n",
       "      <th>1</th>\n",
       "      <td>3.471321</td>\n",
       "      <td>4.183590</td>\n",
       "      <td>7.645295</td>\n",
       "      <td>1.130615</td>\n",
       "      <td>4.414869</td>\n",
       "      <td>3.454089</td>\n",
       "      <td>5.045312</td>\n",
       "      <td>0.224543</td>\n",
       "      <td>1.416932</td>\n",
       "      <td>2.596972</td>\n",
       "      <td>4.652683</td>\n",
       "      <td>-0.601245</td>\n",
       "    </tr>\n",
       "    <tr>\n",
       "      <th>2</th>\n",
       "      <td>3.612540</td>\n",
       "      <td>4.781223</td>\n",
       "      <td>6.546373</td>\n",
       "      <td>1.415470</td>\n",
       "      <td>5.274011</td>\n",
       "      <td>3.691684</td>\n",
       "      <td>7.118441</td>\n",
       "      <td>0.876125</td>\n",
       "      <td>2.043566</td>\n",
       "      <td>2.844401</td>\n",
       "      <td>4.746690</td>\n",
       "      <td>0.598891</td>\n",
       "    </tr>\n",
       "    <tr>\n",
       "      <th>3</th>\n",
       "      <td>2.964244</td>\n",
       "      <td>3.394101</td>\n",
       "      <td>10.724018</td>\n",
       "      <td>1.038620</td>\n",
       "      <td>2.798194</td>\n",
       "      <td>3.489124</td>\n",
       "      <td>5.006884</td>\n",
       "      <td>-0.426272</td>\n",
       "      <td>0.905501</td>\n",
       "      <td>0.873833</td>\n",
       "      <td>3.993847</td>\n",
       "      <td>-0.812849</td>\n",
       "    </tr>\n",
       "    <tr>\n",
       "      <th>4</th>\n",
       "      <td>3.325060</td>\n",
       "      <td>3.610738</td>\n",
       "      <td>7.048544</td>\n",
       "      <td>1.135498</td>\n",
       "      <td>2.066904</td>\n",
       "      <td>3.557515</td>\n",
       "      <td>4.757192</td>\n",
       "      <td>-0.432026</td>\n",
       "      <td>0.599701</td>\n",
       "      <td>1.149772</td>\n",
       "      <td>3.967906</td>\n",
       "      <td>-0.386625</td>\n",
       "    </tr>\n",
       "    <tr>\n",
       "      <th>5</th>\n",
       "      <td>3.437533</td>\n",
       "      <td>3.676263</td>\n",
       "      <td>8.337159</td>\n",
       "      <td>1.125222</td>\n",
       "      <td>3.010099</td>\n",
       "      <td>3.531554</td>\n",
       "      <td>4.616906</td>\n",
       "      <td>0.704779</td>\n",
       "      <td>1.413166</td>\n",
       "      <td>1.763381</td>\n",
       "      <td>4.414221</td>\n",
       "      <td>-0.452961</td>\n",
       "    </tr>\n",
       "    <tr>\n",
       "      <th>6</th>\n",
       "      <td>3.299791</td>\n",
       "      <td>3.026121</td>\n",
       "      <td>9.629435</td>\n",
       "      <td>1.148517</td>\n",
       "      <td>3.309815</td>\n",
       "      <td>3.558176</td>\n",
       "      <td>4.669034</td>\n",
       "      <td>0.693136</td>\n",
       "      <td>1.147527</td>\n",
       "      <td>0.412207</td>\n",
       "      <td>4.007655</td>\n",
       "      <td>-0.799879</td>\n",
       "    </tr>\n",
       "  </tbody>\n",
       "</table>\n",
       "</div>"
      ],
      "text/plain": [
       "   Forecasted_value  Forecasted_value  Forecasted_value  Forecasted_value  \\\n",
       "0          3.670475          4.335380          6.608290          1.212348   \n",
       "1          3.471321          4.183590          7.645295          1.130615   \n",
       "2          3.612540          4.781223          6.546373          1.415470   \n",
       "3          2.964244          3.394101         10.724018          1.038620   \n",
       "4          3.325060          3.610738          7.048544          1.135498   \n",
       "5          3.437533          3.676263          8.337159          1.125222   \n",
       "6          3.299791          3.026121          9.629435          1.148517   \n",
       "\n",
       "   Forecasted_value  Forecasted_value  Forecasted_value  Forecasted_value  \\\n",
       "0          5.653219          3.413121          5.497101          0.666316   \n",
       "1          4.414869          3.454089          5.045312          0.224543   \n",
       "2          5.274011          3.691684          7.118441          0.876125   \n",
       "3          2.798194          3.489124          5.006884         -0.426272   \n",
       "4          2.066904          3.557515          4.757192         -0.432026   \n",
       "5          3.010099          3.531554          4.616906          0.704779   \n",
       "6          3.309815          3.558176          4.669034          0.693136   \n",
       "\n",
       "   Forecasted_value  Forecasted_value  Forecasted_value  Forecasted_value  \n",
       "0          1.662967          2.058414          4.705701         -0.049762  \n",
       "1          1.416932          2.596972          4.652683         -0.601245  \n",
       "2          2.043566          2.844401          4.746690          0.598891  \n",
       "3          0.905501          0.873833          3.993847         -0.812849  \n",
       "4          0.599701          1.149772          3.967906         -0.386625  \n",
       "5          1.413166          1.763381          4.414221         -0.452961  \n",
       "6          1.147527          0.412207          4.007655         -0.799879  "
      ]
     },
     "execution_count": 22,
     "metadata": {},
     "output_type": "execute_result"
    }
   ],
   "source": [
    "exp_forecasted"
   ]
  },
  {
   "cell_type": "code",
   "execution_count": 23,
   "id": "2e90c508-5b8b-4983-aac2-5c35f189baea",
   "metadata": {},
   "outputs": [],
   "source": [
    "sum_forecasted_values = exp_forecasted.sum(axis = 1)"
   ]
  },
  {
   "cell_type": "code",
   "execution_count": 24,
   "id": "2f240410-e460-4b15-a1cc-f187ad58adcb",
   "metadata": {},
   "outputs": [
    {
     "data": {
      "text/plain": [
       "0    39.433571\n",
       "1    37.634977\n",
       "2    43.549416\n",
       "3    33.949245\n",
       "4    30.400178\n",
       "5    35.577323\n",
       "6    34.101534\n",
       "dtype: float64"
      ]
     },
     "execution_count": 24,
     "metadata": {},
     "output_type": "execute_result"
    }
   ],
   "source": [
    "sum_forecasted_values"
   ]
  },
  {
   "cell_type": "code",
   "execution_count": 25,
   "id": "d39a2bff-50da-4a8c-a839-6fdc59464541",
   "metadata": {},
   "outputs": [],
   "source": [
    "# concatenate the sum dataframes\n",
    "block_0103_true_and_forecasted_values_df = pd.concat((sum_true_values, sum_forecasted_values), axis = 1)"
   ]
  },
  {
   "cell_type": "code",
   "execution_count": 26,
   "id": "ece45dcf-d266-403a-a712-cfebeabbb81b",
   "metadata": {},
   "outputs": [],
   "source": [
    "block_0103_true_and_forecasted_values_df.columns = [\"True_count\", \"Forecasted_count\"]"
   ]
  },
  {
   "cell_type": "code",
   "execution_count": 27,
   "id": "2e898fe4-6a0b-4496-a6a0-b8168adafc3a",
   "metadata": {},
   "outputs": [
    {
     "data": {
      "text/html": [
       "<div>\n",
       "<style scoped>\n",
       "    .dataframe tbody tr th:only-of-type {\n",
       "        vertical-align: middle;\n",
       "    }\n",
       "\n",
       "    .dataframe tbody tr th {\n",
       "        vertical-align: top;\n",
       "    }\n",
       "\n",
       "    .dataframe thead th {\n",
       "        text-align: right;\n",
       "    }\n",
       "</style>\n",
       "<table border=\"1\" class=\"dataframe\">\n",
       "  <thead>\n",
       "    <tr style=\"text-align: right;\">\n",
       "      <th></th>\n",
       "      <th>True_count</th>\n",
       "      <th>Forecasted_count</th>\n",
       "    </tr>\n",
       "  </thead>\n",
       "  <tbody>\n",
       "    <tr>\n",
       "      <th>0</th>\n",
       "      <td>40.000662</td>\n",
       "      <td>39.433571</td>\n",
       "    </tr>\n",
       "    <tr>\n",
       "      <th>1</th>\n",
       "      <td>39.000001</td>\n",
       "      <td>37.634977</td>\n",
       "    </tr>\n",
       "    <tr>\n",
       "      <th>2</th>\n",
       "      <td>41.000000</td>\n",
       "      <td>43.549416</td>\n",
       "    </tr>\n",
       "    <tr>\n",
       "      <th>3</th>\n",
       "      <td>31.000000</td>\n",
       "      <td>33.949245</td>\n",
       "    </tr>\n",
       "    <tr>\n",
       "      <th>4</th>\n",
       "      <td>32.000000</td>\n",
       "      <td>30.400178</td>\n",
       "    </tr>\n",
       "    <tr>\n",
       "      <th>5</th>\n",
       "      <td>40.002086</td>\n",
       "      <td>35.577323</td>\n",
       "    </tr>\n",
       "    <tr>\n",
       "      <th>6</th>\n",
       "      <td>27.000176</td>\n",
       "      <td>34.101534</td>\n",
       "    </tr>\n",
       "  </tbody>\n",
       "</table>\n",
       "</div>"
      ],
      "text/plain": [
       "   True_count  Forecasted_count\n",
       "0   40.000662         39.433571\n",
       "1   39.000001         37.634977\n",
       "2   41.000000         43.549416\n",
       "3   31.000000         33.949245\n",
       "4   32.000000         30.400178\n",
       "5   40.002086         35.577323\n",
       "6   27.000176         34.101534"
      ]
     },
     "execution_count": 27,
     "metadata": {},
     "output_type": "execute_result"
    }
   ],
   "source": [
    "block_0103_true_and_forecasted_values_df"
   ]
  },
  {
   "cell_type": "code",
   "execution_count": 28,
   "id": "bca68bdf-e1d6-47a8-9896-6d78365c5fd9",
   "metadata": {},
   "outputs": [],
   "source": [
    "block_0103_true_and_forecasted_values_df.to_csv(\"log_of_counts/final_forecasted_counts/block_0103_finals_forecasts.csv\", index = False)"
   ]
  },
  {
   "cell_type": "code",
   "execution_count": 29,
   "id": "fdad64dc-eef9-4934-ab51-0239358d5856",
   "metadata": {},
   "outputs": [],
   "source": [
    "# # well we need to verify that the above true values are indeed correct\n",
    "# from preprocess script we have the following counts\n",
    "# [43, 49, 53, 59, 45, 42, 34, 39, 37, 43, 41, 39, 43, 40, 39, 41, 31, 32, 40, 27] # the last seven numbers match with what we have."
   ]
  },
  {
   "cell_type": "code",
   "execution_count": 30,
   "id": "c82cb6b5-096c-41cc-92d9-1819ba35bab3",
   "metadata": {},
   "outputs": [
    {
     "data": {
      "text/plain": [
       "3.584683691206566"
      ]
     },
     "execution_count": 30,
     "metadata": {},
     "output_type": "execute_result"
    }
   ],
   "source": [
    "# blockwise mean squared error\n",
    "rmse = np.sqrt(mean_squared_error(sum_true_values, sum_forecasted_values))\n",
    "rmse"
   ]
  },
  {
   "cell_type": "code",
   "execution_count": 31,
   "id": "574aea69-e6c6-439b-bb28-5fac882283d3",
   "metadata": {},
   "outputs": [
    {
     "data": {
      "text/plain": [
       "2.9366740888036946"
      ]
     },
     "execution_count": 31,
     "metadata": {},
     "output_type": "execute_result"
    }
   ],
   "source": [
    "# blockwise mean absolute error\n",
    "mae = mean_absolute_error(sum_true_values, sum_forecasted_values)\n",
    "mae"
   ]
  },
  {
   "cell_type": "code",
   "execution_count": 32,
   "id": "a89816eb-702e-4653-aa79-36a70892c056",
   "metadata": {},
   "outputs": [
    {
     "data": {
      "text/plain": [
       "PearsonRResult(statistic=0.7332138615792699, pvalue=0.06078447561179049)"
      ]
     },
     "execution_count": 32,
     "metadata": {},
     "output_type": "execute_result"
    }
   ],
   "source": [
    "corr = pearsonr(sum_true_values, sum_forecasted_values)\n",
    "corr"
   ]
  },
  {
   "cell_type": "code",
   "execution_count": 33,
   "id": "983239b4-cbb6-4aca-881c-9cfcb0dbc551",
   "metadata": {},
   "outputs": [
    {
     "data": {
      "text/plain": [
       "0.5201379500522163"
      ]
     },
     "execution_count": 33,
     "metadata": {},
     "output_type": "execute_result"
    }
   ],
   "source": [
    "r2 = r2_score(sum_true_values, sum_forecasted_values)\n",
    "r2"
   ]
  },
  {
   "cell_type": "code",
   "execution_count": 34,
   "id": "9c64f574-9dd0-466b-b037-130d6cb3dce3",
   "metadata": {},
   "outputs": [],
   "source": [
    "# May be define a function for this, so that it will be easier to get the forecasted dataframes for all blocks"
   ]
  },
  {
   "cell_type": "code",
   "execution_count": 35,
   "id": "0ebf338b-e1c0-4fba-a7ab-8512c98d9939",
   "metadata": {},
   "outputs": [],
   "source": [
    "# # we need first the path to dfs per block\n",
    "# def get_final_forecasted_dfs(path_to_dfs_in_block, block_name, true_values_col_name, forecasted_values_col_name, forecast_path):\n",
    "#     # get the csv files that have the averaged \n",
    "#     average_frcts_csv_files = [file for file in os.listdir(path_to_dfs_in_block) if file[:8] == 'averaged']\n",
    "#     # sort these files\n",
    "#     average_frcts_csv_files.sort()\n",
    "#     # get the later images to the end of the list\n",
    "#     csv_files_10_11 = ['averaged_forecasts_sub_10.csv', 'averaged_forecasts_sub_11.csv']\n",
    "#     # remove these from the total list\n",
    "#     other_files = [i for i in average_frcts_csv_files if i not in csv_files_10_11]\n",
    "#     # add the csv files in order\n",
    "#     ordered_csv_files = other_files + csv_files_10_11\n",
    "#     # print the ordered list of csv files\n",
    "#     print(ordered_csv_files)\n",
    "#     # read and append the list of the dfs\n",
    "#     all_dfs = [pd.read_csv(path_to_dfs_in_block + '/' + df) for df in ordered_csv_files]\n",
    "#     # combine all these dfs together\n",
    "#     combined_df = pd.concat(all_dfs, axis = 1)\n",
    "#     print(combined_df.shape)\n",
    "#     # extract the true value columns only across the sub-images\n",
    "#     True_counts_df = combined_df[[true_values_col_name]]\n",
    "#     # sum the true values dfs\n",
    "#     total_true_values = True_counts_df.sum(axis = 1)\n",
    "#     # print these true values for later comparisons\n",
    "#     print(total_true_values)\n",
    "#     # extract the true value columns across sub images\n",
    "#     Forecasted_counts_df = combined_df[[forecasted_values_col_name]]\n",
    "#     # sum the forecasted values\n",
    "#     total_forecasted_values = Forecasted_counts_df.sum(axis = 1)\n",
    "#     # concatenate the sum dataframes\n",
    "#     true_and_forecasted_values_df = pd.concat((total_true_values, total_forecasted_values), axis = 1)\n",
    "#     # add column titles to the df\n",
    "#     true_and_forecasted_values_df.columns = [\"True_count\", \"Forecasted_count\"]\n",
    "#     # save this file\n",
    "#     file_name = forecast_path + '/' + block_name + '.csv'\n",
    "#     true_and_forecasted_values_df.to_csv(file_name, index = False)\n",
    "#     # blockwise mean squared error\n",
    "#     rmse = np.sqrt(mean_squared_error(total_true_values, total_forecasted_values))\n",
    "#     # blockwise mae\n",
    "#     mae = mean_absolute_error(total_true_values, total_forecasted_values)\n",
    "\n",
    "#     return(true_and_forecasted_values_df, rmse, mae,ordered_csv_files)"
   ]
  },
  {
   "cell_type": "code",
   "execution_count": 36,
   "id": "33fbacb2-2aa9-427f-ab50-fcbb42801a40",
   "metadata": {},
   "outputs": [],
   "source": [
    "# # see if the function works\n",
    "# df, rmse_0103, mae_0103, ordered_files_0103 = get_final_forecasted_dfs(path_to_dfs, 'block_0103', 'True_value', 'Forecasted_value', 'final_forecasted_counts')"
   ]
  },
  {
   "cell_type": "code",
   "execution_count": 37,
   "id": "cb73647d-17d4-4e7a-af87-587b7ab4697f",
   "metadata": {},
   "outputs": [],
   "source": [
    "# df"
   ]
  },
  {
   "cell_type": "code",
   "execution_count": 38,
   "id": "840f4278-f7ce-49c4-bec6-4bef81852faa",
   "metadata": {},
   "outputs": [],
   "source": [
    "# rmse_0103"
   ]
  },
  {
   "cell_type": "code",
   "execution_count": 39,
   "id": "cafca5c1-b8e2-492b-b939-225fda30f2a9",
   "metadata": {},
   "outputs": [],
   "source": [
    "# mae_0103"
   ]
  },
  {
   "cell_type": "code",
   "execution_count": 40,
   "id": "5869d4df-b5da-463e-a86b-30de60f04b79",
   "metadata": {},
   "outputs": [],
   "source": [
    "# ordered_files_0103"
   ]
  },
  {
   "cell_type": "code",
   "execution_count": 41,
   "id": "1f46179d-710d-4f08-87f4-93c5a59f0fb7",
   "metadata": {},
   "outputs": [],
   "source": [
    "# Getting the coverages and the widths for the forecasted values - This can be done with the saved all forecasts npy files\n",
    "# location for the forecast files (all forecasts)\n",
    "location_all_forecasts = 'log_of_counts/forecasted_counts/block_0103'\n",
    "\n",
    "# contents at this location\n",
    "all_contents = os.listdir(location_all_forecasts)\n",
    "all_contents.sort()"
   ]
  },
  {
   "cell_type": "code",
   "execution_count": 42,
   "id": "531f8e8c-e002-45de-8d32-6a4d78439a19",
   "metadata": {},
   "outputs": [],
   "source": [
    "# we need the npy files for all forecasts\n",
    "all_forecast_files = [file for file in all_contents if file[:3] == 'all']"
   ]
  },
  {
   "cell_type": "code",
   "execution_count": 43,
   "id": "6971d19b-7cf3-40a6-8026-c2992188f5fb",
   "metadata": {},
   "outputs": [],
   "source": [
    "# arange the files in order\n",
    "later_npy_files = ['all_forecasts_sub_10.npy', 'all_forecasts_sub_11.npy']\n",
    "first_files = [file for file in all_forecast_files if file not in later_npy_files]"
   ]
  },
  {
   "cell_type": "code",
   "execution_count": 44,
   "id": "5c8db109-fa2f-48b8-b699-3973f6f259bb",
   "metadata": {},
   "outputs": [],
   "source": [
    "final_all_forecast_files = first_files + later_npy_files"
   ]
  },
  {
   "cell_type": "code",
   "execution_count": 45,
   "id": "71c2e5e0-57a1-487f-97ae-fe14edff435f",
   "metadata": {},
   "outputs": [],
   "source": [
    "loaded_npy_files = []\n",
    "for file in final_all_forecast_files:\n",
    "    joined_path = os.path.join(location_all_forecasts, file)\n",
    "    load_file = np.load(joined_path)\n",
    "    mean_file = np.exp(np.mean(load_file, axis = 1)) - 1\n",
    "    loaded_npy_files.append(mean_file)"
   ]
  },
  {
   "cell_type": "code",
   "execution_count": 46,
   "id": "f1412dc1-4d19-4fe5-8eb4-71ea21313a96",
   "metadata": {},
   "outputs": [
    {
     "data": {
      "text/plain": [
       "12"
      ]
     },
     "execution_count": 46,
     "metadata": {},
     "output_type": "execute_result"
    }
   ],
   "source": [
    "len(loaded_npy_files)"
   ]
  },
  {
   "cell_type": "code",
   "execution_count": 47,
   "id": "12df9531-c79f-40c6-9997-65a5ca25e29d",
   "metadata": {},
   "outputs": [
    {
     "data": {
      "text/plain": [
       "(1000, 7)"
      ]
     },
     "execution_count": 47,
     "metadata": {},
     "output_type": "execute_result"
    }
   ],
   "source": [
    "loaded_npy_files[0].shape"
   ]
  },
  {
   "cell_type": "code",
   "execution_count": 48,
   "id": "08204b40-b1ef-4ca0-b25b-df8f5103a7fb",
   "metadata": {},
   "outputs": [],
   "source": [
    "# np.exp(loaded_npy_files[0]) - 1"
   ]
  },
  {
   "cell_type": "code",
   "execution_count": 49,
   "id": "84c11b6b-29fc-47b3-a674-ac8da11519e6",
   "metadata": {},
   "outputs": [
    {
     "data": {
      "text/plain": [
       "array([[5.2525463 , 4.962702  , 5.2312984 , ..., 3.941568  , 4.0420723 ,\n",
       "        3.6469698 ],\n",
       "       [4.4876623 , 3.7306013 , 4.686037  , ..., 1.949924  , 2.366203  ,\n",
       "        0.80514264],\n",
       "       [4.0533156 , 3.7820964 , 4.380148  , ..., 2.2299507 , 2.0121574 ,\n",
       "        0.46847284],\n",
       "       ...,\n",
       "       [4.2541165 , 3.9395986 , 4.478001  , ..., 4.087464  , 4.5815268 ,\n",
       "        4.281813  ],\n",
       "       [3.9941735 , 4.54015   , 4.7698116 , ..., 4.902109  , 4.869144  ,\n",
       "        4.9503555 ],\n",
       "       [4.6720705 , 4.457528  , 4.364118  , ..., 4.7931995 , 4.489139  ,\n",
       "        4.2022624 ]], dtype=float32)"
      ]
     },
     "execution_count": 49,
     "metadata": {},
     "output_type": "execute_result"
    }
   ],
   "source": [
    "loaded_npy_files[1]"
   ]
  },
  {
   "cell_type": "code",
   "execution_count": 50,
   "id": "600ed2a1-e38b-40df-8f8a-d6c1514dfce7",
   "metadata": {},
   "outputs": [],
   "source": [
    "# try_0 = loaded_npy_files[0] + loaded_npy_files[1]"
   ]
  },
  {
   "cell_type": "code",
   "execution_count": 51,
   "id": "68455131-2710-402d-88e1-00bb40ef7bbf",
   "metadata": {},
   "outputs": [],
   "source": [
    "output = sum(loaded_npy_files)"
   ]
  },
  {
   "cell_type": "code",
   "execution_count": 52,
   "id": "904c78d8-b419-4733-b104-cfe4ece3d8f8",
   "metadata": {},
   "outputs": [
    {
     "data": {
      "text/plain": [
       "(1000, 7)"
      ]
     },
     "execution_count": 52,
     "metadata": {},
     "output_type": "execute_result"
    }
   ],
   "source": [
    "output.shape"
   ]
  },
  {
   "cell_type": "code",
   "execution_count": 53,
   "id": "d7d275a6-1993-49ba-b6b4-030e419c5869",
   "metadata": {},
   "outputs": [
    {
     "data": {
      "text/plain": [
       "array([[43.245617, 37.269337, 43.998306, ..., 42.5573  , 53.85742 ,\n",
       "        52.219936],\n",
       "       [41.03256 , 39.135845, 44.794174, ..., 31.626966, 34.77504 ,\n",
       "        36.97279 ],\n",
       "       [40.83603 , 37.27835 , 43.63948 , ..., 44.456806, 36.493073,\n",
       "        38.334435],\n",
       "       ...,\n",
       "       [42.853363, 37.8577  , 44.703575, ..., 33.43779 , 38.117958,\n",
       "        38.849667],\n",
       "       [38.77658 , 33.235466, 45.6197  , ..., 22.974583, 28.053041,\n",
       "        27.165083],\n",
       "       [43.3782  , 43.557457, 44.90035 , ..., 53.785065, 46.310074,\n",
       "        58.98358 ]], dtype=float32)"
      ]
     },
     "execution_count": 53,
     "metadata": {},
     "output_type": "execute_result"
    }
   ],
   "source": [
    "output"
   ]
  },
  {
   "cell_type": "code",
   "execution_count": 54,
   "id": "256e2572-8b5f-4446-aca8-78d37f62e382",
   "metadata": {},
   "outputs": [],
   "source": [
    "li_train = np.percentile(output, axis = 0, q = (2.5, 97.5))[0,:].reshape(-1,1)    \n",
    "ui_train = np.percentile(output, axis = 0, q = (2.5, 97.5))[1,:].reshape(-1,1)"
   ]
  },
  {
   "cell_type": "code",
   "execution_count": 55,
   "id": "7a0ba3eb-0977-4cbc-9179-e3c624351bd6",
   "metadata": {},
   "outputs": [
    {
     "data": {
      "text/plain": [
       "array([[35.8984293 ],\n",
       "       [33.75921135],\n",
       "       [39.66983919],\n",
       "       [25.16982813],\n",
       "       [22.7839407 ],\n",
       "       [27.65974965],\n",
       "       [25.58881507]])"
      ]
     },
     "execution_count": 55,
     "metadata": {},
     "output_type": "execute_result"
    }
   ],
   "source": [
    "li_train"
   ]
  },
  {
   "cell_type": "code",
   "execution_count": 56,
   "id": "07cf4880-bf27-4b94-8b8d-a6bf182f4dc4",
   "metadata": {},
   "outputs": [
    {
     "data": {
      "text/plain": [
       "array([[43.90717783],\n",
       "       [43.37001486],\n",
       "       [48.47618351],\n",
       "       [54.50156126],\n",
       "       [49.12762108],\n",
       "       [55.45833092],\n",
       "       [55.51610546]])"
      ]
     },
     "execution_count": 56,
     "metadata": {},
     "output_type": "execute_result"
    }
   ],
   "source": [
    "ui_train"
   ]
  },
  {
   "cell_type": "code",
   "execution_count": 57,
   "id": "e8571f6e-c367-40e7-8c64-d59e3e2bcffb",
   "metadata": {},
   "outputs": [],
   "source": [
    "width_train = ui_train - li_train\n",
    "avg_width_train = width_train.mean(0)[0]"
   ]
  },
  {
   "cell_type": "code",
   "execution_count": 58,
   "id": "7140887d-2f75-497a-8c12-b8830b1a2954",
   "metadata": {},
   "outputs": [
    {
     "data": {
      "text/plain": [
       "19.975311647142682"
      ]
     },
     "execution_count": 58,
     "metadata": {},
     "output_type": "execute_result"
    }
   ],
   "source": [
    "avg_width_train"
   ]
  },
  {
   "cell_type": "code",
   "execution_count": 59,
   "id": "6ca77097-7a02-4512-97d4-d3315d5db9d6",
   "metadata": {},
   "outputs": [],
   "source": [
    "y_traina = block_0103_true_and_forecasted_values_df[[\"True_count\"]].values"
   ]
  },
  {
   "cell_type": "code",
   "execution_count": 60,
   "id": "1ef4da1e-da7c-4f56-99ef-ed33fae47610",
   "metadata": {},
   "outputs": [],
   "source": [
    "ind_train = (y_traina >= li_train) & (y_traina <= ui_train)\n",
    "coverage_train= ind_train.mean(0)[0]"
   ]
  },
  {
   "cell_type": "code",
   "execution_count": 61,
   "id": "b6abbd48-e4cc-498d-8a31-78685210e12a",
   "metadata": {},
   "outputs": [
    {
     "data": {
      "text/plain": [
       "1.0"
      ]
     },
     "execution_count": 61,
     "metadata": {},
     "output_type": "execute_result"
    }
   ],
   "source": [
    "coverage_train"
   ]
  },
  {
   "cell_type": "code",
   "execution_count": 62,
   "id": "1fbca694-37f5-4a4b-91ae-95af8a81c584",
   "metadata": {},
   "outputs": [
    {
     "data": {
      "text/plain": [
       "array([39.779198, 38.11692 , 43.87467 , 37.059296, 32.918346, 38.409565,\n",
       "       37.39878 ], dtype=float32)"
      ]
     },
     "execution_count": 62,
     "metadata": {},
     "output_type": "execute_result"
    }
   ],
   "source": [
    "np.mean(output, axis = 0)"
   ]
  },
  {
   "cell_type": "code",
   "execution_count": 63,
   "id": "27c9d47e-586a-4e55-8a58-69099371a9a2",
   "metadata": {},
   "outputs": [
    {
     "data": {
      "text/plain": [
       "0    39.433571\n",
       "1    37.634977\n",
       "2    43.549416\n",
       "3    33.949245\n",
       "4    30.400178\n",
       "5    35.577323\n",
       "6    34.101534\n",
       "dtype: float64"
      ]
     },
     "execution_count": 63,
     "metadata": {},
     "output_type": "execute_result"
    }
   ],
   "source": [
    "sum_forecasted_values"
   ]
  },
  {
   "cell_type": "code",
   "execution_count": 64,
   "id": "660e2d50-ad84-4be0-a07f-784f71b2cf70",
   "metadata": {},
   "outputs": [],
   "source": [
    "# final_array = output.reshape(4000,7)"
   ]
  },
  {
   "cell_type": "code",
   "execution_count": 65,
   "id": "cf34d443-ff47-4f36-9c93-8a5af711903d",
   "metadata": {},
   "outputs": [],
   "source": [
    "# final_array_means = np.mean(final_array, axis = 1)"
   ]
  },
  {
   "cell_type": "code",
   "execution_count": 66,
   "id": "410119e5-05d5-4406-b074-ea928c2741d0",
   "metadata": {},
   "outputs": [],
   "source": [
    "# final_array.shape"
   ]
  },
  {
   "cell_type": "code",
   "execution_count": 67,
   "id": "0094de16-30fb-4d5f-b90c-7cb67922c5f8",
   "metadata": {},
   "outputs": [],
   "source": [
    "# exp_vals = np.exp(final_array)-1"
   ]
  },
  {
   "cell_type": "code",
   "execution_count": 68,
   "id": "f2a2487e-968d-4e97-a90e-9ab724d192e7",
   "metadata": {},
   "outputs": [],
   "source": [
    "# print(np.min(exp_vals[:,0]), np.max(exp_vals[:,0]))\n",
    "# print(np.min(final_array[:,1]), np.max(final_array[:,1]))\n",
    "# print(np.min(final_array[:,2]), np.max(final_array[:,2]))\n",
    "# print(np.min(final_array[:,3]), np.max(final_array[:,3]))\n",
    "# print(np.min(final_array[:,4]), np.max(final_array[:,4]))\n",
    "# print(np.min(final_array[:,5]), np.max(final_array[:,5]))\n",
    "# print(np.min(final_array[:,6]), np.max(final_array[:,6]))"
   ]
  },
  {
   "cell_type": "code",
   "execution_count": 69,
   "id": "ab68c834-d414-4c00-9564-87d033ab357b",
   "metadata": {},
   "outputs": [],
   "source": [
    "# import seaborn as sns"
   ]
  },
  {
   "cell_type": "code",
   "execution_count": 70,
   "id": "2ed70156-cea5-497a-9f48-592cb19c3720",
   "metadata": {},
   "outputs": [],
   "source": [
    "# np.exp(10)"
   ]
  },
  {
   "cell_type": "code",
   "execution_count": 71,
   "id": "60850f1e-52d6-4cd3-9536-9d501dd4f870",
   "metadata": {},
   "outputs": [],
   "source": [
    "# sns.kdeplot(data=final_array[:,0])\n",
    "# sns.kdeplot(data=final_array[:,1])\n",
    "# sns.kdeplot(data=final_array[:,2])\n",
    "# sns.kdeplot(data=final_array[:,3])\n",
    "# sns.kdeplot(data=final_array[:,4])\n",
    "# sns.kdeplot(data=final_array[:,5])\n",
    "# sns.kdeplot(data=final_array[:,6])"
   ]
  },
  {
   "cell_type": "code",
   "execution_count": 72,
   "id": "0572fb80-81a8-463f-add8-367d5b196e74",
   "metadata": {},
   "outputs": [],
   "source": [
    "# np.mean(final_array, axis = 0)"
   ]
  },
  {
   "cell_type": "code",
   "execution_count": 73,
   "id": "99e9934e-1992-447d-b7f4-1c1006af1c7c",
   "metadata": {},
   "outputs": [],
   "source": [
    "# li_train = np.percentile(final_array, axis = 0, q = (5, 95))[0,:].reshape(-1,1)    \n",
    "# ui_train = np.percentile(final_array, axis = 0, q = (5, 95))[1,:].reshape(-1,1)"
   ]
  },
  {
   "cell_type": "code",
   "execution_count": 74,
   "id": "9e74fa7e-b298-4f54-a9b2-9c56dc629fcb",
   "metadata": {},
   "outputs": [],
   "source": [
    "# li_train.shape"
   ]
  },
  {
   "cell_type": "code",
   "execution_count": 75,
   "id": "6d4612b5-4d33-4111-bbcb-2a59c9299a8b",
   "metadata": {},
   "outputs": [],
   "source": [
    "# li_train"
   ]
  },
  {
   "cell_type": "code",
   "execution_count": 76,
   "id": "18a79041-8b56-46d0-8258-cfd42d010716",
   "metadata": {},
   "outputs": [],
   "source": [
    "# ui_train.shape"
   ]
  },
  {
   "cell_type": "code",
   "execution_count": 77,
   "id": "feccf165-a6f0-410b-962e-c2145d0cbbf5",
   "metadata": {},
   "outputs": [],
   "source": [
    "# ui_train"
   ]
  },
  {
   "cell_type": "code",
   "execution_count": 78,
   "id": "d6a49f50-f110-4291-b8bd-60bd23d22b66",
   "metadata": {},
   "outputs": [],
   "source": [
    "# width_train = ui_train - li_train\n",
    "# avg_width_train = width_train.mean(0)[0]"
   ]
  },
  {
   "cell_type": "code",
   "execution_count": 79,
   "id": "779b45d0-cb9f-45e7-8ff5-96dfc86823c6",
   "metadata": {},
   "outputs": [],
   "source": [
    "# avg_width_train"
   ]
  },
  {
   "cell_type": "code",
   "execution_count": 80,
   "id": "bdd312c8-54da-4ee1-83ea-4eb810720389",
   "metadata": {},
   "outputs": [],
   "source": [
    "# y_traina = block_0103_true_and_forecasted_values_df[[\"True_count\"]].values"
   ]
  },
  {
   "cell_type": "code",
   "execution_count": 81,
   "id": "c979d89b-2af3-4c69-a7ec-f7029743655a",
   "metadata": {},
   "outputs": [],
   "source": [
    "# y_traina"
   ]
  },
  {
   "cell_type": "code",
   "execution_count": 82,
   "id": "82a9df16-15ce-4cbc-8adf-da69a42379ce",
   "metadata": {},
   "outputs": [],
   "source": [
    "# ind_train = (y_traina >= li_train) & (y_traina <= ui_train)\n",
    "# coverage_train= ind_train.mean(0)[0]"
   ]
  },
  {
   "cell_type": "code",
   "execution_count": 83,
   "id": "35ad80c2-95f8-4360-b658-f0a205295177",
   "metadata": {},
   "outputs": [],
   "source": [
    "# coverage_train"
   ]
  },
  {
   "cell_type": "code",
   "execution_count": 84,
   "id": "aa3115d1-a4c4-4809-b790-a86295c17fe5",
   "metadata": {},
   "outputs": [
    {
     "data": {
      "image/png": "[encoded data removed]",
      "text/plain": [
       "<Figure size 640x480 with 1 Axes>"
      ]
     },
     "metadata": {},
     "output_type": "display_data"
    }
   ],
   "source": [
    "plt.scatter(block_0103_true_and_forecasted_values_df['True_count'], block_0103_true_and_forecasted_values_df['Forecasted_count'])\n",
    "plt.xlabel(\"True density\")\n",
    "plt.ylabel(\"Predicted density\")\n",
    "# Add the y = x line\n",
    "plt.plot([28, 42], [28, 42], color='green', label='y = x')\n",
    "plt.legend()\n",
    "plt.show()"
   ]
  },
  {
   "cell_type": "markdown",
   "id": "4001b989-ccbb-4a1d-84f3-c319a71f6fa1",
   "metadata": {},
   "source": [
    "Verify the true counts we have for the test data are indeed correct"
   ]
  },
  {
   "cell_type": "code",
   "execution_count": 85,
   "id": "475c780a-5685-4cda-850c-2fe98f6c0ccd",
   "metadata": {},
   "outputs": [],
   "source": [
    "# # Verify the true counts - from np arrays - location Block_0103/sub_images_and_counts\n",
    "\n",
    "# sub_count_loc = 'all_preprocessed_data/Block_0103/sub_images_and_counts'"
   ]
  },
  {
   "cell_type": "code",
   "execution_count": 86,
   "id": "f548841d-8571-43be-adc3-4659c11e8b92",
   "metadata": {},
   "outputs": [],
   "source": [
    "# sub_density_maps = [i for i in os.listdir(sub_count_loc) if i.split(\".\")[0][-7:] == 'density']\n",
    "# sub_density_maps.sort()"
   ]
  },
  {
   "cell_type": "code",
   "execution_count": 87,
   "id": "0b13ba56-ebee-48f2-903e-73af5e80d178",
   "metadata": {},
   "outputs": [],
   "source": [
    "# # get the test dates\n",
    "# test_time_periods = ['2020_08_26', '2020_08_27', '2020_08_28' ,'2020_08_31', '2020_09_02', '2020_09_07', '2020_09_16']"
   ]
  },
  {
   "cell_type": "code",
   "execution_count": 88,
   "id": "1f6ef2d5-a7f1-4b04-be3c-c94762cb90f1",
   "metadata": {},
   "outputs": [],
   "source": [
    "# test_time_periods = ['Block0103_' + i for i in test_time_periods]"
   ]
  },
  {
   "cell_type": "code",
   "execution_count": 89,
   "id": "f92dde41-38ee-4209-9b95-d5317258786b",
   "metadata": {},
   "outputs": [],
   "source": [
    "# # print the test dates\n",
    "# test_time_periods"
   ]
  },
  {
   "cell_type": "code",
   "execution_count": 90,
   "id": "fc875d08-0362-4eb9-acf0-d1fe29c061f0",
   "metadata": {},
   "outputs": [],
   "source": [
    "# # get the density maps for these days only for the computation of the total true counts of the test images\n",
    "# test_density_maps = [i for i in sub_density_maps if i[:20] in test_time_periods]\n",
    "# test_density_maps.sort()"
   ]
  },
  {
   "cell_type": "code",
   "execution_count": 91,
   "id": "0b4e6646-e522-4ea2-bde1-8e2ecdaa1958",
   "metadata": {},
   "outputs": [],
   "source": [
    "# %%time\n",
    "# # get the true counts\n",
    "# true_counts_in_order = []\n",
    "# step = 0\n",
    "# # we have only seven time points\n",
    "# for u in range(7):\n",
    "#     catch_counts = []\n",
    "#     # for each time steps we have 12 images, and since the sub windows are not overlapping we can add the values straightaway eben without sorting\n",
    "#     for j in range(step, step + 12):\n",
    "#         total_count = np.sum(np.load(os.path.join(sub_count_loc, test_density_maps[j])))\n",
    "#         catch_counts.append(total_count)\n",
    "#     true_counts_in_order.append(np.sum(catch_counts))\n",
    "#     step = step + 12"
   ]
  },
  {
   "cell_type": "code",
   "execution_count": 92,
   "id": "87f76e85-ebf6-41a3-ad39-75272e38632f",
   "metadata": {},
   "outputs": [],
   "source": [
    "# true_counts_in_order"
   ]
  },
  {
   "cell_type": "code",
   "execution_count": 93,
   "id": "a75a7dbf-97e7-410b-a947-270b30c2c597",
   "metadata": {},
   "outputs": [],
   "source": [
    "# df[['True_count']].values.flatten()"
   ]
  },
  {
   "cell_type": "code",
   "execution_count": 94,
   "id": "4a1ab417-12e2-43fc-8719-e3d54429d6c6",
   "metadata": {},
   "outputs": [],
   "source": [
    "# see if the two values we get match "
   ]
  },
  {
   "cell_type": "code",
   "execution_count": 95,
   "id": "01bf644c-01d3-49bd-8c0b-23ca0f2fdc83",
   "metadata": {},
   "outputs": [],
   "source": [
    "# np.mean(np.round(true_counts_in_order, 0) == np.round(df[['True_count']].values.flatten(), 0))"
   ]
  }
 ],
 "metadata": {
  "kernelspec": {
   "display_name": "Python (tfp_env_TN_CPU)",
   "language": "python",
   "name": "tfp_env_tn_cpu"
  },
  "language_info": {
   "codemirror_mode": {
    "name": "ipython",
    "version": 3
   },
   "file_extension": ".py",
   "mimetype": "text/x-python",
   "name": "python",
   "nbconvert_exporter": "python",
   "pygments_lexer": "ipython3",
   "version": "3.11.7"
  }
 },
 "nbformat": 4,
 "nbformat_minor": 5
}
