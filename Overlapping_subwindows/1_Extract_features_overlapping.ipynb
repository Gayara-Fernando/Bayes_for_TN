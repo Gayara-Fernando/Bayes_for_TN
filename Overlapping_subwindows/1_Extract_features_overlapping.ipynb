{
 "cells": [
  {
   "cell_type": "code",
   "execution_count": 1,
   "id": "744f1e62-9409-4432-bbaf-86d8e8e1e697",
   "metadata": {},
   "outputs": [
    {
     "name": "stderr",
     "output_type": "stream",
     "text": [
      "2024-07-30 12:40:58.954179: I tensorflow/core/util/port.cc:113] oneDNN custom operations are on. You may see slightly different numerical results due to floating-point round-off errors from different computation orders. To turn them off, set the environment variable `TF_ENABLE_ONEDNN_OPTS=0`.\n",
      "2024-07-30 12:40:59.521572: E external/local_xla/xla/stream_executor/cuda/cuda_dnn.cc:9261] Unable to register cuDNN factory: Attempting to register factory for plugin cuDNN when one has already been registered\n",
      "2024-07-30 12:40:59.521622: E external/local_xla/xla/stream_executor/cuda/cuda_fft.cc:607] Unable to register cuFFT factory: Attempting to register factory for plugin cuFFT when one has already been registered\n",
      "2024-07-30 12:40:59.684642: E external/local_xla/xla/stream_executor/cuda/cuda_blas.cc:1515] Unable to register cuBLAS factory: Attempting to register factory for plugin cuBLAS when one has already been registered\n",
      "2024-07-30 12:40:59.887931: I tensorflow/core/platform/cpu_feature_guard.cc:182] This TensorFlow binary is optimized to use available CPU instructions in performance-critical operations.\n",
      "To enable the following instructions: SSE4.1 SSE4.2 AVX AVX2 AVX512F AVX512_VNNI FMA, in other operations, rebuild TensorFlow with the appropriate compiler flags.\n"
     ]
    }
   ],
   "source": [
    "import tensorflow as tf\n",
    "import numpy as np\n",
    "import pandas as pd\n",
    "import matplotlib.pyplot as plt\n",
    "import os"
   ]
  },
  {
   "cell_type": "code",
   "execution_count": 2,
   "id": "6dc290f0-0905-4b4c-9d4b-29130bda116e",
   "metadata": {},
   "outputs": [
    {
     "name": "stderr",
     "output_type": "stream",
     "text": [
      "2024-07-30 12:41:17.351168: I tensorflow/core/common_runtime/gpu/gpu_device.cc:1929] Created device /job:localhost/replica:0/task:0/device:GPU:0 with 31141 MB memory:  -> device: 0, name: Tesla V100S-PCIE-32GB, pci bus id: 0000:06:00.0, compute capability: 7.0\n"
     ]
    }
   ],
   "source": [
    "# load the trained model\n",
    "gmp_model = tf.keras.models.load_model('../models/trained_gmp_model_dense_32_new.h5')"
   ]
  },
  {
   "cell_type": "code",
   "execution_count": 3,
   "id": "9d4d6da8-e696-443d-83a5-d152a8006f2d",
   "metadata": {},
   "outputs": [
    {
     "name": "stdout",
     "output_type": "stream",
     "text": [
      "Model: \"model_1\"\n",
      "_________________________________________________________________\n",
      " Layer (type)                Output Shape              Param #   \n",
      "=================================================================\n",
      " input_1 (InputLayer)        [(None, None, None, 3)]   0         \n",
      "                                                                 \n",
      " conv2d (Conv2D)             (None, None, None, 32)    896       \n",
      "                                                                 \n",
      " activation (Activation)     (None, None, None, 32)    0         \n",
      "                                                                 \n",
      " conv2d_1 (Conv2D)           (None, None, None, 32)    9248      \n",
      "                                                                 \n",
      " activation_1 (Activation)   (None, None, None, 32)    0         \n",
      "                                                                 \n",
      " max_pooling2d (MaxPooling2  (None, None, None, 32)    0         \n",
      " D)                                                              \n",
      "                                                                 \n",
      " dropout (Dropout)           (None, None, None, 32)    0         \n",
      "                                                                 \n",
      " conv2d_2 (Conv2D)           (None, None, None, 64)    18496     \n",
      "                                                                 \n",
      " activation_2 (Activation)   (None, None, None, 64)    0         \n",
      "                                                                 \n",
      " conv2d_3 (Conv2D)           (None, None, None, 64)    36928     \n",
      "                                                                 \n",
      " activation_3 (Activation)   (None, None, None, 64)    0         \n",
      "                                                                 \n",
      " max_pooling2d_1 (MaxPoolin  (None, None, None, 64)    0         \n",
      " g2D)                                                            \n",
      "                                                                 \n",
      " New_dropout_0 (Dropout)     (None, None, None, 64)    0         \n",
      "                                                                 \n",
      " global_max_pooling2d (Glob  (None, 64)                0         \n",
      " alMaxPooling2D)                                                 \n",
      "                                                                 \n",
      " New_Dense_0 (Dense)         (None, 64)                4160      \n",
      "                                                                 \n",
      " New_Activation_0 (Activati  (None, 64)                0         \n",
      " on)                                                             \n",
      "                                                                 \n",
      " New_dropout_1 (Dropout)     (None, 64)                0         \n",
      "                                                                 \n",
      " New_Dense_1 (Dense)         (None, 32)                2080      \n",
      "                                                                 \n",
      " New_Activation_1 (Activati  (None, 32)                0         \n",
      " on)                                                             \n",
      "                                                                 \n",
      " New_dropout_2 (Dropout)     (None, 32)                0         \n",
      "                                                                 \n",
      " New_Dense_2 (Dense)         (None, 1)                 33        \n",
      "                                                                 \n",
      " New_Activation_2 (Activati  (None, 1)                 0         \n",
      " on)                                                             \n",
      "                                                                 \n",
      "=================================================================\n",
      "Total params: 71841 (280.63 KB)\n",
      "Trainable params: 43201 (168.75 KB)\n",
      "Non-trainable params: 28640 (111.88 KB)\n",
      "_________________________________________________________________\n"
     ]
    }
   ],
   "source": [
    "gmp_model.summary()"
   ]
  },
  {
   "cell_type": "code",
   "execution_count": 4,
   "id": "1b31ef8d-bc4f-4520-b83a-b079ebef0620",
   "metadata": {},
   "outputs": [],
   "source": [
    "# feature extractor input\n",
    "feat_ext_input = gmp_model.input"
   ]
  },
  {
   "cell_type": "code",
   "execution_count": 5,
   "id": "831255f5-b7a0-4a4a-aef0-eebeb5d09564",
   "metadata": {},
   "outputs": [],
   "source": [
    "# feature extractor output - do this at the ReLu activation layer - as this will give the same features as the dropout layer (It does not matter if it is the dropout or the activation layer, the extracted features will be the same)\n",
    "feat_ext_output = gmp_model.layers[-4].output"
   ]
  },
  {
   "cell_type": "code",
   "execution_count": 6,
   "id": "16d372bc-01b8-4245-a49c-695d633f06fe",
   "metadata": {},
   "outputs": [],
   "source": [
    "feature_extractor_model = tf.keras.models.Model(inputs = feat_ext_input, outputs = feat_ext_output)"
   ]
  },
  {
   "cell_type": "code",
   "execution_count": 7,
   "id": "7a8524a1-1f6b-4886-8963-6d8c27b2cad1",
   "metadata": {},
   "outputs": [
    {
     "name": "stdout",
     "output_type": "stream",
     "text": [
      "Model: \"model\"\n",
      "_________________________________________________________________\n",
      " Layer (type)                Output Shape              Param #   \n",
      "=================================================================\n",
      " input_1 (InputLayer)        [(None, None, None, 3)]   0         \n",
      "                                                                 \n",
      " conv2d (Conv2D)             (None, None, None, 32)    896       \n",
      "                                                                 \n",
      " activation (Activation)     (None, None, None, 32)    0         \n",
      "                                                                 \n",
      " conv2d_1 (Conv2D)           (None, None, None, 32)    9248      \n",
      "                                                                 \n",
      " activation_1 (Activation)   (None, None, None, 32)    0         \n",
      "                                                                 \n",
      " max_pooling2d (MaxPooling2  (None, None, None, 32)    0         \n",
      " D)                                                              \n",
      "                                                                 \n",
      " dropout (Dropout)           (None, None, None, 32)    0         \n",
      "                                                                 \n",
      " conv2d_2 (Conv2D)           (None, None, None, 64)    18496     \n",
      "                                                                 \n",
      " activation_2 (Activation)   (None, None, None, 64)    0         \n",
      "                                                                 \n",
      " conv2d_3 (Conv2D)           (None, None, None, 64)    36928     \n",
      "                                                                 \n",
      " activation_3 (Activation)   (None, None, None, 64)    0         \n",
      "                                                                 \n",
      " max_pooling2d_1 (MaxPoolin  (None, None, None, 64)    0         \n",
      " g2D)                                                            \n",
      "                                                                 \n",
      " New_dropout_0 (Dropout)     (None, None, None, 64)    0         \n",
      "                                                                 \n",
      " global_max_pooling2d (Glob  (None, 64)                0         \n",
      " alMaxPooling2D)                                                 \n",
      "                                                                 \n",
      " New_Dense_0 (Dense)         (None, 64)                4160      \n",
      "                                                                 \n",
      " New_Activation_0 (Activati  (None, 64)                0         \n",
      " on)                                                             \n",
      "                                                                 \n",
      " New_dropout_1 (Dropout)     (None, 64)                0         \n",
      "                                                                 \n",
      " New_Dense_1 (Dense)         (None, 32)                2080      \n",
      "                                                                 \n",
      " New_Activation_1 (Activati  (None, 32)                0         \n",
      " on)                                                             \n",
      "                                                                 \n",
      "=================================================================\n",
      "Total params: 71808 (280.50 KB)\n",
      "Trainable params: 43168 (168.62 KB)\n",
      "Non-trainable params: 28640 (111.88 KB)\n",
      "_________________________________________________________________\n"
     ]
    }
   ],
   "source": [
    "feature_extractor_model.summary()"
   ]
  },
  {
   "cell_type": "code",
   "execution_count": 8,
   "id": "c5337a30-8ae6-444a-92de-cab12ad4be61",
   "metadata": {},
   "outputs": [],
   "source": [
    "# We might need to be cautious here though, as dropout will set some neurons to 0, and the extracted features will therefore become zero - workaround - use the Dense layer to extract features before the pred head (and the dropout layer)"
   ]
  },
  {
   "cell_type": "markdown",
   "id": "f14019cf-27e4-4e58-badb-feef8761fe0a",
   "metadata": {},
   "source": [
    "Locate the previously preprocessed data"
   ]
  },
  {
   "cell_type": "code",
   "execution_count": null,
   "id": "03693381-ac05-4209-a788-0a28cef8b4d2",
   "metadata": {},
   "outputs": [],
   "source": [
    "# We currently have just a single block - 0103"
   ]
  },
  {
   "cell_type": "code",
   "execution_count": null,
   "id": "f29174c3-be6c-4671-912c-e25ec240806c",
   "metadata": {},
   "outputs": [],
   "source": [
    "prev_preprocessed_image_loc = \"preprocessed_data/Block_0103/sub_images_and_counts\""
   ]
  },
  {
   "cell_type": "code",
   "execution_count": null,
   "id": "26b122a5-0e23-4643-8599-17aec50443ee",
   "metadata": {},
   "outputs": [],
   "source": [
    "folder_contents = os.listdir(prev_preprocessed_image_loc)\n",
    "folder_contents.sort()"
   ]
  },
  {
   "cell_type": "code",
   "execution_count": null,
   "id": "b54689e1-6a22-4cd3-b553-892c1ab41df8",
   "metadata": {},
   "outputs": [],
   "source": [
    "len(folder_contents)/(2*42)"
   ]
  },
  {
   "cell_type": "code",
   "execution_count": null,
   "id": "73f1415d-0e99-4bd5-beb7-33b1e2d4409a",
   "metadata": {},
   "outputs": [],
   "source": [
    "folder_contents[0]"
   ]
  },
  {
   "cell_type": "code",
   "execution_count": null,
   "id": "c9d175a6-17d3-4b27-97d4-9557f0551be8",
   "metadata": {},
   "outputs": [],
   "source": [
    "try_fold = np.load(os.path.join(prev_preprocessed_image_loc, folder_contents[0]))\n",
    "try_fold.shape"
   ]
  },
  {
   "cell_type": "code",
   "execution_count": null,
   "id": "c9b9407f-022e-4e44-b071-e3e808cfc37a",
   "metadata": {},
   "outputs": [],
   "source": [
    "try_fold = try_fold[None,  ...]"
   ]
  },
  {
   "cell_type": "code",
   "execution_count": null,
   "id": "4e13795b-7ae5-45bf-8b8a-2bc7894cbaed",
   "metadata": {},
   "outputs": [],
   "source": [
    "# see if the model gives predictions\n",
    "pred_feats_try = feature_extractor_model.predict(try_fold)"
   ]
  },
  {
   "cell_type": "code",
   "execution_count": null,
   "id": "971bdad2-ccf1-46f2-a23c-c7470f1ab56b",
   "metadata": {},
   "outputs": [],
   "source": [
    "pred_feats_try.shape"
   ]
  },
  {
   "cell_type": "code",
   "execution_count": null,
   "id": "d47f3cb4-a143-4059-ba0c-032146aa2d10",
   "metadata": {},
   "outputs": [],
   "source": [
    "pred_feats_try"
   ]
  },
  {
   "cell_type": "code",
   "execution_count": null,
   "id": "294b1c6d-8851-432e-81cd-a51c7b713a51",
   "metadata": {},
   "outputs": [],
   "source": [
    "# may need to write a function that does feature extraction as well as get the respective density values for each subwindow - this may have to be carried manually to each sub window, but is there a way to automate this? Think on this"
   ]
  },
  {
   "cell_type": "code",
   "execution_count": null,
   "id": "fad7c926-8c7d-4699-a49a-43d788127e1c",
   "metadata": {},
   "outputs": [],
   "source": [
    "# sub 10\n",
    "digits_im = 3\n",
    "digits_d = 11\n",
    "character = '10'\n",
    "sub_10_images = [item for item in folder_contents if item.split(\".\")[0][-digits_im:] == ('_' + character)]\n",
    "sub_10_dense_maps = [item for item in folder_contents if item.split(\".\")[0][-digits_d:] == ('_' + character + '_density')]"
   ]
  },
  {
   "cell_type": "code",
   "execution_count": null,
   "id": "2d45b577-3405-4faf-8215-dae033a8bf2b",
   "metadata": {},
   "outputs": [],
   "source": [
    "len(sub_10_images)"
   ]
  },
  {
   "cell_type": "code",
   "execution_count": null,
   "id": "dc305ab9-89a2-42e1-9f38-cbda8511b47b",
   "metadata": {},
   "outputs": [],
   "source": [
    "sub_10_images"
   ]
  },
  {
   "cell_type": "code",
   "execution_count": null,
   "id": "a3358276-457d-4056-a042-6c501fa6c809",
   "metadata": {},
   "outputs": [],
   "source": [
    "len(sub_10_dense_maps)"
   ]
  },
  {
   "cell_type": "code",
   "execution_count": null,
   "id": "9efdfb69-1d0a-4152-8f46-711b33e1b8d3",
   "metadata": {},
   "outputs": [],
   "source": [
    "sub_10_dense_maps"
   ]
  },
  {
   "cell_type": "code",
   "execution_count": null,
   "id": "93712b03-8d13-48b5-8bca-ded9baac7899",
   "metadata": {},
   "outputs": [],
   "source": [
    "all_preds = []\n",
    "all_densitites = []\n",
    "for i in range(len(sub_10_images)):\n",
    "    # load the subimage\n",
    "    load_image = np.load(os.path.join(prev_preprocessed_image_loc, sub_10_images[i]))\n",
    "    # reshape it to get the prediction\n",
    "    load_image_reshape = load_image[None, ...]\n",
    "    # get the prediction from the model\n",
    "    extracted_features = feature_extractor_model.predict(load_image_reshape)\n",
    "    all_preds.append(extracted_features)\n",
    "\n",
    "    # load the count map\n",
    "    load_count_map = np.load(os.path.join(prev_preprocessed_image_loc, sub_10_dense_maps[i]))\n",
    "    count = np.sum(load_count_map)\n",
    "    all_densitites.append(count)"
   ]
  },
  {
   "cell_type": "code",
   "execution_count": null,
   "id": "8828ada5-4ea2-4861-a475-ed6562dc3b88",
   "metadata": {},
   "outputs": [],
   "source": [
    "len(all_preds)"
   ]
  },
  {
   "cell_type": "code",
   "execution_count": 9,
   "id": "6eaf510b-b638-4d3f-a229-c57fb6dece34",
   "metadata": {},
   "outputs": [],
   "source": [
    "def extract_features_and_get_counts(model, preprocessed_path, all_in_folder, digits_image, digits_dense, character, store_path):\n",
    "    necessary_sub_images = [item for item in all_in_folder if item.split(\".\")[0][-digits_image:] == ('_' + character)]\n",
    "    necessary_sub_images.sort()\n",
    "    necessary_sub_dense_maps = [item for item in all_in_folder if item.split(\".\")[0][-digits_dense:] == ('_' + character + '_density')]\n",
    "    necessary_sub_dense_maps.sort()\n",
    "    print(necessary_sub_images[0])\n",
    "    # check if the image and density maps tally\n",
    "    print(np.mean([item.split('.')[0] for item in necessary_sub_images] == [item.split(\".\")[0][:-8] for item in necessary_sub_dense_maps]))\n",
    "    \n",
    "    collect_extracted_features = []\n",
    "    collect_corresponding_counts = []\n",
    "\n",
    "    # collect the subwindow-wise features and corresponding counts\n",
    "    for i in range(len(necessary_sub_images)):\n",
    "        # load the subimage\n",
    "        load_image = np.load(os.path.join(preprocessed_path, necessary_sub_images[i]))\n",
    "        # reshape it to get the prediction\n",
    "        load_image_reshape = load_image[None, ...]\n",
    "        # get the prediction from the model\n",
    "        extracted_features = model.predict(load_image_reshape, verbose = 0)\n",
    "        collect_extracted_features.append(extracted_features)\n",
    "\n",
    "        # load the count map\n",
    "        load_count_map = np.load(os.path.join(preprocessed_path, necessary_sub_dense_maps[i]))\n",
    "        count = np.sum(load_count_map)\n",
    "        collect_corresponding_counts.append(count)\n",
    "\n",
    "    # collect all extracted features data and create a dataframe\n",
    "    Features_data = pd.DataFrame(np.vstack(collect_extracted_features), columns = ['feature_' + str(i) for i in range(np.vstack(collect_extracted_features).shape[1])])\n",
    "    # dataframe for counts\n",
    "    counts_subwindow = pd.DataFrame(collect_corresponding_counts, columns = ['tassel_count'])\n",
    "    # combine the two dataframes\n",
    "    combined_df = pd.concat((Features_data,counts_subwindow), axis = 1 )\n",
    "    # save this dataframe\n",
    "    save_path_name = store_path + 'extracted_features_sub_window_' + character + '.csv'\n",
    "    combined_df.to_csv(save_path_name, index = False)\n",
    "\n",
    "    return(combined_df)"
   ]
  },
  {
   "cell_type": "code",
   "execution_count": null,
   "id": "a60e32d8-b13e-40e1-ae61-f7eca08e2c1f",
   "metadata": {},
   "outputs": [],
   "source": [
    "s_path = 'preprocessed_data/Block_0103/TS_ready_data_frames/'"
   ]
  },
  {
   "cell_type": "code",
   "execution_count": null,
   "id": "882de0e0-0466-44a2-8d16-e612af1c7919",
   "metadata": {},
   "outputs": [],
   "source": [
    "# try the function\n",
    "hello_1 = extract_features_and_get_counts(feature_extractor_model, prev_preprocessed_image_loc, folder_contents, 2, 10, '1', s_path)"
   ]
  },
  {
   "cell_type": "code",
   "execution_count": null,
   "id": "a2582a5e-f6c0-4529-900d-a57591600ca4",
   "metadata": {},
   "outputs": [],
   "source": [
    "hello_1.head()"
   ]
  },
  {
   "cell_type": "code",
   "execution_count": null,
   "id": "9daae7bb-a2e8-4997-b0f4-22fb9cf4ace0",
   "metadata": {},
   "outputs": [],
   "source": [
    "hello_1.shape"
   ]
  },
  {
   "cell_type": "code",
   "execution_count": null,
   "id": "1ee19802-0648-4055-a8a8-0024b05684c3",
   "metadata": {},
   "outputs": [],
   "source": [
    "# try the function for another character\n",
    "hello_2 = extract_features_and_get_counts(feature_extractor_model, prev_preprocessed_image_loc, folder_contents, 2, 10, '2', s_path)"
   ]
  },
  {
   "cell_type": "code",
   "execution_count": null,
   "id": "191d6e43-5312-4421-9381-103097b07e91",
   "metadata": {},
   "outputs": [],
   "source": [
    "hello_2.head()"
   ]
  },
  {
   "cell_type": "code",
   "execution_count": null,
   "id": "5fe72390-96a0-4432-8298-cddc5dde48aa",
   "metadata": {},
   "outputs": [],
   "source": [
    "hello_2.shape"
   ]
  },
  {
   "cell_type": "code",
   "execution_count": null,
   "id": "dd745972-2bc4-4230-b546-32dedfa134da",
   "metadata": {},
   "outputs": [],
   "source": [
    "# get the predictions for all subimages for the block? do separately for single digit subimages and double digit subimages separately\n",
    "character_list = list(range(10))\n",
    "character_list = list(map(str, character_list))"
   ]
  },
  {
   "cell_type": "code",
   "execution_count": null,
   "id": "30182c55-e248-45b1-aa4f-5867ce7ffffc",
   "metadata": {},
   "outputs": [],
   "source": [
    "%%time\n",
    "\n",
    "# for single digit subwindows\n",
    "catch_all_dfs = []\n",
    "for character in character_list:\n",
    "    features_df = extract_features_and_get_counts(feature_extractor_model, prev_preprocessed_image_loc, folder_contents, 2, 10, character, s_path)\n",
    "    catch_all_dfs.append(features_df)"
   ]
  },
  {
   "cell_type": "code",
   "execution_count": null,
   "id": "c4e828c0-d4cb-448e-a5ea-2bd0c0539a2e",
   "metadata": {},
   "outputs": [],
   "source": [
    "# get the predictions for double digits\n",
    "character_list_double = list(range(10, 42))\n",
    "character_list_double = list(map(str, character_list_double))"
   ]
  },
  {
   "cell_type": "code",
   "execution_count": null,
   "id": "a75ec1a4-f811-4de0-b994-4095e9681aa3",
   "metadata": {},
   "outputs": [],
   "source": [
    "# character_list_double"
   ]
  },
  {
   "cell_type": "code",
   "execution_count": null,
   "id": "01c9b3f0-7b26-4806-85a5-35f5d6b97ed8",
   "metadata": {
    "scrolled": true
   },
   "outputs": [],
   "source": [
    "%%time\n",
    "\n",
    "# for double digit subwindows\n",
    "catch_all_dfs = []\n",
    "for character in character_list_double:\n",
    "    features_df = extract_features_and_get_counts(feature_extractor_model, prev_preprocessed_image_loc, folder_contents, 3, 11, character, s_path)\n",
    "    catch_all_dfs.append(features_df)"
   ]
  },
  {
   "cell_type": "markdown",
   "id": "bc95e113-76fd-41cc-9346-87c3ccec698a",
   "metadata": {},
   "source": [
    "Block 0104"
   ]
  },
  {
   "cell_type": "code",
   "execution_count": 10,
   "id": "141a0755-ffae-48bd-aedf-aa732b862f5a",
   "metadata": {},
   "outputs": [],
   "source": [
    "prev_preprocessed_image_loc_0104 = \"preprocessed_data/Block_0104/sub_images_and_counts\""
   ]
  },
  {
   "cell_type": "code",
   "execution_count": 11,
   "id": "bc4d7ec4-3261-4703-88ea-2f6959e043d6",
   "metadata": {},
   "outputs": [],
   "source": [
    "folder_contents_0104 = os.listdir(prev_preprocessed_image_loc_0104)\n",
    "folder_contents_0104.sort()"
   ]
  },
  {
   "cell_type": "code",
   "execution_count": 12,
   "id": "10794ab2-bc24-485b-ae13-bb3c76f2742b",
   "metadata": {},
   "outputs": [],
   "source": [
    "# folder_contents"
   ]
  },
  {
   "cell_type": "code",
   "execution_count": 13,
   "id": "4b635606-3d34-4d1f-af8a-a2e4bf130b3f",
   "metadata": {},
   "outputs": [
    {
     "data": {
      "text/plain": [
       "'Block0104_2020_08_03_0.npy'"
      ]
     },
     "execution_count": 13,
     "metadata": {},
     "output_type": "execute_result"
    }
   ],
   "source": [
    "folder_contents_0104[0]"
   ]
  },
  {
   "cell_type": "code",
   "execution_count": 14,
   "id": "0563ae25-6d08-4b32-8ec7-11d666eed3c5",
   "metadata": {},
   "outputs": [],
   "source": [
    "s_path_0104 = 'preprocessed_data/Block_0104//TS_ready_data_frames/'"
   ]
  },
  {
   "cell_type": "code",
   "execution_count": 15,
   "id": "aff2d1b1-b68c-4147-8cff-41c77e335392",
   "metadata": {},
   "outputs": [],
   "source": [
    "# get the predictions for all subimages for the block? do separately for single digit subimages and double digit subimages separately\n",
    "character_list = list(range(10))\n",
    "character_list = list(map(str, character_list))"
   ]
  },
  {
   "cell_type": "code",
   "execution_count": 16,
   "id": "07c4182a-2b2f-4f77-b62e-acb0d0f24c66",
   "metadata": {},
   "outputs": [
    {
     "name": "stdout",
     "output_type": "stream",
     "text": [
      "Block0104_2020_08_03_0.npy\n",
      "1.0\n"
     ]
    },
    {
     "name": "stderr",
     "output_type": "stream",
     "text": [
      "2024-07-30 12:41:19.435512: I external/local_xla/xla/stream_executor/cuda/cuda_dnn.cc:454] Loaded cuDNN version 8907\n"
     ]
    },
    {
     "name": "stdout",
     "output_type": "stream",
     "text": [
      "Block0104_2020_08_03_1.npy\n",
      "1.0\n",
      "Block0104_2020_08_03_2.npy\n",
      "1.0\n",
      "Block0104_2020_08_03_3.npy\n",
      "1.0\n",
      "Block0104_2020_08_03_4.npy\n",
      "1.0\n",
      "Block0104_2020_08_03_5.npy\n",
      "1.0\n",
      "Block0104_2020_08_03_6.npy\n",
      "1.0\n",
      "Block0104_2020_08_03_7.npy\n",
      "1.0\n",
      "Block0104_2020_08_03_8.npy\n",
      "1.0\n",
      "Block0104_2020_08_03_9.npy\n",
      "1.0\n",
      "CPU times: user 11.8 s, sys: 1.2 s, total: 13 s\n",
      "Wall time: 39.7 s\n"
     ]
    }
   ],
   "source": [
    "%%time\n",
    "\n",
    "# for single digit subwindows\n",
    "catch_all_dfs_0104 = []\n",
    "for character in character_list:\n",
    "    features_df = extract_features_and_get_counts(feature_extractor_model, prev_preprocessed_image_loc_0104, folder_contents_0104, 2, 10, character, s_path_0104)\n",
    "    catch_all_dfs_0104.append(features_df)"
   ]
  },
  {
   "cell_type": "code",
   "execution_count": 17,
   "id": "67cacea9-d905-412c-bd0c-446d24274a9a",
   "metadata": {},
   "outputs": [],
   "source": [
    "# get the predictions for double digits\n",
    "character_list_double = list(range(10, 42))\n",
    "character_list_double = list(map(str, character_list_double))"
   ]
  },
  {
   "cell_type": "code",
   "execution_count": 18,
   "id": "8658ec91-c493-422d-ac0a-e9869ad47fca",
   "metadata": {},
   "outputs": [
    {
     "name": "stdout",
     "output_type": "stream",
     "text": [
      "Block0104_2020_08_03_10.npy\n",
      "1.0\n",
      "Block0104_2020_08_03_11.npy\n",
      "1.0\n",
      "Block0104_2020_08_03_12.npy\n",
      "1.0\n",
      "Block0104_2020_08_03_13.npy\n",
      "1.0\n",
      "Block0104_2020_08_03_14.npy\n",
      "1.0\n",
      "Block0104_2020_08_03_15.npy\n",
      "1.0\n",
      "Block0104_2020_08_03_16.npy\n",
      "1.0\n",
      "Block0104_2020_08_03_17.npy\n",
      "1.0\n",
      "Block0104_2020_08_03_18.npy\n",
      "1.0\n",
      "Block0104_2020_08_03_19.npy\n",
      "1.0\n",
      "Block0104_2020_08_03_20.npy\n",
      "1.0\n",
      "Block0104_2020_08_03_21.npy\n",
      "1.0\n",
      "Block0104_2020_08_03_22.npy\n",
      "1.0\n",
      "Block0104_2020_08_03_23.npy\n",
      "1.0\n",
      "Block0104_2020_08_03_24.npy\n",
      "1.0\n",
      "Block0104_2020_08_03_25.npy\n",
      "1.0\n",
      "Block0104_2020_08_03_26.npy\n",
      "1.0\n",
      "Block0104_2020_08_03_27.npy\n",
      "1.0\n",
      "Block0104_2020_08_03_28.npy\n",
      "1.0\n",
      "Block0104_2020_08_03_29.npy\n",
      "1.0\n",
      "Block0104_2020_08_03_30.npy\n",
      "1.0\n",
      "Block0104_2020_08_03_31.npy\n",
      "1.0\n",
      "Block0104_2020_08_03_32.npy\n",
      "1.0\n",
      "Block0104_2020_08_03_33.npy\n",
      "1.0\n",
      "Block0104_2020_08_03_34.npy\n",
      "1.0\n",
      "Block0104_2020_08_03_35.npy\n",
      "1.0\n",
      "Block0104_2020_08_03_36.npy\n",
      "1.0\n",
      "Block0104_2020_08_03_37.npy\n",
      "1.0\n",
      "Block0104_2020_08_03_38.npy\n",
      "1.0\n",
      "Block0104_2020_08_03_39.npy\n",
      "1.0\n",
      "Block0104_2020_08_03_40.npy\n",
      "1.0\n",
      "Block0104_2020_08_03_41.npy\n",
      "1.0\n",
      "CPU times: user 36.1 s, sys: 3.34 s, total: 39.4 s\n",
      "Wall time: 1min 36s\n"
     ]
    }
   ],
   "source": [
    "%%time\n",
    "\n",
    "# for double digit subwindows\n",
    "catch_all_dfs_0104 = []\n",
    "for character in character_list_double:\n",
    "    features_df = extract_features_and_get_counts(feature_extractor_model, prev_preprocessed_image_loc_0104, folder_contents_0104, 3, 11, character, s_path_0104)\n",
    "    catch_all_dfs_0104.append(features_df)"
   ]
  },
  {
   "cell_type": "markdown",
   "id": "18ec87da-f6fb-409f-800b-9e2aecc0778d",
   "metadata": {},
   "source": [
    "Block 0105"
   ]
  },
  {
   "cell_type": "code",
   "execution_count": 19,
   "id": "5fbada72-9204-4c53-a913-cfb2cd5e975b",
   "metadata": {},
   "outputs": [],
   "source": [
    "prev_preprocessed_image_loc_0105 = \"preprocessed_data/Block_0105/sub_images_and_counts\""
   ]
  },
  {
   "cell_type": "code",
   "execution_count": 20,
   "id": "5d0cac23-7ad3-4b1b-b186-6013d1d8f4c7",
   "metadata": {},
   "outputs": [],
   "source": [
    "folder_contents_0105 = os.listdir(prev_preprocessed_image_loc_0105)\n",
    "folder_contents_0105.sort()"
   ]
  },
  {
   "cell_type": "code",
   "execution_count": 21,
   "id": "09078f84-8781-46a3-acbf-966f1d945684",
   "metadata": {},
   "outputs": [],
   "source": [
    "# folder_contents"
   ]
  },
  {
   "cell_type": "code",
   "execution_count": 22,
   "id": "97a1391b-5cb2-41df-bb5c-532d8013f30d",
   "metadata": {},
   "outputs": [
    {
     "data": {
      "text/plain": [
       "'Block0105_2020_08_03_0.npy'"
      ]
     },
     "execution_count": 22,
     "metadata": {},
     "output_type": "execute_result"
    }
   ],
   "source": [
    "folder_contents_0105[0]"
   ]
  },
  {
   "cell_type": "code",
   "execution_count": 23,
   "id": "01acad4e-fa3c-454f-8fd3-5a399c1a29c4",
   "metadata": {},
   "outputs": [],
   "source": [
    "s_path_0105 = 'preprocessed_data/Block_0105//TS_ready_data_frames/'"
   ]
  },
  {
   "cell_type": "code",
   "execution_count": 24,
   "id": "d527d493-9308-4385-8f85-2e7d3dbc5ea9",
   "metadata": {},
   "outputs": [],
   "source": [
    "# get the predictions for all subimages for the block? do separately for single digit subimages and double digit subimages separately\n",
    "character_list = list(range(10))\n",
    "character_list = list(map(str, character_list))"
   ]
  },
  {
   "cell_type": "code",
   "execution_count": 25,
   "id": "01bf757e-78d6-47a5-af50-4f2ca4c64800",
   "metadata": {},
   "outputs": [
    {
     "name": "stdout",
     "output_type": "stream",
     "text": [
      "Block0105_2020_08_03_0.npy\n",
      "1.0\n",
      "Block0105_2020_08_03_1.npy\n",
      "1.0\n",
      "Block0105_2020_08_03_2.npy\n",
      "1.0\n",
      "Block0105_2020_08_03_3.npy\n",
      "1.0\n",
      "Block0105_2020_08_03_4.npy\n",
      "1.0\n",
      "Block0105_2020_08_03_5.npy\n",
      "1.0\n",
      "Block0105_2020_08_03_6.npy\n",
      "1.0\n",
      "Block0105_2020_08_03_7.npy\n",
      "1.0\n",
      "Block0105_2020_08_03_8.npy\n",
      "1.0\n",
      "Block0105_2020_08_03_9.npy\n",
      "1.0\n",
      "CPU times: user 10.5 s, sys: 972 ms, total: 11.5 s\n",
      "Wall time: 15.1 s\n"
     ]
    }
   ],
   "source": [
    "%%time\n",
    "\n",
    "# for single digit subwindows\n",
    "catch_all_dfs_0105 = []\n",
    "for character in character_list:\n",
    "    features_df = extract_features_and_get_counts(feature_extractor_model, prev_preprocessed_image_loc_0105, folder_contents_0105, 2, 10, character, s_path_0105)\n",
    "    catch_all_dfs_0105.append(features_df)"
   ]
  },
  {
   "cell_type": "code",
   "execution_count": 26,
   "id": "710ec7b7-c2b8-47f7-9146-b8a759765544",
   "metadata": {},
   "outputs": [],
   "source": [
    "# get the predictions for double digits\n",
    "character_list_double = list(range(10, 42))\n",
    "character_list_double = list(map(str, character_list_double))"
   ]
  },
  {
   "cell_type": "code",
   "execution_count": 27,
   "id": "3fd47f7e-0bbc-466a-a48b-86a13a6da0d6",
   "metadata": {},
   "outputs": [
    {
     "name": "stdout",
     "output_type": "stream",
     "text": [
      "Block0105_2020_08_03_10.npy\n",
      "1.0\n",
      "Block0105_2020_08_03_11.npy\n",
      "1.0\n",
      "Block0105_2020_08_03_12.npy\n",
      "1.0\n",
      "Block0105_2020_08_03_13.npy\n",
      "1.0\n",
      "Block0105_2020_08_03_14.npy\n",
      "1.0\n",
      "Block0105_2020_08_03_15.npy\n",
      "1.0\n",
      "Block0105_2020_08_03_16.npy\n",
      "1.0\n",
      "Block0105_2020_08_03_17.npy\n",
      "1.0\n",
      "Block0105_2020_08_03_18.npy\n",
      "1.0\n",
      "Block0105_2020_08_03_19.npy\n",
      "1.0\n",
      "Block0105_2020_08_03_20.npy\n",
      "1.0\n",
      "Block0105_2020_08_03_21.npy\n",
      "1.0\n",
      "Block0105_2020_08_03_22.npy\n",
      "1.0\n",
      "Block0105_2020_08_03_23.npy\n",
      "1.0\n",
      "Block0105_2020_08_03_24.npy\n",
      "1.0\n",
      "Block0105_2020_08_03_25.npy\n",
      "1.0\n",
      "Block0105_2020_08_03_26.npy\n",
      "1.0\n",
      "Block0105_2020_08_03_27.npy\n",
      "1.0\n",
      "Block0105_2020_08_03_28.npy\n",
      "1.0\n",
      "Block0105_2020_08_03_29.npy\n",
      "1.0\n",
      "Block0105_2020_08_03_30.npy\n",
      "1.0\n",
      "Block0105_2020_08_03_31.npy\n",
      "1.0\n",
      "Block0105_2020_08_03_32.npy\n",
      "1.0\n",
      "Block0105_2020_08_03_33.npy\n",
      "1.0\n",
      "Block0105_2020_08_03_34.npy\n",
      "1.0\n",
      "Block0105_2020_08_03_35.npy\n",
      "1.0\n",
      "Block0105_2020_08_03_36.npy\n",
      "1.0\n",
      "Block0105_2020_08_03_37.npy\n",
      "1.0\n",
      "Block0105_2020_08_03_38.npy\n",
      "1.0\n",
      "Block0105_2020_08_03_39.npy\n",
      "1.0\n",
      "Block0105_2020_08_03_40.npy\n",
      "1.0\n",
      "Block0105_2020_08_03_41.npy\n",
      "1.0\n",
      "CPU times: user 33.2 s, sys: 2.9 s, total: 36.1 s\n",
      "Wall time: 44 s\n"
     ]
    }
   ],
   "source": [
    "%%time\n",
    "\n",
    "# for double digit subwindows\n",
    "catch_all_dfs_0105 = []\n",
    "for character in character_list_double:\n",
    "    features_df = extract_features_and_get_counts(feature_extractor_model, prev_preprocessed_image_loc_0105, folder_contents_0105, 3, 11, character, s_path_0105)\n",
    "    catch_all_dfs_0105.append(features_df)"
   ]
  },
  {
   "cell_type": "code",
   "execution_count": null,
   "id": "8bcf6533-9a29-4aae-9881-964af1f45db7",
   "metadata": {},
   "outputs": [],
   "source": [
    "# catch_all_dfs_0105"
   ]
  },
  {
   "cell_type": "markdown",
   "id": "36cca01b-275d-4730-ac23-b0cd686dc3bd",
   "metadata": {},
   "source": [
    "Block 0106"
   ]
  },
  {
   "cell_type": "code",
   "execution_count": 28,
   "id": "26a74d7a-f01b-47fd-bf4b-e038bc8655e7",
   "metadata": {},
   "outputs": [],
   "source": [
    "prev_preprocessed_image_loc_0106 = \"preprocessed_data/Block_0106/sub_images_and_counts\""
   ]
  },
  {
   "cell_type": "code",
   "execution_count": 29,
   "id": "262e3e09-2acf-4545-901c-884753eed6e4",
   "metadata": {},
   "outputs": [],
   "source": [
    "folder_contents_0106 = os.listdir(prev_preprocessed_image_loc_0106)\n",
    "folder_contents_0106.sort()"
   ]
  },
  {
   "cell_type": "code",
   "execution_count": 30,
   "id": "e77f539c-7c88-4149-a4c9-fab9c1a59596",
   "metadata": {},
   "outputs": [],
   "source": [
    "# folder_contents"
   ]
  },
  {
   "cell_type": "code",
   "execution_count": 31,
   "id": "db301a89-e582-401d-94f8-6424131982e7",
   "metadata": {},
   "outputs": [
    {
     "data": {
      "text/plain": [
       "'Block0106_2020_08_03_0.npy'"
      ]
     },
     "execution_count": 31,
     "metadata": {},
     "output_type": "execute_result"
    }
   ],
   "source": [
    "folder_contents_0106[0]"
   ]
  },
  {
   "cell_type": "code",
   "execution_count": 32,
   "id": "da6ddf09-9cef-43c5-a6c1-59308cfd46eb",
   "metadata": {},
   "outputs": [],
   "source": [
    "s_path_0106 = 'preprocessed_data/Block_0106/TS_ready_data_frames/'"
   ]
  },
  {
   "cell_type": "code",
   "execution_count": 33,
   "id": "6b271d90-f7fa-41f9-bf09-6ca200694950",
   "metadata": {},
   "outputs": [],
   "source": [
    "# get the predictions for all subimages for the block? do separately for single digit subimages and double digit subimages separately\n",
    "character_list = list(range(10))\n",
    "character_list = list(map(str, character_list))"
   ]
  },
  {
   "cell_type": "code",
   "execution_count": 34,
   "id": "6fa3624f-f018-4c72-b9a7-057aea949c50",
   "metadata": {},
   "outputs": [
    {
     "name": "stdout",
     "output_type": "stream",
     "text": [
      "Block0106_2020_08_03_0.npy\n",
      "1.0\n",
      "Block0106_2020_08_03_1.npy\n",
      "1.0\n",
      "Block0106_2020_08_03_2.npy\n",
      "1.0\n",
      "Block0106_2020_08_03_3.npy\n",
      "1.0\n",
      "Block0106_2020_08_03_4.npy\n",
      "1.0\n",
      "Block0106_2020_08_03_5.npy\n",
      "1.0\n",
      "Block0106_2020_08_03_6.npy\n",
      "1.0\n",
      "Block0106_2020_08_03_7.npy\n",
      "1.0\n",
      "Block0106_2020_08_03_8.npy\n",
      "1.0\n",
      "Block0106_2020_08_03_9.npy\n",
      "1.0\n",
      "CPU times: user 11.5 s, sys: 1.18 s, total: 12.7 s\n",
      "Wall time: 38.8 s\n"
     ]
    }
   ],
   "source": [
    "%%time\n",
    "\n",
    "# for single digit subwindows\n",
    "catch_all_dfs_0106 = []\n",
    "for character in character_list:\n",
    "    features_df = extract_features_and_get_counts(feature_extractor_model, prev_preprocessed_image_loc_0106, folder_contents_0106, 2, 10, character, s_path_0106)\n",
    "    catch_all_dfs_0106.append(features_df)"
   ]
  },
  {
   "cell_type": "code",
   "execution_count": 35,
   "id": "f06658f2-fd45-4125-b114-6acfb4ccfe1b",
   "metadata": {},
   "outputs": [],
   "source": [
    "# get the predictions for double digits\n",
    "character_list_double = list(range(10, 42))\n",
    "character_list_double = list(map(str, character_list_double))"
   ]
  },
  {
   "cell_type": "code",
   "execution_count": 36,
   "id": "2897eb53-f6d2-4695-914d-5f8117a2be46",
   "metadata": {},
   "outputs": [
    {
     "name": "stdout",
     "output_type": "stream",
     "text": [
      "Block0106_2020_08_03_10.npy\n",
      "1.0\n",
      "Block0106_2020_08_03_11.npy\n",
      "1.0\n",
      "Block0106_2020_08_03_12.npy\n",
      "1.0\n",
      "Block0106_2020_08_03_13.npy\n",
      "1.0\n",
      "Block0106_2020_08_03_14.npy\n",
      "1.0\n",
      "Block0106_2020_08_03_15.npy\n",
      "1.0\n",
      "Block0106_2020_08_03_16.npy\n",
      "1.0\n",
      "Block0106_2020_08_03_17.npy\n",
      "1.0\n",
      "Block0106_2020_08_03_18.npy\n",
      "1.0\n",
      "Block0106_2020_08_03_19.npy\n",
      "1.0\n",
      "Block0106_2020_08_03_20.npy\n",
      "1.0\n",
      "Block0106_2020_08_03_21.npy\n",
      "1.0\n",
      "Block0106_2020_08_03_22.npy\n",
      "1.0\n",
      "Block0106_2020_08_03_23.npy\n",
      "1.0\n",
      "Block0106_2020_08_03_24.npy\n",
      "1.0\n",
      "Block0106_2020_08_03_25.npy\n",
      "1.0\n",
      "Block0106_2020_08_03_26.npy\n",
      "1.0\n",
      "Block0106_2020_08_03_27.npy\n",
      "1.0\n",
      "Block0106_2020_08_03_28.npy\n",
      "1.0\n",
      "Block0106_2020_08_03_29.npy\n",
      "1.0\n",
      "Block0106_2020_08_03_30.npy\n",
      "1.0\n",
      "Block0106_2020_08_03_31.npy\n",
      "1.0\n",
      "Block0106_2020_08_03_32.npy\n",
      "1.0\n",
      "Block0106_2020_08_03_33.npy\n",
      "1.0\n",
      "Block0106_2020_08_03_34.npy\n",
      "1.0\n",
      "Block0106_2020_08_03_35.npy\n",
      "1.0\n",
      "Block0106_2020_08_03_36.npy\n",
      "1.0\n",
      "Block0106_2020_08_03_37.npy\n",
      "1.0\n",
      "Block0106_2020_08_03_38.npy\n",
      "1.0\n",
      "Block0106_2020_08_03_39.npy\n",
      "1.0\n",
      "Block0106_2020_08_03_40.npy\n",
      "1.0\n",
      "Block0106_2020_08_03_41.npy\n",
      "1.0\n",
      "CPU times: user 36.3 s, sys: 3.56 s, total: 39.8 s\n",
      "Wall time: 1min 47s\n"
     ]
    }
   ],
   "source": [
    "%%time\n",
    "\n",
    "# for double digit subwindows\n",
    "catch_all_dfs_0106 = []\n",
    "for character in character_list_double:\n",
    "    features_df = extract_features_and_get_counts(feature_extractor_model, prev_preprocessed_image_loc_0106, folder_contents_0106, 3, 11, character, s_path_0106)\n",
    "    catch_all_dfs_0106.append(features_df)"
   ]
  },
  {
   "cell_type": "markdown",
   "id": "239570db-6e29-4e3c-921b-cf5a8bd3e75d",
   "metadata": {},
   "source": [
    "Block 0201"
   ]
  },
  {
   "cell_type": "code",
   "execution_count": 37,
   "id": "ff8da4d1-354c-4e8b-86c9-4dc3c936d6c5",
   "metadata": {},
   "outputs": [],
   "source": [
    "prev_preprocessed_image_loc_0201 = \"preprocessed_data/Block_0201/sub_images_and_counts\""
   ]
  },
  {
   "cell_type": "code",
   "execution_count": 38,
   "id": "6a78b312-b668-46b1-8ec9-0d1574e99e00",
   "metadata": {},
   "outputs": [],
   "source": [
    "folder_contents_0201 = os.listdir(prev_preprocessed_image_loc_0201)\n",
    "folder_contents_0201.sort()"
   ]
  },
  {
   "cell_type": "code",
   "execution_count": 39,
   "id": "ad8ffa8d-5f5d-47f5-a5f6-c6b2b506cca5",
   "metadata": {},
   "outputs": [],
   "source": [
    "# folder_contents"
   ]
  },
  {
   "cell_type": "code",
   "execution_count": 40,
   "id": "5adf180a-7bde-4fb6-9091-804049c75d5d",
   "metadata": {},
   "outputs": [
    {
     "data": {
      "text/plain": [
       "'Block0201_2020_08_03_0.npy'"
      ]
     },
     "execution_count": 40,
     "metadata": {},
     "output_type": "execute_result"
    }
   ],
   "source": [
    "folder_contents_0201[0]"
   ]
  },
  {
   "cell_type": "code",
   "execution_count": 41,
   "id": "c28a6f28-d394-4a03-b4a7-f15c9aef502f",
   "metadata": {},
   "outputs": [],
   "source": [
    "s_path_0201 = 'preprocessed_data/Block_0201/TS_ready_data_frames/'"
   ]
  },
  {
   "cell_type": "code",
   "execution_count": 42,
   "id": "84318fe7-c270-4754-ac63-388e1a542e55",
   "metadata": {},
   "outputs": [],
   "source": [
    "# get the predictions for all subimages for the block? do separately for single digit subimages and double digit subimages separately\n",
    "character_list = list(range(10))\n",
    "character_list = list(map(str, character_list))"
   ]
  },
  {
   "cell_type": "code",
   "execution_count": 43,
   "id": "9b7b8849-f50a-4bfa-b0fa-7c3d9b179653",
   "metadata": {},
   "outputs": [
    {
     "name": "stdout",
     "output_type": "stream",
     "text": [
      "Block0201_2020_08_03_0.npy\n",
      "1.0\n",
      "Block0201_2020_08_03_1.npy\n",
      "1.0\n",
      "Block0201_2020_08_03_2.npy\n",
      "1.0\n",
      "Block0201_2020_08_03_3.npy\n",
      "1.0\n",
      "Block0201_2020_08_03_4.npy\n",
      "1.0\n",
      "Block0201_2020_08_03_5.npy\n",
      "1.0\n",
      "Block0201_2020_08_03_6.npy\n",
      "1.0\n",
      "Block0201_2020_08_03_7.npy\n",
      "1.0\n",
      "Block0201_2020_08_03_8.npy\n",
      "1.0\n",
      "Block0201_2020_08_03_9.npy\n",
      "1.0\n",
      "CPU times: user 11.5 s, sys: 1.18 s, total: 12.7 s\n",
      "Wall time: 30.1 s\n"
     ]
    }
   ],
   "source": [
    "%%time\n",
    "\n",
    "# for single digit subwindows\n",
    "catch_all_dfs_0201 = []\n",
    "for character in character_list:\n",
    "    features_df = extract_features_and_get_counts(feature_extractor_model, prev_preprocessed_image_loc_0201, folder_contents_0201, 2, 10, character, s_path_0201)\n",
    "    catch_all_dfs_0201.append(features_df)"
   ]
  },
  {
   "cell_type": "code",
   "execution_count": 44,
   "id": "584a4517-d7e0-4306-a023-17ea481e53e3",
   "metadata": {},
   "outputs": [],
   "source": [
    "# get the predictions for double digits\n",
    "character_list_double = list(range(10, 42))\n",
    "character_list_double = list(map(str, character_list_double))"
   ]
  },
  {
   "cell_type": "code",
   "execution_count": 45,
   "id": "96e8d28b-c750-4f49-a39f-b3ccad568411",
   "metadata": {},
   "outputs": [
    {
     "name": "stdout",
     "output_type": "stream",
     "text": [
      "Block0201_2020_08_03_10.npy\n",
      "1.0\n",
      "Block0201_2020_08_03_11.npy\n",
      "1.0\n",
      "Block0201_2020_08_03_12.npy\n",
      "1.0\n",
      "Block0201_2020_08_03_13.npy\n",
      "1.0\n",
      "Block0201_2020_08_03_14.npy\n",
      "1.0\n",
      "Block0201_2020_08_03_15.npy\n",
      "1.0\n",
      "Block0201_2020_08_03_16.npy\n",
      "1.0\n",
      "Block0201_2020_08_03_17.npy\n",
      "1.0\n",
      "Block0201_2020_08_03_18.npy\n",
      "1.0\n",
      "Block0201_2020_08_03_19.npy\n",
      "1.0\n",
      "Block0201_2020_08_03_20.npy\n",
      "1.0\n",
      "Block0201_2020_08_03_21.npy\n",
      "1.0\n",
      "Block0201_2020_08_03_22.npy\n",
      "1.0\n",
      "Block0201_2020_08_03_23.npy\n",
      "1.0\n",
      "Block0201_2020_08_03_24.npy\n",
      "1.0\n",
      "Block0201_2020_08_03_25.npy\n",
      "1.0\n",
      "Block0201_2020_08_03_26.npy\n",
      "1.0\n",
      "Block0201_2020_08_03_27.npy\n",
      "1.0\n",
      "Block0201_2020_08_03_28.npy\n",
      "1.0\n",
      "Block0201_2020_08_03_29.npy\n",
      "1.0\n",
      "Block0201_2020_08_03_30.npy\n",
      "1.0\n",
      "Block0201_2020_08_03_31.npy\n",
      "1.0\n",
      "Block0201_2020_08_03_32.npy\n",
      "1.0\n",
      "Block0201_2020_08_03_33.npy\n",
      "1.0\n",
      "Block0201_2020_08_03_34.npy\n",
      "1.0\n",
      "Block0201_2020_08_03_35.npy\n",
      "1.0\n",
      "Block0201_2020_08_03_36.npy\n",
      "1.0\n",
      "Block0201_2020_08_03_37.npy\n",
      "1.0\n",
      "Block0201_2020_08_03_38.npy\n",
      "1.0\n",
      "Block0201_2020_08_03_39.npy\n",
      "1.0\n",
      "Block0201_2020_08_03_40.npy\n",
      "1.0\n",
      "Block0201_2020_08_03_41.npy\n",
      "1.0\n",
      "CPU times: user 36.2 s, sys: 3.44 s, total: 39.6 s\n",
      "Wall time: 1min 30s\n"
     ]
    }
   ],
   "source": [
    "%%time\n",
    "\n",
    "# for double digit subwindows\n",
    "catch_all_dfs_0201 = []\n",
    "for character in character_list_double:\n",
    "    features_df = extract_features_and_get_counts(feature_extractor_model, prev_preprocessed_image_loc_0201, folder_contents_0201, 3, 11, character, s_path_0201)\n",
    "    catch_all_dfs_0201.append(features_df)"
   ]
  },
  {
   "cell_type": "markdown",
   "id": "a54c9fd6-de5b-4a12-b5ed-69920637a662",
   "metadata": {},
   "source": [
    "Block 0202"
   ]
  },
  {
   "cell_type": "code",
   "execution_count": 46,
   "id": "00b573f9-0e98-479d-b5b6-bae330fd2f41",
   "metadata": {},
   "outputs": [],
   "source": [
    "prev_preprocessed_image_loc_0202 = \"preprocessed_data/Block_0202/sub_images_and_counts\""
   ]
  },
  {
   "cell_type": "code",
   "execution_count": 47,
   "id": "702aea98-a763-49e8-a377-d49bc0ee9aef",
   "metadata": {},
   "outputs": [],
   "source": [
    "folder_contents_0202 = os.listdir(prev_preprocessed_image_loc_0202)\n",
    "folder_contents_0202.sort()"
   ]
  },
  {
   "cell_type": "code",
   "execution_count": 48,
   "id": "bf290bee-f8cd-4e1b-b958-86ddcfa14dc9",
   "metadata": {},
   "outputs": [],
   "source": [
    "# folder_contents"
   ]
  },
  {
   "cell_type": "code",
   "execution_count": 49,
   "id": "87b41812-1621-4bb9-ba7a-df8671ddcde5",
   "metadata": {},
   "outputs": [
    {
     "data": {
      "text/plain": [
       "'Block0202_2020_08_03_0.npy'"
      ]
     },
     "execution_count": 49,
     "metadata": {},
     "output_type": "execute_result"
    }
   ],
   "source": [
    "folder_contents_0202[0]"
   ]
  },
  {
   "cell_type": "code",
   "execution_count": 50,
   "id": "baa52615-7dc4-45a8-b15c-f091f7d2d015",
   "metadata": {},
   "outputs": [],
   "source": [
    "s_path_0202 = 'preprocessed_data/Block_0202/TS_ready_data_frames/'"
   ]
  },
  {
   "cell_type": "code",
   "execution_count": 51,
   "id": "e6e26e1c-4613-437b-b0aa-e213a9daa2ec",
   "metadata": {},
   "outputs": [],
   "source": [
    "# get the predictions for all subimages for the block? do separately for single digit subimages and double digit subimages separately\n",
    "character_list = list(range(10))\n",
    "character_list = list(map(str, character_list))"
   ]
  },
  {
   "cell_type": "code",
   "execution_count": 52,
   "id": "ee7c8005-da8c-43fb-b593-5595e3fea5d9",
   "metadata": {},
   "outputs": [
    {
     "name": "stdout",
     "output_type": "stream",
     "text": [
      "Block0202_2020_08_03_0.npy\n",
      "1.0\n",
      "Block0202_2020_08_03_1.npy\n",
      "1.0\n",
      "Block0202_2020_08_03_2.npy\n",
      "1.0\n",
      "Block0202_2020_08_03_3.npy\n",
      "1.0\n",
      "Block0202_2020_08_03_4.npy\n",
      "1.0\n",
      "Block0202_2020_08_03_5.npy\n",
      "1.0\n",
      "Block0202_2020_08_03_6.npy\n",
      "1.0\n",
      "Block0202_2020_08_03_7.npy\n",
      "1.0\n",
      "Block0202_2020_08_03_8.npy\n",
      "1.0\n",
      "Block0202_2020_08_03_9.npy\n",
      "1.0\n",
      "CPU times: user 11.5 s, sys: 1.09 s, total: 12.6 s\n",
      "Wall time: 30.7 s\n"
     ]
    }
   ],
   "source": [
    "%%time\n",
    "\n",
    "# for single digit subwindows\n",
    "catch_all_dfs_0202 = []\n",
    "for character in character_list:\n",
    "    features_df = extract_features_and_get_counts(feature_extractor_model, prev_preprocessed_image_loc_0202, folder_contents_0202, 2, 10, character, s_path_0202)\n",
    "    catch_all_dfs_0202.append(features_df)"
   ]
  },
  {
   "cell_type": "code",
   "execution_count": 53,
   "id": "3220485e-45d6-496e-8fcc-51c235cc218b",
   "metadata": {},
   "outputs": [],
   "source": [
    "# get the predictions for double digits\n",
    "character_list_double = list(range(10, 42))\n",
    "character_list_double = list(map(str, character_list_double))"
   ]
  },
  {
   "cell_type": "code",
   "execution_count": 54,
   "id": "6fbad12f-85ef-4759-a197-f7f34a08f0e6",
   "metadata": {},
   "outputs": [
    {
     "name": "stdout",
     "output_type": "stream",
     "text": [
      "Block0202_2020_08_03_10.npy\n",
      "1.0\n",
      "Block0202_2020_08_03_11.npy\n",
      "1.0\n",
      "Block0202_2020_08_03_12.npy\n",
      "1.0\n",
      "Block0202_2020_08_03_13.npy\n",
      "1.0\n",
      "Block0202_2020_08_03_14.npy\n",
      "1.0\n",
      "Block0202_2020_08_03_15.npy\n",
      "1.0\n",
      "Block0202_2020_08_03_16.npy\n",
      "1.0\n",
      "Block0202_2020_08_03_17.npy\n",
      "1.0\n",
      "Block0202_2020_08_03_18.npy\n",
      "1.0\n",
      "Block0202_2020_08_03_19.npy\n",
      "1.0\n",
      "Block0202_2020_08_03_20.npy\n",
      "1.0\n",
      "Block0202_2020_08_03_21.npy\n",
      "1.0\n",
      "Block0202_2020_08_03_22.npy\n",
      "1.0\n",
      "Block0202_2020_08_03_23.npy\n",
      "1.0\n",
      "Block0202_2020_08_03_24.npy\n",
      "1.0\n",
      "Block0202_2020_08_03_25.npy\n",
      "1.0\n",
      "Block0202_2020_08_03_26.npy\n",
      "1.0\n",
      "Block0202_2020_08_03_27.npy\n",
      "1.0\n",
      "Block0202_2020_08_03_28.npy\n",
      "1.0\n",
      "Block0202_2020_08_03_29.npy\n",
      "1.0\n",
      "Block0202_2020_08_03_30.npy\n",
      "1.0\n",
      "Block0202_2020_08_03_31.npy\n",
      "1.0\n",
      "Block0202_2020_08_03_32.npy\n",
      "1.0\n",
      "Block0202_2020_08_03_33.npy\n",
      "1.0\n",
      "Block0202_2020_08_03_34.npy\n",
      "1.0\n",
      "Block0202_2020_08_03_35.npy\n",
      "1.0\n",
      "Block0202_2020_08_03_36.npy\n",
      "1.0\n",
      "Block0202_2020_08_03_37.npy\n",
      "1.0\n",
      "Block0202_2020_08_03_38.npy\n",
      "1.0\n",
      "Block0202_2020_08_03_39.npy\n",
      "1.0\n",
      "Block0202_2020_08_03_40.npy\n",
      "1.0\n",
      "Block0202_2020_08_03_41.npy\n",
      "1.0\n",
      "CPU times: user 36.2 s, sys: 3.45 s, total: 39.7 s\n",
      "Wall time: 1min 33s\n"
     ]
    }
   ],
   "source": [
    "%%time\n",
    "\n",
    "# for double digit subwindows\n",
    "catch_all_dfs_0202 = []\n",
    "for character in character_list_double:\n",
    "    features_df = extract_features_and_get_counts(feature_extractor_model, prev_preprocessed_image_loc_0202, folder_contents_0202, 3, 11, character, s_path_0202)\n",
    "    catch_all_dfs_0202.append(features_df)"
   ]
  },
  {
   "cell_type": "markdown",
   "id": "e66bfeae-a503-4eb5-bf57-4c38700bf1bb",
   "metadata": {},
   "source": [
    "Block 0205"
   ]
  },
  {
   "cell_type": "code",
   "execution_count": 55,
   "id": "4ef8b228-7b4b-4e80-8296-2d86c3224ee7",
   "metadata": {},
   "outputs": [],
   "source": [
    "prev_preprocessed_image_loc_0205 = \"preprocessed_data/Block_0205/sub_images_and_counts\""
   ]
  },
  {
   "cell_type": "code",
   "execution_count": 56,
   "id": "b82cedb4-ba7c-4528-8a9a-ce49a963b566",
   "metadata": {},
   "outputs": [],
   "source": [
    "folder_contents_0205 = os.listdir(prev_preprocessed_image_loc_0205)\n",
    "folder_contents_0205.sort()"
   ]
  },
  {
   "cell_type": "code",
   "execution_count": 57,
   "id": "710143aa-255c-4b5c-9aaa-42c59dab136b",
   "metadata": {},
   "outputs": [],
   "source": [
    "# folder_contents"
   ]
  },
  {
   "cell_type": "code",
   "execution_count": 58,
   "id": "7f4b0300-9112-4554-b5a9-1c56b3259581",
   "metadata": {},
   "outputs": [
    {
     "data": {
      "text/plain": [
       "'Block0205_2020_08_03_0.npy'"
      ]
     },
     "execution_count": 58,
     "metadata": {},
     "output_type": "execute_result"
    }
   ],
   "source": [
    "folder_contents_0205[0]"
   ]
  },
  {
   "cell_type": "code",
   "execution_count": 59,
   "id": "2dddd7bd-acd8-4571-97d1-25aed221359b",
   "metadata": {},
   "outputs": [],
   "source": [
    "s_path_0205 = 'preprocessed_data/Block_0205/TS_ready_data_frames/'"
   ]
  },
  {
   "cell_type": "code",
   "execution_count": 60,
   "id": "87fc2a35-a199-4de5-9300-85288fc24119",
   "metadata": {},
   "outputs": [],
   "source": [
    "# get the predictions for all subimages for the block? do separately for single digit subimages and double digit subimages separately\n",
    "character_list = list(range(10))\n",
    "character_list = list(map(str, character_list))"
   ]
  },
  {
   "cell_type": "code",
   "execution_count": 61,
   "id": "94bf774b-8109-464a-a564-217d16ea3953",
   "metadata": {},
   "outputs": [
    {
     "name": "stdout",
     "output_type": "stream",
     "text": [
      "Block0205_2020_08_03_0.npy\n",
      "1.0\n",
      "Block0205_2020_08_03_1.npy\n",
      "1.0\n",
      "Block0205_2020_08_03_2.npy\n",
      "1.0\n",
      "Block0205_2020_08_03_3.npy\n",
      "1.0\n",
      "Block0205_2020_08_03_4.npy\n",
      "1.0\n",
      "Block0205_2020_08_03_5.npy\n",
      "1.0\n",
      "Block0205_2020_08_03_6.npy\n",
      "1.0\n",
      "Block0205_2020_08_03_7.npy\n",
      "1.0\n",
      "Block0205_2020_08_03_8.npy\n",
      "1.0\n",
      "Block0205_2020_08_03_9.npy\n",
      "1.0\n",
      "CPU times: user 11.6 s, sys: 1.14 s, total: 12.7 s\n",
      "Wall time: 34.7 s\n"
     ]
    }
   ],
   "source": [
    "%%time\n",
    "\n",
    "# for single digit subwindows\n",
    "catch_all_dfs_0205 = []\n",
    "for character in character_list:\n",
    "    features_df = extract_features_and_get_counts(feature_extractor_model, prev_preprocessed_image_loc_0205, folder_contents_0205, 2, 10, character, s_path_0205)\n",
    "    catch_all_dfs_0205.append(features_df)"
   ]
  },
  {
   "cell_type": "code",
   "execution_count": 62,
   "id": "f1657959-acdb-4500-b535-3b4ec8c5bae9",
   "metadata": {},
   "outputs": [],
   "source": [
    "# get the predictions for double digits\n",
    "character_list_double = list(range(10, 42))\n",
    "character_list_double = list(map(str, character_list_double))"
   ]
  },
  {
   "cell_type": "code",
   "execution_count": 63,
   "id": "0a799acd-38a9-4980-b8fc-a35f25f70e42",
   "metadata": {},
   "outputs": [
    {
     "name": "stdout",
     "output_type": "stream",
     "text": [
      "Block0205_2020_08_03_10.npy\n",
      "1.0\n",
      "Block0205_2020_08_03_11.npy\n",
      "1.0\n",
      "Block0205_2020_08_03_12.npy\n",
      "1.0\n",
      "Block0205_2020_08_03_13.npy\n",
      "1.0\n",
      "Block0205_2020_08_03_14.npy\n",
      "1.0\n",
      "Block0205_2020_08_03_15.npy\n",
      "1.0\n",
      "Block0205_2020_08_03_16.npy\n",
      "1.0\n",
      "Block0205_2020_08_03_17.npy\n",
      "1.0\n",
      "Block0205_2020_08_03_18.npy\n",
      "1.0\n",
      "Block0205_2020_08_03_19.npy\n",
      "1.0\n",
      "Block0205_2020_08_03_20.npy\n",
      "1.0\n",
      "Block0205_2020_08_03_21.npy\n",
      "1.0\n",
      "Block0205_2020_08_03_22.npy\n",
      "1.0\n",
      "Block0205_2020_08_03_23.npy\n",
      "1.0\n",
      "Block0205_2020_08_03_24.npy\n",
      "1.0\n",
      "Block0205_2020_08_03_25.npy\n",
      "1.0\n",
      "Block0205_2020_08_03_26.npy\n",
      "1.0\n",
      "Block0205_2020_08_03_27.npy\n",
      "1.0\n",
      "Block0205_2020_08_03_28.npy\n",
      "1.0\n",
      "Block0205_2020_08_03_29.npy\n",
      "1.0\n",
      "Block0205_2020_08_03_30.npy\n",
      "1.0\n",
      "Block0205_2020_08_03_31.npy\n",
      "1.0\n",
      "Block0205_2020_08_03_32.npy\n",
      "1.0\n",
      "Block0205_2020_08_03_33.npy\n",
      "1.0\n",
      "Block0205_2020_08_03_34.npy\n",
      "1.0\n",
      "Block0205_2020_08_03_35.npy\n",
      "1.0\n",
      "Block0205_2020_08_03_36.npy\n",
      "1.0\n",
      "Block0205_2020_08_03_37.npy\n",
      "1.0\n",
      "Block0205_2020_08_03_38.npy\n",
      "1.0\n",
      "Block0205_2020_08_03_39.npy\n",
      "1.0\n",
      "Block0205_2020_08_03_40.npy\n",
      "1.0\n",
      "Block0205_2020_08_03_41.npy\n",
      "1.0\n",
      "CPU times: user 36.2 s, sys: 3.41 s, total: 39.6 s\n",
      "Wall time: 1min 34s\n"
     ]
    }
   ],
   "source": [
    "%%time\n",
    "\n",
    "# for double digit subwindows\n",
    "catch_all_dfs_0205 = []\n",
    "for character in character_list_double:\n",
    "    features_df = extract_features_and_get_counts(feature_extractor_model, prev_preprocessed_image_loc_0205, folder_contents_0205, 3, 11, character, s_path_0205)\n",
    "    catch_all_dfs_0205.append(features_df)"
   ]
  },
  {
   "cell_type": "markdown",
   "id": "df7306df-004b-41e5-aee7-ee73a01f207e",
   "metadata": {},
   "source": [
    "Block 0206"
   ]
  },
  {
   "cell_type": "code",
   "execution_count": 64,
   "id": "9f4b620d-7a2d-4d1f-9c90-77ddb69dbf40",
   "metadata": {},
   "outputs": [],
   "source": [
    "prev_preprocessed_image_loc_0206 = \"preprocessed_data/Block_0206/sub_images_and_counts\""
   ]
  },
  {
   "cell_type": "code",
   "execution_count": 65,
   "id": "361a7584-bda5-4835-9a82-0c8a28923a45",
   "metadata": {},
   "outputs": [],
   "source": [
    "folder_contents_0206 = os.listdir(prev_preprocessed_image_loc_0206)\n",
    "folder_contents_0206.sort()"
   ]
  },
  {
   "cell_type": "code",
   "execution_count": 66,
   "id": "7a4aa333-0232-4018-8d05-f924af6a2420",
   "metadata": {},
   "outputs": [],
   "source": [
    "# folder_contents"
   ]
  },
  {
   "cell_type": "code",
   "execution_count": 67,
   "id": "5d58f1d6-b39a-4133-b533-8f45ef5f721c",
   "metadata": {},
   "outputs": [
    {
     "data": {
      "text/plain": [
       "'Block0206_2020_08_03_0.npy'"
      ]
     },
     "execution_count": 67,
     "metadata": {},
     "output_type": "execute_result"
    }
   ],
   "source": [
    "folder_contents_0206[0]"
   ]
  },
  {
   "cell_type": "code",
   "execution_count": 68,
   "id": "8ae4c935-d6b1-4850-8f54-876b230d09a7",
   "metadata": {},
   "outputs": [],
   "source": [
    "s_path_0206 = 'preprocessed_data/Block_0206/TS_ready_data_frames/'"
   ]
  },
  {
   "cell_type": "code",
   "execution_count": 69,
   "id": "3fa33335-3ef2-4866-ae77-643446fb6d57",
   "metadata": {},
   "outputs": [],
   "source": [
    "# get the predictions for all subimages for the block? do separately for single digit subimages and double digit subimages separately\n",
    "character_list = list(range(10))\n",
    "character_list = list(map(str, character_list))"
   ]
  },
  {
   "cell_type": "code",
   "execution_count": 70,
   "id": "0211fc21-c5f1-4327-b7af-efb81a797819",
   "metadata": {},
   "outputs": [
    {
     "name": "stdout",
     "output_type": "stream",
     "text": [
      "Block0206_2020_08_03_0.npy\n",
      "1.0\n",
      "Block0206_2020_08_03_1.npy\n",
      "1.0\n",
      "Block0206_2020_08_03_2.npy\n",
      "1.0\n",
      "Block0206_2020_08_03_3.npy\n",
      "1.0\n",
      "Block0206_2020_08_03_4.npy\n",
      "1.0\n",
      "Block0206_2020_08_03_5.npy\n",
      "1.0\n",
      "Block0206_2020_08_03_6.npy\n",
      "1.0\n",
      "Block0206_2020_08_03_7.npy\n",
      "1.0\n",
      "Block0206_2020_08_03_8.npy\n",
      "1.0\n",
      "Block0206_2020_08_03_9.npy\n",
      "1.0\n",
      "CPU times: user 11.6 s, sys: 1.18 s, total: 12.8 s\n",
      "Wall time: 27.8 s\n"
     ]
    }
   ],
   "source": [
    "%%time\n",
    "\n",
    "# for single digit subwindows\n",
    "catch_all_dfs_0206 = []\n",
    "for character in character_list:\n",
    "    features_df = extract_features_and_get_counts(feature_extractor_model, prev_preprocessed_image_loc_0206, folder_contents_0206, 2, 10, character, s_path_0206)\n",
    "    catch_all_dfs_0206.append(features_df)"
   ]
  },
  {
   "cell_type": "code",
   "execution_count": 71,
   "id": "3737c66c-9012-403c-99d3-da5f7e18053b",
   "metadata": {},
   "outputs": [],
   "source": [
    "# get the predictions for double digits\n",
    "character_list_double = list(range(10, 42))\n",
    "character_list_double = list(map(str, character_list_double))"
   ]
  },
  {
   "cell_type": "code",
   "execution_count": 72,
   "id": "8425e04f-4d17-4781-b8c0-cd4205cdc93b",
   "metadata": {},
   "outputs": [
    {
     "name": "stdout",
     "output_type": "stream",
     "text": [
      "Block0206_2020_08_03_10.npy\n",
      "1.0\n",
      "Block0206_2020_08_03_11.npy\n",
      "1.0\n",
      "Block0206_2020_08_03_12.npy\n",
      "1.0\n",
      "Block0206_2020_08_03_13.npy\n",
      "1.0\n",
      "Block0206_2020_08_03_14.npy\n",
      "1.0\n",
      "Block0206_2020_08_03_15.npy\n",
      "1.0\n",
      "Block0206_2020_08_03_16.npy\n",
      "1.0\n",
      "Block0206_2020_08_03_17.npy\n",
      "1.0\n",
      "Block0206_2020_08_03_18.npy\n",
      "1.0\n",
      "Block0206_2020_08_03_19.npy\n",
      "1.0\n",
      "Block0206_2020_08_03_20.npy\n",
      "1.0\n",
      "Block0206_2020_08_03_21.npy\n",
      "1.0\n",
      "Block0206_2020_08_03_22.npy\n",
      "1.0\n",
      "Block0206_2020_08_03_23.npy\n",
      "1.0\n",
      "Block0206_2020_08_03_24.npy\n",
      "1.0\n",
      "Block0206_2020_08_03_25.npy\n",
      "1.0\n",
      "Block0206_2020_08_03_26.npy\n",
      "1.0\n",
      "Block0206_2020_08_03_27.npy\n",
      "1.0\n",
      "Block0206_2020_08_03_28.npy\n",
      "1.0\n",
      "Block0206_2020_08_03_29.npy\n",
      "1.0\n",
      "Block0206_2020_08_03_30.npy\n",
      "1.0\n",
      "Block0206_2020_08_03_31.npy\n",
      "1.0\n",
      "Block0206_2020_08_03_32.npy\n",
      "1.0\n",
      "Block0206_2020_08_03_33.npy\n",
      "1.0\n",
      "Block0206_2020_08_03_34.npy\n",
      "1.0\n",
      "Block0206_2020_08_03_35.npy\n",
      "1.0\n",
      "Block0206_2020_08_03_36.npy\n",
      "1.0\n",
      "Block0206_2020_08_03_37.npy\n",
      "1.0\n",
      "Block0206_2020_08_03_38.npy\n",
      "1.0\n",
      "Block0206_2020_08_03_39.npy\n",
      "1.0\n",
      "Block0206_2020_08_03_40.npy\n",
      "1.0\n",
      "Block0206_2020_08_03_41.npy\n",
      "1.0\n",
      "CPU times: user 35.9 s, sys: 3.33 s, total: 39.3 s\n",
      "Wall time: 1min 29s\n"
     ]
    }
   ],
   "source": [
    "%%time\n",
    "\n",
    "# for double digit subwindows\n",
    "catch_all_dfs_0206 = []\n",
    "for character in character_list_double:\n",
    "    features_df = extract_features_and_get_counts(feature_extractor_model, prev_preprocessed_image_loc_0206, folder_contents_0206, 3, 11, character, s_path_0206)\n",
    "    catch_all_dfs_0206.append(features_df)"
   ]
  },
  {
   "cell_type": "markdown",
   "id": "d8402468-dda0-4c53-adac-88de5f232c9f",
   "metadata": {},
   "source": [
    "Block 0302"
   ]
  },
  {
   "cell_type": "code",
   "execution_count": 73,
   "id": "f1c3b4a2-d264-4d1a-933d-660c415e0768",
   "metadata": {},
   "outputs": [],
   "source": [
    "prev_preprocessed_image_loc_0302 = \"preprocessed_data/Block_0302/sub_images_and_counts\""
   ]
  },
  {
   "cell_type": "code",
   "execution_count": 74,
   "id": "22d50328-629c-49d7-a949-cb87049cd149",
   "metadata": {},
   "outputs": [],
   "source": [
    "folder_contents_0302 = os.listdir(prev_preprocessed_image_loc_0302)\n",
    "folder_contents_0302.sort()"
   ]
  },
  {
   "cell_type": "code",
   "execution_count": 75,
   "id": "812bdb52-287f-49d9-aa68-b13436b2e641",
   "metadata": {},
   "outputs": [],
   "source": [
    "# folder_contents"
   ]
  },
  {
   "cell_type": "code",
   "execution_count": 76,
   "id": "4a30eb98-5108-4e67-8fee-6a35257e2a43",
   "metadata": {},
   "outputs": [
    {
     "data": {
      "text/plain": [
       "'Block0302_2020_08_03_0.npy'"
      ]
     },
     "execution_count": 76,
     "metadata": {},
     "output_type": "execute_result"
    }
   ],
   "source": [
    "folder_contents_0302[0]"
   ]
  },
  {
   "cell_type": "code",
   "execution_count": 77,
   "id": "b7baa7d8-86bc-4e6b-aad5-c2185bdb9e3d",
   "metadata": {},
   "outputs": [],
   "source": [
    "s_path_0302 = 'preprocessed_data/Block_0302/TS_ready_data_frames/'"
   ]
  },
  {
   "cell_type": "code",
   "execution_count": 78,
   "id": "dcc303c4-ae67-4281-a288-df7b1ab9131b",
   "metadata": {},
   "outputs": [],
   "source": [
    "# get the predictions for all subimages for the block? do separately for single digit subimages and double digit subimages separately\n",
    "character_list = list(range(10))\n",
    "character_list = list(map(str, character_list))"
   ]
  },
  {
   "cell_type": "code",
   "execution_count": 79,
   "id": "15072ab4-af19-494d-97e5-e653c476d120",
   "metadata": {},
   "outputs": [
    {
     "name": "stdout",
     "output_type": "stream",
     "text": [
      "Block0302_2020_08_03_0.npy\n",
      "1.0\n",
      "Block0302_2020_08_03_1.npy\n",
      "1.0\n",
      "Block0302_2020_08_03_2.npy\n",
      "1.0\n",
      "Block0302_2020_08_03_3.npy\n",
      "1.0\n",
      "Block0302_2020_08_03_4.npy\n",
      "1.0\n",
      "Block0302_2020_08_03_5.npy\n",
      "1.0\n",
      "Block0302_2020_08_03_6.npy\n",
      "1.0\n",
      "Block0302_2020_08_03_7.npy\n",
      "1.0\n",
      "Block0302_2020_08_03_8.npy\n",
      "1.0\n",
      "Block0302_2020_08_03_9.npy\n",
      "1.0\n",
      "CPU times: user 11.7 s, sys: 1.18 s, total: 12.9 s\n",
      "Wall time: 33.3 s\n"
     ]
    }
   ],
   "source": [
    "%%time\n",
    "\n",
    "# for single digit subwindows\n",
    "catch_all_dfs_0302 = []\n",
    "for character in character_list:\n",
    "    features_df = extract_features_and_get_counts(feature_extractor_model, prev_preprocessed_image_loc_0302, folder_contents_0302, 2, 10, character, s_path_0302)\n",
    "    catch_all_dfs_0302.append(features_df)"
   ]
  },
  {
   "cell_type": "code",
   "execution_count": 80,
   "id": "804cf6b4-d033-42fd-9632-448dfa83c64b",
   "metadata": {},
   "outputs": [],
   "source": [
    "# get the predictions for double digits\n",
    "character_list_double = list(range(10, 42))\n",
    "character_list_double = list(map(str, character_list_double))"
   ]
  },
  {
   "cell_type": "code",
   "execution_count": 81,
   "id": "539a3d83-70b7-4833-afb4-ee32a0e07ea1",
   "metadata": {},
   "outputs": [
    {
     "name": "stdout",
     "output_type": "stream",
     "text": [
      "Block0302_2020_08_03_10.npy\n",
      "1.0\n",
      "Block0302_2020_08_03_11.npy\n",
      "1.0\n",
      "Block0302_2020_08_03_12.npy\n",
      "1.0\n",
      "Block0302_2020_08_03_13.npy\n",
      "1.0\n",
      "Block0302_2020_08_03_14.npy\n",
      "1.0\n",
      "Block0302_2020_08_03_15.npy\n",
      "1.0\n",
      "Block0302_2020_08_03_16.npy\n",
      "1.0\n",
      "Block0302_2020_08_03_17.npy\n",
      "1.0\n",
      "Block0302_2020_08_03_18.npy\n",
      "1.0\n",
      "Block0302_2020_08_03_19.npy\n",
      "1.0\n",
      "Block0302_2020_08_03_20.npy\n",
      "1.0\n",
      "Block0302_2020_08_03_21.npy\n",
      "1.0\n",
      "Block0302_2020_08_03_22.npy\n",
      "1.0\n",
      "Block0302_2020_08_03_23.npy\n",
      "1.0\n",
      "Block0302_2020_08_03_24.npy\n",
      "1.0\n",
      "Block0302_2020_08_03_25.npy\n",
      "1.0\n",
      "Block0302_2020_08_03_26.npy\n",
      "1.0\n",
      "Block0302_2020_08_03_27.npy\n",
      "1.0\n",
      "Block0302_2020_08_03_28.npy\n",
      "1.0\n",
      "Block0302_2020_08_03_29.npy\n",
      "1.0\n",
      "Block0302_2020_08_03_30.npy\n",
      "1.0\n",
      "Block0302_2020_08_03_31.npy\n",
      "1.0\n",
      "Block0302_2020_08_03_32.npy\n",
      "1.0\n",
      "Block0302_2020_08_03_33.npy\n",
      "1.0\n",
      "Block0302_2020_08_03_34.npy\n",
      "1.0\n",
      "Block0302_2020_08_03_35.npy\n",
      "1.0\n",
      "Block0302_2020_08_03_36.npy\n",
      "1.0\n",
      "Block0302_2020_08_03_37.npy\n",
      "1.0\n",
      "Block0302_2020_08_03_38.npy\n",
      "1.0\n",
      "Block0302_2020_08_03_39.npy\n",
      "1.0\n",
      "Block0302_2020_08_03_40.npy\n",
      "1.0\n",
      "Block0302_2020_08_03_41.npy\n",
      "1.0\n",
      "CPU times: user 36.2 s, sys: 3.48 s, total: 39.6 s\n",
      "Wall time: 1min 30s\n"
     ]
    }
   ],
   "source": [
    "%%time\n",
    "\n",
    "# for double digit subwindows\n",
    "catch_all_dfs_0302 = []\n",
    "for character in character_list_double:\n",
    "    features_df = extract_features_and_get_counts(feature_extractor_model, prev_preprocessed_image_loc_0302, folder_contents_0302, 3, 11, character, s_path_0302)\n",
    "    catch_all_dfs_0302.append(features_df)"
   ]
  },
  {
   "cell_type": "markdown",
   "id": "c7da323c-34ef-4de9-b18b-c0bc61313aca",
   "metadata": {},
   "source": [
    "Block 0303"
   ]
  },
  {
   "cell_type": "code",
   "execution_count": 82,
   "id": "13a85fe1-e6ae-487c-bfa5-a96f464ee9d3",
   "metadata": {},
   "outputs": [],
   "source": [
    "prev_preprocessed_image_loc_0303 = \"preprocessed_data/Block_0303/sub_images_and_counts\""
   ]
  },
  {
   "cell_type": "code",
   "execution_count": 83,
   "id": "79769482-7b2d-4132-a413-3a6e7f823185",
   "metadata": {},
   "outputs": [],
   "source": [
    "folder_contents_0303 = os.listdir(prev_preprocessed_image_loc_0303)\n",
    "folder_contents_0303.sort()"
   ]
  },
  {
   "cell_type": "code",
   "execution_count": 84,
   "id": "c1fee857-50f5-4068-b3a4-ab4dc77bc9bc",
   "metadata": {},
   "outputs": [],
   "source": [
    "# folder_contents"
   ]
  },
  {
   "cell_type": "code",
   "execution_count": 85,
   "id": "ca6c6bf8-b5ff-4cbf-8fd0-11c9729ccaba",
   "metadata": {},
   "outputs": [
    {
     "data": {
      "text/plain": [
       "'Block0303_2020_08_03_0.npy'"
      ]
     },
     "execution_count": 85,
     "metadata": {},
     "output_type": "execute_result"
    }
   ],
   "source": [
    "folder_contents_0303[0]"
   ]
  },
  {
   "cell_type": "code",
   "execution_count": 86,
   "id": "418c0fb0-57c0-46c4-a575-b64990fb9049",
   "metadata": {},
   "outputs": [],
   "source": [
    "s_path_0303 = 'preprocessed_data/Block_0303/TS_ready_data_frames/'"
   ]
  },
  {
   "cell_type": "code",
   "execution_count": 87,
   "id": "508964b0-72ed-482b-b503-2bca668807d0",
   "metadata": {},
   "outputs": [],
   "source": [
    "# get the predictions for all subimages for the block? do separately for single digit subimages and double digit subimages separately\n",
    "character_list = list(range(10))\n",
    "character_list = list(map(str, character_list))"
   ]
  },
  {
   "cell_type": "code",
   "execution_count": 88,
   "id": "55d57154-7b06-40d3-9d79-715b6000c1e8",
   "metadata": {},
   "outputs": [
    {
     "name": "stdout",
     "output_type": "stream",
     "text": [
      "Block0303_2020_08_03_0.npy\n",
      "1.0\n",
      "Block0303_2020_08_03_1.npy\n",
      "1.0\n",
      "Block0303_2020_08_03_2.npy\n",
      "1.0\n",
      "Block0303_2020_08_03_3.npy\n",
      "1.0\n",
      "Block0303_2020_08_03_4.npy\n",
      "1.0\n",
      "Block0303_2020_08_03_5.npy\n",
      "1.0\n",
      "Block0303_2020_08_03_6.npy\n",
      "1.0\n",
      "Block0303_2020_08_03_7.npy\n",
      "1.0\n",
      "Block0303_2020_08_03_8.npy\n",
      "1.0\n",
      "Block0303_2020_08_03_9.npy\n",
      "1.0\n",
      "CPU times: user 11.8 s, sys: 1.19 s, total: 13 s\n",
      "Wall time: 35.1 s\n"
     ]
    }
   ],
   "source": [
    "%%time\n",
    "\n",
    "# for single digit subwindows\n",
    "catch_all_dfs_0303 = []\n",
    "for character in character_list:\n",
    "    features_df = extract_features_and_get_counts(feature_extractor_model, prev_preprocessed_image_loc_0303, folder_contents_0303, 2, 10, character, s_path_0303)\n",
    "    catch_all_dfs_0303.append(features_df)"
   ]
  },
  {
   "cell_type": "code",
   "execution_count": 89,
   "id": "40245cf3-929e-4778-8e9c-e412d4b9553b",
   "metadata": {},
   "outputs": [],
   "source": [
    "# get the predictions for double digits\n",
    "character_list_double = list(range(10, 42))\n",
    "character_list_double = list(map(str, character_list_double))"
   ]
  },
  {
   "cell_type": "code",
   "execution_count": 90,
   "id": "86604040-3b03-4009-a248-31997d8594a4",
   "metadata": {},
   "outputs": [
    {
     "name": "stdout",
     "output_type": "stream",
     "text": [
      "Block0303_2020_08_03_10.npy\n",
      "1.0\n",
      "Block0303_2020_08_03_11.npy\n",
      "1.0\n",
      "Block0303_2020_08_03_12.npy\n",
      "1.0\n",
      "Block0303_2020_08_03_13.npy\n",
      "1.0\n",
      "Block0303_2020_08_03_14.npy\n",
      "1.0\n",
      "Block0303_2020_08_03_15.npy\n",
      "1.0\n",
      "Block0303_2020_08_03_16.npy\n",
      "1.0\n",
      "Block0303_2020_08_03_17.npy\n",
      "1.0\n",
      "Block0303_2020_08_03_18.npy\n",
      "1.0\n",
      "Block0303_2020_08_03_19.npy\n",
      "1.0\n",
      "Block0303_2020_08_03_20.npy\n",
      "1.0\n",
      "Block0303_2020_08_03_21.npy\n",
      "1.0\n",
      "Block0303_2020_08_03_22.npy\n",
      "1.0\n",
      "Block0303_2020_08_03_23.npy\n",
      "1.0\n",
      "Block0303_2020_08_03_24.npy\n",
      "1.0\n",
      "Block0303_2020_08_03_25.npy\n",
      "1.0\n",
      "Block0303_2020_08_03_26.npy\n",
      "1.0\n",
      "Block0303_2020_08_03_27.npy\n",
      "1.0\n",
      "Block0303_2020_08_03_28.npy\n",
      "1.0\n",
      "Block0303_2020_08_03_29.npy\n",
      "1.0\n",
      "Block0303_2020_08_03_30.npy\n",
      "1.0\n",
      "Block0303_2020_08_03_31.npy\n",
      "1.0\n",
      "Block0303_2020_08_03_32.npy\n",
      "1.0\n",
      "Block0303_2020_08_03_33.npy\n",
      "1.0\n",
      "Block0303_2020_08_03_34.npy\n",
      "1.0\n",
      "Block0303_2020_08_03_35.npy\n",
      "1.0\n",
      "Block0303_2020_08_03_36.npy\n",
      "1.0\n",
      "Block0303_2020_08_03_37.npy\n",
      "1.0\n",
      "Block0303_2020_08_03_38.npy\n",
      "1.0\n",
      "Block0303_2020_08_03_39.npy\n",
      "1.0\n",
      "Block0303_2020_08_03_40.npy\n",
      "1.0\n",
      "Block0303_2020_08_03_41.npy\n",
      "1.0\n",
      "CPU times: user 36.3 s, sys: 3.61 s, total: 39.9 s\n",
      "Wall time: 1min 45s\n"
     ]
    }
   ],
   "source": [
    "%%time\n",
    "\n",
    "# for double digit subwindows\n",
    "catch_all_dfs_0303 = []\n",
    "for character in character_list_double:\n",
    "    features_df = extract_features_and_get_counts(feature_extractor_model, prev_preprocessed_image_loc_0303, folder_contents_0303, 3, 11, character, s_path_0303)\n",
    "    catch_all_dfs_0303.append(features_df)"
   ]
  },
  {
   "cell_type": "markdown",
   "id": "cc0c980e-72a0-45f5-ae15-7f7fb2a7036b",
   "metadata": {},
   "source": [
    "Block 0304"
   ]
  },
  {
   "cell_type": "code",
   "execution_count": 91,
   "id": "3c8ce398-c036-4791-a80d-14328af2f8d4",
   "metadata": {},
   "outputs": [],
   "source": [
    "prev_preprocessed_image_loc_0304 = \"preprocessed_data/Block_0304/sub_images_and_counts\""
   ]
  },
  {
   "cell_type": "code",
   "execution_count": 92,
   "id": "06691cb5-e0a1-4ce0-bbd2-0a12d4231c67",
   "metadata": {},
   "outputs": [],
   "source": [
    "folder_contents_0304 = os.listdir(prev_preprocessed_image_loc_0304)\n",
    "folder_contents_0304.sort()"
   ]
  },
  {
   "cell_type": "code",
   "execution_count": 93,
   "id": "d8498b39-57b3-4cff-9e92-e1f69a360b9e",
   "metadata": {},
   "outputs": [],
   "source": [
    "# folder_contents"
   ]
  },
  {
   "cell_type": "code",
   "execution_count": 94,
   "id": "7cece494-200f-4914-9c9a-f73f32026835",
   "metadata": {},
   "outputs": [
    {
     "data": {
      "text/plain": [
       "'Block0304_2020_08_03_0.npy'"
      ]
     },
     "execution_count": 94,
     "metadata": {},
     "output_type": "execute_result"
    }
   ],
   "source": [
    "folder_contents_0304[0]"
   ]
  },
  {
   "cell_type": "code",
   "execution_count": 95,
   "id": "144e7d1d-182a-4de5-942a-abf046b798a8",
   "metadata": {},
   "outputs": [],
   "source": [
    "s_path_0304 = 'preprocessed_data/Block_0304/TS_ready_data_frames/'"
   ]
  },
  {
   "cell_type": "code",
   "execution_count": 96,
   "id": "566a1ff6-f325-4b80-9172-65843c890ab5",
   "metadata": {},
   "outputs": [],
   "source": [
    "# get the predictions for all subimages for the block? do separately for single digit subimages and double digit subimages separately\n",
    "character_list = list(range(10))\n",
    "character_list = list(map(str, character_list))"
   ]
  },
  {
   "cell_type": "code",
   "execution_count": 97,
   "id": "3da4b00d-e3ae-4be1-ad62-47e1882e7155",
   "metadata": {},
   "outputs": [
    {
     "name": "stdout",
     "output_type": "stream",
     "text": [
      "Block0304_2020_08_03_0.npy\n",
      "1.0\n",
      "Block0304_2020_08_03_1.npy\n",
      "1.0\n",
      "Block0304_2020_08_03_2.npy\n",
      "1.0\n",
      "Block0304_2020_08_03_3.npy\n",
      "1.0\n",
      "Block0304_2020_08_03_4.npy\n",
      "1.0\n",
      "Block0304_2020_08_03_5.npy\n",
      "1.0\n",
      "Block0304_2020_08_03_6.npy\n",
      "1.0\n",
      "Block0304_2020_08_03_7.npy\n",
      "1.0\n",
      "Block0304_2020_08_03_8.npy\n",
      "1.0\n",
      "Block0304_2020_08_03_9.npy\n",
      "1.0\n",
      "CPU times: user 11.8 s, sys: 1.16 s, total: 12.9 s\n",
      "Wall time: 29.7 s\n"
     ]
    }
   ],
   "source": [
    "%%time\n",
    "\n",
    "# for single digit subwindows\n",
    "catch_all_dfs_0304 = []\n",
    "for character in character_list:\n",
    "    features_df = extract_features_and_get_counts(feature_extractor_model, prev_preprocessed_image_loc_0304, folder_contents_0304, 2, 10, character, s_path_0304)\n",
    "    catch_all_dfs_0304.append(features_df)"
   ]
  },
  {
   "cell_type": "code",
   "execution_count": 98,
   "id": "3abc310b-b824-4b94-8026-ea142b95880c",
   "metadata": {},
   "outputs": [],
   "source": [
    "# get the predictions for double digits\n",
    "character_list_double = list(range(10, 42))\n",
    "character_list_double = list(map(str, character_list_double))"
   ]
  },
  {
   "cell_type": "code",
   "execution_count": 99,
   "id": "28924433-4540-4a20-bd8d-a02bb4556ee1",
   "metadata": {},
   "outputs": [
    {
     "name": "stdout",
     "output_type": "stream",
     "text": [
      "Block0304_2020_08_03_10.npy\n",
      "1.0\n",
      "Block0304_2020_08_03_11.npy\n",
      "1.0\n",
      "Block0304_2020_08_03_12.npy\n",
      "1.0\n",
      "Block0304_2020_08_03_13.npy\n",
      "1.0\n",
      "Block0304_2020_08_03_14.npy\n",
      "1.0\n",
      "Block0304_2020_08_03_15.npy\n",
      "1.0\n",
      "Block0304_2020_08_03_16.npy\n",
      "1.0\n",
      "Block0304_2020_08_03_17.npy\n",
      "1.0\n",
      "Block0304_2020_08_03_18.npy\n",
      "1.0\n",
      "Block0304_2020_08_03_19.npy\n",
      "1.0\n",
      "Block0304_2020_08_03_20.npy\n",
      "1.0\n",
      "Block0304_2020_08_03_21.npy\n",
      "1.0\n",
      "Block0304_2020_08_03_22.npy\n",
      "1.0\n",
      "Block0304_2020_08_03_23.npy\n",
      "1.0\n",
      "Block0304_2020_08_03_24.npy\n",
      "1.0\n",
      "Block0304_2020_08_03_25.npy\n",
      "1.0\n",
      "Block0304_2020_08_03_26.npy\n",
      "1.0\n",
      "Block0304_2020_08_03_27.npy\n",
      "1.0\n",
      "Block0304_2020_08_03_28.npy\n",
      "1.0\n",
      "Block0304_2020_08_03_29.npy\n",
      "1.0\n",
      "Block0304_2020_08_03_30.npy\n",
      "1.0\n",
      "Block0304_2020_08_03_31.npy\n",
      "1.0\n",
      "Block0304_2020_08_03_32.npy\n",
      "1.0\n",
      "Block0304_2020_08_03_33.npy\n",
      "1.0\n",
      "Block0304_2020_08_03_34.npy\n",
      "1.0\n",
      "Block0304_2020_08_03_35.npy\n",
      "1.0\n",
      "Block0304_2020_08_03_36.npy\n",
      "1.0\n",
      "Block0304_2020_08_03_37.npy\n",
      "1.0\n",
      "Block0304_2020_08_03_38.npy\n",
      "1.0\n",
      "Block0304_2020_08_03_39.npy\n",
      "1.0\n",
      "Block0304_2020_08_03_40.npy\n",
      "1.0\n",
      "Block0304_2020_08_03_41.npy\n",
      "1.0\n",
      "CPU times: user 36.1 s, sys: 3.36 s, total: 39.4 s\n",
      "Wall time: 1min 26s\n"
     ]
    }
   ],
   "source": [
    "%%time\n",
    "\n",
    "# for double digit subwindows\n",
    "catch_all_dfs_0304 = []\n",
    "for character in character_list_double:\n",
    "    features_df = extract_features_and_get_counts(feature_extractor_model, prev_preprocessed_image_loc_0304, folder_contents_0304, 3, 11, character, s_path_0304)\n",
    "    catch_all_dfs_0304.append(features_df)"
   ]
  },
  {
   "cell_type": "markdown",
   "id": "923e718f-3001-413a-a529-36bd575243b7",
   "metadata": {},
   "source": [
    "Block 0305"
   ]
  },
  {
   "cell_type": "code",
   "execution_count": 100,
   "id": "52be9e1b-0ea9-4341-a018-e605d8a275ee",
   "metadata": {},
   "outputs": [],
   "source": [
    "prev_preprocessed_image_loc_0305 = \"preprocessed_data/Block_0305/sub_images_and_counts\""
   ]
  },
  {
   "cell_type": "code",
   "execution_count": 101,
   "id": "bc8709b9-e9d5-4af3-8a20-8e6c4706fd56",
   "metadata": {},
   "outputs": [],
   "source": [
    "folder_contents_0305 = os.listdir(prev_preprocessed_image_loc_0305)\n",
    "folder_contents_0305.sort()"
   ]
  },
  {
   "cell_type": "code",
   "execution_count": 102,
   "id": "acf37e3d-0884-4ba2-bac6-eedc972ea5d4",
   "metadata": {},
   "outputs": [],
   "source": [
    "# folder_contents"
   ]
  },
  {
   "cell_type": "code",
   "execution_count": 103,
   "id": "634abef7-dc05-4c9a-a880-6de14e98a31d",
   "metadata": {},
   "outputs": [
    {
     "data": {
      "text/plain": [
       "'Block0305_2020_08_03_0.npy'"
      ]
     },
     "execution_count": 103,
     "metadata": {},
     "output_type": "execute_result"
    }
   ],
   "source": [
    "folder_contents_0305[0]"
   ]
  },
  {
   "cell_type": "code",
   "execution_count": 104,
   "id": "9de30016-9a91-459c-a3c5-036a47fde0d4",
   "metadata": {},
   "outputs": [],
   "source": [
    "s_path_0305 = 'preprocessed_data/Block_0305/TS_ready_data_frames/'"
   ]
  },
  {
   "cell_type": "code",
   "execution_count": 105,
   "id": "a3686324-3d0f-4ca7-8b4c-8ca788e4bb32",
   "metadata": {},
   "outputs": [],
   "source": [
    "# get the predictions for all subimages for the block? do separately for single digit subimages and double digit subimages separately\n",
    "character_list = list(range(10))\n",
    "character_list = list(map(str, character_list))"
   ]
  },
  {
   "cell_type": "code",
   "execution_count": 106,
   "id": "b2273ec1-3ec4-44d5-9ccf-5573375838f5",
   "metadata": {},
   "outputs": [
    {
     "name": "stdout",
     "output_type": "stream",
     "text": [
      "Block0305_2020_08_03_0.npy\n",
      "1.0\n",
      "Block0305_2020_08_03_1.npy\n",
      "1.0\n",
      "Block0305_2020_08_03_2.npy\n",
      "1.0\n",
      "Block0305_2020_08_03_3.npy\n",
      "1.0\n",
      "Block0305_2020_08_03_4.npy\n",
      "1.0\n",
      "Block0305_2020_08_03_5.npy\n",
      "1.0\n",
      "Block0305_2020_08_03_6.npy\n",
      "1.0\n",
      "Block0305_2020_08_03_7.npy\n",
      "1.0\n",
      "Block0305_2020_08_03_8.npy\n",
      "1.0\n",
      "Block0305_2020_08_03_9.npy\n",
      "1.0\n",
      "CPU times: user 11.8 s, sys: 1.14 s, total: 12.9 s\n",
      "Wall time: 30 s\n"
     ]
    }
   ],
   "source": [
    "%%time\n",
    "\n",
    "# for single digit subwindows\n",
    "catch_all_dfs_0305 = []\n",
    "for character in character_list:\n",
    "    features_df = extract_features_and_get_counts(feature_extractor_model, prev_preprocessed_image_loc_0305, folder_contents_0305, 2, 10, character, s_path_0305)\n",
    "    catch_all_dfs_0305.append(features_df)"
   ]
  },
  {
   "cell_type": "code",
   "execution_count": 107,
   "id": "b3266e7b-02b7-4d63-b7b8-6c4c5f9f4b39",
   "metadata": {},
   "outputs": [],
   "source": [
    "# get the predictions for double digits\n",
    "character_list_double = list(range(10, 42))\n",
    "character_list_double = list(map(str, character_list_double))"
   ]
  },
  {
   "cell_type": "code",
   "execution_count": 108,
   "id": "bad2e6c3-36fb-4d34-b145-9067648e46eb",
   "metadata": {},
   "outputs": [
    {
     "name": "stdout",
     "output_type": "stream",
     "text": [
      "Block0305_2020_08_03_10.npy\n",
      "1.0\n",
      "Block0305_2020_08_03_11.npy\n",
      "1.0\n",
      "Block0305_2020_08_03_12.npy\n",
      "1.0\n",
      "Block0305_2020_08_03_13.npy\n",
      "1.0\n",
      "Block0305_2020_08_03_14.npy\n",
      "1.0\n",
      "Block0305_2020_08_03_15.npy\n",
      "1.0\n",
      "Block0305_2020_08_03_16.npy\n",
      "1.0\n",
      "Block0305_2020_08_03_17.npy\n",
      "1.0\n",
      "Block0305_2020_08_03_18.npy\n",
      "1.0\n",
      "Block0305_2020_08_03_19.npy\n",
      "1.0\n",
      "Block0305_2020_08_03_20.npy\n",
      "1.0\n",
      "Block0305_2020_08_03_21.npy\n",
      "1.0\n",
      "Block0305_2020_08_03_22.npy\n",
      "1.0\n",
      "Block0305_2020_08_03_23.npy\n",
      "1.0\n",
      "Block0305_2020_08_03_24.npy\n",
      "1.0\n",
      "Block0305_2020_08_03_25.npy\n",
      "1.0\n",
      "Block0305_2020_08_03_26.npy\n",
      "1.0\n",
      "Block0305_2020_08_03_27.npy\n",
      "1.0\n",
      "Block0305_2020_08_03_28.npy\n",
      "1.0\n",
      "Block0305_2020_08_03_29.npy\n",
      "1.0\n",
      "Block0305_2020_08_03_30.npy\n",
      "1.0\n",
      "Block0305_2020_08_03_31.npy\n",
      "1.0\n",
      "Block0305_2020_08_03_32.npy\n",
      "1.0\n",
      "Block0305_2020_08_03_33.npy\n",
      "1.0\n",
      "Block0305_2020_08_03_34.npy\n",
      "1.0\n",
      "Block0305_2020_08_03_35.npy\n",
      "1.0\n",
      "Block0305_2020_08_03_36.npy\n",
      "1.0\n",
      "Block0305_2020_08_03_37.npy\n",
      "1.0\n",
      "Block0305_2020_08_03_38.npy\n",
      "1.0\n",
      "Block0305_2020_08_03_39.npy\n",
      "1.0\n",
      "Block0305_2020_08_03_40.npy\n",
      "1.0\n",
      "Block0305_2020_08_03_41.npy\n",
      "1.0\n",
      "CPU times: user 36.5 s, sys: 3.36 s, total: 39.8 s\n",
      "Wall time: 1min 33s\n"
     ]
    }
   ],
   "source": [
    "%%time\n",
    "\n",
    "# for double digit subwindows\n",
    "catch_all_dfs_0305 = []\n",
    "for character in character_list_double:\n",
    "    features_df = extract_features_and_get_counts(feature_extractor_model, prev_preprocessed_image_loc_0305, folder_contents_0305, 3, 11, character, s_path_0305)\n",
    "    catch_all_dfs_0305.append(features_df)"
   ]
  },
  {
   "cell_type": "markdown",
   "id": "880ec3a5-ce8b-4800-9f55-aae75a27d0dd",
   "metadata": {},
   "source": [
    "Block 0306"
   ]
  },
  {
   "cell_type": "code",
   "execution_count": 109,
   "id": "0aa41387-a807-4746-ba23-86ddcb9c6de5",
   "metadata": {},
   "outputs": [],
   "source": [
    "prev_preprocessed_image_loc_0306 = \"preprocessed_data/Block_0306/sub_images_and_counts\""
   ]
  },
  {
   "cell_type": "code",
   "execution_count": 110,
   "id": "9f88f8cf-164a-4eb6-bbb7-cfbd7f9be02c",
   "metadata": {},
   "outputs": [],
   "source": [
    "folder_contents_0306 = os.listdir(prev_preprocessed_image_loc_0306)\n",
    "folder_contents_0306.sort()"
   ]
  },
  {
   "cell_type": "code",
   "execution_count": 111,
   "id": "19f6814c-0a7f-42a2-9e5f-e5012212a54a",
   "metadata": {},
   "outputs": [],
   "source": [
    "# folder_contents"
   ]
  },
  {
   "cell_type": "code",
   "execution_count": 112,
   "id": "8b7151c3-a358-481f-bbc0-1be7a58b9cc8",
   "metadata": {},
   "outputs": [
    {
     "data": {
      "text/plain": [
       "'Block0306_2020_08_03_0.npy'"
      ]
     },
     "execution_count": 112,
     "metadata": {},
     "output_type": "execute_result"
    }
   ],
   "source": [
    "folder_contents_0306[0]"
   ]
  },
  {
   "cell_type": "code",
   "execution_count": 113,
   "id": "567e8667-4f82-46f3-b83d-9e0c65b23280",
   "metadata": {},
   "outputs": [],
   "source": [
    "s_path_0306 = 'preprocessed_data/Block_0306/TS_ready_data_frames/'"
   ]
  },
  {
   "cell_type": "code",
   "execution_count": 114,
   "id": "3aef9866-54f4-4a3d-8f4f-b78fc4f8227f",
   "metadata": {},
   "outputs": [],
   "source": [
    "# get the predictions for all subimages for the block? do separately for single digit subimages and double digit subimages separately\n",
    "character_list = list(range(10))\n",
    "character_list = list(map(str, character_list))"
   ]
  },
  {
   "cell_type": "code",
   "execution_count": 115,
   "id": "f36972cc-bacc-40b8-a438-6c2dae0d4da5",
   "metadata": {},
   "outputs": [
    {
     "name": "stdout",
     "output_type": "stream",
     "text": [
      "Block0306_2020_08_03_0.npy\n",
      "1.0\n",
      "Block0306_2020_08_03_1.npy\n",
      "1.0\n",
      "Block0306_2020_08_03_2.npy\n",
      "1.0\n",
      "Block0306_2020_08_03_3.npy\n",
      "1.0\n",
      "Block0306_2020_08_03_4.npy\n",
      "1.0\n",
      "Block0306_2020_08_03_5.npy\n",
      "1.0\n",
      "Block0306_2020_08_03_6.npy\n",
      "1.0\n",
      "Block0306_2020_08_03_7.npy\n",
      "1.0\n",
      "Block0306_2020_08_03_8.npy\n",
      "1.0\n",
      "Block0306_2020_08_03_9.npy\n",
      "1.0\n",
      "CPU times: user 11.8 s, sys: 1.15 s, total: 12.9 s\n",
      "Wall time: 32.4 s\n"
     ]
    }
   ],
   "source": [
    "%%time\n",
    "\n",
    "# for single digit subwindows\n",
    "catch_all_dfs_0306 = []\n",
    "for character in character_list:\n",
    "    features_df = extract_features_and_get_counts(feature_extractor_model, prev_preprocessed_image_loc_0306, folder_contents_0306, 2, 10, character, s_path_0306)\n",
    "    catch_all_dfs_0306.append(features_df)"
   ]
  },
  {
   "cell_type": "code",
   "execution_count": 116,
   "id": "8c2001bb-a85c-4af6-9e61-0d13e89a2443",
   "metadata": {},
   "outputs": [],
   "source": [
    "# get the predictions for double digits\n",
    "character_list_double = list(range(10, 42))\n",
    "character_list_double = list(map(str, character_list_double))"
   ]
  },
  {
   "cell_type": "code",
   "execution_count": 117,
   "id": "963870f2-528d-4e38-9bb5-07c38b0326c1",
   "metadata": {},
   "outputs": [
    {
     "name": "stdout",
     "output_type": "stream",
     "text": [
      "Block0306_2020_08_03_10.npy\n",
      "1.0\n",
      "Block0306_2020_08_03_11.npy\n",
      "1.0\n",
      "Block0306_2020_08_03_12.npy\n",
      "1.0\n",
      "Block0306_2020_08_03_13.npy\n",
      "1.0\n",
      "Block0306_2020_08_03_14.npy\n",
      "1.0\n",
      "Block0306_2020_08_03_15.npy\n",
      "1.0\n",
      "Block0306_2020_08_03_16.npy\n",
      "1.0\n",
      "Block0306_2020_08_03_17.npy\n",
      "1.0\n",
      "Block0306_2020_08_03_18.npy\n",
      "1.0\n",
      "Block0306_2020_08_03_19.npy\n",
      "1.0\n",
      "Block0306_2020_08_03_20.npy\n",
      "1.0\n",
      "Block0306_2020_08_03_21.npy\n",
      "1.0\n",
      "Block0306_2020_08_03_22.npy\n",
      "1.0\n",
      "Block0306_2020_08_03_23.npy\n",
      "1.0\n",
      "Block0306_2020_08_03_24.npy\n",
      "1.0\n",
      "Block0306_2020_08_03_25.npy\n",
      "1.0\n",
      "Block0306_2020_08_03_26.npy\n",
      "1.0\n",
      "Block0306_2020_08_03_27.npy\n",
      "1.0\n",
      "Block0306_2020_08_03_28.npy\n",
      "1.0\n",
      "Block0306_2020_08_03_29.npy\n",
      "1.0\n",
      "Block0306_2020_08_03_30.npy\n",
      "1.0\n",
      "Block0306_2020_08_03_31.npy\n",
      "1.0\n",
      "Block0306_2020_08_03_32.npy\n",
      "1.0\n",
      "Block0306_2020_08_03_33.npy\n",
      "1.0\n",
      "Block0306_2020_08_03_34.npy\n",
      "1.0\n",
      "Block0306_2020_08_03_35.npy\n",
      "1.0\n",
      "Block0306_2020_08_03_36.npy\n",
      "1.0\n",
      "Block0306_2020_08_03_37.npy\n",
      "1.0\n",
      "Block0306_2020_08_03_38.npy\n",
      "1.0\n",
      "Block0306_2020_08_03_39.npy\n",
      "1.0\n",
      "Block0306_2020_08_03_40.npy\n",
      "1.0\n",
      "Block0306_2020_08_03_41.npy\n",
      "1.0\n",
      "CPU times: user 36.5 s, sys: 3.54 s, total: 40 s\n",
      "Wall time: 1min 35s\n"
     ]
    }
   ],
   "source": [
    "%%time\n",
    "\n",
    "# for double digit subwindows\n",
    "catch_all_dfs_0306 = []\n",
    "for character in character_list_double:\n",
    "    features_df = extract_features_and_get_counts(feature_extractor_model, prev_preprocessed_image_loc_0306, folder_contents_0306, 3, 11, character, s_path_0306)\n",
    "    catch_all_dfs_0306.append(features_df)"
   ]
  }
 ],
 "metadata": {
  "kernelspec": {
   "display_name": "Python (tfp_for_TN)",
   "language": "python",
   "name": "tfp_for_tn"
  },
  "language_info": {
   "codemirror_mode": {
    "name": "ipython",
    "version": 3
   },
   "file_extension": ".py",
   "mimetype": "text/x-python",
   "name": "python",
   "nbconvert_exporter": "python",
   "pygments_lexer": "ipython3",
   "version": "3.10.14"
  }
 },
 "nbformat": 4,
 "nbformat_minor": 5
}
