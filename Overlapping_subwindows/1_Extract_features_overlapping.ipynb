{
 "cells": [
  {
   "cell_type": "code",
   "execution_count": 1,
   "id": "744f1e62-9409-4432-bbaf-86d8e8e1e697",
   "metadata": {},
   "outputs": [
    {
     "name": "stderr",
     "output_type": "stream",
     "text": [
      "2024-07-25 17:04:36.969608: I tensorflow/core/util/port.cc:113] oneDNN custom operations are on. You may see slightly different numerical results due to floating-point round-off errors from different computation orders. To turn them off, set the environment variable `TF_ENABLE_ONEDNN_OPTS=0`.\n",
      "2024-07-25 17:04:37.360699: E external/local_xla/xla/stream_executor/cuda/cuda_dnn.cc:9261] Unable to register cuDNN factory: Attempting to register factory for plugin cuDNN when one has already been registered\n",
      "2024-07-25 17:04:37.360756: E external/local_xla/xla/stream_executor/cuda/cuda_fft.cc:607] Unable to register cuFFT factory: Attempting to register factory for plugin cuFFT when one has already been registered\n",
      "2024-07-25 17:04:37.449696: E external/local_xla/xla/stream_executor/cuda/cuda_blas.cc:1515] Unable to register cuBLAS factory: Attempting to register factory for plugin cuBLAS when one has already been registered\n",
      "2024-07-25 17:04:37.575126: I tensorflow/core/platform/cpu_feature_guard.cc:182] This TensorFlow binary is optimized to use available CPU instructions in performance-critical operations.\n",
      "To enable the following instructions: SSE4.1 SSE4.2 AVX AVX2 AVX512F AVX512_VNNI FMA, in other operations, rebuild TensorFlow with the appropriate compiler flags.\n"
     ]
    }
   ],
   "source": [
    "import tensorflow as tf\n",
    "import numpy as np\n",
    "import pandas as pd\n",
    "import matplotlib.pyplot as plt\n",
    "import os"
   ]
  },
  {
   "cell_type": "code",
   "execution_count": 2,
   "id": "6dc290f0-0905-4b4c-9d4b-29130bda116e",
   "metadata": {},
   "outputs": [],
   "source": [
    "# load the trained model\n",
    "gmp_model = tf.keras.models.load_model('../models/trained_gmp_model_dense_32_new.h5')"
   ]
  },
  {
   "cell_type": "code",
   "execution_count": 3,
   "id": "9d4d6da8-e696-443d-83a5-d152a8006f2d",
   "metadata": {},
   "outputs": [
    {
     "name": "stdout",
     "output_type": "stream",
     "text": [
      "Model: \"model_1\"\n",
      "_________________________________________________________________\n",
      " Layer (type)                Output Shape              Param #   \n",
      "=================================================================\n",
      " input_1 (InputLayer)        [(None, None, None, 3)]   0         \n",
      "                                                                 \n",
      " conv2d (Conv2D)             (None, None, None, 32)    896       \n",
      "                                                                 \n",
      " activation (Activation)     (None, None, None, 32)    0         \n",
      "                                                                 \n",
      " conv2d_1 (Conv2D)           (None, None, None, 32)    9248      \n",
      "                                                                 \n",
      " activation_1 (Activation)   (None, None, None, 32)    0         \n",
      "                                                                 \n",
      " max_pooling2d (MaxPooling2  (None, None, None, 32)    0         \n",
      " D)                                                              \n",
      "                                                                 \n",
      " dropout (Dropout)           (None, None, None, 32)    0         \n",
      "                                                                 \n",
      " conv2d_2 (Conv2D)           (None, None, None, 64)    18496     \n",
      "                                                                 \n",
      " activation_2 (Activation)   (None, None, None, 64)    0         \n",
      "                                                                 \n",
      " conv2d_3 (Conv2D)           (None, None, None, 64)    36928     \n",
      "                                                                 \n",
      " activation_3 (Activation)   (None, None, None, 64)    0         \n",
      "                                                                 \n",
      " max_pooling2d_1 (MaxPoolin  (None, None, None, 64)    0         \n",
      " g2D)                                                            \n",
      "                                                                 \n",
      " New_dropout_0 (Dropout)     (None, None, None, 64)    0         \n",
      "                                                                 \n",
      " global_max_pooling2d (Glob  (None, 64)                0         \n",
      " alMaxPooling2D)                                                 \n",
      "                                                                 \n",
      " New_Dense_0 (Dense)         (None, 64)                4160      \n",
      "                                                                 \n",
      " New_Activation_0 (Activati  (None, 64)                0         \n",
      " on)                                                             \n",
      "                                                                 \n",
      " New_dropout_1 (Dropout)     (None, 64)                0         \n",
      "                                                                 \n",
      " New_Dense_1 (Dense)         (None, 32)                2080      \n",
      "                                                                 \n",
      " New_Activation_1 (Activati  (None, 32)                0         \n",
      " on)                                                             \n",
      "                                                                 \n",
      " New_dropout_2 (Dropout)     (None, 32)                0         \n",
      "                                                                 \n",
      " New_Dense_2 (Dense)         (None, 1)                 33        \n",
      "                                                                 \n",
      " New_Activation_2 (Activati  (None, 1)                 0         \n",
      " on)                                                             \n",
      "                                                                 \n",
      "=================================================================\n",
      "Total params: 71841 (280.63 KB)\n",
      "Trainable params: 43201 (168.75 KB)\n",
      "Non-trainable params: 28640 (111.88 KB)\n",
      "_________________________________________________________________\n"
     ]
    }
   ],
   "source": [
    "gmp_model.summary()"
   ]
  },
  {
   "cell_type": "code",
   "execution_count": 4,
   "id": "e197dafe-9004-4643-ac72-c80fd8f3e0d3",
   "metadata": {},
   "outputs": [],
   "source": [
    "# This model does not have a Dense layer that can be used to extract features that can be used in a downstream bayesian TS model. So another model was retrained - trained_gmp_model_dense_32.h5"
   ]
  },
  {
   "cell_type": "code",
   "execution_count": 5,
   "id": "1b31ef8d-bc4f-4520-b83a-b079ebef0620",
   "metadata": {},
   "outputs": [],
   "source": [
    "# feature extractor input\n",
    "feat_ext_input = gmp_model.input"
   ]
  },
  {
   "cell_type": "code",
   "execution_count": 6,
   "id": "831255f5-b7a0-4a4a-aef0-eebeb5d09564",
   "metadata": {},
   "outputs": [],
   "source": [
    "# feature extractor output - do this at the ReLu activation layer - as this will give the same features as the dropout layer (It does not matter if it is the dropout or the activation layer, the extracted features will be the same)\n",
    "feat_ext_output = gmp_model.layers[-4].output"
   ]
  },
  {
   "cell_type": "code",
   "execution_count": 7,
   "id": "16d372bc-01b8-4245-a49c-695d633f06fe",
   "metadata": {},
   "outputs": [],
   "source": [
    "feature_extractor_model = tf.keras.models.Model(inputs = feat_ext_input, outputs = feat_ext_output)"
   ]
  },
  {
   "cell_type": "code",
   "execution_count": 8,
   "id": "7a8524a1-1f6b-4886-8963-6d8c27b2cad1",
   "metadata": {},
   "outputs": [
    {
     "name": "stdout",
     "output_type": "stream",
     "text": [
      "Model: \"model\"\n",
      "_________________________________________________________________\n",
      " Layer (type)                Output Shape              Param #   \n",
      "=================================================================\n",
      " input_1 (InputLayer)        [(None, None, None, 3)]   0         \n",
      "                                                                 \n",
      " conv2d (Conv2D)             (None, None, None, 32)    896       \n",
      "                                                                 \n",
      " activation (Activation)     (None, None, None, 32)    0         \n",
      "                                                                 \n",
      " conv2d_1 (Conv2D)           (None, None, None, 32)    9248      \n",
      "                                                                 \n",
      " activation_1 (Activation)   (None, None, None, 32)    0         \n",
      "                                                                 \n",
      " max_pooling2d (MaxPooling2  (None, None, None, 32)    0         \n",
      " D)                                                              \n",
      "                                                                 \n",
      " dropout (Dropout)           (None, None, None, 32)    0         \n",
      "                                                                 \n",
      " conv2d_2 (Conv2D)           (None, None, None, 64)    18496     \n",
      "                                                                 \n",
      " activation_2 (Activation)   (None, None, None, 64)    0         \n",
      "                                                                 \n",
      " conv2d_3 (Conv2D)           (None, None, None, 64)    36928     \n",
      "                                                                 \n",
      " activation_3 (Activation)   (None, None, None, 64)    0         \n",
      "                                                                 \n",
      " max_pooling2d_1 (MaxPoolin  (None, None, None, 64)    0         \n",
      " g2D)                                                            \n",
      "                                                                 \n",
      " New_dropout_0 (Dropout)     (None, None, None, 64)    0         \n",
      "                                                                 \n",
      " global_max_pooling2d (Glob  (None, 64)                0         \n",
      " alMaxPooling2D)                                                 \n",
      "                                                                 \n",
      " New_Dense_0 (Dense)         (None, 64)                4160      \n",
      "                                                                 \n",
      " New_Activation_0 (Activati  (None, 64)                0         \n",
      " on)                                                             \n",
      "                                                                 \n",
      " New_dropout_1 (Dropout)     (None, 64)                0         \n",
      "                                                                 \n",
      " New_Dense_1 (Dense)         (None, 32)                2080      \n",
      "                                                                 \n",
      " New_Activation_1 (Activati  (None, 32)                0         \n",
      " on)                                                             \n",
      "                                                                 \n",
      "=================================================================\n",
      "Total params: 71808 (280.50 KB)\n",
      "Trainable params: 43168 (168.62 KB)\n",
      "Non-trainable params: 28640 (111.88 KB)\n",
      "_________________________________________________________________\n"
     ]
    }
   ],
   "source": [
    "feature_extractor_model.summary()"
   ]
  },
  {
   "cell_type": "code",
   "execution_count": 9,
   "id": "c5337a30-8ae6-444a-92de-cab12ad4be61",
   "metadata": {},
   "outputs": [],
   "source": [
    "# We might need to be cautious here though, as dropout will set some neurons to 0, and the extracted features will therefore become zero - workaround - use the Dense layer to extract features before the pred head (and the dropout layer)"
   ]
  },
  {
   "cell_type": "markdown",
   "id": "f14019cf-27e4-4e58-badb-feef8761fe0a",
   "metadata": {},
   "source": [
    "Locate the previously preprocessed data"
   ]
  },
  {
   "cell_type": "code",
   "execution_count": null,
   "id": "03693381-ac05-4209-a788-0a28cef8b4d2",
   "metadata": {},
   "outputs": [],
   "source": [
    "# We currently have just a single block - 0103"
   ]
  },
  {
   "cell_type": "code",
   "execution_count": 10,
   "id": "f29174c3-be6c-4671-912c-e25ec240806c",
   "metadata": {},
   "outputs": [],
   "source": [
    "prev_preprocessed_image_loc = \"preprocessed_data/Block_0103/sub_images_and_counts\""
   ]
  },
  {
   "cell_type": "code",
   "execution_count": 11,
   "id": "26b122a5-0e23-4643-8599-17aec50443ee",
   "metadata": {},
   "outputs": [],
   "source": [
    "folder_contents = os.listdir(prev_preprocessed_image_loc)\n",
    "folder_contents.sort()"
   ]
  },
  {
   "cell_type": "code",
   "execution_count": 14,
   "id": "b54689e1-6a22-4cd3-b553-892c1ab41df8",
   "metadata": {},
   "outputs": [
    {
     "data": {
      "text/plain": [
       "20.0"
      ]
     },
     "execution_count": 14,
     "metadata": {},
     "output_type": "execute_result"
    }
   ],
   "source": [
    "len(folder_contents)/(2*42)"
   ]
  },
  {
   "cell_type": "code",
   "execution_count": 15,
   "id": "73f1415d-0e99-4bd5-beb7-33b1e2d4409a",
   "metadata": {},
   "outputs": [
    {
     "data": {
      "text/plain": [
       "'Block0103_2020_08_03_0.npy'"
      ]
     },
     "execution_count": 15,
     "metadata": {},
     "output_type": "execute_result"
    }
   ],
   "source": [
    "folder_contents[0]"
   ]
  },
  {
   "cell_type": "code",
   "execution_count": 16,
   "id": "c9d175a6-17d3-4b27-97d4-9557f0551be8",
   "metadata": {},
   "outputs": [
    {
     "data": {
      "text/plain": [
       "(300, 300, 3)"
      ]
     },
     "execution_count": 16,
     "metadata": {},
     "output_type": "execute_result"
    }
   ],
   "source": [
    "try_fold = np.load(os.path.join(prev_preprocessed_image_loc, folder_contents[0]))\n",
    "try_fold.shape"
   ]
  },
  {
   "cell_type": "code",
   "execution_count": 17,
   "id": "c9b9407f-022e-4e44-b071-e3e808cfc37a",
   "metadata": {},
   "outputs": [],
   "source": [
    "try_fold = try_fold[None,  ...]"
   ]
  },
  {
   "cell_type": "code",
   "execution_count": 18,
   "id": "4e13795b-7ae5-45bf-8b8a-2bc7894cbaed",
   "metadata": {},
   "outputs": [
    {
     "name": "stdout",
     "output_type": "stream",
     "text": [
      "1/1 [==============================] - 1s 1s/step\n"
     ]
    }
   ],
   "source": [
    "# see if the model gives predictions\n",
    "pred_feats_try = feature_extractor_model.predict(try_fold)"
   ]
  },
  {
   "cell_type": "code",
   "execution_count": 19,
   "id": "971bdad2-ccf1-46f2-a23c-c7470f1ab56b",
   "metadata": {},
   "outputs": [
    {
     "data": {
      "text/plain": [
       "(1, 32)"
      ]
     },
     "execution_count": 19,
     "metadata": {},
     "output_type": "execute_result"
    }
   ],
   "source": [
    "pred_feats_try.shape"
   ]
  },
  {
   "cell_type": "code",
   "execution_count": 20,
   "id": "d47f3cb4-a143-4059-ba0c-032146aa2d10",
   "metadata": {},
   "outputs": [
    {
     "data": {
      "text/plain": [
       "array([[0.        , 0.        , 0.10059829, 0.        , 0.07901739,\n",
       "        0.        , 0.        , 0.        , 0.03111666, 0.08963891,\n",
       "        0.        , 0.        , 0.10756761, 0.        , 0.14078055,\n",
       "        0.        , 0.03288436, 0.        , 0.        , 0.        ,\n",
       "        0.        , 0.        , 0.09947655, 0.11643489, 0.        ,\n",
       "        0.03223062, 0.        , 0.06246001, 0.07843385, 0.        ,\n",
       "        0.        , 0.        ]], dtype=float32)"
      ]
     },
     "execution_count": 20,
     "metadata": {},
     "output_type": "execute_result"
    }
   ],
   "source": [
    "pred_feats_try"
   ]
  },
  {
   "cell_type": "code",
   "execution_count": null,
   "id": "294b1c6d-8851-432e-81cd-a51c7b713a51",
   "metadata": {},
   "outputs": [],
   "source": [
    "# may need to write a function that does feature extraction as well as get the respective density values for each subwindow - this may have to be carried manually to each sub window, but is there a way to automate this? Think on this"
   ]
  },
  {
   "cell_type": "code",
   "execution_count": 25,
   "id": "fad7c926-8c7d-4699-a49a-43d788127e1c",
   "metadata": {},
   "outputs": [],
   "source": [
    "# sub 10\n",
    "digits_im = 3\n",
    "digits_d = 11\n",
    "character = '10'\n",
    "sub_10_images = [item for item in folder_contents if item.split(\".\")[0][-digits_im:] == ('_' + character)]\n",
    "sub_10_dense_maps = [item for item in folder_contents if item.split(\".\")[0][-digits_d:] == ('_' + character + '_density')]"
   ]
  },
  {
   "cell_type": "code",
   "execution_count": 28,
   "id": "2d45b577-3405-4faf-8215-dae033a8bf2b",
   "metadata": {},
   "outputs": [
    {
     "data": {
      "text/plain": [
       "20"
      ]
     },
     "execution_count": 28,
     "metadata": {},
     "output_type": "execute_result"
    }
   ],
   "source": [
    "len(sub_10_images)"
   ]
  },
  {
   "cell_type": "code",
   "execution_count": 30,
   "id": "a3358276-457d-4056-a042-6c501fa6c809",
   "metadata": {},
   "outputs": [
    {
     "data": {
      "text/plain": [
       "20"
      ]
     },
     "execution_count": 30,
     "metadata": {},
     "output_type": "execute_result"
    }
   ],
   "source": [
    "len(sub_10_dense_maps)"
   ]
  },
  {
   "cell_type": "code",
   "execution_count": 31,
   "id": "93712b03-8d13-48b5-8bca-ded9baac7899",
   "metadata": {},
   "outputs": [
    {
     "name": "stdout",
     "output_type": "stream",
     "text": [
      "1/1 [==============================] - 0s 24ms/step\n",
      "1/1 [==============================] - 0s 22ms/step\n",
      "1/1 [==============================] - 0s 21ms/step\n",
      "1/1 [==============================] - 0s 21ms/step\n",
      "1/1 [==============================] - 0s 21ms/step\n",
      "1/1 [==============================] - 0s 21ms/step\n",
      "1/1 [==============================] - 0s 21ms/step\n",
      "1/1 [==============================] - 0s 20ms/step\n",
      "1/1 [==============================] - 0s 21ms/step\n",
      "1/1 [==============================] - 0s 20ms/step\n",
      "1/1 [==============================] - 0s 21ms/step\n",
      "1/1 [==============================] - 0s 22ms/step\n",
      "1/1 [==============================] - 0s 20ms/step\n",
      "1/1 [==============================] - 0s 21ms/step\n",
      "1/1 [==============================] - 0s 20ms/step\n",
      "1/1 [==============================] - 0s 20ms/step\n",
      "1/1 [==============================] - 0s 20ms/step\n",
      "1/1 [==============================] - 0s 22ms/step\n",
      "1/1 [==============================] - 0s 20ms/step\n",
      "1/1 [==============================] - 0s 20ms/step\n"
     ]
    }
   ],
   "source": [
    "all_preds = []\n",
    "all_densitites = []\n",
    "for i in range(len(sub_10_images)):\n",
    "    # load the subimage\n",
    "    load_image = np.load(os.path.join(prev_preprocessed_image_loc, sub_10_images[i]))\n",
    "    # reshape it to get the prediction\n",
    "    load_image_reshape = load_image[None, ...]\n",
    "    # get the prediction from the model\n",
    "    extracted_features = feature_extractor_model.predict(load_image_reshape)\n",
    "    all_preds.append(extracted_features)\n",
    "\n",
    "    # load the count map\n",
    "    load_count_map = np.load(os.path.join(prev_preprocessed_image_loc, sub_10_dense_maps[i]))\n",
    "    count = np.sum(load_count_map)\n",
    "    all_densitites.append(count)"
   ]
  },
  {
   "cell_type": "code",
   "execution_count": 32,
   "id": "8828ada5-4ea2-4861-a475-ed6562dc3b88",
   "metadata": {},
   "outputs": [
    {
     "data": {
      "text/plain": [
       "20"
      ]
     },
     "execution_count": 32,
     "metadata": {},
     "output_type": "execute_result"
    }
   ],
   "source": [
    "len(all_preds)"
   ]
  },
  {
   "cell_type": "code",
   "execution_count": 35,
   "id": "6eaf510b-b638-4d3f-a229-c57fb6dece34",
   "metadata": {},
   "outputs": [],
   "source": [
    "def extract_features_and_get_counts(model, preprocessed_path, all_in_folder, digits_image, digits_dense, character, store_path):\n",
    "    necessary_sub_images = [item for item in all_in_folder if item.split(\".\")[0][-digits_image:] == ('_' + character)]\n",
    "    necessary_sub_images.sort()\n",
    "    necessary_sub_dense_maps = [item for item in all_in_folder if item.split(\".\")[0][-digits_dense:] == ('_' + character + '_density')]\n",
    "    necessary_sub_dense_maps.sort()\n",
    "    print(necessary_sub_images[0])\n",
    "    # check if the image and density maps tally\n",
    "    print(np.mean([item.split('.')[0] for item in necessary_sub_images] == [item.split(\".\")[0][:-8] for item in necessary_sub_dense_maps]))\n",
    "    \n",
    "    collect_extracted_features = []\n",
    "    collect_corresponding_counts = []\n",
    "\n",
    "    # collect the subwindow-wise features and corresponding counts\n",
    "    for i in range(len(necessary_sub_images)):\n",
    "        # load the subimage\n",
    "        load_image = np.load(os.path.join(preprocessed_path, necessary_sub_images[i]))\n",
    "        # reshape it to get the prediction\n",
    "        load_image_reshape = load_image[None, ...]\n",
    "        # get the prediction from the model\n",
    "        extracted_features = model.predict(load_image_reshape, verbose = 0)\n",
    "        collect_extracted_features.append(extracted_features)\n",
    "\n",
    "        # load the count map\n",
    "        load_count_map = np.load(os.path.join(preprocessed_path, necessary_sub_dense_maps[i]))\n",
    "        count = np.sum(load_count_map)\n",
    "        collect_corresponding_counts.append(count)\n",
    "\n",
    "    # collect all extracted features data and create a dataframe\n",
    "    Features_data = pd.DataFrame(np.vstack(collect_extracted_features), columns = ['feature_' + str(i) for i in range(np.vstack(collect_extracted_features).shape[1])])\n",
    "    # dataframe for counts\n",
    "    counts_subwindow = pd.DataFrame(collect_corresponding_counts, columns = ['tassel_count'])\n",
    "    # combine the two dataframes\n",
    "    combined_df = pd.concat((Features_data,counts_subwindow), axis = 1 )\n",
    "    # save this dataframe\n",
    "    save_path_name = store_path + 'extracted_features_sub_window_' + character + '.csv'\n",
    "    combined_df.to_csv(save_path_name, index = False)\n",
    "\n",
    "    return(combined_df)"
   ]
  },
  {
   "cell_type": "code",
   "execution_count": 36,
   "id": "a60e32d8-b13e-40e1-ae61-f7eca08e2c1f",
   "metadata": {},
   "outputs": [],
   "source": [
    "s_path = 'preprocessed_data/Block_0103/TS_ready_data_frames/'"
   ]
  },
  {
   "cell_type": "code",
   "execution_count": 37,
   "id": "882de0e0-0466-44a2-8d16-e612af1c7919",
   "metadata": {},
   "outputs": [
    {
     "name": "stdout",
     "output_type": "stream",
     "text": [
      "Block0103_2020_08_03_1.npy\n",
      "1.0\n"
     ]
    }
   ],
   "source": [
    "# try the function\n",
    "hello_1 = extract_features_and_get_counts(feature_extractor_model, prev_preprocessed_image_loc, folder_contents, 2, 10, '1', s_path)"
   ]
  },
  {
   "cell_type": "code",
   "execution_count": 38,
   "id": "a2582a5e-f6c0-4529-900d-a57591600ca4",
   "metadata": {},
   "outputs": [
    {
     "data": {
      "text/html": [
       "<div>\n",
       "<style scoped>\n",
       "    .dataframe tbody tr th:only-of-type {\n",
       "        vertical-align: middle;\n",
       "    }\n",
       "\n",
       "    .dataframe tbody tr th {\n",
       "        vertical-align: top;\n",
       "    }\n",
       "\n",
       "    .dataframe thead th {\n",
       "        text-align: right;\n",
       "    }\n",
       "</style>\n",
       "<table border=\"1\" class=\"dataframe\">\n",
       "  <thead>\n",
       "    <tr style=\"text-align: right;\">\n",
       "      <th></th>\n",
       "      <th>feature_0</th>\n",
       "      <th>feature_1</th>\n",
       "      <th>feature_2</th>\n",
       "      <th>feature_3</th>\n",
       "      <th>feature_4</th>\n",
       "      <th>feature_5</th>\n",
       "      <th>feature_6</th>\n",
       "      <th>feature_7</th>\n",
       "      <th>feature_8</th>\n",
       "      <th>feature_9</th>\n",
       "      <th>...</th>\n",
       "      <th>feature_23</th>\n",
       "      <th>feature_24</th>\n",
       "      <th>feature_25</th>\n",
       "      <th>feature_26</th>\n",
       "      <th>feature_27</th>\n",
       "      <th>feature_28</th>\n",
       "      <th>feature_29</th>\n",
       "      <th>feature_30</th>\n",
       "      <th>feature_31</th>\n",
       "      <th>tassel_count</th>\n",
       "    </tr>\n",
       "  </thead>\n",
       "  <tbody>\n",
       "    <tr>\n",
       "      <th>0</th>\n",
       "      <td>0.031226</td>\n",
       "      <td>0.093601</td>\n",
       "      <td>0.166660</td>\n",
       "      <td>0.005055</td>\n",
       "      <td>0.138135</td>\n",
       "      <td>0.0</td>\n",
       "      <td>0.0</td>\n",
       "      <td>0.0</td>\n",
       "      <td>0.108620</td>\n",
       "      <td>0.153721</td>\n",
       "      <td>...</td>\n",
       "      <td>0.186676</td>\n",
       "      <td>0.0</td>\n",
       "      <td>0.109686</td>\n",
       "      <td>0.0</td>\n",
       "      <td>0.142898</td>\n",
       "      <td>0.145159</td>\n",
       "      <td>0.0</td>\n",
       "      <td>0.0</td>\n",
       "      <td>0.000000</td>\n",
       "      <td>6.119189</td>\n",
       "    </tr>\n",
       "    <tr>\n",
       "      <th>1</th>\n",
       "      <td>0.006039</td>\n",
       "      <td>0.075339</td>\n",
       "      <td>0.177254</td>\n",
       "      <td>0.027024</td>\n",
       "      <td>0.134824</td>\n",
       "      <td>0.0</td>\n",
       "      <td>0.0</td>\n",
       "      <td>0.0</td>\n",
       "      <td>0.092583</td>\n",
       "      <td>0.163522</td>\n",
       "      <td>...</td>\n",
       "      <td>0.197102</td>\n",
       "      <td>0.0</td>\n",
       "      <td>0.109875</td>\n",
       "      <td>0.0</td>\n",
       "      <td>0.174644</td>\n",
       "      <td>0.155566</td>\n",
       "      <td>0.0</td>\n",
       "      <td>0.0</td>\n",
       "      <td>0.000000</td>\n",
       "      <td>6.499740</td>\n",
       "    </tr>\n",
       "    <tr>\n",
       "      <th>2</th>\n",
       "      <td>0.100629</td>\n",
       "      <td>0.149711</td>\n",
       "      <td>0.200657</td>\n",
       "      <td>0.078055</td>\n",
       "      <td>0.177551</td>\n",
       "      <td>0.0</td>\n",
       "      <td>0.0</td>\n",
       "      <td>0.0</td>\n",
       "      <td>0.156143</td>\n",
       "      <td>0.191151</td>\n",
       "      <td>...</td>\n",
       "      <td>0.234681</td>\n",
       "      <td>0.0</td>\n",
       "      <td>0.148043</td>\n",
       "      <td>0.0</td>\n",
       "      <td>0.176578</td>\n",
       "      <td>0.180028</td>\n",
       "      <td>0.0</td>\n",
       "      <td>0.0</td>\n",
       "      <td>0.040560</td>\n",
       "      <td>8.005755</td>\n",
       "    </tr>\n",
       "    <tr>\n",
       "      <th>3</th>\n",
       "      <td>0.124286</td>\n",
       "      <td>0.169779</td>\n",
       "      <td>0.243148</td>\n",
       "      <td>0.114587</td>\n",
       "      <td>0.223154</td>\n",
       "      <td>0.0</td>\n",
       "      <td>0.0</td>\n",
       "      <td>0.0</td>\n",
       "      <td>0.186565</td>\n",
       "      <td>0.234492</td>\n",
       "      <td>...</td>\n",
       "      <td>0.277311</td>\n",
       "      <td>0.0</td>\n",
       "      <td>0.192365</td>\n",
       "      <td>0.0</td>\n",
       "      <td>0.227407</td>\n",
       "      <td>0.213771</td>\n",
       "      <td>0.0</td>\n",
       "      <td>0.0</td>\n",
       "      <td>0.083839</td>\n",
       "      <td>9.803773</td>\n",
       "    </tr>\n",
       "    <tr>\n",
       "      <th>4</th>\n",
       "      <td>0.023037</td>\n",
       "      <td>0.094766</td>\n",
       "      <td>0.189089</td>\n",
       "      <td>0.040155</td>\n",
       "      <td>0.165265</td>\n",
       "      <td>0.0</td>\n",
       "      <td>0.0</td>\n",
       "      <td>0.0</td>\n",
       "      <td>0.126992</td>\n",
       "      <td>0.177692</td>\n",
       "      <td>...</td>\n",
       "      <td>0.226524</td>\n",
       "      <td>0.0</td>\n",
       "      <td>0.132325</td>\n",
       "      <td>0.0</td>\n",
       "      <td>0.191863</td>\n",
       "      <td>0.170676</td>\n",
       "      <td>0.0</td>\n",
       "      <td>0.0</td>\n",
       "      <td>0.000000</td>\n",
       "      <td>6.999814</td>\n",
       "    </tr>\n",
       "  </tbody>\n",
       "</table>\n",
       "<p>5 rows × 33 columns</p>\n",
       "</div>"
      ],
      "text/plain": [
       "   feature_0  feature_1  feature_2  feature_3  feature_4  feature_5  \\\n",
       "0   0.031226   0.093601   0.166660   0.005055   0.138135        0.0   \n",
       "1   0.006039   0.075339   0.177254   0.027024   0.134824        0.0   \n",
       "2   0.100629   0.149711   0.200657   0.078055   0.177551        0.0   \n",
       "3   0.124286   0.169779   0.243148   0.114587   0.223154        0.0   \n",
       "4   0.023037   0.094766   0.189089   0.040155   0.165265        0.0   \n",
       "\n",
       "   feature_6  feature_7  feature_8  feature_9  ...  feature_23  feature_24  \\\n",
       "0        0.0        0.0   0.108620   0.153721  ...    0.186676         0.0   \n",
       "1        0.0        0.0   0.092583   0.163522  ...    0.197102         0.0   \n",
       "2        0.0        0.0   0.156143   0.191151  ...    0.234681         0.0   \n",
       "3        0.0        0.0   0.186565   0.234492  ...    0.277311         0.0   \n",
       "4        0.0        0.0   0.126992   0.177692  ...    0.226524         0.0   \n",
       "\n",
       "   feature_25  feature_26  feature_27  feature_28  feature_29  feature_30  \\\n",
       "0    0.109686         0.0    0.142898    0.145159         0.0         0.0   \n",
       "1    0.109875         0.0    0.174644    0.155566         0.0         0.0   \n",
       "2    0.148043         0.0    0.176578    0.180028         0.0         0.0   \n",
       "3    0.192365         0.0    0.227407    0.213771         0.0         0.0   \n",
       "4    0.132325         0.0    0.191863    0.170676         0.0         0.0   \n",
       "\n",
       "   feature_31  tassel_count  \n",
       "0    0.000000      6.119189  \n",
       "1    0.000000      6.499740  \n",
       "2    0.040560      8.005755  \n",
       "3    0.083839      9.803773  \n",
       "4    0.000000      6.999814  \n",
       "\n",
       "[5 rows x 33 columns]"
      ]
     },
     "execution_count": 38,
     "metadata": {},
     "output_type": "execute_result"
    }
   ],
   "source": [
    "hello_1.head()"
   ]
  },
  {
   "cell_type": "code",
   "execution_count": 39,
   "id": "1ee19802-0648-4055-a8a8-0024b05684c3",
   "metadata": {},
   "outputs": [
    {
     "name": "stdout",
     "output_type": "stream",
     "text": [
      "Block0103_2020_08_03_2.npy\n",
      "1.0\n"
     ]
    }
   ],
   "source": [
    "# try the function for another character\n",
    "hello_2 = extract_features_and_get_counts(feature_extractor_model, prev_preprocessed_image_loc, folder_contents, 2, 10, '2', s_path)"
   ]
  },
  {
   "cell_type": "code",
   "execution_count": 40,
   "id": "191d6e43-5312-4421-9381-103097b07e91",
   "metadata": {},
   "outputs": [
    {
     "data": {
      "text/html": [
       "<div>\n",
       "<style scoped>\n",
       "    .dataframe tbody tr th:only-of-type {\n",
       "        vertical-align: middle;\n",
       "    }\n",
       "\n",
       "    .dataframe tbody tr th {\n",
       "        vertical-align: top;\n",
       "    }\n",
       "\n",
       "    .dataframe thead th {\n",
       "        text-align: right;\n",
       "    }\n",
       "</style>\n",
       "<table border=\"1\" class=\"dataframe\">\n",
       "  <thead>\n",
       "    <tr style=\"text-align: right;\">\n",
       "      <th></th>\n",
       "      <th>feature_0</th>\n",
       "      <th>feature_1</th>\n",
       "      <th>feature_2</th>\n",
       "      <th>feature_3</th>\n",
       "      <th>feature_4</th>\n",
       "      <th>feature_5</th>\n",
       "      <th>feature_6</th>\n",
       "      <th>feature_7</th>\n",
       "      <th>feature_8</th>\n",
       "      <th>feature_9</th>\n",
       "      <th>...</th>\n",
       "      <th>feature_23</th>\n",
       "      <th>feature_24</th>\n",
       "      <th>feature_25</th>\n",
       "      <th>feature_26</th>\n",
       "      <th>feature_27</th>\n",
       "      <th>feature_28</th>\n",
       "      <th>feature_29</th>\n",
       "      <th>feature_30</th>\n",
       "      <th>feature_31</th>\n",
       "      <th>tassel_count</th>\n",
       "    </tr>\n",
       "  </thead>\n",
       "  <tbody>\n",
       "    <tr>\n",
       "      <th>0</th>\n",
       "      <td>0.000000</td>\n",
       "      <td>0.000000</td>\n",
       "      <td>0.078899</td>\n",
       "      <td>0.000000</td>\n",
       "      <td>0.036574</td>\n",
       "      <td>0.016471</td>\n",
       "      <td>0.0</td>\n",
       "      <td>0.021107</td>\n",
       "      <td>0.000000</td>\n",
       "      <td>0.051425</td>\n",
       "      <td>...</td>\n",
       "      <td>0.076175</td>\n",
       "      <td>0.014197</td>\n",
       "      <td>0.000000</td>\n",
       "      <td>0.028712</td>\n",
       "      <td>0.026997</td>\n",
       "      <td>0.059702</td>\n",
       "      <td>0.012823</td>\n",
       "      <td>0.007846</td>\n",
       "      <td>0.000000</td>\n",
       "      <td>5.008098</td>\n",
       "    </tr>\n",
       "    <tr>\n",
       "      <th>1</th>\n",
       "      <td>0.000000</td>\n",
       "      <td>0.028107</td>\n",
       "      <td>0.142465</td>\n",
       "      <td>0.000000</td>\n",
       "      <td>0.093712</td>\n",
       "      <td>0.000000</td>\n",
       "      <td>0.0</td>\n",
       "      <td>0.000000</td>\n",
       "      <td>0.050947</td>\n",
       "      <td>0.122917</td>\n",
       "      <td>...</td>\n",
       "      <td>0.163311</td>\n",
       "      <td>0.000000</td>\n",
       "      <td>0.060314</td>\n",
       "      <td>0.000000</td>\n",
       "      <td>0.129855</td>\n",
       "      <td>0.121143</td>\n",
       "      <td>0.000000</td>\n",
       "      <td>0.000000</td>\n",
       "      <td>0.000000</td>\n",
       "      <td>4.656012</td>\n",
       "    </tr>\n",
       "    <tr>\n",
       "      <th>2</th>\n",
       "      <td>0.086968</td>\n",
       "      <td>0.141667</td>\n",
       "      <td>0.197355</td>\n",
       "      <td>0.048163</td>\n",
       "      <td>0.174495</td>\n",
       "      <td>0.000000</td>\n",
       "      <td>0.0</td>\n",
       "      <td>0.000000</td>\n",
       "      <td>0.149600</td>\n",
       "      <td>0.186943</td>\n",
       "      <td>...</td>\n",
       "      <td>0.227410</td>\n",
       "      <td>0.000000</td>\n",
       "      <td>0.141835</td>\n",
       "      <td>0.000000</td>\n",
       "      <td>0.169448</td>\n",
       "      <td>0.173595</td>\n",
       "      <td>0.000000</td>\n",
       "      <td>0.000000</td>\n",
       "      <td>0.002625</td>\n",
       "      <td>4.942209</td>\n",
       "    </tr>\n",
       "    <tr>\n",
       "      <th>3</th>\n",
       "      <td>0.116978</td>\n",
       "      <td>0.153644</td>\n",
       "      <td>0.217968</td>\n",
       "      <td>0.107848</td>\n",
       "      <td>0.200131</td>\n",
       "      <td>0.000000</td>\n",
       "      <td>0.0</td>\n",
       "      <td>0.000000</td>\n",
       "      <td>0.171069</td>\n",
       "      <td>0.214533</td>\n",
       "      <td>...</td>\n",
       "      <td>0.250111</td>\n",
       "      <td>0.000000</td>\n",
       "      <td>0.168424</td>\n",
       "      <td>0.000000</td>\n",
       "      <td>0.206105</td>\n",
       "      <td>0.196390</td>\n",
       "      <td>0.000000</td>\n",
       "      <td>0.000000</td>\n",
       "      <td>0.082019</td>\n",
       "      <td>4.994409</td>\n",
       "    </tr>\n",
       "    <tr>\n",
       "      <th>4</th>\n",
       "      <td>0.000000</td>\n",
       "      <td>0.000000</td>\n",
       "      <td>0.098989</td>\n",
       "      <td>0.000000</td>\n",
       "      <td>0.061778</td>\n",
       "      <td>0.000000</td>\n",
       "      <td>0.0</td>\n",
       "      <td>0.000000</td>\n",
       "      <td>0.024364</td>\n",
       "      <td>0.083518</td>\n",
       "      <td>...</td>\n",
       "      <td>0.139500</td>\n",
       "      <td>0.000000</td>\n",
       "      <td>0.008837</td>\n",
       "      <td>0.000000</td>\n",
       "      <td>0.100934</td>\n",
       "      <td>0.088162</td>\n",
       "      <td>0.000000</td>\n",
       "      <td>0.000000</td>\n",
       "      <td>0.000000</td>\n",
       "      <td>4.000000</td>\n",
       "    </tr>\n",
       "  </tbody>\n",
       "</table>\n",
       "<p>5 rows × 33 columns</p>\n",
       "</div>"
      ],
      "text/plain": [
       "   feature_0  feature_1  feature_2  feature_3  feature_4  feature_5  \\\n",
       "0   0.000000   0.000000   0.078899   0.000000   0.036574   0.016471   \n",
       "1   0.000000   0.028107   0.142465   0.000000   0.093712   0.000000   \n",
       "2   0.086968   0.141667   0.197355   0.048163   0.174495   0.000000   \n",
       "3   0.116978   0.153644   0.217968   0.107848   0.200131   0.000000   \n",
       "4   0.000000   0.000000   0.098989   0.000000   0.061778   0.000000   \n",
       "\n",
       "   feature_6  feature_7  feature_8  feature_9  ...  feature_23  feature_24  \\\n",
       "0        0.0   0.021107   0.000000   0.051425  ...    0.076175    0.014197   \n",
       "1        0.0   0.000000   0.050947   0.122917  ...    0.163311    0.000000   \n",
       "2        0.0   0.000000   0.149600   0.186943  ...    0.227410    0.000000   \n",
       "3        0.0   0.000000   0.171069   0.214533  ...    0.250111    0.000000   \n",
       "4        0.0   0.000000   0.024364   0.083518  ...    0.139500    0.000000   \n",
       "\n",
       "   feature_25  feature_26  feature_27  feature_28  feature_29  feature_30  \\\n",
       "0    0.000000    0.028712    0.026997    0.059702    0.012823    0.007846   \n",
       "1    0.060314    0.000000    0.129855    0.121143    0.000000    0.000000   \n",
       "2    0.141835    0.000000    0.169448    0.173595    0.000000    0.000000   \n",
       "3    0.168424    0.000000    0.206105    0.196390    0.000000    0.000000   \n",
       "4    0.008837    0.000000    0.100934    0.088162    0.000000    0.000000   \n",
       "\n",
       "   feature_31  tassel_count  \n",
       "0    0.000000      5.008098  \n",
       "1    0.000000      4.656012  \n",
       "2    0.002625      4.942209  \n",
       "3    0.082019      4.994409  \n",
       "4    0.000000      4.000000  \n",
       "\n",
       "[5 rows x 33 columns]"
      ]
     },
     "execution_count": 40,
     "metadata": {},
     "output_type": "execute_result"
    }
   ],
   "source": [
    "hello_2.head()"
   ]
  },
  {
   "cell_type": "code",
   "execution_count": 41,
   "id": "dd745972-2bc4-4230-b546-32dedfa134da",
   "metadata": {},
   "outputs": [],
   "source": [
    "# get the predictions for all subimages for the block? do separately for single digit subimages and double digit subimages separately\n",
    "character_list = list(range(10))\n",
    "character_list = list(map(str, character_list))"
   ]
  },
  {
   "cell_type": "code",
   "execution_count": 42,
   "id": "30182c55-e248-45b1-aa4f-5867ce7ffffc",
   "metadata": {},
   "outputs": [
    {
     "name": "stdout",
     "output_type": "stream",
     "text": [
      "Block0103_2020_08_03_0.npy\n",
      "1.0\n",
      "Block0103_2020_08_03_1.npy\n",
      "1.0\n",
      "Block0103_2020_08_03_2.npy\n",
      "1.0\n",
      "Block0103_2020_08_03_3.npy\n",
      "1.0\n",
      "Block0103_2020_08_03_4.npy\n",
      "1.0\n",
      "Block0103_2020_08_03_5.npy\n",
      "1.0\n",
      "Block0103_2020_08_03_6.npy\n",
      "1.0\n",
      "Block0103_2020_08_03_7.npy\n",
      "1.0\n",
      "Block0103_2020_08_03_8.npy\n",
      "1.0\n",
      "Block0103_2020_08_03_9.npy\n",
      "1.0\n",
      "CPU times: user 24.2 s, sys: 1.39 s, total: 25.6 s\n",
      "Wall time: 16.6 s\n"
     ]
    }
   ],
   "source": [
    "%%time\n",
    "\n",
    "# for single digit subwindows\n",
    "catch_all_dfs = []\n",
    "for character in character_list:\n",
    "    features_df = extract_features_and_get_counts(feature_extractor_model, prev_preprocessed_image_loc, folder_contents, 2, 10, character, s_path)\n",
    "    catch_all_dfs.append(features_df)"
   ]
  },
  {
   "cell_type": "code",
   "execution_count": 43,
   "id": "c4e828c0-d4cb-448e-a5ea-2bd0c0539a2e",
   "metadata": {},
   "outputs": [],
   "source": [
    "# get the predictions for double digits\n",
    "character_list_double = list(range(10, 42))\n",
    "character_list_double = list(map(str, character_list_double))"
   ]
  },
  {
   "cell_type": "code",
   "execution_count": 46,
   "id": "a75ec1a4-f811-4de0-b994-4095e9681aa3",
   "metadata": {},
   "outputs": [],
   "source": [
    "# character_list_double"
   ]
  },
  {
   "cell_type": "code",
   "execution_count": 45,
   "id": "01c9b3f0-7b26-4806-85a5-35f5d6b97ed8",
   "metadata": {},
   "outputs": [
    {
     "name": "stdout",
     "output_type": "stream",
     "text": [
      "Block0103_2020_08_03_10.npy\n",
      "1.0\n",
      "Block0103_2020_08_03_11.npy\n",
      "1.0\n",
      "Block0103_2020_08_03_12.npy\n",
      "1.0\n",
      "Block0103_2020_08_03_13.npy\n",
      "1.0\n",
      "Block0103_2020_08_03_14.npy\n",
      "1.0\n",
      "Block0103_2020_08_03_15.npy\n",
      "1.0\n",
      "Block0103_2020_08_03_16.npy\n",
      "1.0\n",
      "Block0103_2020_08_03_17.npy\n",
      "1.0\n",
      "Block0103_2020_08_03_18.npy\n",
      "1.0\n",
      "Block0103_2020_08_03_19.npy\n",
      "1.0\n",
      "Block0103_2020_08_03_20.npy\n",
      "1.0\n",
      "Block0103_2020_08_03_21.npy\n",
      "1.0\n",
      "Block0103_2020_08_03_22.npy\n",
      "1.0\n",
      "Block0103_2020_08_03_23.npy\n",
      "1.0\n",
      "Block0103_2020_08_03_24.npy\n",
      "1.0\n",
      "Block0103_2020_08_03_25.npy\n",
      "1.0\n",
      "Block0103_2020_08_03_26.npy\n",
      "1.0\n",
      "Block0103_2020_08_03_27.npy\n",
      "1.0\n",
      "Block0103_2020_08_03_28.npy\n",
      "1.0\n",
      "Block0103_2020_08_03_29.npy\n",
      "1.0\n",
      "Block0103_2020_08_03_30.npy\n",
      "1.0\n",
      "Block0103_2020_08_03_31.npy\n",
      "1.0\n",
      "Block0103_2020_08_03_32.npy\n",
      "1.0\n",
      "Block0103_2020_08_03_33.npy\n",
      "1.0\n",
      "Block0103_2020_08_03_34.npy\n",
      "1.0\n",
      "Block0103_2020_08_03_35.npy\n",
      "1.0\n",
      "Block0103_2020_08_03_36.npy\n",
      "1.0\n",
      "Block0103_2020_08_03_37.npy\n",
      "1.0\n",
      "Block0103_2020_08_03_38.npy\n",
      "1.0\n",
      "Block0103_2020_08_03_39.npy\n",
      "1.0\n",
      "Block0103_2020_08_03_40.npy\n",
      "1.0\n",
      "Block0103_2020_08_03_41.npy\n",
      "1.0\n",
      "CPU times: user 1min 15s, sys: 3.56 s, total: 1min 19s\n",
      "Wall time: 43.4 s\n"
     ]
    }
   ],
   "source": [
    "%%time\n",
    "\n",
    "# for double digit subwindows\n",
    "catch_all_dfs = []\n",
    "for character in character_list_double:\n",
    "    features_df = extract_features_and_get_counts(feature_extractor_model, prev_preprocessed_image_loc, folder_contents, 3, 11, character, s_path)\n",
    "    catch_all_dfs.append(features_df)"
   ]
  }
 ],
 "metadata": {
  "kernelspec": {
   "display_name": "Python (tfp_for_TN)",
   "language": "python",
   "name": "tfp_for_tn"
  },
  "language_info": {
   "codemirror_mode": {
    "name": "ipython",
    "version": 3
   },
   "file_extension": ".py",
   "mimetype": "text/x-python",
   "name": "python",
   "nbconvert_exporter": "python",
   "pygments_lexer": "ipython3",
   "version": "3.10.14"
  }
 },
 "nbformat": 4,
 "nbformat_minor": 5
}
