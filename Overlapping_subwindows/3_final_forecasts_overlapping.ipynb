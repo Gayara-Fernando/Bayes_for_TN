{
 "cells": [
  {
   "cell_type": "markdown",
   "id": "f29b3bc9-b1fa-44cb-8286-9016c7517519",
   "metadata": {},
   "source": [
    "Okay, this is a little tricky, let's try to figure this out."
   ]
  },
  {
   "cell_type": "code",
   "execution_count": 1,
   "id": "792bd9f2-28fd-4116-89fa-5bd269c51a47",
   "metadata": {},
   "outputs": [],
   "source": [
    "import pandas as pd\n",
    "import numpy as np\n",
    "import matplotlib.pyplot as plt\n",
    "import os\n",
    "from sklearn.metrics import mean_absolute_error, mean_squared_error\n",
    "from scipy.stats import pearsonr"
   ]
  },
  {
   "cell_type": "code",
   "execution_count": 2,
   "id": "16cdfbd4-b38a-43fd-b756-676ca221b4bc",
   "metadata": {},
   "outputs": [],
   "source": [
    "# path to dataframes\n",
    "path_to_dfs = \"forecasted_counts/block_0103/\""
   ]
  },
  {
   "cell_type": "code",
   "execution_count": 3,
   "id": "e517faff-1694-419f-bd7d-13e76cefa34f",
   "metadata": {},
   "outputs": [],
   "source": [
    "# os.listdir(path_to_dfs)"
   ]
  },
  {
   "cell_type": "code",
   "execution_count": 4,
   "id": "34a0b10e-63ef-433d-bc8a-21cccaf3ece2",
   "metadata": {},
   "outputs": [],
   "source": [
    "# choose only the average forecasts dataframes\n",
    "averaged_forecasts_csvs = []\n",
    "for file in os.listdir(path_to_dfs):\n",
    "    if file[:8] =='averaged':\n",
    "        averaged_forecasts_csvs.append(file)"
   ]
  },
  {
   "cell_type": "code",
   "execution_count": 5,
   "id": "e044a276-7544-48be-9b39-bc5869633754",
   "metadata": {},
   "outputs": [
    {
     "data": {
      "text/plain": [
       "42"
      ]
     },
     "execution_count": 5,
     "metadata": {},
     "output_type": "execute_result"
    }
   ],
   "source": [
    "len(averaged_forecasts_csvs)"
   ]
  },
  {
   "cell_type": "code",
   "execution_count": 6,
   "id": "dbdb3d7e-5b1a-4bab-8edc-34db54869856",
   "metadata": {},
   "outputs": [],
   "source": [
    "averaged_forecasts_csvs.sort() # - note these are not sorted, we need these sorted to match the correct counts to the correct subwindows"
   ]
  },
  {
   "cell_type": "code",
   "execution_count": 7,
   "id": "699db382-417b-470c-a2f6-f2060cdb51f7",
   "metadata": {},
   "outputs": [
    {
     "data": {
      "text/plain": [
       "'averaged_forecasts_sub_0.csv'"
      ]
     },
     "execution_count": 7,
     "metadata": {},
     "output_type": "execute_result"
    }
   ],
   "source": [
    "averaged_forecasts_csvs[0]"
   ]
  },
  {
   "cell_type": "code",
   "execution_count": 8,
   "id": "c0ab9bbb-b6de-42ee-ab0f-dbbf3d0e5233",
   "metadata": {},
   "outputs": [],
   "source": [
    "# order these csv files, let's write a for loop\n",
    "ordered_csv_files = ['averaged_forecasts_sub_' + str(i) + '.csv' for i in np.arange(42)]"
   ]
  },
  {
   "cell_type": "code",
   "execution_count": 9,
   "id": "8a27b7eb-00ca-4686-94fc-23103201e74e",
   "metadata": {},
   "outputs": [],
   "source": [
    "# ordered_csv_files"
   ]
  },
  {
   "cell_type": "code",
   "execution_count": 10,
   "id": "d7210813-d54e-4a90-a3c9-509b6e153350",
   "metadata": {},
   "outputs": [],
   "source": [
    "all_dfs = []\n",
    "for file in ordered_csv_files:\n",
    "    read_df = pd.read_csv(path_to_dfs + '/' + file)\n",
    "    all_dfs.append(read_df)"
   ]
  },
  {
   "cell_type": "code",
   "execution_count": 11,
   "id": "e6536dbe-60f7-4ced-bf03-7fbbd91d0aa5",
   "metadata": {},
   "outputs": [],
   "source": [
    "# make a single dataframe out of the many\n",
    "combined_df = pd.concat(all_dfs, axis = 1)"
   ]
  },
  {
   "cell_type": "code",
   "execution_count": 12,
   "id": "cabf05c1-2fcf-43f6-a413-cf325d7e705b",
   "metadata": {},
   "outputs": [
    {
     "data": {
      "text/html": [
       "<div>\n",
       "<style scoped>\n",
       "    .dataframe tbody tr th:only-of-type {\n",
       "        vertical-align: middle;\n",
       "    }\n",
       "\n",
       "    .dataframe tbody tr th {\n",
       "        vertical-align: top;\n",
       "    }\n",
       "\n",
       "    .dataframe thead th {\n",
       "        text-align: right;\n",
       "    }\n",
       "</style>\n",
       "<table border=\"1\" class=\"dataframe\">\n",
       "  <thead>\n",
       "    <tr style=\"text-align: right;\">\n",
       "      <th></th>\n",
       "      <th>True_value</th>\n",
       "      <th>Forecasted_value</th>\n",
       "      <th>True_value</th>\n",
       "      <th>Forecasted_value</th>\n",
       "      <th>True_value</th>\n",
       "      <th>Forecasted_value</th>\n",
       "      <th>True_value</th>\n",
       "      <th>Forecasted_value</th>\n",
       "      <th>True_value</th>\n",
       "      <th>Forecasted_value</th>\n",
       "      <th>...</th>\n",
       "      <th>True_value</th>\n",
       "      <th>Forecasted_value</th>\n",
       "      <th>True_value</th>\n",
       "      <th>Forecasted_value</th>\n",
       "      <th>True_value</th>\n",
       "      <th>Forecasted_value</th>\n",
       "      <th>True_value</th>\n",
       "      <th>Forecasted_value</th>\n",
       "      <th>True_value</th>\n",
       "      <th>Forecasted_value</th>\n",
       "    </tr>\n",
       "  </thead>\n",
       "  <tbody>\n",
       "    <tr>\n",
       "      <th>0</th>\n",
       "      <td>3.000000</td>\n",
       "      <td>3.518405</td>\n",
       "      <td>5.680015</td>\n",
       "      <td>4.711437</td>\n",
       "      <td>4.008115</td>\n",
       "      <td>4.301618</td>\n",
       "      <td>2.211300</td>\n",
       "      <td>3.509243</td>\n",
       "      <td>6.203186</td>\n",
       "      <td>5.859481</td>\n",
       "      <td>...</td>\n",
       "      <td>0.000531</td>\n",
       "      <td>0.079276</td>\n",
       "      <td>0.000674</td>\n",
       "      <td>0.027422</td>\n",
       "      <td>0.000142</td>\n",
       "      <td>0.070028</td>\n",
       "      <td>0.000000</td>\n",
       "      <td>0.072067</td>\n",
       "      <td>0.0</td>\n",
       "      <td>-0.000362</td>\n",
       "    </tr>\n",
       "    <tr>\n",
       "      <th>1</th>\n",
       "      <td>4.002516</td>\n",
       "      <td>3.732567</td>\n",
       "      <td>6.450665</td>\n",
       "      <td>4.825813</td>\n",
       "      <td>3.788700</td>\n",
       "      <td>4.349662</td>\n",
       "      <td>4.397723</td>\n",
       "      <td>2.930528</td>\n",
       "      <td>7.895105</td>\n",
       "      <td>5.337866</td>\n",
       "      <td>...</td>\n",
       "      <td>0.000674</td>\n",
       "      <td>0.061360</td>\n",
       "      <td>0.000000</td>\n",
       "      <td>-0.082306</td>\n",
       "      <td>0.000000</td>\n",
       "      <td>-0.023784</td>\n",
       "      <td>0.000000</td>\n",
       "      <td>0.048017</td>\n",
       "      <td>0.0</td>\n",
       "      <td>-0.000514</td>\n",
       "    </tr>\n",
       "    <tr>\n",
       "      <th>2</th>\n",
       "      <td>4.000155</td>\n",
       "      <td>3.428718</td>\n",
       "      <td>5.915424</td>\n",
       "      <td>5.178430</td>\n",
       "      <td>4.004599</td>\n",
       "      <td>4.501003</td>\n",
       "      <td>3.997293</td>\n",
       "      <td>3.555890</td>\n",
       "      <td>6.674109</td>\n",
       "      <td>5.828358</td>\n",
       "      <td>...</td>\n",
       "      <td>0.000000</td>\n",
       "      <td>0.085696</td>\n",
       "      <td>0.000000</td>\n",
       "      <td>0.027619</td>\n",
       "      <td>0.000005</td>\n",
       "      <td>0.110478</td>\n",
       "      <td>0.000005</td>\n",
       "      <td>0.065582</td>\n",
       "      <td>0.0</td>\n",
       "      <td>-0.000339</td>\n",
       "    </tr>\n",
       "    <tr>\n",
       "      <th>3</th>\n",
       "      <td>3.000000</td>\n",
       "      <td>4.329351</td>\n",
       "      <td>6.666009</td>\n",
       "      <td>5.262213</td>\n",
       "      <td>4.000000</td>\n",
       "      <td>4.504326</td>\n",
       "      <td>1.000000</td>\n",
       "      <td>2.507873</td>\n",
       "      <td>4.000031</td>\n",
       "      <td>6.039442</td>\n",
       "      <td>...</td>\n",
       "      <td>0.000000</td>\n",
       "      <td>0.058320</td>\n",
       "      <td>0.000000</td>\n",
       "      <td>-0.008478</td>\n",
       "      <td>0.000674</td>\n",
       "      <td>0.001183</td>\n",
       "      <td>0.000674</td>\n",
       "      <td>0.043805</td>\n",
       "      <td>0.0</td>\n",
       "      <td>0.000566</td>\n",
       "    </tr>\n",
       "    <tr>\n",
       "      <th>4</th>\n",
       "      <td>3.000000</td>\n",
       "      <td>3.944138</td>\n",
       "      <td>5.671839</td>\n",
       "      <td>5.235770</td>\n",
       "      <td>4.022552</td>\n",
       "      <td>4.438399</td>\n",
       "      <td>2.008101</td>\n",
       "      <td>2.936499</td>\n",
       "      <td>4.633390</td>\n",
       "      <td>5.194905</td>\n",
       "      <td>...</td>\n",
       "      <td>0.000000</td>\n",
       "      <td>0.066148</td>\n",
       "      <td>0.000000</td>\n",
       "      <td>-0.005671</td>\n",
       "      <td>0.004599</td>\n",
       "      <td>-0.036351</td>\n",
       "      <td>0.004599</td>\n",
       "      <td>0.028059</td>\n",
       "      <td>0.0</td>\n",
       "      <td>-0.000025</td>\n",
       "    </tr>\n",
       "  </tbody>\n",
       "</table>\n",
       "<p>5 rows × 84 columns</p>\n",
       "</div>"
      ],
      "text/plain": [
       "   True_value  Forecasted_value  True_value  Forecasted_value  True_value  \\\n",
       "0    3.000000          3.518405    5.680015          4.711437    4.008115   \n",
       "1    4.002516          3.732567    6.450665          4.825813    3.788700   \n",
       "2    4.000155          3.428718    5.915424          5.178430    4.004599   \n",
       "3    3.000000          4.329351    6.666009          5.262213    4.000000   \n",
       "4    3.000000          3.944138    5.671839          5.235770    4.022552   \n",
       "\n",
       "   Forecasted_value  True_value  Forecasted_value  True_value  \\\n",
       "0          4.301618    2.211300          3.509243    6.203186   \n",
       "1          4.349662    4.397723          2.930528    7.895105   \n",
       "2          4.501003    3.997293          3.555890    6.674109   \n",
       "3          4.504326    1.000000          2.507873    4.000031   \n",
       "4          4.438399    2.008101          2.936499    4.633390   \n",
       "\n",
       "   Forecasted_value  ...  True_value  Forecasted_value  True_value  \\\n",
       "0          5.859481  ...    0.000531          0.079276    0.000674   \n",
       "1          5.337866  ...    0.000674          0.061360    0.000000   \n",
       "2          5.828358  ...    0.000000          0.085696    0.000000   \n",
       "3          6.039442  ...    0.000000          0.058320    0.000000   \n",
       "4          5.194905  ...    0.000000          0.066148    0.000000   \n",
       "\n",
       "   Forecasted_value  True_value  Forecasted_value  True_value  \\\n",
       "0          0.027422    0.000142          0.070028    0.000000   \n",
       "1         -0.082306    0.000000         -0.023784    0.000000   \n",
       "2          0.027619    0.000005          0.110478    0.000005   \n",
       "3         -0.008478    0.000674          0.001183    0.000674   \n",
       "4         -0.005671    0.004599         -0.036351    0.004599   \n",
       "\n",
       "   Forecasted_value  True_value  Forecasted_value  \n",
       "0          0.072067         0.0         -0.000362  \n",
       "1          0.048017         0.0         -0.000514  \n",
       "2          0.065582         0.0         -0.000339  \n",
       "3          0.043805         0.0          0.000566  \n",
       "4          0.028059         0.0         -0.000025  \n",
       "\n",
       "[5 rows x 84 columns]"
      ]
     },
     "execution_count": 12,
     "metadata": {},
     "output_type": "execute_result"
    }
   ],
   "source": [
    "combined_df.head()"
   ]
  },
  {
   "cell_type": "code",
   "execution_count": 13,
   "id": "2bd7311d-b36e-4352-9a44-ebec9719e9ae",
   "metadata": {},
   "outputs": [
    {
     "data": {
      "text/plain": [
       "(7, 84)"
      ]
     },
     "execution_count": 13,
     "metadata": {},
     "output_type": "execute_result"
    }
   ],
   "source": [
    "combined_df.shape"
   ]
  },
  {
   "cell_type": "code",
   "execution_count": 14,
   "id": "ae952a0a-3035-4353-aede-905d22bd842f",
   "metadata": {},
   "outputs": [],
   "source": [
    "# get the true values\n",
    "True_values_df = combined_df[['True_value']]"
   ]
  },
  {
   "cell_type": "code",
   "execution_count": 15,
   "id": "baf73275-144e-4bb3-bd47-d94c519f86a2",
   "metadata": {},
   "outputs": [
    {
     "data": {
      "text/html": [
       "<div>\n",
       "<style scoped>\n",
       "    .dataframe tbody tr th:only-of-type {\n",
       "        vertical-align: middle;\n",
       "    }\n",
       "\n",
       "    .dataframe tbody tr th {\n",
       "        vertical-align: top;\n",
       "    }\n",
       "\n",
       "    .dataframe thead th {\n",
       "        text-align: right;\n",
       "    }\n",
       "</style>\n",
       "<table border=\"1\" class=\"dataframe\">\n",
       "  <thead>\n",
       "    <tr style=\"text-align: right;\">\n",
       "      <th></th>\n",
       "      <th>True_value</th>\n",
       "      <th>True_value</th>\n",
       "      <th>True_value</th>\n",
       "      <th>True_value</th>\n",
       "      <th>True_value</th>\n",
       "      <th>True_value</th>\n",
       "      <th>True_value</th>\n",
       "      <th>True_value</th>\n",
       "      <th>True_value</th>\n",
       "      <th>True_value</th>\n",
       "      <th>...</th>\n",
       "      <th>True_value</th>\n",
       "      <th>True_value</th>\n",
       "      <th>True_value</th>\n",
       "      <th>True_value</th>\n",
       "      <th>True_value</th>\n",
       "      <th>True_value</th>\n",
       "      <th>True_value</th>\n",
       "      <th>True_value</th>\n",
       "      <th>True_value</th>\n",
       "      <th>True_value</th>\n",
       "    </tr>\n",
       "  </thead>\n",
       "  <tbody>\n",
       "    <tr>\n",
       "      <th>0</th>\n",
       "      <td>3.000000</td>\n",
       "      <td>5.680015</td>\n",
       "      <td>4.008115</td>\n",
       "      <td>2.211300</td>\n",
       "      <td>6.203186</td>\n",
       "      <td>6.000008</td>\n",
       "      <td>2.000008</td>\n",
       "      <td>2.991899</td>\n",
       "      <td>3.841271</td>\n",
       "      <td>3.001654</td>\n",
       "      <td>...</td>\n",
       "      <td>3.999930</td>\n",
       "      <td>1.999930</td>\n",
       "      <td>0.000000</td>\n",
       "      <td>0.000000</td>\n",
       "      <td>0.000000</td>\n",
       "      <td>0.000531</td>\n",
       "      <td>0.000674</td>\n",
       "      <td>0.000142</td>\n",
       "      <td>0.000000</td>\n",
       "      <td>0.0</td>\n",
       "    </tr>\n",
       "    <tr>\n",
       "      <th>1</th>\n",
       "      <td>4.002516</td>\n",
       "      <td>6.450665</td>\n",
       "      <td>3.788700</td>\n",
       "      <td>4.397723</td>\n",
       "      <td>7.895105</td>\n",
       "      <td>5.840550</td>\n",
       "      <td>1.922893</td>\n",
       "      <td>5.020036</td>\n",
       "      <td>6.011305</td>\n",
       "      <td>3.000000</td>\n",
       "      <td>...</td>\n",
       "      <td>4.321506</td>\n",
       "      <td>2.000000</td>\n",
       "      <td>0.000000</td>\n",
       "      <td>0.000000</td>\n",
       "      <td>0.000674</td>\n",
       "      <td>0.000674</td>\n",
       "      <td>0.000000</td>\n",
       "      <td>0.000000</td>\n",
       "      <td>0.000000</td>\n",
       "      <td>0.0</td>\n",
       "    </tr>\n",
       "    <tr>\n",
       "      <th>2</th>\n",
       "      <td>4.000155</td>\n",
       "      <td>5.915424</td>\n",
       "      <td>4.004599</td>\n",
       "      <td>3.997293</td>\n",
       "      <td>6.674109</td>\n",
       "      <td>4.788695</td>\n",
       "      <td>0.999997</td>\n",
       "      <td>3.999930</td>\n",
       "      <td>5.547751</td>\n",
       "      <td>3.022552</td>\n",
       "      <td>...</td>\n",
       "      <td>5.999987</td>\n",
       "      <td>4.000000</td>\n",
       "      <td>0.000013</td>\n",
       "      <td>0.000000</td>\n",
       "      <td>0.000000</td>\n",
       "      <td>0.000000</td>\n",
       "      <td>0.000000</td>\n",
       "      <td>0.000005</td>\n",
       "      <td>0.000005</td>\n",
       "      <td>0.0</td>\n",
       "    </tr>\n",
       "    <tr>\n",
       "      <th>3</th>\n",
       "      <td>3.000000</td>\n",
       "      <td>6.666009</td>\n",
       "      <td>4.000000</td>\n",
       "      <td>1.000000</td>\n",
       "      <td>4.000031</td>\n",
       "      <td>3.500031</td>\n",
       "      <td>0.500000</td>\n",
       "      <td>3.996810</td>\n",
       "      <td>5.876725</td>\n",
       "      <td>3.000013</td>\n",
       "      <td>...</td>\n",
       "      <td>4.080343</td>\n",
       "      <td>3.000000</td>\n",
       "      <td>0.000000</td>\n",
       "      <td>0.000000</td>\n",
       "      <td>0.000000</td>\n",
       "      <td>0.000000</td>\n",
       "      <td>0.000000</td>\n",
       "      <td>0.000674</td>\n",
       "      <td>0.000674</td>\n",
       "      <td>0.0</td>\n",
       "    </tr>\n",
       "    <tr>\n",
       "      <th>4</th>\n",
       "      <td>3.000000</td>\n",
       "      <td>5.671839</td>\n",
       "      <td>4.022552</td>\n",
       "      <td>2.008101</td>\n",
       "      <td>4.633390</td>\n",
       "      <td>3.633390</td>\n",
       "      <td>0.985549</td>\n",
       "      <td>2.000000</td>\n",
       "      <td>3.211300</td>\n",
       "      <td>3.233852</td>\n",
       "      <td>...</td>\n",
       "      <td>4.991866</td>\n",
       "      <td>3.000000</td>\n",
       "      <td>0.008102</td>\n",
       "      <td>0.000000</td>\n",
       "      <td>0.000000</td>\n",
       "      <td>0.000000</td>\n",
       "      <td>0.000000</td>\n",
       "      <td>0.004599</td>\n",
       "      <td>0.004599</td>\n",
       "      <td>0.0</td>\n",
       "    </tr>\n",
       "    <tr>\n",
       "      <th>5</th>\n",
       "      <td>4.000000</td>\n",
       "      <td>8.271483</td>\n",
       "      <td>6.054452</td>\n",
       "      <td>2.054460</td>\n",
       "      <td>5.051951</td>\n",
       "      <td>5.000003</td>\n",
       "      <td>1.948060</td>\n",
       "      <td>2.000000</td>\n",
       "      <td>3.054791</td>\n",
       "      <td>4.076859</td>\n",
       "      <td>...</td>\n",
       "      <td>5.995371</td>\n",
       "      <td>4.999969</td>\n",
       "      <td>1.000000</td>\n",
       "      <td>0.000000</td>\n",
       "      <td>0.000000</td>\n",
       "      <td>0.000000</td>\n",
       "      <td>0.002516</td>\n",
       "      <td>0.010618</td>\n",
       "      <td>0.008102</td>\n",
       "      <td>0.0</td>\n",
       "    </tr>\n",
       "    <tr>\n",
       "      <th>6</th>\n",
       "      <td>1.000000</td>\n",
       "      <td>4.974901</td>\n",
       "      <td>4.500000</td>\n",
       "      <td>2.681041</td>\n",
       "      <td>4.155932</td>\n",
       "      <td>2.002517</td>\n",
       "      <td>0.002526</td>\n",
       "      <td>1.991898</td>\n",
       "      <td>4.967989</td>\n",
       "      <td>2.999985</td>\n",
       "      <td>...</td>\n",
       "      <td>3.000031</td>\n",
       "      <td>1.977448</td>\n",
       "      <td>0.000000</td>\n",
       "      <td>0.004599</td>\n",
       "      <td>0.004587</td>\n",
       "      <td>0.000000</td>\n",
       "      <td>0.000509</td>\n",
       "      <td>0.077012</td>\n",
       "      <td>0.076503</td>\n",
       "      <td>0.0</td>\n",
       "    </tr>\n",
       "  </tbody>\n",
       "</table>\n",
       "<p>7 rows × 42 columns</p>\n",
       "</div>"
      ],
      "text/plain": [
       "   True_value  True_value  True_value  True_value  True_value  True_value  \\\n",
       "0    3.000000    5.680015    4.008115    2.211300    6.203186    6.000008   \n",
       "1    4.002516    6.450665    3.788700    4.397723    7.895105    5.840550   \n",
       "2    4.000155    5.915424    4.004599    3.997293    6.674109    4.788695   \n",
       "3    3.000000    6.666009    4.000000    1.000000    4.000031    3.500031   \n",
       "4    3.000000    5.671839    4.022552    2.008101    4.633390    3.633390   \n",
       "5    4.000000    8.271483    6.054452    2.054460    5.051951    5.000003   \n",
       "6    1.000000    4.974901    4.500000    2.681041    4.155932    2.002517   \n",
       "\n",
       "   True_value  True_value  True_value  True_value  ...  True_value  \\\n",
       "0    2.000008    2.991899    3.841271    3.001654  ...    3.999930   \n",
       "1    1.922893    5.020036    6.011305    3.000000  ...    4.321506   \n",
       "2    0.999997    3.999930    5.547751    3.022552  ...    5.999987   \n",
       "3    0.500000    3.996810    5.876725    3.000013  ...    4.080343   \n",
       "4    0.985549    2.000000    3.211300    3.233852  ...    4.991866   \n",
       "5    1.948060    2.000000    3.054791    4.076859  ...    5.995371   \n",
       "6    0.002526    1.991898    4.967989    2.999985  ...    3.000031   \n",
       "\n",
       "   True_value  True_value  True_value  True_value  True_value  True_value  \\\n",
       "0    1.999930    0.000000    0.000000    0.000000    0.000531    0.000674   \n",
       "1    2.000000    0.000000    0.000000    0.000674    0.000674    0.000000   \n",
       "2    4.000000    0.000013    0.000000    0.000000    0.000000    0.000000   \n",
       "3    3.000000    0.000000    0.000000    0.000000    0.000000    0.000000   \n",
       "4    3.000000    0.008102    0.000000    0.000000    0.000000    0.000000   \n",
       "5    4.999969    1.000000    0.000000    0.000000    0.000000    0.002516   \n",
       "6    1.977448    0.000000    0.004599    0.004587    0.000000    0.000509   \n",
       "\n",
       "   True_value  True_value  True_value  \n",
       "0    0.000142    0.000000         0.0  \n",
       "1    0.000000    0.000000         0.0  \n",
       "2    0.000005    0.000005         0.0  \n",
       "3    0.000674    0.000674         0.0  \n",
       "4    0.004599    0.004599         0.0  \n",
       "5    0.010618    0.008102         0.0  \n",
       "6    0.077012    0.076503         0.0  \n",
       "\n",
       "[7 rows x 42 columns]"
      ]
     },
     "execution_count": 15,
     "metadata": {},
     "output_type": "execute_result"
    }
   ],
   "source": [
    "True_values_df"
   ]
  },
  {
   "cell_type": "code",
   "execution_count": 16,
   "id": "138ce648-90e4-47cc-84b4-eaf8308362cd",
   "metadata": {},
   "outputs": [],
   "source": [
    "# since the subwindows are now overlapping, we cannot directly add the counts - These needs to be now normalized - might have to think this through"
   ]
  },
  {
   "cell_type": "code",
   "execution_count": 17,
   "id": "7645988e-8d19-400d-b5c9-301b6819514b",
   "metadata": {},
   "outputs": [],
   "source": [
    "# sum the true values - since the sub images are not overlapping, we can get the sum across columns in the above dataframe\n",
    "sum_true_values = True_values_df.sum(axis = 1)"
   ]
  },
  {
   "cell_type": "code",
   "execution_count": 18,
   "id": "17b55908-f95a-4308-a49d-92058bd738af",
   "metadata": {},
   "outputs": [
    {
     "data": {
      "text/plain": [
       "0    133.547655\n",
       "1    126.067732\n",
       "2    139.849757\n",
       "3    107.537386\n",
       "4    104.110652\n",
       "5    131.280152\n",
       "6     97.747947\n",
       "dtype: float64"
      ]
     },
     "execution_count": 18,
     "metadata": {},
     "output_type": "execute_result"
    }
   ],
   "source": [
    "sum_true_values # note that these values do not match the actual counts we have - these needs to be properly normalized\n",
    "# We need to write out the code for proper normalization"
   ]
  },
  {
   "cell_type": "code",
   "execution_count": 19,
   "id": "faee48c8-cbac-49f4-ad7c-a18085e860a6",
   "metadata": {},
   "outputs": [],
   "source": [
    "# separate the forecasted values"
   ]
  },
  {
   "cell_type": "code",
   "execution_count": 20,
   "id": "fa39364e-16f5-4a07-9755-995b713ba558",
   "metadata": {},
   "outputs": [],
   "source": [
    "# get the true values\n",
    "Forecasted_values_df = combined_df[['Forecasted_value']]"
   ]
  },
  {
   "cell_type": "code",
   "execution_count": 21,
   "id": "e3975555-cc99-47de-a5da-599a7e678013",
   "metadata": {},
   "outputs": [
    {
     "data": {
      "text/html": [
       "<div>\n",
       "<style scoped>\n",
       "    .dataframe tbody tr th:only-of-type {\n",
       "        vertical-align: middle;\n",
       "    }\n",
       "\n",
       "    .dataframe tbody tr th {\n",
       "        vertical-align: top;\n",
       "    }\n",
       "\n",
       "    .dataframe thead th {\n",
       "        text-align: right;\n",
       "    }\n",
       "</style>\n",
       "<table border=\"1\" class=\"dataframe\">\n",
       "  <thead>\n",
       "    <tr style=\"text-align: right;\">\n",
       "      <th></th>\n",
       "      <th>Forecasted_value</th>\n",
       "      <th>Forecasted_value</th>\n",
       "      <th>Forecasted_value</th>\n",
       "      <th>Forecasted_value</th>\n",
       "      <th>Forecasted_value</th>\n",
       "      <th>Forecasted_value</th>\n",
       "      <th>Forecasted_value</th>\n",
       "      <th>Forecasted_value</th>\n",
       "      <th>Forecasted_value</th>\n",
       "      <th>Forecasted_value</th>\n",
       "      <th>...</th>\n",
       "      <th>Forecasted_value</th>\n",
       "      <th>Forecasted_value</th>\n",
       "      <th>Forecasted_value</th>\n",
       "      <th>Forecasted_value</th>\n",
       "      <th>Forecasted_value</th>\n",
       "      <th>Forecasted_value</th>\n",
       "      <th>Forecasted_value</th>\n",
       "      <th>Forecasted_value</th>\n",
       "      <th>Forecasted_value</th>\n",
       "      <th>Forecasted_value</th>\n",
       "    </tr>\n",
       "  </thead>\n",
       "  <tbody>\n",
       "    <tr>\n",
       "      <th>0</th>\n",
       "      <td>3.518405</td>\n",
       "      <td>4.711437</td>\n",
       "      <td>4.301618</td>\n",
       "      <td>3.509243</td>\n",
       "      <td>5.859481</td>\n",
       "      <td>4.431803</td>\n",
       "      <td>1.223143</td>\n",
       "      <td>3.454632</td>\n",
       "      <td>5.072189</td>\n",
       "      <td>3.500179</td>\n",
       "      <td>...</td>\n",
       "      <td>4.111874</td>\n",
       "      <td>3.117257</td>\n",
       "      <td>-0.143978</td>\n",
       "      <td>0.090642</td>\n",
       "      <td>0.116495</td>\n",
       "      <td>0.079276</td>\n",
       "      <td>0.027422</td>\n",
       "      <td>0.070028</td>\n",
       "      <td>0.072067</td>\n",
       "      <td>-0.000362</td>\n",
       "    </tr>\n",
       "    <tr>\n",
       "      <th>1</th>\n",
       "      <td>3.732567</td>\n",
       "      <td>4.825813</td>\n",
       "      <td>4.349662</td>\n",
       "      <td>2.930528</td>\n",
       "      <td>5.337866</td>\n",
       "      <td>4.609105</td>\n",
       "      <td>1.159936</td>\n",
       "      <td>3.937839</td>\n",
       "      <td>5.449829</td>\n",
       "      <td>3.497967</td>\n",
       "      <td>...</td>\n",
       "      <td>4.127012</td>\n",
       "      <td>3.204715</td>\n",
       "      <td>-1.539469</td>\n",
       "      <td>0.070775</td>\n",
       "      <td>0.104766</td>\n",
       "      <td>0.061360</td>\n",
       "      <td>-0.082306</td>\n",
       "      <td>-0.023784</td>\n",
       "      <td>0.048017</td>\n",
       "      <td>-0.000514</td>\n",
       "    </tr>\n",
       "    <tr>\n",
       "      <th>2</th>\n",
       "      <td>3.428718</td>\n",
       "      <td>5.178430</td>\n",
       "      <td>4.501003</td>\n",
       "      <td>3.555890</td>\n",
       "      <td>5.828358</td>\n",
       "      <td>4.907714</td>\n",
       "      <td>1.485616</td>\n",
       "      <td>3.768842</td>\n",
       "      <td>5.148653</td>\n",
       "      <td>3.524544</td>\n",
       "      <td>...</td>\n",
       "      <td>4.546917</td>\n",
       "      <td>3.812811</td>\n",
       "      <td>0.697895</td>\n",
       "      <td>0.060483</td>\n",
       "      <td>0.098122</td>\n",
       "      <td>0.085696</td>\n",
       "      <td>0.027619</td>\n",
       "      <td>0.110478</td>\n",
       "      <td>0.065582</td>\n",
       "      <td>-0.000339</td>\n",
       "    </tr>\n",
       "    <tr>\n",
       "      <th>3</th>\n",
       "      <td>4.329351</td>\n",
       "      <td>5.262213</td>\n",
       "      <td>4.504326</td>\n",
       "      <td>2.507873</td>\n",
       "      <td>6.039442</td>\n",
       "      <td>5.135900</td>\n",
       "      <td>0.994300</td>\n",
       "      <td>6.190042</td>\n",
       "      <td>9.061913</td>\n",
       "      <td>3.737752</td>\n",
       "      <td>...</td>\n",
       "      <td>4.310143</td>\n",
       "      <td>2.468361</td>\n",
       "      <td>-2.751352</td>\n",
       "      <td>0.083884</td>\n",
       "      <td>0.083081</td>\n",
       "      <td>0.058320</td>\n",
       "      <td>-0.008478</td>\n",
       "      <td>0.001183</td>\n",
       "      <td>0.043805</td>\n",
       "      <td>0.000566</td>\n",
       "    </tr>\n",
       "    <tr>\n",
       "      <th>4</th>\n",
       "      <td>3.944138</td>\n",
       "      <td>5.235770</td>\n",
       "      <td>4.438399</td>\n",
       "      <td>2.936499</td>\n",
       "      <td>5.194905</td>\n",
       "      <td>4.869748</td>\n",
       "      <td>1.130439</td>\n",
       "      <td>5.732378</td>\n",
       "      <td>6.953180</td>\n",
       "      <td>3.626733</td>\n",
       "      <td>...</td>\n",
       "      <td>4.280945</td>\n",
       "      <td>2.720168</td>\n",
       "      <td>-0.816729</td>\n",
       "      <td>0.015056</td>\n",
       "      <td>0.042080</td>\n",
       "      <td>0.066148</td>\n",
       "      <td>-0.005671</td>\n",
       "      <td>-0.036351</td>\n",
       "      <td>0.028059</td>\n",
       "      <td>-0.000025</td>\n",
       "    </tr>\n",
       "    <tr>\n",
       "      <th>5</th>\n",
       "      <td>3.820706</td>\n",
       "      <td>4.961481</td>\n",
       "      <td>4.429846</td>\n",
       "      <td>2.712862</td>\n",
       "      <td>5.501562</td>\n",
       "      <td>4.671822</td>\n",
       "      <td>1.040842</td>\n",
       "      <td>4.411165</td>\n",
       "      <td>6.224572</td>\n",
       "      <td>3.858034</td>\n",
       "      <td>...</td>\n",
       "      <td>4.149870</td>\n",
       "      <td>2.854491</td>\n",
       "      <td>-0.997376</td>\n",
       "      <td>0.039747</td>\n",
       "      <td>0.101527</td>\n",
       "      <td>0.044316</td>\n",
       "      <td>-0.211945</td>\n",
       "      <td>-0.007291</td>\n",
       "      <td>0.050153</td>\n",
       "      <td>0.000234</td>\n",
       "    </tr>\n",
       "    <tr>\n",
       "      <th>6</th>\n",
       "      <td>3.895215</td>\n",
       "      <td>5.195496</td>\n",
       "      <td>4.578771</td>\n",
       "      <td>2.856078</td>\n",
       "      <td>5.805936</td>\n",
       "      <td>5.756642</td>\n",
       "      <td>1.113414</td>\n",
       "      <td>4.276563</td>\n",
       "      <td>6.367151</td>\n",
       "      <td>3.767047</td>\n",
       "      <td>...</td>\n",
       "      <td>4.234437</td>\n",
       "      <td>2.771484</td>\n",
       "      <td>-2.655980</td>\n",
       "      <td>0.064651</td>\n",
       "      <td>0.043874</td>\n",
       "      <td>0.060493</td>\n",
       "      <td>0.040351</td>\n",
       "      <td>0.054170</td>\n",
       "      <td>0.012705</td>\n",
       "      <td>0.000344</td>\n",
       "    </tr>\n",
       "  </tbody>\n",
       "</table>\n",
       "<p>7 rows × 42 columns</p>\n",
       "</div>"
      ],
      "text/plain": [
       "   Forecasted_value  Forecasted_value  Forecasted_value  Forecasted_value  \\\n",
       "0          3.518405          4.711437          4.301618          3.509243   \n",
       "1          3.732567          4.825813          4.349662          2.930528   \n",
       "2          3.428718          5.178430          4.501003          3.555890   \n",
       "3          4.329351          5.262213          4.504326          2.507873   \n",
       "4          3.944138          5.235770          4.438399          2.936499   \n",
       "5          3.820706          4.961481          4.429846          2.712862   \n",
       "6          3.895215          5.195496          4.578771          2.856078   \n",
       "\n",
       "   Forecasted_value  Forecasted_value  Forecasted_value  Forecasted_value  \\\n",
       "0          5.859481          4.431803          1.223143          3.454632   \n",
       "1          5.337866          4.609105          1.159936          3.937839   \n",
       "2          5.828358          4.907714          1.485616          3.768842   \n",
       "3          6.039442          5.135900          0.994300          6.190042   \n",
       "4          5.194905          4.869748          1.130439          5.732378   \n",
       "5          5.501562          4.671822          1.040842          4.411165   \n",
       "6          5.805936          5.756642          1.113414          4.276563   \n",
       "\n",
       "   Forecasted_value  Forecasted_value  ...  Forecasted_value  \\\n",
       "0          5.072189          3.500179  ...          4.111874   \n",
       "1          5.449829          3.497967  ...          4.127012   \n",
       "2          5.148653          3.524544  ...          4.546917   \n",
       "3          9.061913          3.737752  ...          4.310143   \n",
       "4          6.953180          3.626733  ...          4.280945   \n",
       "5          6.224572          3.858034  ...          4.149870   \n",
       "6          6.367151          3.767047  ...          4.234437   \n",
       "\n",
       "   Forecasted_value  Forecasted_value  Forecasted_value  Forecasted_value  \\\n",
       "0          3.117257         -0.143978          0.090642          0.116495   \n",
       "1          3.204715         -1.539469          0.070775          0.104766   \n",
       "2          3.812811          0.697895          0.060483          0.098122   \n",
       "3          2.468361         -2.751352          0.083884          0.083081   \n",
       "4          2.720168         -0.816729          0.015056          0.042080   \n",
       "5          2.854491         -0.997376          0.039747          0.101527   \n",
       "6          2.771484         -2.655980          0.064651          0.043874   \n",
       "\n",
       "   Forecasted_value  Forecasted_value  Forecasted_value  Forecasted_value  \\\n",
       "0          0.079276          0.027422          0.070028          0.072067   \n",
       "1          0.061360         -0.082306         -0.023784          0.048017   \n",
       "2          0.085696          0.027619          0.110478          0.065582   \n",
       "3          0.058320         -0.008478          0.001183          0.043805   \n",
       "4          0.066148         -0.005671         -0.036351          0.028059   \n",
       "5          0.044316         -0.211945         -0.007291          0.050153   \n",
       "6          0.060493          0.040351          0.054170          0.012705   \n",
       "\n",
       "   Forecasted_value  \n",
       "0         -0.000362  \n",
       "1         -0.000514  \n",
       "2         -0.000339  \n",
       "3          0.000566  \n",
       "4         -0.000025  \n",
       "5          0.000234  \n",
       "6          0.000344  \n",
       "\n",
       "[7 rows x 42 columns]"
      ]
     },
     "execution_count": 21,
     "metadata": {},
     "output_type": "execute_result"
    }
   ],
   "source": [
    "Forecasted_values_df"
   ]
  },
  {
   "cell_type": "code",
   "execution_count": 22,
   "id": "dc23141b-5ab6-4d22-959e-507f1a2135d3",
   "metadata": {},
   "outputs": [],
   "source": [
    "sum_forecasted_values = Forecasted_values_df.sum(axis = 1)"
   ]
  },
  {
   "cell_type": "code",
   "execution_count": 23,
   "id": "cf12863b-93db-4635-8a78-e385087a6e7b",
   "metadata": {},
   "outputs": [
    {
     "data": {
      "text/plain": [
       "0    120.083619\n",
       "1    116.538534\n",
       "2    134.260614\n",
       "3    120.410041\n",
       "4    122.147701\n",
       "5    120.904704\n",
       "6    121.613581\n",
       "dtype: float64"
      ]
     },
     "execution_count": 23,
     "metadata": {},
     "output_type": "execute_result"
    }
   ],
   "source": [
    "sum_forecasted_values"
   ]
  },
  {
   "cell_type": "code",
   "execution_count": 24,
   "id": "e67dab1e-b8a2-4430-96cd-94a2f2e2386e",
   "metadata": {},
   "outputs": [],
   "source": [
    "# below is the code from previous work. we need to normalize both true and forecasted counts"
   ]
  },
  {
   "cell_type": "code",
   "execution_count": 25,
   "id": "25f0c44d-b60c-4fc2-a244-62e60bc4236d",
   "metadata": {},
   "outputs": [],
   "source": [
    "Im_6_true_val_list = list(True_values_df.iloc[6,:])"
   ]
  },
  {
   "cell_type": "code",
   "execution_count": 26,
   "id": "06769a86-a982-49d2-965e-a1df9487bbe6",
   "metadata": {},
   "outputs": [],
   "source": [
    "Im_0_pred_val_list = list(Forecasted_values_df.iloc[0,:])"
   ]
  },
  {
   "cell_type": "code",
   "execution_count": 27,
   "id": "87131028-0ec1-450c-a031-bcbd62491c97",
   "metadata": {},
   "outputs": [],
   "source": [
    "# we also need the correct image height and width\n",
    "image_path = '/common/statsgeneral/gayara/Spring_2024/S_lab_TasselNet/Block_1_TN/Block_1_images_and_xml/Block0101_2020_09_16.jpeg'"
   ]
  },
  {
   "cell_type": "code",
   "execution_count": 28,
   "id": "f669c470-1321-40f5-a53b-ab065277d17d",
   "metadata": {},
   "outputs": [],
   "source": [
    "read_image = plt.imread(image_path)"
   ]
  },
  {
   "cell_type": "code",
   "execution_count": 29,
   "id": "9a975aa0-7051-4fd7-bc24-3828d197c1af",
   "metadata": {},
   "outputs": [
    {
     "data": {
      "text/plain": [
       "(768, 1024, 3)"
      ]
     },
     "execution_count": 29,
     "metadata": {},
     "output_type": "execute_result"
    }
   ],
   "source": [
    "read_image.shape"
   ]
  },
  {
   "cell_type": "code",
   "execution_count": 30,
   "id": "a2f3d46e-8239-402d-8210-01557b448748",
   "metadata": {},
   "outputs": [],
   "source": [
    "img_height = read_image.shape[0]\n",
    "img_width = read_image.shape[1]"
   ]
  },
  {
   "cell_type": "code",
   "execution_count": 31,
   "id": "a346a559-4e7a-471b-a8c2-0c245e5f8e81",
   "metadata": {},
   "outputs": [],
   "source": [
    "# define a function to get the post-hoc prediction\n",
    "def normalized_counts_on_test_data(values_list, img_height, img_width, stride = 150, kernel_size = 300):\n",
    "    # create the empty count and density maps\n",
    "    # density map\n",
    "    Density_map = np.zeros((img_height, img_width))\n",
    "\n",
    "    # counts map\n",
    "    counts_map = np.zeros((img_height, img_width))\n",
    "    \n",
    "    # now, for every window, we will keep adding the values together and also add the counts\n",
    "    counter = 0\n",
    "#     need a counter to move into each predicted value in the pred values list\n",
    "    for ii in range(0, img_height, stride):\n",
    "        for jj in range(0, img_width, stride):\n",
    "#         operations for density map\n",
    "#             get the window of interest\n",
    "            new_window = Density_map[ii:ii + kernel_size,jj:jj+kernel_size]\n",
    "#     fill each with the value c_k\n",
    "            counts_window = np.full((new_window.shape[0], new_window.shape[1]), values_list[counter])\n",
    "#     get the shapes of this new window\n",
    "            cw_height = counts_window.shape[0]\n",
    "            cw_width = counts_window.shape[1]\n",
    "#         Do c_k/r_2\n",
    "            counts_window_new = counts_window/(cw_height*cw_width)\n",
    "#     This is the value in the window now\n",
    "            value_window = counts_window_new\n",
    "#     place the values in the corrsponding area of the density map\n",
    "            Density_map[ii:ii + kernel_size,jj:jj+kernel_size] = new_window + value_window\n",
    "\n",
    "#         Let's now focus on capturing the counts of the windows\n",
    "            new_window_c = counts_map[ii:ii + kernel_size,jj:jj+kernel_size]\n",
    "#     get the counts area\n",
    "            count = np.ones((new_window_c.shape[0], new_window_c.shape[1]))\n",
    "#     keep adding the counts to reflect the addition of densities\n",
    "            counts_map[ii:ii + kernel_size,jj:jj+kernel_size] = new_window_c + count\n",
    "#     increase the counter\n",
    "            counter = counter + 1\n",
    "            \n",
    "#         get the normalized count\n",
    "    normalized_counts = np.divide(Density_map, counts_map)\n",
    "\n",
    "#     entire count on the test set\n",
    "    pred_on_test = np.sum(normalized_counts)\n",
    "    \n",
    "#     return the predicted value\n",
    "    return(pred_on_test, normalized_counts)"
   ]
  },
  {
   "cell_type": "code",
   "execution_count": 32,
   "id": "fa884a5e-068f-41c0-b9a3-2a9e2d3b8bc9",
   "metadata": {},
   "outputs": [
    {
     "name": "stdout",
     "output_type": "stream",
     "text": [
      "CPU times: user 133 ms, sys: 15.9 ms, total: 149 ms\n",
      "Wall time: 149 ms\n"
     ]
    }
   ],
   "source": [
    "%%time\n",
    "# get the true counts in a loop based on normalization stratergy\n",
    "all_true_values_block_0103 = []\n",
    "for i in range(combined_df.shape[0]):\n",
    "    true_value_list = list(True_values_df.iloc[i,:])\n",
    "    norm_values = normalized_counts_on_test_data(true_value_list, img_height, img_width, stride = 150, kernel_size = 300)\n",
    "    all_true_values_block_0103.append(norm_values[0])"
   ]
  },
  {
   "cell_type": "code",
   "execution_count": 33,
   "id": "e2efc722-0867-464f-93e1-17f216d98e11",
   "metadata": {},
   "outputs": [
    {
     "data": {
      "text/plain": [
       "[38.711229894695975,\n",
       " 38.432178320042986,\n",
       " 41.384982904395834,\n",
       " 31.53002132885738,\n",
       " 30.70951560861435,\n",
       " 38.49258916592229,\n",
       " 28.163088439177926]"
      ]
     },
     "execution_count": 33,
     "metadata": {},
     "output_type": "execute_result"
    }
   ],
   "source": [
    "all_true_values_block_0103 "
   ]
  },
  {
   "cell_type": "code",
   "execution_count": 34,
   "id": "936ab7fb-44b9-4aa8-b148-a5f81d6012ed",
   "metadata": {},
   "outputs": [],
   "source": [
    "# These match with the true values from earlier (more or less)\n",
    "# 0    40.000660\n",
    "# 1    39.000002\n",
    "# 2    41.000000\n",
    "# 3    31.000000\n",
    "# 4    32.000000\n",
    "# 5    40.002085\n",
    "# 6    27.000176"
   ]
  },
  {
   "cell_type": "code",
   "execution_count": 35,
   "id": "94858691-e742-428f-9f52-771662e4a622",
   "metadata": {},
   "outputs": [
    {
     "name": "stdout",
     "output_type": "stream",
     "text": [
      "CPU times: user 185 ms, sys: 11.4 ms, total: 197 ms\n",
      "Wall time: 425 ms\n"
     ]
    }
   ],
   "source": [
    "%%time\n",
    "# get the forecasted counts in a loop\n",
    "all_pred_values_block_0103 = []\n",
    "for i in range(combined_df.shape[0]):\n",
    "    pred_value_list = list(Forecasted_values_df.iloc[i,:])\n",
    "    norm_values = normalized_counts_on_test_data(pred_value_list, img_height, img_width, stride = 150, kernel_size = 300)\n",
    "    # save the normalized map for later \n",
    "    save_name = 'normalized_maps/block_0103/' + 'normalized_count_map_image_' + str(i) + '.npy'\n",
    "    np.save(save_name, norm_values[1])\n",
    "    all_pred_values_block_0103.append(norm_values[0])"
   ]
  },
  {
   "cell_type": "code",
   "execution_count": 36,
   "id": "05abf54e-e08b-4cfa-82ec-c27a3d73e0dc",
   "metadata": {},
   "outputs": [
    {
     "data": {
      "text/plain": [
       "[35.775436225612474,\n",
       " 34.937822217782504,\n",
       " 39.533600742524996,\n",
       " 36.51786241223245,\n",
       " 36.71194243906225,\n",
       " 36.12734765407499,\n",
       " 36.54486812147502]"
      ]
     },
     "execution_count": 36,
     "metadata": {},
     "output_type": "execute_result"
    }
   ],
   "source": [
    "all_pred_values_block_0103"
   ]
  },
  {
   "cell_type": "code",
   "execution_count": 37,
   "id": "fdad64dc-eef9-4934-ab51-0239358d5856",
   "metadata": {},
   "outputs": [],
   "source": [
    "# # well we need to verify that the above true values are indeed correct\n",
    "# from preprocess script we have the following counts\n",
    "# [43, 49, 53, 59, 45, 42, 34, 39, 37, 43, 41, 39, 43, 40, 39, 41, 31, 32, 40, 29] # the last seven numbers match with what we have."
   ]
  },
  {
   "cell_type": "code",
   "execution_count": 38,
   "id": "c82cb6b5-096c-41cc-92d9-1819ba35bab3",
   "metadata": {},
   "outputs": [
    {
     "data": {
      "text/plain": [
       "4.796029749787816"
      ]
     },
     "execution_count": 38,
     "metadata": {},
     "output_type": "execute_result"
    }
   ],
   "source": [
    "# blockwise mean squared error\n",
    "rmse = np.sqrt(mean_squared_error(all_true_values_block_0103, all_pred_values_block_0103))\n",
    "rmse"
   ]
  },
  {
   "cell_type": "code",
   "execution_count": 39,
   "id": "574aea69-e6c6-439b-bb28-5fac882283d3",
   "metadata": {},
   "outputs": [
    {
     "data": {
      "text/plain": [
       "4.28840300588317"
      ]
     },
     "execution_count": 39,
     "metadata": {},
     "output_type": "execute_result"
    }
   ],
   "source": [
    "# blockwise mean absolute error\n",
    "mae = mean_absolute_error(all_true_values_block_0103, all_pred_values_block_0103)\n",
    "mae"
   ]
  },
  {
   "cell_type": "code",
   "execution_count": 40,
   "id": "a51b5447-2294-4a41-b10e-eb527ff2c2a6",
   "metadata": {},
   "outputs": [
    {
     "data": {
      "text/plain": [
       "PearsonRResult(statistic=0.19513058868043867, pvalue=0.6750064343261976)"
      ]
     },
     "execution_count": 40,
     "metadata": {},
     "output_type": "execute_result"
    }
   ],
   "source": [
    "corr = pearsonr(all_true_values_block_0103, all_pred_values_block_0103)\n",
    "corr"
   ]
  },
  {
   "cell_type": "code",
   "execution_count": 41,
   "id": "a4e0e85e-e435-4671-938b-832bef32ac96",
   "metadata": {},
   "outputs": [],
   "source": [
    "# get the rest of the metrics"
   ]
  },
  {
   "cell_type": "code",
   "execution_count": 42,
   "id": "630c8759-9f83-4c1a-902a-ffc793fadd28",
   "metadata": {},
   "outputs": [],
   "source": [
    "# Okay, now what about the rest?\n",
    "# we are on the path\n",
    "path_to_dfs = \"forecasted_counts/block_0103/\""
   ]
  },
  {
   "cell_type": "code",
   "execution_count": 43,
   "id": "3b4d45d7-7892-4467-a8e2-6d261af4a3f4",
   "metadata": {},
   "outputs": [],
   "source": [
    "all_contents = os.listdir(path_to_dfs)"
   ]
  },
  {
   "cell_type": "code",
   "execution_count": 44,
   "id": "6c3af345-d4f4-4508-8f56-fde678adac01",
   "metadata": {},
   "outputs": [],
   "source": [
    "# we need the npy files for all forecasts\n",
    "all_forecast_files = [file for file in all_contents if file[:3] == 'all']"
   ]
  },
  {
   "cell_type": "code",
   "execution_count": 45,
   "id": "28745567-afd2-4d9b-abfc-9713246c52cd",
   "metadata": {},
   "outputs": [
    {
     "data": {
      "text/plain": [
       "'all_forecasts_sub_11.npy'"
      ]
     },
     "execution_count": 45,
     "metadata": {},
     "output_type": "execute_result"
    }
   ],
   "source": [
    "# all_forecast_files\n",
    "all_forecast_files[0]"
   ]
  },
  {
   "cell_type": "code",
   "execution_count": 46,
   "id": "1e147a8b-2a22-4cfb-9161-8f9809b7853e",
   "metadata": {},
   "outputs": [],
   "source": [
    "# need these in sorted order\n",
    "final_all_forecast_files = ['all_forecasts_sub_' + str(i) + '.npy' for i in range(42)]"
   ]
  },
  {
   "cell_type": "code",
   "execution_count": 47,
   "id": "dc6d3c22-db74-4d4b-bbb9-c7bf0dccb678",
   "metadata": {},
   "outputs": [],
   "source": [
    "# final_all_forecast_files"
   ]
  },
  {
   "cell_type": "code",
   "execution_count": 48,
   "id": "c4447aa2-cc31-4ce5-bbf7-e4b05cfe2fd3",
   "metadata": {},
   "outputs": [],
   "source": [
    "# Okay, so these needs to be normalized too, when finding the coverages and widths - seems like a tedious task, will get to this in the next round of 2 hour work"
   ]
  },
  {
   "cell_type": "code",
   "execution_count": 49,
   "id": "407dd057-851e-495b-abec-2a021d05a3f7",
   "metadata": {},
   "outputs": [],
   "source": [
    "# load these npy files\n",
    "loaded_npy_files = []\n",
    "for file in final_all_forecast_files:\n",
    "    joined_path = os.path.join(path_to_dfs, file)\n",
    "    load_file = np.load(joined_path)\n",
    "    loaded_npy_files.append(load_file)"
   ]
  },
  {
   "cell_type": "code",
   "execution_count": 50,
   "id": "41bfa347-c7a1-4078-9dbb-15e23691a6ea",
   "metadata": {},
   "outputs": [
    {
     "data": {
      "text/plain": [
       "(1000, 4, 7)"
      ]
     },
     "execution_count": 50,
     "metadata": {},
     "output_type": "execute_result"
    }
   ],
   "source": [
    "loaded_npy_files[0].shape"
   ]
  },
  {
   "cell_type": "code",
   "execution_count": 51,
   "id": "70239d02-cc25-4f7f-8f88-60f5bce33153",
   "metadata": {},
   "outputs": [
    {
     "data": {
      "text/plain": [
       "42"
      ]
     },
     "execution_count": 51,
     "metadata": {},
     "output_type": "execute_result"
    }
   ],
   "source": [
    "len(loaded_npy_files)"
   ]
  },
  {
   "cell_type": "code",
   "execution_count": 52,
   "id": "2af21a8d-83ef-4077-927e-83ffd9bcd20c",
   "metadata": {},
   "outputs": [],
   "source": [
    "# we cannot add these up now like we used to do earlier, need to think how to tackle the arrays\n",
    "\n",
    "# reshape the (1000, 4) to 4000 to aid with the normalization?\n",
    "reshaped_npy_files = []\n",
    "for file in loaded_npy_files:\n",
    "    reshaped_file = file.reshape(4000,7)\n",
    "    reshaped_npy_files.append(reshaped_file)"
   ]
  },
  {
   "cell_type": "code",
   "execution_count": 53,
   "id": "f9d9c0bd-14ba-43ba-a66a-8707e91ba58a",
   "metadata": {},
   "outputs": [
    {
     "data": {
      "text/plain": [
       "(4000, 7)"
      ]
     },
     "execution_count": 53,
     "metadata": {},
     "output_type": "execute_result"
    }
   ],
   "source": [
    "reshaped_npy_files[0].shape"
   ]
  },
  {
   "cell_type": "code",
   "execution_count": 54,
   "id": "2c2cfc3a-8bcb-492b-bd25-ff381e231d5d",
   "metadata": {},
   "outputs": [
    {
     "data": {
      "text/plain": [
       "42"
      ]
     },
     "execution_count": 54,
     "metadata": {},
     "output_type": "execute_result"
    }
   ],
   "source": [
    "## Check the shaped of all the files\n",
    "# for i in reshaped_npy_files:\n",
    "#     print(i.shape)\n",
    "\n",
    "# length of this list\n",
    "len(reshaped_npy_files)"
   ]
  },
  {
   "cell_type": "code",
   "execution_count": 55,
   "id": "7e789eed-cf20-477f-9dad-6ab5cce71f6e",
   "metadata": {},
   "outputs": [],
   "source": [
    "# note that over here, for each of the test image, we should have 4000 final normalized predited values like earlier, and we can find the coverages and the widths"
   ]
  },
  {
   "cell_type": "code",
   "execution_count": 56,
   "id": "680ba87b-b463-44ae-bcc1-98553895a0e1",
   "metadata": {},
   "outputs": [],
   "source": [
    "# join all these together to get the predictions\n",
    "stacked_reshaped_files = np.stack(reshaped_npy_files)"
   ]
  },
  {
   "cell_type": "code",
   "execution_count": 57,
   "id": "24c79e86-a77e-4ab0-be38-ada3c78c3cb2",
   "metadata": {},
   "outputs": [
    {
     "data": {
      "text/plain": [
       "(42, 4000, 7)"
      ]
     },
     "execution_count": 57,
     "metadata": {},
     "output_type": "execute_result"
    }
   ],
   "source": [
    "# see the shape\n",
    "stacked_reshaped_files.shape"
   ]
  },
  {
   "cell_type": "code",
   "execution_count": 58,
   "id": "ceaf05b5-25a4-47fa-9fd8-30bcd3274542",
   "metadata": {},
   "outputs": [
    {
     "data": {
      "text/plain": [
       "1.0"
      ]
     },
     "execution_count": 58,
     "metadata": {},
     "output_type": "execute_result"
    }
   ],
   "source": [
    "# verify for random arrays the stacking is correctly done\n",
    "np.mean(reshaped_npy_files[18] == stacked_reshaped_files[18])"
   ]
  },
  {
   "cell_type": "code",
   "execution_count": 59,
   "id": "f58e2207-8444-4715-b34b-c514995836e7",
   "metadata": {},
   "outputs": [
    {
     "data": {
      "text/plain": [
       "(42, 4000)"
      ]
     },
     "execution_count": 59,
     "metadata": {},
     "output_type": "execute_result"
    }
   ],
   "source": [
    "# okay, now the image is in the final dimension of the shape - we have 7 test images\n",
    "\n",
    "# check the shape of the first image\n",
    "stacked_reshaped_files[:,:,0].shape"
   ]
  },
  {
   "cell_type": "code",
   "execution_count": 60,
   "id": "a1269a8b-6bdb-4274-96a6-6f75c9f940d1",
   "metadata": {},
   "outputs": [
    {
     "data": {
      "text/plain": [
       "(42, 4000)"
      ]
     },
     "execution_count": 60,
     "metadata": {},
     "output_type": "execute_result"
    }
   ],
   "source": [
    "# check the shape of the final image\n",
    "stacked_reshaped_files[:,:,6].shape"
   ]
  },
  {
   "cell_type": "code",
   "execution_count": 61,
   "id": "2141a3e4-1824-40ba-b960-0374c87ad622",
   "metadata": {},
   "outputs": [
    {
     "data": {
      "text/plain": [
       "4000"
      ]
     },
     "execution_count": 61,
     "metadata": {},
     "output_type": "execute_result"
    }
   ],
   "source": [
    "# define n chains as the number of predicted values\n",
    "n_chains = reshaped_npy_files[0].shape[0]\n",
    "n_chains"
   ]
  },
  {
   "cell_type": "code",
   "execution_count": 62,
   "id": "00251023-65a7-4a22-8b80-7de03e93030f",
   "metadata": {},
   "outputs": [],
   "source": [
    "# do this for a single image before doing a function to use for any image\n",
    "\n",
    "# do this for the 0th test image\n",
    "chosen_preds = stacked_reshaped_files[:,:,0]"
   ]
  },
  {
   "cell_type": "code",
   "execution_count": 63,
   "id": "a64114e5-2d43-4412-a131-7506de287dae",
   "metadata": {},
   "outputs": [
    {
     "data": {
      "text/plain": [
       "(42, 4000)"
      ]
     },
     "execution_count": 63,
     "metadata": {},
     "output_type": "execute_result"
    }
   ],
   "source": [
    "chosen_preds.shape"
   ]
  },
  {
   "cell_type": "code",
   "execution_count": 64,
   "id": "1dd739fd-f33e-4c80-b795-c4e0a607be0a",
   "metadata": {},
   "outputs": [
    {
     "name": "stdout",
     "output_type": "stream",
     "text": [
      "CPU times: user 1min 11s, sys: 6.26 ms, total: 1min 11s\n",
      "Wall time: 1min 12s\n"
     ]
    }
   ],
   "source": [
    "%%time\n",
    "all_preds_im_0 = []\n",
    "for chain in np.arange(chosen_preds.shape[-1]):\n",
    "    pred_val = normalized_counts_on_test_data(chosen_preds[:,chain], img_height, img_width, stride = 150, kernel_size = 300)\n",
    "    all_preds_im_0.append(pred_val[0])"
   ]
  },
  {
   "cell_type": "code",
   "execution_count": 65,
   "id": "b5c7c058-031d-47f1-ad6f-48b5c3f832fa",
   "metadata": {},
   "outputs": [
    {
     "data": {
      "text/plain": [
       "4000"
      ]
     },
     "execution_count": 65,
     "metadata": {},
     "output_type": "execute_result"
    }
   ],
   "source": [
    "len(all_preds_im_0)"
   ]
  },
  {
   "cell_type": "code",
   "execution_count": 66,
   "id": "24e386e3-cc80-4692-8fc9-350267afd296",
   "metadata": {},
   "outputs": [
    {
     "data": {
      "text/plain": [
       "35.77543742497176"
      ]
     },
     "execution_count": 66,
     "metadata": {},
     "output_type": "execute_result"
    }
   ],
   "source": [
    "np.mean(all_preds_im_0)"
   ]
  },
  {
   "cell_type": "code",
   "execution_count": 67,
   "id": "478915cf-6f7d-49ac-ba64-9636430efd9e",
   "metadata": {},
   "outputs": [
    {
     "name": "stdout",
     "output_type": "stream",
     "text": [
      "CPU times: user 8min 10s, sys: 33.5 ms, total: 8min 10s\n",
      "Wall time: 8min 13s\n"
     ]
    }
   ],
   "source": [
    "%%time\n",
    "# okay, now need to do this for all images\n",
    "\n",
    "all_image_preds = []\n",
    "for image in np.arange(stacked_reshaped_files.shape[-1]):\n",
    "    img_specific_preds = []\n",
    "    chosen_pred_vals = stacked_reshaped_files[:,:, image]\n",
    "    for chain in np.arange(chosen_pred_vals.shape[-1]):\n",
    "        pred_val = normalized_counts_on_test_data(chosen_pred_vals[:,chain], img_height, img_width, stride = 150, kernel_size = 300)\n",
    "        img_specific_preds.append(pred_val[0])\n",
    "    all_image_preds.append(img_specific_preds)"
   ]
  },
  {
   "cell_type": "code",
   "execution_count": 68,
   "id": "81ce6b74-4c50-4925-a4fa-61b80730eb91",
   "metadata": {},
   "outputs": [],
   "source": [
    "# okay the final output should be of shape (4000, 7)"
   ]
  },
  {
   "cell_type": "code",
   "execution_count": 69,
   "id": "c4535f4b-27f3-4232-a5c7-2fa1f371e807",
   "metadata": {},
   "outputs": [],
   "source": [
    "all_preds_array = np.array(all_image_preds)\n",
    "all_preds_array = np.swapaxes(all_preds_array, 0,1)"
   ]
  },
  {
   "cell_type": "code",
   "execution_count": 70,
   "id": "38b8f56c-4001-4004-96b2-4f9a3287c9cd",
   "metadata": {},
   "outputs": [
    {
     "data": {
      "text/plain": [
       "(4000, 7)"
      ]
     },
     "execution_count": 70,
     "metadata": {},
     "output_type": "execute_result"
    }
   ],
   "source": [
    "all_preds_array.shape"
   ]
  },
  {
   "cell_type": "code",
   "execution_count": 71,
   "id": "778b7c07-2ef5-43cc-87bd-d20514946e13",
   "metadata": {},
   "outputs": [],
   "source": [
    "li_train = np.percentile(all_preds_array, axis = 0, q = (2.5, 97.5))[0,:].reshape(-1,1)    \n",
    "ui_train = np.percentile(all_preds_array, axis = 0, q = (2.5, 97.5))[1,:].reshape(-1,1)"
   ]
  },
  {
   "cell_type": "code",
   "execution_count": 72,
   "id": "b664a6a2-aa64-40e6-b453-23dba3f224d8",
   "metadata": {},
   "outputs": [
    {
     "data": {
      "text/plain": [
       "array([[28.05195842],\n",
       "       [27.69461452],\n",
       "       [31.47349856],\n",
       "       [25.65850897],\n",
       "       [26.49711843],\n",
       "       [26.4090642 ],\n",
       "       [25.95994394]])"
      ]
     },
     "execution_count": 72,
     "metadata": {},
     "output_type": "execute_result"
    }
   ],
   "source": [
    "li_train"
   ]
  },
  {
   "cell_type": "code",
   "execution_count": 73,
   "id": "ba448cf5-b359-4aa9-b958-09d12db241ad",
   "metadata": {},
   "outputs": [
    {
     "data": {
      "text/plain": [
       "array([[41.81290128],\n",
       "       [40.98144151],\n",
       "       [45.68265617],\n",
       "       [47.51094283],\n",
       "       [46.75503375],\n",
       "       [45.35010598],\n",
       "       [46.83524425]])"
      ]
     },
     "execution_count": 73,
     "metadata": {},
     "output_type": "execute_result"
    }
   ],
   "source": [
    "ui_train"
   ]
  },
  {
   "cell_type": "code",
   "execution_count": 74,
   "id": "67631d8c-b380-45d3-bfb5-cd90c549213d",
   "metadata": {},
   "outputs": [],
   "source": [
    "width_train = ui_train - li_train\n",
    "avg_width_train = width_train.mean(0)[0]"
   ]
  },
  {
   "cell_type": "code",
   "execution_count": 75,
   "id": "b622d2de-e0d5-4a11-8df0-c780f1bfeac2",
   "metadata": {},
   "outputs": [
    {
     "data": {
      "text/plain": [
       "17.597659821426884"
      ]
     },
     "execution_count": 75,
     "metadata": {},
     "output_type": "execute_result"
    }
   ],
   "source": [
    "avg_width_train"
   ]
  },
  {
   "cell_type": "code",
   "execution_count": 76,
   "id": "ecb6f310-161d-4b8b-8878-21d750b31aff",
   "metadata": {},
   "outputs": [],
   "source": [
    "y_traina = all_true_values_block_0103"
   ]
  },
  {
   "cell_type": "code",
   "execution_count": 77,
   "id": "04f3f6b6-f621-4d48-9ca2-91207a93eeb7",
   "metadata": {},
   "outputs": [
    {
     "data": {
      "text/plain": [
       "1.0"
      ]
     },
     "execution_count": 77,
     "metadata": {},
     "output_type": "execute_result"
    }
   ],
   "source": [
    "ind_train = (y_traina >= li_train) & (y_traina <= ui_train)\n",
    "coverage_train= ind_train.mean(0)[0]\n",
    "coverage_train"
   ]
  },
  {
   "cell_type": "code",
   "execution_count": 78,
   "id": "459b6c87-a0d5-411b-b6e0-9a80db1776f4",
   "metadata": {},
   "outputs": [],
   "source": [
    "# See if the means across the 4000 values for the images match with the normalized counts we have"
   ]
  },
  {
   "cell_type": "code",
   "execution_count": 79,
   "id": "a19e8f96-ed64-40c3-92f4-e07871013253",
   "metadata": {},
   "outputs": [
    {
     "data": {
      "text/plain": [
       "array([35.77543742, 34.93782544, 39.53359887, 36.51786978, 36.71195072,\n",
       "       36.12734718, 36.54487384])"
      ]
     },
     "execution_count": 79,
     "metadata": {},
     "output_type": "execute_result"
    }
   ],
   "source": [
    "all_preds_array.mean(axis = 0)"
   ]
  },
  {
   "cell_type": "code",
   "execution_count": 80,
   "id": "3446f6de-5cf8-427a-af6b-18be2837120f",
   "metadata": {},
   "outputs": [],
   "source": [
    "# # values from earlier for comparison\n",
    "# [35.775436225612474,\n",
    "#  34.937822217782504,\n",
    "#  39.533600742524996,\n",
    "#  36.51786241223245,\n",
    "#  36.71194243906225,\n",
    "#  36.12734765407499,\n",
    "#  36.54486812147502]"
   ]
  },
  {
   "cell_type": "code",
   "execution_count": 81,
   "id": "1a2d93ca-ac8e-46fe-9b25-f7cb0aa292fd",
   "metadata": {},
   "outputs": [],
   "source": [
    "# They do match, so I believe the normalization we have written works good"
   ]
  }
 ],
 "metadata": {
  "kernelspec": {
   "display_name": "Python (tfp_env_TN_CPU)",
   "language": "python",
   "name": "tfp_env_tn_cpu"
  },
  "language_info": {
   "codemirror_mode": {
    "name": "ipython",
    "version": 3
   },
   "file_extension": ".py",
   "mimetype": "text/x-python",
   "name": "python",
   "nbconvert_exporter": "python",
   "pygments_lexer": "ipython3",
   "version": "3.11.7"
  }
 },
 "nbformat": 4,
 "nbformat_minor": 5
}
