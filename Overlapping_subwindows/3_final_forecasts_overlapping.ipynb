{
 "cells": [
  {
   "cell_type": "code",
   "execution_count": null,
   "id": "792bd9f2-28fd-4116-89fa-5bd269c51a47",
   "metadata": {},
   "outputs": [],
   "source": [
    "import pandas as pd\n",
    "import numpy as np\n",
    "import matplotlib.pyplot as plt\n",
    "import os\n",
    "from sklearn.metrics import mean_absolute_error, mean_squared_error\n",
    "from scipy.stats import pearsonr"
   ]
  },
  {
   "cell_type": "code",
   "execution_count": null,
   "id": "16cdfbd4-b38a-43fd-b756-676ca221b4bc",
   "metadata": {},
   "outputs": [],
   "source": [
    "# path to dataframes\n",
    "path_to_dfs = \"forecasted_counts/block_0106/\""
   ]
  },
  {
   "cell_type": "code",
   "execution_count": null,
   "id": "e517faff-1694-419f-bd7d-13e76cefa34f",
   "metadata": {},
   "outputs": [],
   "source": [
    "# os.listdir(path_to_dfs)"
   ]
  },
  {
   "cell_type": "code",
   "execution_count": null,
   "id": "34a0b10e-63ef-433d-bc8a-21cccaf3ece2",
   "metadata": {},
   "outputs": [],
   "source": [
    "averaged_forecasts_csvs = []\n",
    "for file in os.listdir(path_to_dfs):\n",
    "    if file[:8] =='averaged':\n",
    "        averaged_forecasts_csvs.append(file)"
   ]
  },
  {
   "cell_type": "code",
   "execution_count": null,
   "id": "dbdb3d7e-5b1a-4bab-8edc-34db54869856",
   "metadata": {},
   "outputs": [],
   "source": [
    "averaged_forecasts_csvs.sort()\n",
    "averaged_forecasts_csvs"
   ]
  },
  {
   "cell_type": "code",
   "execution_count": null,
   "id": "e64ec5d3-ef54-423f-af9a-56eca9d9e82e",
   "metadata": {},
   "outputs": [],
   "source": [
    "# add the 10, 11 at the end\n",
    "csv_files_10_11 = ['averaged_forecasts_sub_10.csv', 'averaged_forecasts_sub_11.csv']"
   ]
  },
  {
   "cell_type": "code",
   "execution_count": null,
   "id": "0ebe0a4d-521c-496e-a946-269fba9f29f8",
   "metadata": {},
   "outputs": [],
   "source": [
    "other_files = [i for i in averaged_forecasts_csvs if i not in csv_files_10_11]"
   ]
  },
  {
   "cell_type": "code",
   "execution_count": null,
   "id": "7cb7f455-42e2-4846-a1c3-04c626eb6536",
   "metadata": {},
   "outputs": [],
   "source": [
    "ordered_csv_files = other_files + csv_files_10_11"
   ]
  },
  {
   "cell_type": "code",
   "execution_count": null,
   "id": "c0ab9bbb-b6de-42ee-ab0f-dbbf3d0e5233",
   "metadata": {},
   "outputs": [],
   "source": [
    "ordered_csv_files"
   ]
  },
  {
   "cell_type": "code",
   "execution_count": null,
   "id": "d7210813-d54e-4a90-a3c9-509b6e153350",
   "metadata": {},
   "outputs": [],
   "source": [
    "all_dfs = []\n",
    "for file in ordered_csv_files:\n",
    "    read_df = pd.read_csv(path_to_dfs + '/' + file)\n",
    "    all_dfs.append(read_df)"
   ]
  },
  {
   "cell_type": "code",
   "execution_count": null,
   "id": "e6536dbe-60f7-4ced-bf03-7fbbd91d0aa5",
   "metadata": {},
   "outputs": [],
   "source": [
    "# make a single dataframe out of the many\n",
    "combined_df = pd.concat(all_dfs, axis = 1)"
   ]
  },
  {
   "cell_type": "code",
   "execution_count": null,
   "id": "cabf05c1-2fcf-43f6-a413-cf325d7e705b",
   "metadata": {},
   "outputs": [],
   "source": [
    "combined_df.head()"
   ]
  },
  {
   "cell_type": "code",
   "execution_count": null,
   "id": "2bd7311d-b36e-4352-9a44-ebec9719e9ae",
   "metadata": {},
   "outputs": [],
   "source": [
    "combined_df.shape"
   ]
  },
  {
   "cell_type": "code",
   "execution_count": null,
   "id": "ae952a0a-3035-4353-aede-905d22bd842f",
   "metadata": {},
   "outputs": [],
   "source": [
    "# get the true values\n",
    "True_values_df = combined_df[['True_value']]"
   ]
  },
  {
   "cell_type": "code",
   "execution_count": null,
   "id": "baf73275-144e-4bb3-bd47-d94c519f86a2",
   "metadata": {},
   "outputs": [],
   "source": [
    "True_values_df"
   ]
  },
  {
   "cell_type": "code",
   "execution_count": null,
   "id": "7645988e-8d19-400d-b5c9-301b6819514b",
   "metadata": {},
   "outputs": [],
   "source": [
    "# sum the true values - since the sub images are not overlapping, we can get the sum across columns in the above dataframe\n",
    "sum_true_values = True_values_df.sum(axis = 1)"
   ]
  },
  {
   "cell_type": "code",
   "execution_count": null,
   "id": "17b55908-f95a-4308-a49d-92058bd738af",
   "metadata": {},
   "outputs": [],
   "source": [
    "sum_true_values"
   ]
  },
  {
   "cell_type": "code",
   "execution_count": null,
   "id": "a516e483-354a-4c8f-b9b8-d464a6e7c216",
   "metadata": {},
   "outputs": [],
   "source": [
    "# get the forecasted values\n",
    "Forecasted_values_df = combined_df[['Forecasted_value']]"
   ]
  },
  {
   "cell_type": "code",
   "execution_count": null,
   "id": "ea17d667-b9de-4625-9a95-576446a115a9",
   "metadata": {},
   "outputs": [],
   "source": [
    "Forecasted_values_df"
   ]
  },
  {
   "cell_type": "code",
   "execution_count": null,
   "id": "a52bb5de-a241-49a4-b6ab-4702fda67c15",
   "metadata": {},
   "outputs": [],
   "source": [
    "Forecasted_values_df.shape"
   ]
  },
  {
   "cell_type": "code",
   "execution_count": null,
   "id": "2e90c508-5b8b-4983-aac2-5c35f189baea",
   "metadata": {},
   "outputs": [],
   "source": [
    "sum_forecasted_values = Forecasted_values_df.sum(axis = 1)"
   ]
  },
  {
   "cell_type": "code",
   "execution_count": null,
   "id": "2f240410-e460-4b15-a1cc-f187ad58adcb",
   "metadata": {},
   "outputs": [],
   "source": [
    "sum_forecasted_values"
   ]
  },
  {
   "cell_type": "code",
   "execution_count": null,
   "id": "d39a2bff-50da-4a8c-a839-6fdc59464541",
   "metadata": {},
   "outputs": [],
   "source": [
    "# concatenate the sum dataframes\n",
    "block_0106_true_and_forecasted_values_df = pd.concat((sum_true_values, sum_forecasted_values), axis = 1)"
   ]
  },
  {
   "cell_type": "code",
   "execution_count": null,
   "id": "ece45dcf-d266-403a-a712-cfebeabbb81b",
   "metadata": {},
   "outputs": [],
   "source": [
    "block_0106_true_and_forecasted_values_df.columns = [\"True_count\", \"Forecasted_count\"]"
   ]
  },
  {
   "cell_type": "code",
   "execution_count": null,
   "id": "2e898fe4-6a0b-4496-a6a0-b8168adafc3a",
   "metadata": {},
   "outputs": [],
   "source": [
    "block_0106_true_and_forecasted_values_df"
   ]
  },
  {
   "cell_type": "code",
   "execution_count": null,
   "id": "bca68bdf-e1d6-47a8-9896-6d78365c5fd9",
   "metadata": {},
   "outputs": [],
   "source": [
    "block_0106_true_and_forecasted_values_df.to_csv(\"final_forecasted_counts/block_0106_finals_forecasts.csv\", index = False)"
   ]
  },
  {
   "cell_type": "code",
   "execution_count": null,
   "id": "fdad64dc-eef9-4934-ab51-0239358d5856",
   "metadata": {},
   "outputs": [],
   "source": [
    "# # well we need to verify that the above true values are indeed correct\n",
    "# from preprocess script we have the following counts\n",
    "# [43, 49, 53, 59, 45, 42, 34, 39, 37, 43, 41, 39, 43, 40, 39, 41, 31, 32, 40, 29] # the last seven numbers match with what we have."
   ]
  },
  {
   "cell_type": "code",
   "execution_count": null,
   "id": "c82cb6b5-096c-41cc-92d9-1819ba35bab3",
   "metadata": {},
   "outputs": [],
   "source": [
    "# blockwise mean squared error\n",
    "rmse = np.sqrt(mean_squared_error(sum_true_values, sum_forecasted_values))\n",
    "rmse"
   ]
  },
  {
   "cell_type": "code",
   "execution_count": null,
   "id": "574aea69-e6c6-439b-bb28-5fac882283d3",
   "metadata": {},
   "outputs": [],
   "source": [
    "# blockwise mean absolute error\n",
    "mae = mean_absolute_error(sum_true_values, sum_forecasted_values)\n",
    "mae"
   ]
  },
  {
   "cell_type": "code",
   "execution_count": null,
   "id": "a51b5447-2294-4a41-b10e-eb527ff2c2a6",
   "metadata": {},
   "outputs": [],
   "source": [
    "corr = pearsonr(sum_true_values, sum_forecasted_values)\n",
    "corr"
   ]
  },
  {
   "cell_type": "code",
   "execution_count": null,
   "id": "9c64f574-9dd0-466b-b037-130d6cb3dce3",
   "metadata": {},
   "outputs": [],
   "source": [
    "# May be define a function for this, so that it will be easier to get the forecasted dataframes for all blocks"
   ]
  },
  {
   "cell_type": "code",
   "execution_count": null,
   "id": "0ebf338b-e1c0-4fba-a7ab-8512c98d9939",
   "metadata": {},
   "outputs": [],
   "source": [
    "# we need first the path to dfs per block\n",
    "def get_final_forecasted_dfs(path_to_dfs_in_block, block_name, true_values_col_name, forecasted_values_col_name, forecast_path):\n",
    "    # get the csv files that have the averaged \n",
    "    average_frcts_csv_files = [file for file in os.listdir(path_to_dfs_in_block) if file[:8] == 'averaged']\n",
    "    # sort these files\n",
    "    average_frcts_csv_files.sort()\n",
    "    # get the later images to the end of the list\n",
    "    csv_files_10_11 = ['averaged_forecasts_sub_10.csv', 'averaged_forecasts_sub_11.csv']\n",
    "    # remove these from the total list\n",
    "    other_files = [i for i in average_frcts_csv_files if i not in csv_files_10_11]\n",
    "    # add the csv files in order\n",
    "    ordered_csv_files = other_files + csv_files_10_11\n",
    "    # print the ordered list of csv files\n",
    "    print(ordered_csv_files)\n",
    "    # read and append the list of the dfs\n",
    "    all_dfs = [pd.read_csv(path_to_dfs_in_block + '/' + df) for df in ordered_csv_files]\n",
    "    # combine all these dfs together\n",
    "    combined_df = pd.concat(all_dfs, axis = 1)\n",
    "    print(combined_df.shape)\n",
    "    # extract the true value columns only across the sub-images\n",
    "    True_counts_df = combined_df[[true_values_col_name]]\n",
    "    # sum the true values dfs\n",
    "    total_true_values = True_counts_df.sum(axis = 1)\n",
    "    # print these true values for later comparisons\n",
    "    print(total_true_values)\n",
    "    # extract the true value columns across sub images\n",
    "    Forecasted_counts_df = combined_df[[forecasted_values_col_name]]\n",
    "    # sum the forecasted values\n",
    "    total_forecasted_values = Forecasted_counts_df.sum(axis = 1)\n",
    "    # concatenate the sum dataframes\n",
    "    true_and_forecasted_values_df = pd.concat((total_true_values, total_forecasted_values), axis = 1)\n",
    "    # add column titles to the df\n",
    "    true_and_forecasted_values_df.columns = [\"True_count\", \"Forecasted_count\"]\n",
    "    # save this file\n",
    "    file_name = forecast_path + '/' + block_name + '.csv'\n",
    "    true_and_forecasted_values_df.to_csv(file_name, index = False)\n",
    "    # blockwise mean squared error\n",
    "    rmse = np.sqrt(mean_squared_error(total_true_values, total_forecasted_values))\n",
    "    # blockwise mae\n",
    "    mae = mean_absolute_error(total_true_values, total_forecasted_values)\n",
    "\n",
    "    return(true_and_forecasted_values_df, rmse, mae,ordered_csv_files)"
   ]
  },
  {
   "cell_type": "code",
   "execution_count": null,
   "id": "33fbacb2-2aa9-427f-ab50-fcbb42801a40",
   "metadata": {},
   "outputs": [],
   "source": [
    "# see if the function works\n",
    "df, rmse_0106, mae_0106, ordered_files_0106 = get_final_forecasted_dfs(path_to_dfs, 'block_0106', 'True_value', 'Forecasted_value', 'final_forecasted_counts')"
   ]
  },
  {
   "cell_type": "code",
   "execution_count": null,
   "id": "cb73647d-17d4-4e7a-af87-587b7ab4697f",
   "metadata": {},
   "outputs": [],
   "source": [
    "df"
   ]
  },
  {
   "cell_type": "code",
   "execution_count": null,
   "id": "840f4278-f7ce-49c4-bec6-4bef81852faa",
   "metadata": {},
   "outputs": [],
   "source": [
    "rmse_0106"
   ]
  },
  {
   "cell_type": "code",
   "execution_count": null,
   "id": "cafca5c1-b8e2-492b-b939-225fda30f2a9",
   "metadata": {},
   "outputs": [],
   "source": [
    "mae_0106"
   ]
  },
  {
   "cell_type": "code",
   "execution_count": null,
   "id": "5869d4df-b5da-463e-a86b-30de60f04b79",
   "metadata": {},
   "outputs": [],
   "source": [
    "ordered_files_0106"
   ]
  },
  {
   "cell_type": "code",
   "execution_count": null,
   "id": "1f46179d-710d-4f08-87f4-93c5a59f0fb7",
   "metadata": {},
   "outputs": [],
   "source": [
    "# Getting the coverages and the widths for the forecasted values - This can be done with the saved all forecasts npy files\n",
    "# location for the forecast files (all forecasts)\n",
    "location_all_forecasts = 'forecasted_counts/block_0106'\n",
    "\n",
    "# contents at this location\n",
    "all_contents = os.listdir(location_all_forecasts)\n",
    "all_contents.sort()"
   ]
  },
  {
   "cell_type": "code",
   "execution_count": null,
   "id": "531f8e8c-e002-45de-8d32-6a4d78439a19",
   "metadata": {},
   "outputs": [],
   "source": [
    "# we need the npy files for all forecasts\n",
    "all_forecast_files = [file for file in all_contents if file[:3] == 'all']"
   ]
  },
  {
   "cell_type": "code",
   "execution_count": null,
   "id": "6971d19b-7cf3-40a6-8026-c2992188f5fb",
   "metadata": {},
   "outputs": [],
   "source": [
    "# arange the files in order\n",
    "later_npy_files = ['all_forecasts_sub_10.npy', 'all_forecasts_sub_11.npy']\n",
    "first_files = [file for file in all_forecast_files if file not in later_npy_files]"
   ]
  },
  {
   "cell_type": "code",
   "execution_count": null,
   "id": "5c8db109-fa2f-48b8-b699-3973f6f259bb",
   "metadata": {},
   "outputs": [],
   "source": [
    "final_all_forecast_files = first_files + later_npy_files"
   ]
  },
  {
   "cell_type": "code",
   "execution_count": null,
   "id": "71c2e5e0-57a1-487f-97ae-fe14edff435f",
   "metadata": {},
   "outputs": [],
   "source": [
    "loaded_npy_files = []\n",
    "for file in final_all_forecast_files:\n",
    "    joined_path = os.path.join(location_all_forecasts, file)\n",
    "    load_file = np.load(joined_path)\n",
    "    loaded_npy_files.append(load_file)"
   ]
  },
  {
   "cell_type": "code",
   "execution_count": null,
   "id": "f1412dc1-4d19-4fe5-8eb4-71ea21313a96",
   "metadata": {},
   "outputs": [],
   "source": [
    "len(loaded_npy_files)"
   ]
  },
  {
   "cell_type": "code",
   "execution_count": null,
   "id": "68455131-2710-402d-88e1-00bb40ef7bbf",
   "metadata": {},
   "outputs": [],
   "source": [
    "output = sum(loaded_npy_files)"
   ]
  },
  {
   "cell_type": "code",
   "execution_count": null,
   "id": "904c78d8-b419-4733-b104-cfe4ece3d8f8",
   "metadata": {},
   "outputs": [],
   "source": [
    "output.shape"
   ]
  },
  {
   "cell_type": "code",
   "execution_count": null,
   "id": "660e2d50-ad84-4be0-a07f-784f71b2cf70",
   "metadata": {},
   "outputs": [],
   "source": [
    "final_array = output.reshape(4000,7)"
   ]
  },
  {
   "cell_type": "code",
   "execution_count": null,
   "id": "ad3a472a-a81a-4ac6-92ca-7c57b3ff0138",
   "metadata": {},
   "outputs": [],
   "source": [
    "final_array"
   ]
  },
  {
   "cell_type": "code",
   "execution_count": null,
   "id": "99e9934e-1992-447d-b7f4-1c1006af1c7c",
   "metadata": {},
   "outputs": [],
   "source": [
    "li_train = np.percentile(final_array, axis = 0, q = (2.5, 97.5))[0,:].reshape(-1,1)    \n",
    "ui_train = np.percentile(final_array, axis = 0, q = (2.5, 97.5))[1,:].reshape(-1,1)"
   ]
  },
  {
   "cell_type": "code",
   "execution_count": null,
   "id": "9e74fa7e-b298-4f54-a9b2-9c56dc629fcb",
   "metadata": {},
   "outputs": [],
   "source": [
    "li_train"
   ]
  },
  {
   "cell_type": "code",
   "execution_count": null,
   "id": "18a79041-8b56-46d0-8258-cfd42d010716",
   "metadata": {},
   "outputs": [],
   "source": [
    "ui_train"
   ]
  },
  {
   "cell_type": "code",
   "execution_count": null,
   "id": "d6a49f50-f110-4291-b8bd-60bd23d22b66",
   "metadata": {},
   "outputs": [],
   "source": [
    "width_train = ui_train - li_train\n",
    "avg_width_train = width_train.mean(0)[0]"
   ]
  },
  {
   "cell_type": "code",
   "execution_count": null,
   "id": "779b45d0-cb9f-45e7-8ff5-96dfc86823c6",
   "metadata": {},
   "outputs": [],
   "source": [
    "avg_width_train"
   ]
  },
  {
   "cell_type": "code",
   "execution_count": null,
   "id": "bdd312c8-54da-4ee1-83ea-4eb810720389",
   "metadata": {},
   "outputs": [],
   "source": [
    "y_traina = block_0106_true_and_forecasted_values_df[[\"True_count\"]].values"
   ]
  },
  {
   "cell_type": "code",
   "execution_count": null,
   "id": "82a9df16-15ce-4cbc-8adf-da69a42379ce",
   "metadata": {},
   "outputs": [],
   "source": [
    "ind_train = (y_traina >= li_train) & (y_traina <= ui_train)\n",
    "coverage_train= ind_train.mean(0)[0]"
   ]
  },
  {
   "cell_type": "code",
   "execution_count": null,
   "id": "35ad80c2-95f8-4360-b658-f0a205295177",
   "metadata": {},
   "outputs": [],
   "source": [
    "coverage_train"
   ]
  },
  {
   "cell_type": "markdown",
   "id": "0e96fe53-c382-4e4d-a6cf-46d180fbdf03",
   "metadata": {},
   "source": [
    "Verify the true counts we have for the test data are indeed correct"
   ]
  },
  {
   "cell_type": "code",
   "execution_count": null,
   "id": "0c8aba1e-e9cd-4435-9999-a405bae32a0e",
   "metadata": {},
   "outputs": [],
   "source": [
    "# Verify the true counts - from np arrays - location Block_0103/sub_images_and_counts\n",
    "\n",
    "sub_count_loc = 'all_preprocessed_data/Block_0106/sub_images_and_counts'"
   ]
  },
  {
   "cell_type": "code",
   "execution_count": null,
   "id": "d015ac14-3c7c-47c5-abc9-9c0e7e89ad9a",
   "metadata": {},
   "outputs": [],
   "source": [
    "sub_density_maps = [i for i in os.listdir(sub_count_loc) if i.split(\".\")[0][-7:] == 'density']\n",
    "sub_density_maps.sort()"
   ]
  },
  {
   "cell_type": "code",
   "execution_count": null,
   "id": "77aa955b-e84e-4bbe-b854-6d04add2ed33",
   "metadata": {},
   "outputs": [],
   "source": [
    "# get the test dates\n",
    "test_time_periods = ['2020_08_26', '2020_08_27', '2020_08_28' ,'2020_08_31', '2020_09_02', '2020_09_07', '2020_09_16']"
   ]
  },
  {
   "cell_type": "code",
   "execution_count": null,
   "id": "4636b0bc-1590-4756-b86b-608620e1b521",
   "metadata": {},
   "outputs": [],
   "source": [
    "test_time_periods = ['Block0106_' + i for i in test_time_periods]"
   ]
  },
  {
   "cell_type": "code",
   "execution_count": null,
   "id": "5d92a668-24cd-430c-9637-94714da361b2",
   "metadata": {},
   "outputs": [],
   "source": [
    "# print the test dates\n",
    "test_time_periods"
   ]
  },
  {
   "cell_type": "code",
   "execution_count": null,
   "id": "d9b8161c-f03c-4f07-8e94-7397626efdf6",
   "metadata": {},
   "outputs": [],
   "source": [
    "# get the density maps for these days only for the computation of the total true counts of the test images\n",
    "test_density_maps = [i for i in sub_density_maps if i[:20] in test_time_periods]\n",
    "test_density_maps.sort()"
   ]
  },
  {
   "cell_type": "code",
   "execution_count": null,
   "id": "0fd6b163-8f24-469a-9ad4-0ea219dcb23a",
   "metadata": {},
   "outputs": [],
   "source": [
    "%%time\n",
    "# get the true counts\n",
    "true_counts_in_order = []\n",
    "step = 0\n",
    "# we have only seven time points\n",
    "for u in range(7):\n",
    "    catch_counts = []\n",
    "    # for each time steps we have 12 images, and since the sub windows are not overlapping we can add the values straightaway eben without sorting\n",
    "    for j in range(step, step + 12):\n",
    "        total_count = np.sum(np.load(os.path.join(sub_count_loc, test_density_maps[j])))\n",
    "        catch_counts.append(total_count)\n",
    "    true_counts_in_order.append(np.sum(catch_counts))\n",
    "    step = step + 12"
   ]
  },
  {
   "cell_type": "code",
   "execution_count": null,
   "id": "f943ed9e-52f6-4d1e-9baa-a1b987a8c581",
   "metadata": {},
   "outputs": [],
   "source": [
    "true_counts_in_order"
   ]
  },
  {
   "cell_type": "code",
   "execution_count": null,
   "id": "30df4fea-11dc-429a-860f-137595b16645",
   "metadata": {},
   "outputs": [],
   "source": [
    "df[['True_count']].values.flatten()"
   ]
  },
  {
   "cell_type": "code",
   "execution_count": null,
   "id": "8c262f1a-0ba3-45b8-8a0e-7badd89a61df",
   "metadata": {},
   "outputs": [],
   "source": [
    "# see if the two values we get match "
   ]
  },
  {
   "cell_type": "code",
   "execution_count": null,
   "id": "670e1295-1b80-4b32-a02d-2348a931f508",
   "metadata": {},
   "outputs": [],
   "source": [
    "np.mean(np.round(true_counts_in_order, 0) == np.round(df[['True_count']].values.flatten(), 0))"
   ]
  }
 ],
 "metadata": {
  "kernelspec": {
   "display_name": "Python (tfp_env_TN_CPU)",
   "language": "python",
   "name": "tfp_env_tn_cpu"
  },
  "language_info": {
   "codemirror_mode": {
    "name": "ipython",
    "version": 3
   },
   "file_extension": ".py",
   "mimetype": "text/x-python",
   "name": "python",
   "nbconvert_exporter": "python",
   "pygments_lexer": "ipython3",
   "version": "3.11.7"
  }
 },
 "nbformat": 4,
 "nbformat_minor": 5
}
