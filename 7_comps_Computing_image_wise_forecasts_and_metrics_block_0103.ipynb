{
 "cells": [
  {
   "cell_type": "code",
   "execution_count": 1,
   "id": "792bd9f2-28fd-4116-89fa-5bd269c51a47",
   "metadata": {},
   "outputs": [],
   "source": [
    "import pandas as pd\n",
    "import numpy as np\n",
    "import matplotlib.pyplot as plt\n",
    "import os\n",
    "from sklearn.metrics import mean_absolute_error, mean_squared_error, r2_score\n",
    "from scipy.stats import pearsonr"
   ]
  },
  {
   "cell_type": "code",
   "execution_count": 2,
   "id": "16cdfbd4-b38a-43fd-b756-676ca221b4bc",
   "metadata": {},
   "outputs": [],
   "source": [
    "# path to dataframes\n",
    "path_to_dfs = \"Reproduce_comps/forecasted_counts/block_0103/\""
   ]
  },
  {
   "cell_type": "code",
   "execution_count": 3,
   "id": "e517faff-1694-419f-bd7d-13e76cefa34f",
   "metadata": {},
   "outputs": [],
   "source": [
    "# os.listdir(path_to_dfs)"
   ]
  },
  {
   "cell_type": "code",
   "execution_count": 4,
   "id": "34a0b10e-63ef-433d-bc8a-21cccaf3ece2",
   "metadata": {},
   "outputs": [],
   "source": [
    "averaged_forecasts_csvs = []\n",
    "for file in os.listdir(path_to_dfs):\n",
    "    if file[:8] =='averaged':\n",
    "        averaged_forecasts_csvs.append(file)"
   ]
  },
  {
   "cell_type": "code",
   "execution_count": 5,
   "id": "dbdb3d7e-5b1a-4bab-8edc-34db54869856",
   "metadata": {},
   "outputs": [
    {
     "data": {
      "text/plain": [
       "['averaged_forecasts_sub_0.csv',\n",
       " 'averaged_forecasts_sub_1.csv',\n",
       " 'averaged_forecasts_sub_10.csv',\n",
       " 'averaged_forecasts_sub_11.csv',\n",
       " 'averaged_forecasts_sub_2.csv',\n",
       " 'averaged_forecasts_sub_3.csv',\n",
       " 'averaged_forecasts_sub_4.csv',\n",
       " 'averaged_forecasts_sub_5.csv',\n",
       " 'averaged_forecasts_sub_6.csv',\n",
       " 'averaged_forecasts_sub_7.csv',\n",
       " 'averaged_forecasts_sub_8.csv',\n",
       " 'averaged_forecasts_sub_9.csv']"
      ]
     },
     "execution_count": 5,
     "metadata": {},
     "output_type": "execute_result"
    }
   ],
   "source": [
    "averaged_forecasts_csvs.sort()\n",
    "averaged_forecasts_csvs"
   ]
  },
  {
   "cell_type": "code",
   "execution_count": 6,
   "id": "e64ec5d3-ef54-423f-af9a-56eca9d9e82e",
   "metadata": {},
   "outputs": [],
   "source": [
    "# add the 10, 11 at the end\n",
    "csv_files_10_11 = ['averaged_forecasts_sub_10.csv', 'averaged_forecasts_sub_11.csv']"
   ]
  },
  {
   "cell_type": "code",
   "execution_count": 7,
   "id": "0ebe0a4d-521c-496e-a946-269fba9f29f8",
   "metadata": {},
   "outputs": [],
   "source": [
    "other_files = [i for i in averaged_forecasts_csvs if i not in csv_files_10_11]"
   ]
  },
  {
   "cell_type": "code",
   "execution_count": 8,
   "id": "7cb7f455-42e2-4846-a1c3-04c626eb6536",
   "metadata": {},
   "outputs": [],
   "source": [
    "ordered_csv_files = other_files + csv_files_10_11"
   ]
  },
  {
   "cell_type": "code",
   "execution_count": 9,
   "id": "c0ab9bbb-b6de-42ee-ab0f-dbbf3d0e5233",
   "metadata": {},
   "outputs": [
    {
     "data": {
      "text/plain": [
       "['averaged_forecasts_sub_0.csv',\n",
       " 'averaged_forecasts_sub_1.csv',\n",
       " 'averaged_forecasts_sub_2.csv',\n",
       " 'averaged_forecasts_sub_3.csv',\n",
       " 'averaged_forecasts_sub_4.csv',\n",
       " 'averaged_forecasts_sub_5.csv',\n",
       " 'averaged_forecasts_sub_6.csv',\n",
       " 'averaged_forecasts_sub_7.csv',\n",
       " 'averaged_forecasts_sub_8.csv',\n",
       " 'averaged_forecasts_sub_9.csv',\n",
       " 'averaged_forecasts_sub_10.csv',\n",
       " 'averaged_forecasts_sub_11.csv']"
      ]
     },
     "execution_count": 9,
     "metadata": {},
     "output_type": "execute_result"
    }
   ],
   "source": [
    "ordered_csv_files"
   ]
  },
  {
   "cell_type": "code",
   "execution_count": 10,
   "id": "d7210813-d54e-4a90-a3c9-509b6e153350",
   "metadata": {},
   "outputs": [],
   "source": [
    "all_dfs = []\n",
    "for file in ordered_csv_files:\n",
    "    read_df = pd.read_csv(path_to_dfs + '/' + file)\n",
    "    all_dfs.append(read_df)"
   ]
  },
  {
   "cell_type": "code",
   "execution_count": 11,
   "id": "e6536dbe-60f7-4ced-bf03-7fbbd91d0aa5",
   "metadata": {},
   "outputs": [],
   "source": [
    "# make a single dataframe out of the many\n",
    "combined_df = pd.concat(all_dfs, axis = 1)"
   ]
  },
  {
   "cell_type": "code",
   "execution_count": 12,
   "id": "cabf05c1-2fcf-43f6-a413-cf325d7e705b",
   "metadata": {},
   "outputs": [
    {
     "data": {
      "text/html": [
       "<div>\n",
       "<style scoped>\n",
       "    .dataframe tbody tr th:only-of-type {\n",
       "        vertical-align: middle;\n",
       "    }\n",
       "\n",
       "    .dataframe tbody tr th {\n",
       "        vertical-align: top;\n",
       "    }\n",
       "\n",
       "    .dataframe thead th {\n",
       "        text-align: right;\n",
       "    }\n",
       "</style>\n",
       "<table border=\"1\" class=\"dataframe\">\n",
       "  <thead>\n",
       "    <tr style=\"text-align: right;\">\n",
       "      <th></th>\n",
       "      <th>True_value</th>\n",
       "      <th>Forecasted_value</th>\n",
       "      <th>True_value</th>\n",
       "      <th>Forecasted_value</th>\n",
       "      <th>True_value</th>\n",
       "      <th>Forecasted_value</th>\n",
       "      <th>True_value</th>\n",
       "      <th>Forecasted_value</th>\n",
       "      <th>True_value</th>\n",
       "      <th>Forecasted_value</th>\n",
       "      <th>...</th>\n",
       "      <th>True_value</th>\n",
       "      <th>Forecasted_value</th>\n",
       "      <th>True_value</th>\n",
       "      <th>Forecasted_value</th>\n",
       "      <th>True_value</th>\n",
       "      <th>Forecasted_value</th>\n",
       "      <th>True_value</th>\n",
       "      <th>Forecasted_value</th>\n",
       "      <th>True_value</th>\n",
       "      <th>Forecasted_value</th>\n",
       "    </tr>\n",
       "  </thead>\n",
       "  <tbody>\n",
       "    <tr>\n",
       "      <th>0</th>\n",
       "      <td>3.000000</td>\n",
       "      <td>3.156404</td>\n",
       "      <td>4.008115</td>\n",
       "      <td>4.488439</td>\n",
       "      <td>6.203186</td>\n",
       "      <td>8.117130</td>\n",
       "      <td>2.000008</td>\n",
       "      <td>1.155189</td>\n",
       "      <td>3.344058</td>\n",
       "      <td>5.859275</td>\n",
       "      <td>...</td>\n",
       "      <td>1.000653</td>\n",
       "      <td>0.812262</td>\n",
       "      <td>0.655942</td>\n",
       "      <td>1.542533</td>\n",
       "      <td>2.054460</td>\n",
       "      <td>1.954375</td>\n",
       "      <td>3.999930</td>\n",
       "      <td>4.523273</td>\n",
       "      <td>0.000000</td>\n",
       "      <td>0.121193</td>\n",
       "    </tr>\n",
       "    <tr>\n",
       "      <th>1</th>\n",
       "      <td>4.002516</td>\n",
       "      <td>3.110167</td>\n",
       "      <td>3.788700</td>\n",
       "      <td>4.375664</td>\n",
       "      <td>7.895105</td>\n",
       "      <td>7.139693</td>\n",
       "      <td>1.922893</td>\n",
       "      <td>1.182845</td>\n",
       "      <td>5.020036</td>\n",
       "      <td>4.816027</td>\n",
       "      <td>...</td>\n",
       "      <td>0.171887</td>\n",
       "      <td>0.400258</td>\n",
       "      <td>1.977448</td>\n",
       "      <td>1.397838</td>\n",
       "      <td>2.655942</td>\n",
       "      <td>2.406849</td>\n",
       "      <td>4.321506</td>\n",
       "      <td>4.349336</td>\n",
       "      <td>0.000000</td>\n",
       "      <td>-1.003728</td>\n",
       "    </tr>\n",
       "    <tr>\n",
       "      <th>2</th>\n",
       "      <td>4.000155</td>\n",
       "      <td>3.081936</td>\n",
       "      <td>4.004599</td>\n",
       "      <td>4.634718</td>\n",
       "      <td>6.674109</td>\n",
       "      <td>7.541911</td>\n",
       "      <td>0.999997</td>\n",
       "      <td>1.235623</td>\n",
       "      <td>3.999845</td>\n",
       "      <td>5.345930</td>\n",
       "      <td>...</td>\n",
       "      <td>0.000005</td>\n",
       "      <td>1.044712</td>\n",
       "      <td>3.000000</td>\n",
       "      <td>1.736256</td>\n",
       "      <td>3.000000</td>\n",
       "      <td>2.529026</td>\n",
       "      <td>5.999987</td>\n",
       "      <td>4.685398</td>\n",
       "      <td>0.000013</td>\n",
       "      <td>0.910982</td>\n",
       "    </tr>\n",
       "    <tr>\n",
       "      <th>3</th>\n",
       "      <td>3.000000</td>\n",
       "      <td>2.873220</td>\n",
       "      <td>4.000000</td>\n",
       "      <td>4.156981</td>\n",
       "      <td>4.000031</td>\n",
       "      <td>6.799108</td>\n",
       "      <td>0.500000</td>\n",
       "      <td>1.270152</td>\n",
       "      <td>3.000000</td>\n",
       "      <td>2.982534</td>\n",
       "      <td>...</td>\n",
       "      <td>0.500000</td>\n",
       "      <td>-0.732140</td>\n",
       "      <td>1.000000</td>\n",
       "      <td>1.087392</td>\n",
       "      <td>1.865198</td>\n",
       "      <td>1.249619</td>\n",
       "      <td>4.080343</td>\n",
       "      <td>4.140647</td>\n",
       "      <td>0.000000</td>\n",
       "      <td>-2.027227</td>\n",
       "    </tr>\n",
       "    <tr>\n",
       "      <th>4</th>\n",
       "      <td>3.000000</td>\n",
       "      <td>2.798607</td>\n",
       "      <td>4.022552</td>\n",
       "      <td>4.163037</td>\n",
       "      <td>4.633390</td>\n",
       "      <td>6.193101</td>\n",
       "      <td>0.985549</td>\n",
       "      <td>1.271050</td>\n",
       "      <td>2.000000</td>\n",
       "      <td>1.921681</td>\n",
       "      <td>...</td>\n",
       "      <td>0.022552</td>\n",
       "      <td>-0.844760</td>\n",
       "      <td>2.000000</td>\n",
       "      <td>0.849296</td>\n",
       "      <td>1.000032</td>\n",
       "      <td>1.378041</td>\n",
       "      <td>4.991866</td>\n",
       "      <td>4.001519</td>\n",
       "      <td>0.008102</td>\n",
       "      <td>-0.281339</td>\n",
       "    </tr>\n",
       "  </tbody>\n",
       "</table>\n",
       "<p>5 rows × 24 columns</p>\n",
       "</div>"
      ],
      "text/plain": [
       "   True_value  Forecasted_value  True_value  Forecasted_value  True_value  \\\n",
       "0    3.000000          3.156404    4.008115          4.488439    6.203186   \n",
       "1    4.002516          3.110167    3.788700          4.375664    7.895105   \n",
       "2    4.000155          3.081936    4.004599          4.634718    6.674109   \n",
       "3    3.000000          2.873220    4.000000          4.156981    4.000031   \n",
       "4    3.000000          2.798607    4.022552          4.163037    4.633390   \n",
       "\n",
       "   Forecasted_value  True_value  Forecasted_value  True_value  \\\n",
       "0          8.117130    2.000008          1.155189    3.344058   \n",
       "1          7.139693    1.922893          1.182845    5.020036   \n",
       "2          7.541911    0.999997          1.235623    3.999845   \n",
       "3          6.799108    0.500000          1.270152    3.000000   \n",
       "4          6.193101    0.985549          1.271050    2.000000   \n",
       "\n",
       "   Forecasted_value  ...  True_value  Forecasted_value  True_value  \\\n",
       "0          5.859275  ...    1.000653          0.812262    0.655942   \n",
       "1          4.816027  ...    0.171887          0.400258    1.977448   \n",
       "2          5.345930  ...    0.000005          1.044712    3.000000   \n",
       "3          2.982534  ...    0.500000         -0.732140    1.000000   \n",
       "4          1.921681  ...    0.022552         -0.844760    2.000000   \n",
       "\n",
       "   Forecasted_value  True_value  Forecasted_value  True_value  \\\n",
       "0          1.542533    2.054460          1.954375    3.999930   \n",
       "1          1.397838    2.655942          2.406849    4.321506   \n",
       "2          1.736256    3.000000          2.529026    5.999987   \n",
       "3          1.087392    1.865198          1.249619    4.080343   \n",
       "4          0.849296    1.000032          1.378041    4.991866   \n",
       "\n",
       "   Forecasted_value  True_value  Forecasted_value  \n",
       "0          4.523273    0.000000          0.121193  \n",
       "1          4.349336    0.000000         -1.003728  \n",
       "2          4.685398    0.000013          0.910982  \n",
       "3          4.140647    0.000000         -2.027227  \n",
       "4          4.001519    0.008102         -0.281339  \n",
       "\n",
       "[5 rows x 24 columns]"
      ]
     },
     "execution_count": 12,
     "metadata": {},
     "output_type": "execute_result"
    }
   ],
   "source": [
    "combined_df.head()"
   ]
  },
  {
   "cell_type": "code",
   "execution_count": 13,
   "id": "2bd7311d-b36e-4352-9a44-ebec9719e9ae",
   "metadata": {},
   "outputs": [
    {
     "data": {
      "text/plain": [
       "(7, 24)"
      ]
     },
     "execution_count": 13,
     "metadata": {},
     "output_type": "execute_result"
    }
   ],
   "source": [
    "combined_df.shape"
   ]
  },
  {
   "cell_type": "code",
   "execution_count": 14,
   "id": "ae952a0a-3035-4353-aede-905d22bd842f",
   "metadata": {},
   "outputs": [],
   "source": [
    "# get the true values\n",
    "True_values_df = combined_df[['True_value']]"
   ]
  },
  {
   "cell_type": "code",
   "execution_count": 15,
   "id": "baf73275-144e-4bb3-bd47-d94c519f86a2",
   "metadata": {},
   "outputs": [
    {
     "data": {
      "text/html": [
       "<div>\n",
       "<style scoped>\n",
       "    .dataframe tbody tr th:only-of-type {\n",
       "        vertical-align: middle;\n",
       "    }\n",
       "\n",
       "    .dataframe tbody tr th {\n",
       "        vertical-align: top;\n",
       "    }\n",
       "\n",
       "    .dataframe thead th {\n",
       "        text-align: right;\n",
       "    }\n",
       "</style>\n",
       "<table border=\"1\" class=\"dataframe\">\n",
       "  <thead>\n",
       "    <tr style=\"text-align: right;\">\n",
       "      <th></th>\n",
       "      <th>True_value</th>\n",
       "      <th>True_value</th>\n",
       "      <th>True_value</th>\n",
       "      <th>True_value</th>\n",
       "      <th>True_value</th>\n",
       "      <th>True_value</th>\n",
       "      <th>True_value</th>\n",
       "      <th>True_value</th>\n",
       "      <th>True_value</th>\n",
       "      <th>True_value</th>\n",
       "      <th>True_value</th>\n",
       "      <th>True_value</th>\n",
       "    </tr>\n",
       "  </thead>\n",
       "  <tbody>\n",
       "    <tr>\n",
       "      <th>0</th>\n",
       "      <td>3.000000</td>\n",
       "      <td>4.008115</td>\n",
       "      <td>6.203186</td>\n",
       "      <td>2.000008</td>\n",
       "      <td>3.344058</td>\n",
       "      <td>3.945552</td>\n",
       "      <td>9.788757</td>\n",
       "      <td>1.000653</td>\n",
       "      <td>0.655942</td>\n",
       "      <td>2.054460</td>\n",
       "      <td>3.999930</td>\n",
       "      <td>0.000000</td>\n",
       "    </tr>\n",
       "    <tr>\n",
       "      <th>1</th>\n",
       "      <td>4.002516</td>\n",
       "      <td>3.788700</td>\n",
       "      <td>7.895105</td>\n",
       "      <td>1.922893</td>\n",
       "      <td>5.020036</td>\n",
       "      <td>3.211300</td>\n",
       "      <td>4.032669</td>\n",
       "      <td>0.171887</td>\n",
       "      <td>1.977448</td>\n",
       "      <td>2.655942</td>\n",
       "      <td>4.321506</td>\n",
       "      <td>0.000000</td>\n",
       "    </tr>\n",
       "    <tr>\n",
       "      <th>2</th>\n",
       "      <td>4.000155</td>\n",
       "      <td>4.004599</td>\n",
       "      <td>6.674109</td>\n",
       "      <td>0.999997</td>\n",
       "      <td>3.999845</td>\n",
       "      <td>3.995401</td>\n",
       "      <td>5.325889</td>\n",
       "      <td>0.000005</td>\n",
       "      <td>3.000000</td>\n",
       "      <td>3.000000</td>\n",
       "      <td>5.999987</td>\n",
       "      <td>0.000013</td>\n",
       "    </tr>\n",
       "    <tr>\n",
       "      <th>3</th>\n",
       "      <td>3.000000</td>\n",
       "      <td>4.000000</td>\n",
       "      <td>4.000031</td>\n",
       "      <td>0.500000</td>\n",
       "      <td>3.000000</td>\n",
       "      <td>3.054460</td>\n",
       "      <td>5.999969</td>\n",
       "      <td>0.500000</td>\n",
       "      <td>1.000000</td>\n",
       "      <td>1.865198</td>\n",
       "      <td>4.080343</td>\n",
       "      <td>0.000000</td>\n",
       "    </tr>\n",
       "    <tr>\n",
       "      <th>4</th>\n",
       "      <td>3.000000</td>\n",
       "      <td>4.022552</td>\n",
       "      <td>4.633390</td>\n",
       "      <td>0.985549</td>\n",
       "      <td>2.000000</td>\n",
       "      <td>4.080343</td>\n",
       "      <td>5.255614</td>\n",
       "      <td>0.022552</td>\n",
       "      <td>2.000000</td>\n",
       "      <td>1.000032</td>\n",
       "      <td>4.991866</td>\n",
       "      <td>0.008102</td>\n",
       "    </tr>\n",
       "    <tr>\n",
       "      <th>5</th>\n",
       "      <td>4.000000</td>\n",
       "      <td>6.054452</td>\n",
       "      <td>5.051951</td>\n",
       "      <td>1.948060</td>\n",
       "      <td>2.000000</td>\n",
       "      <td>4.117899</td>\n",
       "      <td>5.764955</td>\n",
       "      <td>2.056697</td>\n",
       "      <td>1.000000</td>\n",
       "      <td>1.012700</td>\n",
       "      <td>5.995371</td>\n",
       "      <td>1.000000</td>\n",
       "    </tr>\n",
       "    <tr>\n",
       "      <th>6</th>\n",
       "      <td>1.000000</td>\n",
       "      <td>4.500000</td>\n",
       "      <td>4.155932</td>\n",
       "      <td>0.002526</td>\n",
       "      <td>2.999326</td>\n",
       "      <td>2.000000</td>\n",
       "      <td>5.344028</td>\n",
       "      <td>1.997659</td>\n",
       "      <td>1.000674</td>\n",
       "      <td>1.000000</td>\n",
       "      <td>3.000031</td>\n",
       "      <td>0.000000</td>\n",
       "    </tr>\n",
       "  </tbody>\n",
       "</table>\n",
       "</div>"
      ],
      "text/plain": [
       "   True_value  True_value  True_value  True_value  True_value  True_value  \\\n",
       "0    3.000000    4.008115    6.203186    2.000008    3.344058    3.945552   \n",
       "1    4.002516    3.788700    7.895105    1.922893    5.020036    3.211300   \n",
       "2    4.000155    4.004599    6.674109    0.999997    3.999845    3.995401   \n",
       "3    3.000000    4.000000    4.000031    0.500000    3.000000    3.054460   \n",
       "4    3.000000    4.022552    4.633390    0.985549    2.000000    4.080343   \n",
       "5    4.000000    6.054452    5.051951    1.948060    2.000000    4.117899   \n",
       "6    1.000000    4.500000    4.155932    0.002526    2.999326    2.000000   \n",
       "\n",
       "   True_value  True_value  True_value  True_value  True_value  True_value  \n",
       "0    9.788757    1.000653    0.655942    2.054460    3.999930    0.000000  \n",
       "1    4.032669    0.171887    1.977448    2.655942    4.321506    0.000000  \n",
       "2    5.325889    0.000005    3.000000    3.000000    5.999987    0.000013  \n",
       "3    5.999969    0.500000    1.000000    1.865198    4.080343    0.000000  \n",
       "4    5.255614    0.022552    2.000000    1.000032    4.991866    0.008102  \n",
       "5    5.764955    2.056697    1.000000    1.012700    5.995371    1.000000  \n",
       "6    5.344028    1.997659    1.000674    1.000000    3.000031    0.000000  "
      ]
     },
     "execution_count": 15,
     "metadata": {},
     "output_type": "execute_result"
    }
   ],
   "source": [
    "True_values_df"
   ]
  },
  {
   "cell_type": "code",
   "execution_count": 16,
   "id": "7645988e-8d19-400d-b5c9-301b6819514b",
   "metadata": {},
   "outputs": [],
   "source": [
    "# sum the true values - since the sub images are not overlapping, we can get the sum across columns in the above dataframe\n",
    "sum_true_values = True_values_df.sum(axis = 1)"
   ]
  },
  {
   "cell_type": "code",
   "execution_count": 17,
   "id": "17b55908-f95a-4308-a49d-92058bd738af",
   "metadata": {},
   "outputs": [
    {
     "data": {
      "text/plain": [
       "0    40.000660\n",
       "1    39.000002\n",
       "2    41.000000\n",
       "3    31.000000\n",
       "4    32.000000\n",
       "5    40.002085\n",
       "6    27.000176\n",
       "dtype: float64"
      ]
     },
     "execution_count": 17,
     "metadata": {},
     "output_type": "execute_result"
    }
   ],
   "source": [
    "sum_true_values"
   ]
  },
  {
   "cell_type": "code",
   "execution_count": 18,
   "id": "a516e483-354a-4c8f-b9b8-d464a6e7c216",
   "metadata": {},
   "outputs": [],
   "source": [
    "# get the forecasted values\n",
    "Forecasted_values_df = combined_df[['Forecasted_value']]"
   ]
  },
  {
   "cell_type": "code",
   "execution_count": 19,
   "id": "ea17d667-b9de-4625-9a95-576446a115a9",
   "metadata": {},
   "outputs": [
    {
     "data": {
      "text/html": [
       "<div>\n",
       "<style scoped>\n",
       "    .dataframe tbody tr th:only-of-type {\n",
       "        vertical-align: middle;\n",
       "    }\n",
       "\n",
       "    .dataframe tbody tr th {\n",
       "        vertical-align: top;\n",
       "    }\n",
       "\n",
       "    .dataframe thead th {\n",
       "        text-align: right;\n",
       "    }\n",
       "</style>\n",
       "<table border=\"1\" class=\"dataframe\">\n",
       "  <thead>\n",
       "    <tr style=\"text-align: right;\">\n",
       "      <th></th>\n",
       "      <th>Forecasted_value</th>\n",
       "      <th>Forecasted_value</th>\n",
       "      <th>Forecasted_value</th>\n",
       "      <th>Forecasted_value</th>\n",
       "      <th>Forecasted_value</th>\n",
       "      <th>Forecasted_value</th>\n",
       "      <th>Forecasted_value</th>\n",
       "      <th>Forecasted_value</th>\n",
       "      <th>Forecasted_value</th>\n",
       "      <th>Forecasted_value</th>\n",
       "      <th>Forecasted_value</th>\n",
       "      <th>Forecasted_value</th>\n",
       "    </tr>\n",
       "  </thead>\n",
       "  <tbody>\n",
       "    <tr>\n",
       "      <th>0</th>\n",
       "      <td>3.156404</td>\n",
       "      <td>4.488439</td>\n",
       "      <td>8.117130</td>\n",
       "      <td>1.155189</td>\n",
       "      <td>5.859275</td>\n",
       "      <td>3.055075</td>\n",
       "      <td>6.079880</td>\n",
       "      <td>0.812262</td>\n",
       "      <td>1.542533</td>\n",
       "      <td>1.954375</td>\n",
       "      <td>4.523273</td>\n",
       "      <td>0.121193</td>\n",
       "    </tr>\n",
       "    <tr>\n",
       "      <th>1</th>\n",
       "      <td>3.110167</td>\n",
       "      <td>4.375664</td>\n",
       "      <td>7.139693</td>\n",
       "      <td>1.182845</td>\n",
       "      <td>4.816027</td>\n",
       "      <td>3.085358</td>\n",
       "      <td>5.529050</td>\n",
       "      <td>0.400258</td>\n",
       "      <td>1.397838</td>\n",
       "      <td>2.406849</td>\n",
       "      <td>4.349336</td>\n",
       "      <td>-1.003728</td>\n",
       "    </tr>\n",
       "    <tr>\n",
       "      <th>2</th>\n",
       "      <td>3.081936</td>\n",
       "      <td>4.634718</td>\n",
       "      <td>7.541911</td>\n",
       "      <td>1.235623</td>\n",
       "      <td>5.345930</td>\n",
       "      <td>3.051885</td>\n",
       "      <td>6.251809</td>\n",
       "      <td>1.044712</td>\n",
       "      <td>1.736256</td>\n",
       "      <td>2.529026</td>\n",
       "      <td>4.685398</td>\n",
       "      <td>0.910982</td>\n",
       "    </tr>\n",
       "    <tr>\n",
       "      <th>3</th>\n",
       "      <td>2.873220</td>\n",
       "      <td>4.156981</td>\n",
       "      <td>6.799108</td>\n",
       "      <td>1.270152</td>\n",
       "      <td>2.982534</td>\n",
       "      <td>3.318771</td>\n",
       "      <td>4.746244</td>\n",
       "      <td>-0.732140</td>\n",
       "      <td>1.087392</td>\n",
       "      <td>1.249619</td>\n",
       "      <td>4.140647</td>\n",
       "      <td>-2.027227</td>\n",
       "    </tr>\n",
       "    <tr>\n",
       "      <th>4</th>\n",
       "      <td>2.798607</td>\n",
       "      <td>4.163037</td>\n",
       "      <td>6.193101</td>\n",
       "      <td>1.271050</td>\n",
       "      <td>1.921681</td>\n",
       "      <td>3.072532</td>\n",
       "      <td>4.393156</td>\n",
       "      <td>-0.844760</td>\n",
       "      <td>0.849296</td>\n",
       "      <td>1.378041</td>\n",
       "      <td>4.001519</td>\n",
       "      <td>-0.281339</td>\n",
       "    </tr>\n",
       "    <tr>\n",
       "      <th>5</th>\n",
       "      <td>2.739323</td>\n",
       "      <td>4.122117</td>\n",
       "      <td>6.038714</td>\n",
       "      <td>1.284265</td>\n",
       "      <td>2.947635</td>\n",
       "      <td>3.279094</td>\n",
       "      <td>4.213767</td>\n",
       "      <td>0.829651</td>\n",
       "      <td>1.402502</td>\n",
       "      <td>1.709204</td>\n",
       "      <td>3.884944</td>\n",
       "      <td>-0.417467</td>\n",
       "    </tr>\n",
       "    <tr>\n",
       "      <th>6</th>\n",
       "      <td>2.660321</td>\n",
       "      <td>4.024134</td>\n",
       "      <td>5.973788</td>\n",
       "      <td>1.313769</td>\n",
       "      <td>3.191450</td>\n",
       "      <td>3.063906</td>\n",
       "      <td>3.993389</td>\n",
       "      <td>0.841878</td>\n",
       "      <td>1.241937</td>\n",
       "      <td>0.894736</td>\n",
       "      <td>3.790712</td>\n",
       "      <td>-1.881786</td>\n",
       "    </tr>\n",
       "  </tbody>\n",
       "</table>\n",
       "</div>"
      ],
      "text/plain": [
       "   Forecasted_value  Forecasted_value  Forecasted_value  Forecasted_value  \\\n",
       "0          3.156404          4.488439          8.117130          1.155189   \n",
       "1          3.110167          4.375664          7.139693          1.182845   \n",
       "2          3.081936          4.634718          7.541911          1.235623   \n",
       "3          2.873220          4.156981          6.799108          1.270152   \n",
       "4          2.798607          4.163037          6.193101          1.271050   \n",
       "5          2.739323          4.122117          6.038714          1.284265   \n",
       "6          2.660321          4.024134          5.973788          1.313769   \n",
       "\n",
       "   Forecasted_value  Forecasted_value  Forecasted_value  Forecasted_value  \\\n",
       "0          5.859275          3.055075          6.079880          0.812262   \n",
       "1          4.816027          3.085358          5.529050          0.400258   \n",
       "2          5.345930          3.051885          6.251809          1.044712   \n",
       "3          2.982534          3.318771          4.746244         -0.732140   \n",
       "4          1.921681          3.072532          4.393156         -0.844760   \n",
       "5          2.947635          3.279094          4.213767          0.829651   \n",
       "6          3.191450          3.063906          3.993389          0.841878   \n",
       "\n",
       "   Forecasted_value  Forecasted_value  Forecasted_value  Forecasted_value  \n",
       "0          1.542533          1.954375          4.523273          0.121193  \n",
       "1          1.397838          2.406849          4.349336         -1.003728  \n",
       "2          1.736256          2.529026          4.685398          0.910982  \n",
       "3          1.087392          1.249619          4.140647         -2.027227  \n",
       "4          0.849296          1.378041          4.001519         -0.281339  \n",
       "5          1.402502          1.709204          3.884944         -0.417467  \n",
       "6          1.241937          0.894736          3.790712         -1.881786  "
      ]
     },
     "execution_count": 19,
     "metadata": {},
     "output_type": "execute_result"
    }
   ],
   "source": [
    "Forecasted_values_df"
   ]
  },
  {
   "cell_type": "code",
   "execution_count": 20,
   "id": "a52bb5de-a241-49a4-b6ab-4702fda67c15",
   "metadata": {},
   "outputs": [
    {
     "data": {
      "text/plain": [
       "(7, 12)"
      ]
     },
     "execution_count": 20,
     "metadata": {},
     "output_type": "execute_result"
    }
   ],
   "source": [
    "Forecasted_values_df.shape"
   ]
  },
  {
   "cell_type": "code",
   "execution_count": 21,
   "id": "2e90c508-5b8b-4983-aac2-5c35f189baea",
   "metadata": {},
   "outputs": [],
   "source": [
    "sum_forecasted_values = Forecasted_values_df.sum(axis = 1)"
   ]
  },
  {
   "cell_type": "code",
   "execution_count": 22,
   "id": "2f240410-e460-4b15-a1cc-f187ad58adcb",
   "metadata": {},
   "outputs": [
    {
     "data": {
      "text/plain": [
       "0    40.865028\n",
       "1    36.789357\n",
       "2    42.050187\n",
       "3    29.865301\n",
       "4    28.915922\n",
       "5    32.033750\n",
       "6    29.108235\n",
       "dtype: float64"
      ]
     },
     "execution_count": 22,
     "metadata": {},
     "output_type": "execute_result"
    }
   ],
   "source": [
    "sum_forecasted_values"
   ]
  },
  {
   "cell_type": "code",
   "execution_count": 23,
   "id": "d39a2bff-50da-4a8c-a839-6fdc59464541",
   "metadata": {},
   "outputs": [],
   "source": [
    "# concatenate the sum dataframes\n",
    "block_0103_true_and_forecasted_values_df = pd.concat((sum_true_values, sum_forecasted_values), axis = 1)"
   ]
  },
  {
   "cell_type": "code",
   "execution_count": 24,
   "id": "ece45dcf-d266-403a-a712-cfebeabbb81b",
   "metadata": {},
   "outputs": [],
   "source": [
    "block_0103_true_and_forecasted_values_df.columns = [\"True_count\", \"Forecasted_count\"]"
   ]
  },
  {
   "cell_type": "code",
   "execution_count": 25,
   "id": "2e898fe4-6a0b-4496-a6a0-b8168adafc3a",
   "metadata": {},
   "outputs": [
    {
     "data": {
      "text/html": [
       "<div>\n",
       "<style scoped>\n",
       "    .dataframe tbody tr th:only-of-type {\n",
       "        vertical-align: middle;\n",
       "    }\n",
       "\n",
       "    .dataframe tbody tr th {\n",
       "        vertical-align: top;\n",
       "    }\n",
       "\n",
       "    .dataframe thead th {\n",
       "        text-align: right;\n",
       "    }\n",
       "</style>\n",
       "<table border=\"1\" class=\"dataframe\">\n",
       "  <thead>\n",
       "    <tr style=\"text-align: right;\">\n",
       "      <th></th>\n",
       "      <th>True_count</th>\n",
       "      <th>Forecasted_count</th>\n",
       "    </tr>\n",
       "  </thead>\n",
       "  <tbody>\n",
       "    <tr>\n",
       "      <th>0</th>\n",
       "      <td>40.000660</td>\n",
       "      <td>40.865028</td>\n",
       "    </tr>\n",
       "    <tr>\n",
       "      <th>1</th>\n",
       "      <td>39.000002</td>\n",
       "      <td>36.789357</td>\n",
       "    </tr>\n",
       "    <tr>\n",
       "      <th>2</th>\n",
       "      <td>41.000000</td>\n",
       "      <td>42.050187</td>\n",
       "    </tr>\n",
       "    <tr>\n",
       "      <th>3</th>\n",
       "      <td>31.000000</td>\n",
       "      <td>29.865301</td>\n",
       "    </tr>\n",
       "    <tr>\n",
       "      <th>4</th>\n",
       "      <td>32.000000</td>\n",
       "      <td>28.915922</td>\n",
       "    </tr>\n",
       "    <tr>\n",
       "      <th>5</th>\n",
       "      <td>40.002085</td>\n",
       "      <td>32.033750</td>\n",
       "    </tr>\n",
       "    <tr>\n",
       "      <th>6</th>\n",
       "      <td>27.000176</td>\n",
       "      <td>29.108235</td>\n",
       "    </tr>\n",
       "  </tbody>\n",
       "</table>\n",
       "</div>"
      ],
      "text/plain": [
       "   True_count  Forecasted_count\n",
       "0   40.000660         40.865028\n",
       "1   39.000002         36.789357\n",
       "2   41.000000         42.050187\n",
       "3   31.000000         29.865301\n",
       "4   32.000000         28.915922\n",
       "5   40.002085         32.033750\n",
       "6   27.000176         29.108235"
      ]
     },
     "execution_count": 25,
     "metadata": {},
     "output_type": "execute_result"
    }
   ],
   "source": [
    "block_0103_true_and_forecasted_values_df"
   ]
  },
  {
   "cell_type": "code",
   "execution_count": 26,
   "id": "bca68bdf-e1d6-47a8-9896-6d78365c5fd9",
   "metadata": {},
   "outputs": [],
   "source": [
    "block_0103_true_and_forecasted_values_df.to_csv(\"Reproduce_comps/final_forecasted_counts/block_0103_finals_forecasts.csv\", index = False)"
   ]
  },
  {
   "cell_type": "code",
   "execution_count": 27,
   "id": "fdad64dc-eef9-4934-ab51-0239358d5856",
   "metadata": {},
   "outputs": [],
   "source": [
    "# # well we need to verify that the above true values are indeed correct\n",
    "# from preprocess script we have the following counts\n",
    "# [43, 49, 53, 59, 45, 42, 34, 39, 37, 43, 41, 39, 43, 40, 39, 41, 31, 32, 40, 29] # the last seven numbers match with what we have."
   ]
  },
  {
   "cell_type": "code",
   "execution_count": 28,
   "id": "c82cb6b5-096c-41cc-92d9-1819ba35bab3",
   "metadata": {},
   "outputs": [
    {
     "data": {
      "text/plain": [
       "3.4943696265543465"
      ]
     },
     "execution_count": 28,
     "metadata": {},
     "output_type": "execute_result"
    }
   ],
   "source": [
    "# blockwise mean squared error\n",
    "rmse = np.sqrt(mean_squared_error(sum_true_values, sum_forecasted_values))\n",
    "rmse"
   ]
  },
  {
   "cell_type": "code",
   "execution_count": 29,
   "id": "574aea69-e6c6-439b-bb28-5fac882283d3",
   "metadata": {},
   "outputs": [
    {
     "data": {
      "text/plain": [
       "2.631481445131765"
      ]
     },
     "execution_count": 29,
     "metadata": {},
     "output_type": "execute_result"
    }
   ],
   "source": [
    "# blockwise mean absolute error\n",
    "mae = mean_absolute_error(sum_true_values, sum_forecasted_values)\n",
    "mae"
   ]
  },
  {
   "cell_type": "code",
   "execution_count": 30,
   "id": "a89816eb-702e-4653-aa79-36a70892c056",
   "metadata": {},
   "outputs": [
    {
     "data": {
      "text/plain": [
       "PearsonRResult(statistic=0.8143450792076632, pvalue=0.025739501855015175)"
      ]
     },
     "execution_count": 30,
     "metadata": {},
     "output_type": "execute_result"
    }
   ],
   "source": [
    "corr = pearsonr(sum_true_values, sum_forecasted_values)\n",
    "corr"
   ]
  },
  {
   "cell_type": "code",
   "execution_count": 31,
   "id": "983239b4-cbb6-4aca-881c-9cfcb0dbc551",
   "metadata": {},
   "outputs": [
    {
     "data": {
      "text/plain": [
       "0.5440130129588654"
      ]
     },
     "execution_count": 31,
     "metadata": {},
     "output_type": "execute_result"
    }
   ],
   "source": [
    "r2 = r2_score(sum_true_values, sum_forecasted_values)\n",
    "r2"
   ]
  },
  {
   "cell_type": "code",
   "execution_count": 32,
   "id": "9c64f574-9dd0-466b-b037-130d6cb3dce3",
   "metadata": {},
   "outputs": [],
   "source": [
    "# May be define a function for this, so that it will be easier to get the forecasted dataframes for all blocks"
   ]
  },
  {
   "cell_type": "code",
   "execution_count": 33,
   "id": "0ebf338b-e1c0-4fba-a7ab-8512c98d9939",
   "metadata": {},
   "outputs": [],
   "source": [
    "# we need first the path to dfs per block\n",
    "def get_final_forecasted_dfs(path_to_dfs_in_block, block_name, true_values_col_name, forecasted_values_col_name, forecast_path):\n",
    "    # get the csv files that have the averaged \n",
    "    average_frcts_csv_files = [file for file in os.listdir(path_to_dfs_in_block) if file[:8] == 'averaged']\n",
    "    # sort these files\n",
    "    average_frcts_csv_files.sort()\n",
    "    # get the later images to the end of the list\n",
    "    csv_files_10_11 = ['averaged_forecasts_sub_10.csv', 'averaged_forecasts_sub_11.csv']\n",
    "    # remove these from the total list\n",
    "    other_files = [i for i in average_frcts_csv_files if i not in csv_files_10_11]\n",
    "    # add the csv files in order\n",
    "    ordered_csv_files = other_files + csv_files_10_11\n",
    "    # print the ordered list of csv files\n",
    "    print(ordered_csv_files)\n",
    "    # read and append the list of the dfs\n",
    "    all_dfs = [pd.read_csv(path_to_dfs_in_block + '/' + df) for df in ordered_csv_files]\n",
    "    # combine all these dfs together\n",
    "    combined_df = pd.concat(all_dfs, axis = 1)\n",
    "    print(combined_df.shape)\n",
    "    # extract the true value columns only across the sub-images\n",
    "    True_counts_df = combined_df[[true_values_col_name]]\n",
    "    # sum the true values dfs\n",
    "    total_true_values = True_counts_df.sum(axis = 1)\n",
    "    # print these true values for later comparisons\n",
    "    print(total_true_values)\n",
    "    # extract the true value columns across sub images\n",
    "    Forecasted_counts_df = combined_df[[forecasted_values_col_name]]\n",
    "    # sum the forecasted values\n",
    "    total_forecasted_values = Forecasted_counts_df.sum(axis = 1)\n",
    "    # concatenate the sum dataframes\n",
    "    true_and_forecasted_values_df = pd.concat((total_true_values, total_forecasted_values), axis = 1)\n",
    "    # add column titles to the df\n",
    "    true_and_forecasted_values_df.columns = [\"True_count\", \"Forecasted_count\"]\n",
    "    # save this file\n",
    "    file_name = forecast_path + '/' + block_name + '.csv'\n",
    "    true_and_forecasted_values_df.to_csv(file_name, index = False)\n",
    "    # blockwise mean squared error\n",
    "    rmse = np.sqrt(mean_squared_error(total_true_values, total_forecasted_values))\n",
    "    # blockwise mae\n",
    "    mae = mean_absolute_error(total_true_values, total_forecasted_values)\n",
    "\n",
    "    return(true_and_forecasted_values_df, rmse, mae,ordered_csv_files)"
   ]
  },
  {
   "cell_type": "code",
   "execution_count": 34,
   "id": "33fbacb2-2aa9-427f-ab50-fcbb42801a40",
   "metadata": {},
   "outputs": [
    {
     "name": "stdout",
     "output_type": "stream",
     "text": [
      "['averaged_forecasts_sub_0.csv', 'averaged_forecasts_sub_1.csv', 'averaged_forecasts_sub_2.csv', 'averaged_forecasts_sub_3.csv', 'averaged_forecasts_sub_4.csv', 'averaged_forecasts_sub_5.csv', 'averaged_forecasts_sub_6.csv', 'averaged_forecasts_sub_7.csv', 'averaged_forecasts_sub_8.csv', 'averaged_forecasts_sub_9.csv', 'averaged_forecasts_sub_10.csv', 'averaged_forecasts_sub_11.csv']\n",
      "(7, 24)\n",
      "0    40.000660\n",
      "1    39.000002\n",
      "2    41.000000\n",
      "3    31.000000\n",
      "4    32.000000\n",
      "5    40.002085\n",
      "6    27.000176\n",
      "dtype: float64\n"
     ]
    }
   ],
   "source": [
    "# see if the function works\n",
    "df, rmse_0103, mae_0103, ordered_files_0103 = get_final_forecasted_dfs(path_to_dfs, 'block_0103', 'True_value', 'Forecasted_value', 'final_forecasted_counts')"
   ]
  },
  {
   "cell_type": "code",
   "execution_count": 35,
   "id": "cb73647d-17d4-4e7a-af87-587b7ab4697f",
   "metadata": {},
   "outputs": [
    {
     "data": {
      "text/html": [
       "<div>\n",
       "<style scoped>\n",
       "    .dataframe tbody tr th:only-of-type {\n",
       "        vertical-align: middle;\n",
       "    }\n",
       "\n",
       "    .dataframe tbody tr th {\n",
       "        vertical-align: top;\n",
       "    }\n",
       "\n",
       "    .dataframe thead th {\n",
       "        text-align: right;\n",
       "    }\n",
       "</style>\n",
       "<table border=\"1\" class=\"dataframe\">\n",
       "  <thead>\n",
       "    <tr style=\"text-align: right;\">\n",
       "      <th></th>\n",
       "      <th>True_count</th>\n",
       "      <th>Forecasted_count</th>\n",
       "    </tr>\n",
       "  </thead>\n",
       "  <tbody>\n",
       "    <tr>\n",
       "      <th>0</th>\n",
       "      <td>40.000660</td>\n",
       "      <td>40.865028</td>\n",
       "    </tr>\n",
       "    <tr>\n",
       "      <th>1</th>\n",
       "      <td>39.000002</td>\n",
       "      <td>36.789357</td>\n",
       "    </tr>\n",
       "    <tr>\n",
       "      <th>2</th>\n",
       "      <td>41.000000</td>\n",
       "      <td>42.050187</td>\n",
       "    </tr>\n",
       "    <tr>\n",
       "      <th>3</th>\n",
       "      <td>31.000000</td>\n",
       "      <td>29.865301</td>\n",
       "    </tr>\n",
       "    <tr>\n",
       "      <th>4</th>\n",
       "      <td>32.000000</td>\n",
       "      <td>28.915922</td>\n",
       "    </tr>\n",
       "    <tr>\n",
       "      <th>5</th>\n",
       "      <td>40.002085</td>\n",
       "      <td>32.033750</td>\n",
       "    </tr>\n",
       "    <tr>\n",
       "      <th>6</th>\n",
       "      <td>27.000176</td>\n",
       "      <td>29.108235</td>\n",
       "    </tr>\n",
       "  </tbody>\n",
       "</table>\n",
       "</div>"
      ],
      "text/plain": [
       "   True_count  Forecasted_count\n",
       "0   40.000660         40.865028\n",
       "1   39.000002         36.789357\n",
       "2   41.000000         42.050187\n",
       "3   31.000000         29.865301\n",
       "4   32.000000         28.915922\n",
       "5   40.002085         32.033750\n",
       "6   27.000176         29.108235"
      ]
     },
     "execution_count": 35,
     "metadata": {},
     "output_type": "execute_result"
    }
   ],
   "source": [
    "df"
   ]
  },
  {
   "cell_type": "code",
   "execution_count": 36,
   "id": "840f4278-f7ce-49c4-bec6-4bef81852faa",
   "metadata": {},
   "outputs": [
    {
     "data": {
      "text/plain": [
       "3.4943696265543465"
      ]
     },
     "execution_count": 36,
     "metadata": {},
     "output_type": "execute_result"
    }
   ],
   "source": [
    "rmse_0103"
   ]
  },
  {
   "cell_type": "code",
   "execution_count": 37,
   "id": "cafca5c1-b8e2-492b-b939-225fda30f2a9",
   "metadata": {},
   "outputs": [
    {
     "data": {
      "text/plain": [
       "2.631481445131765"
      ]
     },
     "execution_count": 37,
     "metadata": {},
     "output_type": "execute_result"
    }
   ],
   "source": [
    "mae_0103"
   ]
  },
  {
   "cell_type": "code",
   "execution_count": 38,
   "id": "5869d4df-b5da-463e-a86b-30de60f04b79",
   "metadata": {},
   "outputs": [
    {
     "data": {
      "text/plain": [
       "['averaged_forecasts_sub_0.csv',\n",
       " 'averaged_forecasts_sub_1.csv',\n",
       " 'averaged_forecasts_sub_2.csv',\n",
       " 'averaged_forecasts_sub_3.csv',\n",
       " 'averaged_forecasts_sub_4.csv',\n",
       " 'averaged_forecasts_sub_5.csv',\n",
       " 'averaged_forecasts_sub_6.csv',\n",
       " 'averaged_forecasts_sub_7.csv',\n",
       " 'averaged_forecasts_sub_8.csv',\n",
       " 'averaged_forecasts_sub_9.csv',\n",
       " 'averaged_forecasts_sub_10.csv',\n",
       " 'averaged_forecasts_sub_11.csv']"
      ]
     },
     "execution_count": 38,
     "metadata": {},
     "output_type": "execute_result"
    }
   ],
   "source": [
    "ordered_files_0103"
   ]
  },
  {
   "cell_type": "code",
   "execution_count": 39,
   "id": "417beba2-8e8a-4b78-afdc-2b16d01d3944",
   "metadata": {},
   "outputs": [],
   "source": [
    "import numpy as np\n",
    "import pandas as pd\n",
    "import os"
   ]
  },
  {
   "cell_type": "code",
   "execution_count": 40,
   "id": "1f46179d-710d-4f08-87f4-93c5a59f0fb7",
   "metadata": {},
   "outputs": [],
   "source": [
    "# Getting the coverages and the widths for the forecasted values - This can be done with the saved all forecasts npy files\n",
    "# location for the forecast files (all forecasts)\n",
    "location_all_forecasts = 'Reproduce_comps/forecasted_counts/block_0103'\n",
    "\n",
    "# contents at this location\n",
    "all_contents = os.listdir(location_all_forecasts)\n",
    "all_contents.sort()"
   ]
  },
  {
   "cell_type": "code",
   "execution_count": 41,
   "id": "531f8e8c-e002-45de-8d32-6a4d78439a19",
   "metadata": {},
   "outputs": [],
   "source": [
    "# we need the npy files for all forecasts\n",
    "all_forecast_files = [file for file in all_contents if file[:3] == 'all']"
   ]
  },
  {
   "cell_type": "code",
   "execution_count": 42,
   "id": "6971d19b-7cf3-40a6-8026-c2992188f5fb",
   "metadata": {},
   "outputs": [],
   "source": [
    "# arange the files in order\n",
    "later_npy_files = ['all_forecasts_sub_10.npy', 'all_forecasts_sub_11.npy']\n",
    "first_files = [file for file in all_forecast_files if file not in later_npy_files]"
   ]
  },
  {
   "cell_type": "code",
   "execution_count": 43,
   "id": "5c8db109-fa2f-48b8-b699-3973f6f259bb",
   "metadata": {},
   "outputs": [],
   "source": [
    "final_all_forecast_files = first_files + later_npy_files"
   ]
  },
  {
   "cell_type": "code",
   "execution_count": 44,
   "id": "71c2e5e0-57a1-487f-97ae-fe14edff435f",
   "metadata": {},
   "outputs": [],
   "source": [
    "loaded_npy_files = []\n",
    "for file in final_all_forecast_files:\n",
    "    joined_path = os.path.join(location_all_forecasts, file)\n",
    "    load_file = np.load(joined_path)\n",
    "    loaded_npy_files.append(load_file)"
   ]
  },
  {
   "cell_type": "code",
   "execution_count": 45,
   "id": "f1412dc1-4d19-4fe5-8eb4-71ea21313a96",
   "metadata": {},
   "outputs": [
    {
     "data": {
      "text/plain": [
       "12"
      ]
     },
     "execution_count": 45,
     "metadata": {},
     "output_type": "execute_result"
    }
   ],
   "source": [
    "len(loaded_npy_files)"
   ]
  },
  {
   "cell_type": "code",
   "execution_count": 46,
   "id": "ff7a9763-9340-4bc3-8118-87ebb38dab81",
   "metadata": {},
   "outputs": [],
   "source": [
    "# 5.3671412 + 3.80887\n"
   ]
  },
  {
   "cell_type": "code",
   "execution_count": 47,
   "id": "08204b40-b1ef-4ca0-b25b-df8f5103a7fb",
   "metadata": {},
   "outputs": [],
   "source": [
    "# loaded_npy_files[0] "
   ]
  },
  {
   "cell_type": "code",
   "execution_count": 48,
   "id": "84c11b6b-29fc-47b3-a674-ac8da11519e6",
   "metadata": {},
   "outputs": [],
   "source": [
    "# loaded_npy_files[1] "
   ]
  },
  {
   "cell_type": "code",
   "execution_count": 49,
   "id": "600ed2a1-e38b-40df-8f8a-d6c1514dfce7",
   "metadata": {},
   "outputs": [],
   "source": [
    "# try_0 = loaded_npy_files[0] + loaded_npy_files[1]"
   ]
  },
  {
   "cell_type": "code",
   "execution_count": 50,
   "id": "68455131-2710-402d-88e1-00bb40ef7bbf",
   "metadata": {},
   "outputs": [],
   "source": [
    "output = sum(loaded_npy_files)"
   ]
  },
  {
   "cell_type": "code",
   "execution_count": 51,
   "id": "904c78d8-b419-4733-b104-cfe4ece3d8f8",
   "metadata": {},
   "outputs": [
    {
     "data": {
      "text/plain": [
       "(1000, 4, 7)"
      ]
     },
     "execution_count": 51,
     "metadata": {},
     "output_type": "execute_result"
    }
   ],
   "source": [
    "output.shape"
   ]
  },
  {
   "cell_type": "code",
   "execution_count": 52,
   "id": "660e2d50-ad84-4be0-a07f-784f71b2cf70",
   "metadata": {},
   "outputs": [],
   "source": [
    "final_array = output.reshape(4000,7)"
   ]
  },
  {
   "cell_type": "code",
   "execution_count": 75,
   "id": "ad3a472a-a81a-4ac6-92ca-7c57b3ff0138",
   "metadata": {},
   "outputs": [
    {
     "data": {
      "text/plain": [
       "(7,)"
      ]
     },
     "execution_count": 75,
     "metadata": {},
     "output_type": "execute_result"
    }
   ],
   "source": [
    "final_array[0,:].shape"
   ]
  },
  {
   "cell_type": "code",
   "execution_count": 86,
   "id": "99e9934e-1992-447d-b7f4-1c1006af1c7c",
   "metadata": {},
   "outputs": [],
   "source": [
    "li_train = np.percentile(final_array, axis = 0, q = (2.5, 97.5))[0,:].reshape(-1,1)    \n",
    "ui_train = np.percentile(final_array, axis = 0, q = (2.5, 97.5))[1,:].reshape(-1,1)"
   ]
  },
  {
   "cell_type": "code",
   "execution_count": 87,
   "id": "9e74fa7e-b298-4f54-a9b2-9c56dc629fcb",
   "metadata": {},
   "outputs": [
    {
     "data": {
      "text/plain": [
       "(7, 1)"
      ]
     },
     "execution_count": 87,
     "metadata": {},
     "output_type": "execute_result"
    }
   ],
   "source": [
    "li_train.shape"
   ]
  },
  {
   "cell_type": "code",
   "execution_count": 88,
   "id": "18a79041-8b56-46d0-8258-cfd42d010716",
   "metadata": {},
   "outputs": [
    {
     "data": {
      "text/plain": [
       "(7, 1)"
      ]
     },
     "execution_count": 88,
     "metadata": {},
     "output_type": "execute_result"
    }
   ],
   "source": [
    "ui_train.shape"
   ]
  },
  {
   "cell_type": "code",
   "execution_count": 89,
   "id": "d6a49f50-f110-4291-b8bd-60bd23d22b66",
   "metadata": {},
   "outputs": [],
   "source": [
    "width_train = ui_train - li_train\n",
    "avg_width_train = width_train.mean(0)[0]"
   ]
  },
  {
   "cell_type": "code",
   "execution_count": 90,
   "id": "779b45d0-cb9f-45e7-8ff5-96dfc86823c6",
   "metadata": {},
   "outputs": [
    {
     "data": {
      "text/plain": [
       "32.07117711475917"
      ]
     },
     "execution_count": 90,
     "metadata": {},
     "output_type": "execute_result"
    }
   ],
   "source": [
    "avg_width_train"
   ]
  },
  {
   "cell_type": "code",
   "execution_count": 91,
   "id": "bdd312c8-54da-4ee1-83ea-4eb810720389",
   "metadata": {},
   "outputs": [],
   "source": [
    "y_traina = block_0103_true_and_forecasted_values_df[[\"True_count\"]].values"
   ]
  },
  {
   "cell_type": "code",
   "execution_count": 92,
   "id": "c979d89b-2af3-4c69-a7ec-f7029743655a",
   "metadata": {},
   "outputs": [
    {
     "data": {
      "text/plain": [
       "array([[40.00066018],\n",
       "       [39.00000194],\n",
       "       [41.0000001 ],\n",
       "       [31.00000012],\n",
       "       [31.99999956],\n",
       "       [40.00208521],\n",
       "       [27.00017555]])"
      ]
     },
     "execution_count": 92,
     "metadata": {},
     "output_type": "execute_result"
    }
   ],
   "source": [
    "y_traina"
   ]
  },
  {
   "cell_type": "code",
   "execution_count": 93,
   "id": "82a9df16-15ce-4cbc-8adf-da69a42379ce",
   "metadata": {},
   "outputs": [],
   "source": [
    "ind_train = (y_traina >= li_train) & (y_traina <= ui_train)\n",
    "coverage_train= ind_train.mean(0)[0]"
   ]
  },
  {
   "cell_type": "code",
   "execution_count": 94,
   "id": "35ad80c2-95f8-4360-b658-f0a205295177",
   "metadata": {},
   "outputs": [
    {
     "data": {
      "text/plain": [
       "1.0"
      ]
     },
     "execution_count": 94,
     "metadata": {},
     "output_type": "execute_result"
    }
   ],
   "source": [
    "coverage_train"
   ]
  },
  {
   "cell_type": "markdown",
   "id": "4001b989-ccbb-4a1d-84f3-c319a71f6fa1",
   "metadata": {},
   "source": [
    "Verify the true counts we have for the test data are indeed correct"
   ]
  },
  {
   "cell_type": "code",
   "execution_count": 62,
   "id": "475c780a-5685-4cda-850c-2fe98f6c0ccd",
   "metadata": {},
   "outputs": [],
   "source": [
    "# Verify the true counts - from np arrays - location Block_0103/sub_images_and_counts\n",
    "\n",
    "sub_count_loc = 'all_preprocessed_data/Block_0103/sub_images_and_counts'"
   ]
  },
  {
   "cell_type": "code",
   "execution_count": 63,
   "id": "f548841d-8571-43be-adc3-4659c11e8b92",
   "metadata": {},
   "outputs": [],
   "source": [
    "sub_density_maps = [i for i in os.listdir(sub_count_loc) if i.split(\".\")[0][-7:] == 'density']\n",
    "sub_density_maps.sort()"
   ]
  },
  {
   "cell_type": "code",
   "execution_count": 64,
   "id": "0b13ba56-ebee-48f2-903e-73af5e80d178",
   "metadata": {},
   "outputs": [],
   "source": [
    "# get the test dates\n",
    "test_time_periods = ['2020_08_26', '2020_08_27', '2020_08_28' ,'2020_08_31', '2020_09_02', '2020_09_07', '2020_09_16']"
   ]
  },
  {
   "cell_type": "code",
   "execution_count": 65,
   "id": "1f6ef2d5-a7f1-4b04-be3c-c94762cb90f1",
   "metadata": {},
   "outputs": [],
   "source": [
    "test_time_periods = ['Block0103_' + i for i in test_time_periods]"
   ]
  },
  {
   "cell_type": "code",
   "execution_count": 66,
   "id": "f92dde41-38ee-4209-9b95-d5317258786b",
   "metadata": {},
   "outputs": [
    {
     "data": {
      "text/plain": [
       "['Block0103_2020_08_26',\n",
       " 'Block0103_2020_08_27',\n",
       " 'Block0103_2020_08_28',\n",
       " 'Block0103_2020_08_31',\n",
       " 'Block0103_2020_09_02',\n",
       " 'Block0103_2020_09_07',\n",
       " 'Block0103_2020_09_16']"
      ]
     },
     "execution_count": 66,
     "metadata": {},
     "output_type": "execute_result"
    }
   ],
   "source": [
    "# print the test dates\n",
    "test_time_periods"
   ]
  },
  {
   "cell_type": "code",
   "execution_count": 67,
   "id": "fc875d08-0362-4eb9-acf0-d1fe29c061f0",
   "metadata": {},
   "outputs": [],
   "source": [
    "# get the density maps for these days only for the computation of the total true counts of the test images\n",
    "test_density_maps = [i for i in sub_density_maps if i[:20] in test_time_periods]\n",
    "test_density_maps.sort()"
   ]
  },
  {
   "cell_type": "code",
   "execution_count": 68,
   "id": "0b4e6646-e522-4ea2-bde1-8e2ecdaa1958",
   "metadata": {},
   "outputs": [
    {
     "name": "stdout",
     "output_type": "stream",
     "text": [
      "CPU times: user 38.7 ms, sys: 59.1 ms, total: 97.8 ms\n",
      "Wall time: 452 ms\n"
     ]
    }
   ],
   "source": [
    "%%time\n",
    "# get the true counts\n",
    "true_counts_in_order = []\n",
    "step = 0\n",
    "# we have only seven time points\n",
    "for u in range(7):\n",
    "    catch_counts = []\n",
    "    # for each time steps we have 12 images, and since the sub windows are not overlapping we can add the values straightaway eben without sorting\n",
    "    for j in range(step, step + 12):\n",
    "        total_count = np.sum(np.load(os.path.join(sub_count_loc, test_density_maps[j])))\n",
    "        catch_counts.append(total_count)\n",
    "    true_counts_in_order.append(np.sum(catch_counts))\n",
    "    step = step + 12"
   ]
  },
  {
   "cell_type": "code",
   "execution_count": 69,
   "id": "87f76e85-ebf6-41a3-ad39-75272e38632f",
   "metadata": {},
   "outputs": [
    {
     "data": {
      "text/plain": [
       "[40.00066054548969,\n",
       " 39.0000012729526,\n",
       " 41.00000000000001,\n",
       " 31.000000000000004,\n",
       " 31.999999512595508,\n",
       " 40.002085724842324,\n",
       " 27.00017567078534]"
      ]
     },
     "execution_count": 69,
     "metadata": {},
     "output_type": "execute_result"
    }
   ],
   "source": [
    "true_counts_in_order"
   ]
  },
  {
   "cell_type": "code",
   "execution_count": 70,
   "id": "a75a7dbf-97e7-410b-a947-270b30c2c597",
   "metadata": {},
   "outputs": [
    {
     "data": {
      "text/plain": [
       "array([40.00066018, 39.00000194, 41.0000001 , 31.00000012, 31.99999956,\n",
       "       40.00208521, 27.00017555])"
      ]
     },
     "execution_count": 70,
     "metadata": {},
     "output_type": "execute_result"
    }
   ],
   "source": [
    "df[['True_count']].values.flatten()"
   ]
  },
  {
   "cell_type": "code",
   "execution_count": 71,
   "id": "4a1ab417-12e2-43fc-8719-e3d54429d6c6",
   "metadata": {},
   "outputs": [],
   "source": [
    "# see if the two values we get match "
   ]
  },
  {
   "cell_type": "code",
   "execution_count": 72,
   "id": "01bf644c-01d3-49bd-8c0b-23ca0f2fdc83",
   "metadata": {},
   "outputs": [
    {
     "data": {
      "text/plain": [
       "1.0"
      ]
     },
     "execution_count": 72,
     "metadata": {},
     "output_type": "execute_result"
    }
   ],
   "source": [
    "np.mean(np.round(true_counts_in_order, 0) == np.round(df[['True_count']].values.flatten(), 0))"
   ]
  }
 ],
 "metadata": {
  "kernelspec": {
   "display_name": "Python (tfp_env_TN_CPU)",
   "language": "python",
   "name": "tfp_env_tn_cpu"
  },
  "language_info": {
   "codemirror_mode": {
    "name": "ipython",
    "version": 3
   },
   "file_extension": ".py",
   "mimetype": "text/x-python",
   "name": "python",
   "nbconvert_exporter": "python",
   "pygments_lexer": "ipython3",
   "version": "3.11.7"
  }
 },
 "nbformat": 4,
 "nbformat_minor": 5
}
