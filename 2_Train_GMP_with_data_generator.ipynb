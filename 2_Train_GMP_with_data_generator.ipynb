{
 "cells": [
  {
   "cell_type": "code",
   "execution_count": 1,
   "id": "391a55db-a1dc-46fa-8730-61420f2829e6",
   "metadata": {},
   "outputs": [
    {
     "name": "stderr",
     "output_type": "stream",
     "text": [
      "2024-06-17 13:45:41.274216: I tensorflow/core/util/port.cc:113] oneDNN custom operations are on. You may see slightly different numerical results due to floating-point round-off errors from different computation orders. To turn them off, set the environment variable `TF_ENABLE_ONEDNN_OPTS=0`.\n",
      "2024-06-17 13:45:42.380308: E external/local_xla/xla/stream_executor/cuda/cuda_dnn.cc:9261] Unable to register cuDNN factory: Attempting to register factory for plugin cuDNN when one has already been registered\n",
      "2024-06-17 13:45:42.380371: E external/local_xla/xla/stream_executor/cuda/cuda_fft.cc:607] Unable to register cuFFT factory: Attempting to register factory for plugin cuFFT when one has already been registered\n",
      "2024-06-17 13:45:42.551480: E external/local_xla/xla/stream_executor/cuda/cuda_blas.cc:1515] Unable to register cuBLAS factory: Attempting to register factory for plugin cuBLAS when one has already been registered\n",
      "2024-06-17 13:45:42.803397: I tensorflow/core/platform/cpu_feature_guard.cc:182] This TensorFlow binary is optimized to use available CPU instructions in performance-critical operations.\n",
      "To enable the following instructions: SSE4.1 SSE4.2 AVX AVX2 AVX512F AVX512_VNNI FMA, in other operations, rebuild TensorFlow with the appropriate compiler flags.\n"
     ]
    }
   ],
   "source": [
    "# import the necessary packages\n",
    "import numpy as np\n",
    "import pandas as pd\n",
    "import matplotlib.pyplot as plt\n",
    "import tensorflow as tf\n",
    "import os\n",
    "from scipy import ndimage\n",
    "from sklearn.model_selection import train_test_split"
   ]
  },
  {
   "cell_type": "code",
   "execution_count": 2,
   "id": "7ee02b6c-a4dd-4c6c-9721-64bbb3213c61",
   "metadata": {},
   "outputs": [
    {
     "data": {
      "text/plain": [
       "[PhysicalDevice(name='/physical_device:GPU:0', device_type='GPU')]"
      ]
     },
     "execution_count": 2,
     "metadata": {},
     "output_type": "execute_result"
    }
   ],
   "source": [
    "tf.config.list_physical_devices(\"GPU\")"
   ]
  },
  {
   "cell_type": "code",
   "execution_count": 3,
   "id": "a5ae6497-d892-49ba-86a4-81e121d4f2b6",
   "metadata": {},
   "outputs": [],
   "source": [
    "sub_window_and_count_path_train = \"../../S_lab_TasselNet/Method_2/final_train_sub_windows_and_counts\"\n",
    "sub_window_and_count_path_valid = \"../../S_lab_TasselNet/Method_2/final_valid_sub_windows_and_counts\""
   ]
  },
  {
   "cell_type": "code",
   "execution_count": 4,
   "id": "e7cd701e-e95f-43be-8684-26525fd6e11a",
   "metadata": {},
   "outputs": [
    {
     "name": "stdout",
     "output_type": "stream",
     "text": [
      "(1572864, 32, 32, 3)\n",
      "(1572864,)\n",
      "CPU times: user 110 ms, sys: 29.9 s, total: 30 s\n",
      "Wall time: 1min 7s\n"
     ]
    }
   ],
   "source": [
    "%%time\n",
    "# load the data\n",
    "\n",
    "# subwindow data\n",
    "X_train = np.load(os.path.join(sub_window_and_count_path_train, 'train_sub_windows.npy'))\n",
    "print(X_train.shape)\n",
    "\n",
    "# sub counts data\n",
    "y_train = np.load(os.path.join(sub_window_and_count_path_train,'train_sub_counts.npy'))\n",
    "print(y_train.shape)"
   ]
  },
  {
   "cell_type": "code",
   "execution_count": 5,
   "id": "ff6d46f3-8e37-4b88-b6a2-0cf08ece75d5",
   "metadata": {},
   "outputs": [
    {
     "name": "stdout",
     "output_type": "stream",
     "text": [
      "(393216, 32, 32, 3)\n",
      "(393216,)\n",
      "CPU times: user 5.97 ms, sys: 6.79 s, total: 6.79 s\n",
      "Wall time: 15 s\n"
     ]
    }
   ],
   "source": [
    "%%time\n",
    "# load validation data\n",
    "# sub windows\n",
    "X_valid = np.load(os.path.join(sub_window_and_count_path_valid,'valid_sub_windows.npy'))\n",
    "print(X_valid.shape)\n",
    "\n",
    "# sub counts data\n",
    "y_valid = np.load(os.path.join(sub_window_and_count_path_valid,'valid_sub_counts.npy'))\n",
    "print(y_valid.shape)"
   ]
  },
  {
   "cell_type": "code",
   "execution_count": 6,
   "id": "3b53e89c-a8a8-4e85-bab3-a461e254f1fd",
   "metadata": {},
   "outputs": [
    {
     "name": "stderr",
     "output_type": "stream",
     "text": [
      "2024-06-17 13:47:38.529803: I tensorflow/core/common_runtime/gpu/gpu_device.cc:1929] Created device /job:localhost/replica:0/task:0/device:GPU:0 with 31141 MB memory:  -> device: 0, name: Tesla V100S-PCIE-32GB, pci bus id: 0000:06:00.0, compute capability: 7.0\n"
     ]
    },
    {
     "data": {
      "text/plain": [
       "<KerasTensor: shape=(None, None, None, 3) dtype=float32 (created by layer 'input_1')>"
      ]
     },
     "execution_count": 6,
     "metadata": {},
     "output_type": "execute_result"
    }
   ],
   "source": [
    "# load and add the new layers to the prev trained model\n",
    "gmp_model = tf.keras.models.load_model('../../S_lab_TasselNet/models/tasselnet_global_max_pool_04_23_2022.h5')\n",
    "# look at the input shape\n",
    "gmp_model.input"
   ]
  },
  {
   "cell_type": "code",
   "execution_count": 7,
   "id": "4cd3fc22-409f-41f6-a2d5-57ca371db054",
   "metadata": {},
   "outputs": [
    {
     "name": "stdout",
     "output_type": "stream",
     "text": [
      "Model: \"model\"\n",
      "_________________________________________________________________\n",
      " Layer (type)                Output Shape              Param #   \n",
      "=================================================================\n",
      " input_1 (InputLayer)        [(None, None, None, 3)]   0         \n",
      "                                                                 \n",
      " conv2d (Conv2D)             (None, None, None, 32)    896       \n",
      "                                                                 \n",
      " activation (Activation)     (None, None, None, 32)    0         \n",
      "                                                                 \n",
      " conv2d_1 (Conv2D)           (None, None, None, 32)    9248      \n",
      "                                                                 \n",
      " activation_1 (Activation)   (None, None, None, 32)    0         \n",
      "                                                                 \n",
      " max_pooling2d (MaxPooling2  (None, None, None, 32)    0         \n",
      " D)                                                              \n",
      "                                                                 \n",
      " dropout (Dropout)           (None, None, None, 32)    0         \n",
      "                                                                 \n",
      " conv2d_2 (Conv2D)           (None, None, None, 64)    18496     \n",
      "                                                                 \n",
      " activation_2 (Activation)   (None, None, None, 64)    0         \n",
      "                                                                 \n",
      " conv2d_3 (Conv2D)           (None, None, None, 64)    36928     \n",
      "                                                                 \n",
      " activation_3 (Activation)   (None, None, None, 64)    0         \n",
      "                                                                 \n",
      " max_pooling2d_1 (MaxPoolin  (None, None, None, 64)    0         \n",
      " g2D)                                                            \n",
      "                                                                 \n",
      " dropout_1 (Dropout)         (None, None, None, 64)    0         \n",
      "                                                                 \n",
      " global_max_pooling2d (Glob  (None, 64)                0         \n",
      " alMaxPooling2D)                                                 \n",
      "                                                                 \n",
      " dense (Dense)               (None, 512)               33280     \n",
      "                                                                 \n",
      " activation_4 (Activation)   (None, 512)               0         \n",
      "                                                                 \n",
      " dropout_2 (Dropout)         (None, 512)               0         \n",
      "                                                                 \n",
      " dense_1 (Dense)             (None, 1)                 513       \n",
      "                                                                 \n",
      "=================================================================\n",
      "Total params: 99361 (388.13 KB)\n",
      "Trainable params: 99361 (388.13 KB)\n",
      "Non-trainable params: 0 (0.00 Byte)\n",
      "_________________________________________________________________\n"
     ]
    }
   ],
   "source": [
    "gmp_model.summary()"
   ]
  },
  {
   "cell_type": "code",
   "execution_count": 8,
   "id": "1873f97a-5157-42ee-b7b3-6b8648d6872f",
   "metadata": {},
   "outputs": [],
   "source": [
    "# need to remove some of the last layers\n",
    "output_trial = gmp_model.layers[-7].output"
   ]
  },
  {
   "cell_type": "code",
   "execution_count": 9,
   "id": "2bd4f78c-ff91-4d47-a043-d8653d3aa891",
   "metadata": {},
   "outputs": [
    {
     "name": "stdout",
     "output_type": "stream",
     "text": [
      "Model: \"model\"\n",
      "_________________________________________________________________\n",
      " Layer (type)                Output Shape              Param #   \n",
      "=================================================================\n",
      " input_1 (InputLayer)        [(None, None, None, 3)]   0         \n",
      "                                                                 \n",
      " conv2d (Conv2D)             (None, None, None, 32)    896       \n",
      "                                                                 \n",
      " activation (Activation)     (None, None, None, 32)    0         \n",
      "                                                                 \n",
      " conv2d_1 (Conv2D)           (None, None, None, 32)    9248      \n",
      "                                                                 \n",
      " activation_1 (Activation)   (None, None, None, 32)    0         \n",
      "                                                                 \n",
      " max_pooling2d (MaxPooling2  (None, None, None, 32)    0         \n",
      " D)                                                              \n",
      "                                                                 \n",
      " dropout (Dropout)           (None, None, None, 32)    0         \n",
      "                                                                 \n",
      " conv2d_2 (Conv2D)           (None, None, None, 64)    18496     \n",
      "                                                                 \n",
      " activation_2 (Activation)   (None, None, None, 64)    0         \n",
      "                                                                 \n",
      " conv2d_3 (Conv2D)           (None, None, None, 64)    36928     \n",
      "                                                                 \n",
      " activation_3 (Activation)   (None, None, None, 64)    0         \n",
      "                                                                 \n",
      " max_pooling2d_1 (MaxPoolin  (None, None, None, 64)    0         \n",
      " g2D)                                                            \n",
      "                                                                 \n",
      "=================================================================\n",
      "Total params: 65568 (256.12 KB)\n",
      "Trainable params: 65568 (256.12 KB)\n",
      "Non-trainable params: 0 (0.00 Byte)\n",
      "_________________________________________________________________\n"
     ]
    }
   ],
   "source": [
    "# create the functional API model\n",
    "reduced_model = tf.keras.models.Model(gmp_model.input, output_trial)\n",
    "reduced_model.summary()"
   ]
  },
  {
   "cell_type": "code",
   "execution_count": 10,
   "id": "a85a7530-c70d-472a-965d-c0712759e1df",
   "metadata": {},
   "outputs": [],
   "source": [
    "# okay, now need to add back the dropout, the dense and activation\n",
    "\n",
    "# add dropout\n",
    "added_dropout = tf.keras.layers.Dropout(0.5, name = \"New_dropout\")(gmp_model.layers[-7].output)\n",
    "\n",
    "# add global max pooling\n",
    "added_flatten = tf.keras.layers.GlobalMaxPooling2D()(added_dropout)\n",
    "\n",
    "# add dense\n",
    "added_dense = tf.keras.layers.Dense(512, name = \"New_Dense\")(added_flatten)\n",
    "\n",
    "# add activation\n",
    "added_Act = tf.keras.layers.Activation('relu', name = \"New_Activation\")(added_dense)\n",
    "\n",
    "# add dropout\n",
    "added_dropout2 = tf.keras.layers.Dropout(0.5, name = \"New_dropout2\")(added_Act)\n",
    "\n",
    "# add dense\n",
    "added_dense2 = tf.keras.layers.Dense(1, name = \"New_Dense2\")(added_dropout2)\n",
    "\n",
    "# add activation\n",
    "added_Act2 = tf.keras.layers.Activation('relu', name = \"New_Activation2\")(added_dense2)\n",
    "\n",
    "# define the new model with functional API\n",
    "new_model = tf.keras.models.Model(gmp_model.input, added_Act2)"
   ]
  },
  {
   "cell_type": "code",
   "execution_count": 11,
   "id": "be70bd10-9b9b-49c4-88f2-eb1fd2b6dd1e",
   "metadata": {},
   "outputs": [
    {
     "name": "stdout",
     "output_type": "stream",
     "text": [
      "Model: \"model_1\"\n",
      "_________________________________________________________________\n",
      " Layer (type)                Output Shape              Param #   \n",
      "=================================================================\n",
      " input_1 (InputLayer)        [(None, None, None, 3)]   0         \n",
      "                                                                 \n",
      " conv2d (Conv2D)             (None, None, None, 32)    896       \n",
      "                                                                 \n",
      " activation (Activation)     (None, None, None, 32)    0         \n",
      "                                                                 \n",
      " conv2d_1 (Conv2D)           (None, None, None, 32)    9248      \n",
      "                                                                 \n",
      " activation_1 (Activation)   (None, None, None, 32)    0         \n",
      "                                                                 \n",
      " max_pooling2d (MaxPooling2  (None, None, None, 32)    0         \n",
      " D)                                                              \n",
      "                                                                 \n",
      " dropout (Dropout)           (None, None, None, 32)    0         \n",
      "                                                                 \n",
      " conv2d_2 (Conv2D)           (None, None, None, 64)    18496     \n",
      "                                                                 \n",
      " activation_2 (Activation)   (None, None, None, 64)    0         \n",
      "                                                                 \n",
      " conv2d_3 (Conv2D)           (None, None, None, 64)    36928     \n",
      "                                                                 \n",
      " activation_3 (Activation)   (None, None, None, 64)    0         \n",
      "                                                                 \n",
      " max_pooling2d_1 (MaxPoolin  (None, None, None, 64)    0         \n",
      " g2D)                                                            \n",
      "                                                                 \n",
      " New_dropout (Dropout)       (None, None, None, 64)    0         \n",
      "                                                                 \n",
      " global_max_pooling2d (Glob  (None, 64)                0         \n",
      " alMaxPooling2D)                                                 \n",
      "                                                                 \n",
      " New_Dense (Dense)           (None, 512)               33280     \n",
      "                                                                 \n",
      " New_Activation (Activation  (None, 512)               0         \n",
      " )                                                               \n",
      "                                                                 \n",
      " New_dropout2 (Dropout)      (None, 512)               0         \n",
      "                                                                 \n",
      " New_Dense2 (Dense)          (None, 1)                 513       \n",
      "                                                                 \n",
      " New_Activation2 (Activatio  (None, 1)                 0         \n",
      " n)                                                              \n",
      "                                                                 \n",
      "=================================================================\n",
      "Total params: 99361 (388.13 KB)\n",
      "Trainable params: 99361 (388.13 KB)\n",
      "Non-trainable params: 0 (0.00 Byte)\n",
      "_________________________________________________________________\n"
     ]
    }
   ],
   "source": [
    "# print the model summary\n",
    "new_model.summary()"
   ]
  },
  {
   "cell_type": "markdown",
   "id": "2e3ffb4d-a2b9-4d59-8ec9-992fcc9cb770",
   "metadata": {},
   "source": [
    "This is where we need to write the function - Rylie has two functions a generator, and also a batch-wise prediction function. May be we only need the generator function? Let's see."
   ]
  },
  {
   "cell_type": "code",
   "execution_count": 12,
   "id": "db0a8ba1-7114-43d4-b660-835434d0a13c",
   "metadata": {},
   "outputs": [],
   "source": [
    "def data_generator(x_data, y_data, batch_size, shuffle=False, peek=False, verbose=False):\n",
    "    num_samples = len(x_data)\n",
    "    indices = np.arange(num_samples)\n",
    "    \n",
    "    if peek:    # Give first batch unshuffled and don't change start index when peeking for training\n",
    "        end = min(batch_size, num_samples)\n",
    "        if verbose:\n",
    "            print(f\"Generating peeking batch up to index {end}\")\n",
    "        batch_x = x_data[:end]\n",
    "        batch_y = y_data[:end]\n",
    "        peek = False\n",
    "        yield (batch_x, batch_y)\n",
    "\n",
    "    while True:    # Loop indefinitely for epochs\n",
    "        # Shuffle indices at the start of each epoch after the peek, if shuffle is enabled\n",
    "        if shuffle:\n",
    "            np.random.shuffle(indices)\n",
    "        \n",
    "        for start in range(0, num_samples, batch_size):\n",
    "            end = min(start + batch_size, num_samples)\n",
    "            batch_indices = indices[start:end]\n",
    "\n",
    "            # Print batch indices if verbose\n",
    "            if verbose:\n",
    "                # Warning: calling verbose when shuffling will usually clutter output\n",
    "                if shuffle:\n",
    "                    if len(batch_indices) < 16:\n",
    "                        print(f\"Batch indices: {np.sort(batch_indices)}\")\n",
    "                    else:\n",
    "                        print(f\"Printing batch indices would clutter output. Skipped.\")\n",
    "                    print(f\"Length: {len(batch_indices)}\")\n",
    "                else:\n",
    "                    print(f\"Generating batch from index {start} to {end}\")\n",
    "                # traceback.print_stack()\n",
    "\n",
    "            # Generate batches\n",
    "            batch_x = x_data[batch_indices]\n",
    "            batch_y = y_data[batch_indices]\n",
    "\n",
    "            # Yield the current batch\n",
    "            yield (batch_x, batch_y)"
   ]
  },
  {
   "cell_type": "code",
   "execution_count": 13,
   "id": "72ba2784-1400-4111-b713-13882a25fe24",
   "metadata": {},
   "outputs": [
    {
     "name": "stdout",
     "output_type": "stream",
     "text": [
      "CPU times: user 2 µs, sys: 6 µs, total: 8 µs\n",
      "Wall time: 11.9 µs\n"
     ]
    }
   ],
   "source": [
    "%%time\n",
    "batch_size = 1024\n",
    "generator_batch_size = 1024\n",
    "train_gen = data_generator(X_train, y_train, batch_size, shuffle=False, peek=True, verbose=False)\n",
    "val_gen = data_generator(X_valid, y_valid, generator_batch_size, shuffle=False, peek=True, verbose=False)"
   ]
  },
  {
   "cell_type": "code",
   "execution_count": 14,
   "id": "2af42a61-f284-413a-8976-dbe1ffea513c",
   "metadata": {},
   "outputs": [],
   "source": [
    "steps_per_epoch = int(np.ceil(len(X_train) / batch_size))\n",
    "train_steps = int(np.ceil(len(X_train) / generator_batch_size))\n",
    "validation_steps = int(np.ceil(len(X_valid) / generator_batch_size))"
   ]
  },
  {
   "cell_type": "code",
   "execution_count": 15,
   "id": "da1d2f51-9955-4c19-b43c-4ce534700318",
   "metadata": {},
   "outputs": [
    {
     "data": {
      "text/plain": [
       "(1536, 1536, 384)"
      ]
     },
     "execution_count": 15,
     "metadata": {},
     "output_type": "execute_result"
    }
   ],
   "source": [
    "steps_per_epoch, train_steps, validation_steps"
   ]
  },
  {
   "cell_type": "code",
   "execution_count": 16,
   "id": "70df5184-421f-4fbc-8b3a-c90a7958a364",
   "metadata": {},
   "outputs": [
    {
     "name": "stdout",
     "output_type": "stream",
     "text": [
      "Epoch 1/100\n"
     ]
    },
    {
     "name": "stderr",
     "output_type": "stream",
     "text": [
      "2024-06-17 13:47:40.869803: E tensorflow/core/grappler/optimizers/meta_optimizer.cc:961] layout failed: INVALID_ARGUMENT: Size of values 0 does not match size of permutation 4 @ fanin shape inmodel_1/dropout/dropout/SelectV2-2-TransposeNHWCToNCHW-LayoutOptimizer\n",
      "2024-06-17 13:47:41.497794: I external/local_xla/xla/stream_executor/cuda/cuda_dnn.cc:454] Loaded cuDNN version 8907\n",
      "2024-06-17 13:47:48.031817: I external/local_xla/xla/service/service.cc:168] XLA service 0x14fbaed56400 initialized for platform CUDA (this does not guarantee that XLA will be used). Devices:\n",
      "2024-06-17 13:47:48.031862: I external/local_xla/xla/service/service.cc:176]   StreamExecutor device (0): Tesla V100S-PCIE-32GB, Compute Capability 7.0\n",
      "2024-06-17 13:47:48.091184: I tensorflow/compiler/mlir/tensorflow/utils/dump_mlir_util.cc:269] disabling MLIR crash reproducer, set env var `MLIR_CRASH_REPRODUCER_DIRECTORY` to enable.\n",
      "WARNING: All log messages before absl::InitializeLog() is called are written to STDERR\n",
      "I0000 00:00:1718650068.584183 2002094 device_compiler.h:186] Compiled cluster using XLA!  This line is logged at most once for the lifetime of the process.\n"
     ]
    },
    {
     "name": "stdout",
     "output_type": "stream",
     "text": [
      "1536/1536 [==============================] - 35s 17ms/step - loss: 0.0279 - mean_absolute_error: 0.0588 - val_loss: 0.0218 - val_mean_absolute_error: 0.0329\n",
      "Epoch 2/100\n",
      "1536/1536 [==============================] - 27s 17ms/step - loss: 0.0257 - mean_absolute_error: 0.0590 - val_loss: 0.0212 - val_mean_absolute_error: 0.0340\n",
      "Epoch 3/100\n",
      "1536/1536 [==============================] - 28s 18ms/step - loss: 0.0253 - mean_absolute_error: 0.0596 - val_loss: 0.0208 - val_mean_absolute_error: 0.0349\n",
      "Epoch 4/100\n",
      "1536/1536 [==============================] - 27s 18ms/step - loss: 0.0252 - mean_absolute_error: 0.0600 - val_loss: 0.0207 - val_mean_absolute_error: 0.0354\n",
      "Epoch 5/100\n",
      "1536/1536 [==============================] - 27s 17ms/step - loss: 0.0252 - mean_absolute_error: 0.0601 - val_loss: 0.0205 - val_mean_absolute_error: 0.0362\n",
      "Epoch 6/100\n",
      "1536/1536 [==============================] - 26s 17ms/step - loss: 0.0251 - mean_absolute_error: 0.0600 - val_loss: 0.0203 - val_mean_absolute_error: 0.0371\n",
      "Epoch 7/100\n",
      "1536/1536 [==============================] - 27s 18ms/step - loss: 0.0251 - mean_absolute_error: 0.0602 - val_loss: 0.0202 - val_mean_absolute_error: 0.0377\n",
      "Epoch 8/100\n",
      "1536/1536 [==============================] - 27s 17ms/step - loss: 0.0250 - mean_absolute_error: 0.0603 - val_loss: 0.0201 - val_mean_absolute_error: 0.0388\n",
      "Epoch 9/100\n",
      "1536/1536 [==============================] - 27s 18ms/step - loss: 0.0250 - mean_absolute_error: 0.0605 - val_loss: 0.0200 - val_mean_absolute_error: 0.0394\n",
      "Epoch 10/100\n",
      "1536/1536 [==============================] - 27s 18ms/step - loss: 0.0250 - mean_absolute_error: 0.0605 - val_loss: 0.0199 - val_mean_absolute_error: 0.0403\n",
      "Epoch 11/100\n",
      "1536/1536 [==============================] - 26s 17ms/step - loss: 0.0249 - mean_absolute_error: 0.0606 - val_loss: 0.0199 - val_mean_absolute_error: 0.0413\n",
      "Epoch 12/100\n",
      "1536/1536 [==============================] - 27s 18ms/step - loss: 0.0249 - mean_absolute_error: 0.0606 - val_loss: 0.0199 - val_mean_absolute_error: 0.0415\n",
      "Epoch 13/100\n",
      "1536/1536 [==============================] - 27s 18ms/step - loss: 0.0249 - mean_absolute_error: 0.0607 - val_loss: 0.0198 - val_mean_absolute_error: 0.0426\n",
      "Epoch 14/100\n",
      "1536/1536 [==============================] - 26s 17ms/step - loss: 0.0249 - mean_absolute_error: 0.0607 - val_loss: 0.0198 - val_mean_absolute_error: 0.0430\n",
      "Epoch 15/100\n",
      "1536/1536 [==============================] - 26s 17ms/step - loss: 0.0249 - mean_absolute_error: 0.0607 - val_loss: 0.0197 - val_mean_absolute_error: 0.0439\n",
      "Epoch 16/100\n",
      "1536/1536 [==============================] - 27s 18ms/step - loss: 0.0248 - mean_absolute_error: 0.0608 - val_loss: 0.0197 - val_mean_absolute_error: 0.0446\n",
      "Epoch 17/100\n",
      "1536/1536 [==============================] - 27s 18ms/step - loss: 0.0248 - mean_absolute_error: 0.0607 - val_loss: 0.0197 - val_mean_absolute_error: 0.0449\n",
      "Epoch 18/100\n",
      "1536/1536 [==============================] - 27s 17ms/step - loss: 0.0248 - mean_absolute_error: 0.0609 - val_loss: 0.0197 - val_mean_absolute_error: 0.0450\n",
      "Epoch 19/100\n",
      "1536/1536 [==============================] - 26s 17ms/step - loss: 0.0248 - mean_absolute_error: 0.0608 - val_loss: 0.0198 - val_mean_absolute_error: 0.0450\n",
      "Epoch 20/100\n",
      "1536/1536 [==============================] - 27s 17ms/step - loss: 0.0248 - mean_absolute_error: 0.0609 - val_loss: 0.0197 - val_mean_absolute_error: 0.0456\n",
      "Epoch 21/100\n",
      "1536/1536 [==============================] - 27s 18ms/step - loss: 0.0248 - mean_absolute_error: 0.0608 - val_loss: 0.0197 - val_mean_absolute_error: 0.0455\n",
      "Epoch 22/100\n",
      "1536/1536 [==============================] - 27s 18ms/step - loss: 0.0248 - mean_absolute_error: 0.0608 - val_loss: 0.0197 - val_mean_absolute_error: 0.0470\n",
      "Epoch 23/100\n",
      "1536/1536 [==============================] - 27s 18ms/step - loss: 0.0248 - mean_absolute_error: 0.0610 - val_loss: 0.0197 - val_mean_absolute_error: 0.0464\n",
      "Epoch 24/100\n",
      "1536/1536 [==============================] - 28s 18ms/step - loss: 0.0248 - mean_absolute_error: 0.0611 - val_loss: 0.0197 - val_mean_absolute_error: 0.0468\n",
      "Epoch 25/100\n",
      "1536/1536 [==============================] - 27s 17ms/step - loss: 0.0248 - mean_absolute_error: 0.0610 - val_loss: 0.0197 - val_mean_absolute_error: 0.0462\n",
      "Epoch 26/100\n",
      "1536/1536 [==============================] - 26s 17ms/step - loss: 0.0247 - mean_absolute_error: 0.0608 - val_loss: 0.0197 - val_mean_absolute_error: 0.0473\n",
      "Epoch 27/100\n",
      "1536/1536 [==============================] - 27s 18ms/step - loss: 0.0248 - mean_absolute_error: 0.0611 - val_loss: 0.0197 - val_mean_absolute_error: 0.0460\n",
      "Epoch 28/100\n",
      "1536/1536 [==============================] - 27s 18ms/step - loss: 0.0247 - mean_absolute_error: 0.0609 - val_loss: 0.0197 - val_mean_absolute_error: 0.0471\n",
      "Epoch 29/100\n",
      "1536/1536 [==============================] - 27s 18ms/step - loss: 0.0247 - mean_absolute_error: 0.0608 - val_loss: 0.0197 - val_mean_absolute_error: 0.0460\n",
      "Epoch 30/100\n",
      "1536/1536 [==============================] - 27s 18ms/step - loss: 0.0247 - mean_absolute_error: 0.0610 - val_loss: 0.0197 - val_mean_absolute_error: 0.0471\n",
      "Epoch 31/100\n",
      "1536/1536 [==============================] - 27s 18ms/step - loss: 0.0247 - mean_absolute_error: 0.0610 - val_loss: 0.0197 - val_mean_absolute_error: 0.0465\n",
      "Epoch 32/100\n",
      "1534/1536 [============================>.] - ETA: 0s - loss: 0.0247 - mean_absolute_error: 0.0608Restoring model weights from the end of the best epoch: 22.\n",
      "1536/1536 [==============================] - 27s 18ms/step - loss: 0.0247 - mean_absolute_error: 0.0609 - val_loss: 0.0197 - val_mean_absolute_error: 0.0458\n",
      "Epoch 32: early stopping\n",
      "CPU times: user 23min 9s, sys: 27.2 s, total: 23min 37s\n",
      "Wall time: 14min 28s\n"
     ]
    }
   ],
   "source": [
    "%%time\n",
    "# frozen model\n",
    "\n",
    "#     freeze layers\n",
    "for layer in gmp_model.layers:\n",
    "    layer.trainable = False\n",
    "    \n",
    "# compile the model\n",
    "opt = tf.keras.optimizers.Adam(learning_rate=0.0001)\n",
    "new_model.compile(loss='mean_squared_error', optimizer=opt, metrics = ['mean_absolute_error'])\n",
    "    \n",
    "# add early stopping\n",
    "es = tf.keras.callbacks.EarlyStopping(monitor='val_loss', restore_best_weights = True, verbose=1, patience=10)\n",
    "\n",
    "# fit the generator - the steps are a must here\n",
    "history = new_model.fit(train_gen,\n",
    "          validation_data = val_gen, steps_per_epoch=steps_per_epoch, \n",
    "                                  validation_steps=validation_steps,                        \n",
    "          epochs = 100, callbacks = [es])"
   ]
  },
  {
   "cell_type": "code",
   "execution_count": 17,
   "id": "bac0e3d6-adbf-4b65-aef7-25e47ee06e22",
   "metadata": {},
   "outputs": [
    {
     "name": "stdout",
     "output_type": "stream",
     "text": [
      "Epoch 1/100\n"
     ]
    },
    {
     "name": "stderr",
     "output_type": "stream",
     "text": [
      "2024-06-17 14:02:09.240593: E tensorflow/core/grappler/optimizers/meta_optimizer.cc:961] layout failed: INVALID_ARGUMENT: Size of values 0 does not match size of permutation 4 @ fanin shape inmodel_1/dropout/dropout/SelectV2-2-TransposeNHWCToNCHW-LayoutOptimizer\n"
     ]
    },
    {
     "name": "stdout",
     "output_type": "stream",
     "text": [
      "1536/1536 [==============================] - 31s 18ms/step - loss: 0.0308 - mean_absolute_error: 0.0500 - val_loss: 0.0225 - val_mean_absolute_error: 0.0327\n",
      "Epoch 2/100\n",
      "1536/1536 [==============================] - 27s 18ms/step - loss: 0.0282 - mean_absolute_error: 0.0541 - val_loss: 0.0246 - val_mean_absolute_error: 0.0988\n",
      "Epoch 3/100\n",
      "1536/1536 [==============================] - 27s 18ms/step - loss: 0.0338 - mean_absolute_error: 0.0481 - val_loss: 0.0225 - val_mean_absolute_error: 0.0327\n",
      "Epoch 4/100\n",
      "1536/1536 [==============================] - 27s 18ms/step - loss: 0.0337 - mean_absolute_error: 0.0480 - val_loss: 0.0225 - val_mean_absolute_error: 0.0327\n",
      "Epoch 5/100\n",
      "1536/1536 [==============================] - 27s 18ms/step - loss: 0.0337 - mean_absolute_error: 0.0480 - val_loss: 0.0225 - val_mean_absolute_error: 0.0327\n",
      "Epoch 6/100\n",
      "1536/1536 [==============================] - 27s 18ms/step - loss: 0.0337 - mean_absolute_error: 0.0480 - val_loss: 0.0225 - val_mean_absolute_error: 0.0327\n",
      "Epoch 7/100\n",
      "1536/1536 [==============================] - 27s 18ms/step - loss: 0.0249 - mean_absolute_error: 0.0546 - val_loss: 0.0199 - val_mean_absolute_error: 0.0570\n",
      "Epoch 8/100\n",
      "1536/1536 [==============================] - 27s 18ms/step - loss: 0.0240 - mean_absolute_error: 0.0543 - val_loss: 0.0201 - val_mean_absolute_error: 0.0594\n",
      "Epoch 9/100\n",
      "1536/1536 [==============================] - 28s 18ms/step - loss: 0.0234 - mean_absolute_error: 0.0537 - val_loss: 0.0192 - val_mean_absolute_error: 0.0493\n",
      "Epoch 10/100\n",
      "1536/1536 [==============================] - 28s 18ms/step - loss: 0.0231 - mean_absolute_error: 0.0535 - val_loss: 0.0196 - val_mean_absolute_error: 0.0578\n",
      "Epoch 11/100\n",
      "1536/1536 [==============================] - 28s 18ms/step - loss: 0.0233 - mean_absolute_error: 0.0530 - val_loss: 0.0191 - val_mean_absolute_error: 0.0514\n",
      "Epoch 12/100\n",
      "1536/1536 [==============================] - 28s 18ms/step - loss: 0.0230 - mean_absolute_error: 0.0526 - val_loss: 0.0209 - val_mean_absolute_error: 0.0695\n",
      "Epoch 13/100\n",
      "1536/1536 [==============================] - 28s 18ms/step - loss: 0.0227 - mean_absolute_error: 0.0527 - val_loss: 0.0215 - val_mean_absolute_error: 0.0757\n",
      "Epoch 14/100\n",
      "1536/1536 [==============================] - 28s 18ms/step - loss: 0.0229 - mean_absolute_error: 0.0527 - val_loss: 0.0200 - val_mean_absolute_error: 0.0638\n",
      "Epoch 15/100\n",
      "1536/1536 [==============================] - 28s 18ms/step - loss: 0.0224 - mean_absolute_error: 0.0524 - val_loss: 0.0206 - val_mean_absolute_error: 0.0703\n",
      "Epoch 16/100\n",
      "1536/1536 [==============================] - 28s 18ms/step - loss: 0.0224 - mean_absolute_error: 0.0522 - val_loss: 0.0205 - val_mean_absolute_error: 0.0712\n",
      "Epoch 17/100\n",
      "1536/1536 [==============================] - 28s 18ms/step - loss: 0.0223 - mean_absolute_error: 0.0521 - val_loss: 0.0203 - val_mean_absolute_error: 0.0654\n",
      "Epoch 18/100\n",
      "1536/1536 [==============================] - 28s 18ms/step - loss: 0.0222 - mean_absolute_error: 0.0519 - val_loss: 0.0199 - val_mean_absolute_error: 0.0634\n",
      "Epoch 19/100\n",
      "1536/1536 [==============================] - 28s 18ms/step - loss: 0.0221 - mean_absolute_error: 0.0518 - val_loss: 0.0197 - val_mean_absolute_error: 0.0640\n",
      "Epoch 20/100\n",
      "1536/1536 [==============================] - 27s 18ms/step - loss: 0.0221 - mean_absolute_error: 0.0519 - val_loss: 0.0196 - val_mean_absolute_error: 0.0635\n",
      "Epoch 21/100\n",
      "1536/1536 [==============================] - 27s 18ms/step - loss: 0.0220 - mean_absolute_error: 0.0518 - val_loss: 0.0199 - val_mean_absolute_error: 0.0666\n",
      "Epoch 22/100\n",
      "1536/1536 [==============================] - 28s 18ms/step - loss: 0.0219 - mean_absolute_error: 0.0517 - val_loss: 0.0199 - val_mean_absolute_error: 0.0672\n",
      "Epoch 23/100\n",
      "1536/1536 [==============================] - 28s 18ms/step - loss: 0.0218 - mean_absolute_error: 0.0516 - val_loss: 0.0194 - val_mean_absolute_error: 0.0585\n",
      "Epoch 24/100\n",
      "1536/1536 [==============================] - 28s 18ms/step - loss: 0.0219 - mean_absolute_error: 0.0514 - val_loss: 0.0199 - val_mean_absolute_error: 0.0650\n",
      "Epoch 25/100\n",
      "1536/1536 [==============================] - 28s 18ms/step - loss: 0.0219 - mean_absolute_error: 0.0513 - val_loss: 0.0200 - val_mean_absolute_error: 0.0650\n",
      "Epoch 26/100\n",
      "1536/1536 [==============================] - ETA: 0s - loss: 0.0218 - mean_absolute_error: 0.0511Restoring model weights from the end of the best epoch: 11.\n",
      "1536/1536 [==============================] - 28s 18ms/step - loss: 0.0218 - mean_absolute_error: 0.0511 - val_loss: 0.0194 - val_mean_absolute_error: 0.0611\n",
      "Epoch 26: early stopping\n",
      "CPU times: user 19min 39s, sys: 24.7 s, total: 20min 4s\n",
      "Wall time: 12min 3s\n"
     ]
    }
   ],
   "source": [
    "%%time\n",
    "# # unfreeze few layers and retrain - finetune the model\n",
    "gmp_model.trainable = True\n",
    "\n",
    "set_trainable = False\n",
    "\n",
    "for layer in gmp_model.layers:\n",
    "    if layer.name == 'conv2d_3':\n",
    "        set_trainable = True\n",
    "    if set_trainable:\n",
    "        layer.trainable = True\n",
    "    else:\n",
    "        layer.trainable = False\n",
    "            \n",
    "    # # compile the mdoel\n",
    "opt = tf.keras.optimizers.Adam(learning_rate=0.001)\n",
    "new_model.compile(loss='mean_squared_error', optimizer=opt, metrics = ['mean_absolute_error'])\n",
    "    \n",
    "    # # add early stopping\n",
    "es = tf.keras.callbacks.EarlyStopping(monitor='val_loss', restore_best_weights = True, verbose=1, patience=15)\n",
    "    \n",
    "    # # fit the model (fine tuned)\n",
    "history_new = new_model.fit(train_gen,\n",
    "          validation_data = val_gen, steps_per_epoch=steps_per_epoch, \n",
    "                                  validation_steps=validation_steps,                        \n",
    "          epochs = 100, callbacks = [es])\n"
   ]
  },
  {
   "cell_type": "code",
   "execution_count": 18,
   "id": "cf517d99-90fc-4dd3-b645-b1744040542b",
   "metadata": {},
   "outputs": [
    {
     "name": "stderr",
     "output_type": "stream",
     "text": [
      "/common/statsgeneral/gayara/tfp_for_TN/lib/python3.10/site-packages/keras/src/engine/training.py:3103: UserWarning: You are saving your model as an HDF5 file via `model.save()`. This file format is considered legacy. We recommend using instead the native Keras format, e.g. `model.save('my_model.keras')`.\n",
      "  saving_api.save_model(\n"
     ]
    }
   ],
   "source": [
    "# save the finetuned model\n",
    "model_name = 'trained_gmp_model.h5'\n",
    "new_model.save('models' + '/' + model_name)"
   ]
  }
 ],
 "metadata": {
  "kernelspec": {
   "display_name": "Python (tfp_for_TN)",
   "language": "python",
   "name": "tfp_for_tn"
  },
  "language_info": {
   "codemirror_mode": {
    "name": "ipython",
    "version": 3
   },
   "file_extension": ".py",
   "mimetype": "text/x-python",
   "name": "python",
   "nbconvert_exporter": "python",
   "pygments_lexer": "ipython3",
   "version": "3.10.14"
  }
 },
 "nbformat": 4,
 "nbformat_minor": 5
}
