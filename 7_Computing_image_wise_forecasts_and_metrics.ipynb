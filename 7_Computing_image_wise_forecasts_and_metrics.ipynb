{
 "cells": [
  {
   "cell_type": "code",
   "execution_count": 1,
   "id": "792bd9f2-28fd-4116-89fa-5bd269c51a47",
   "metadata": {},
   "outputs": [],
   "source": [
    "import pandas as pd\n",
    "import numpy as np\n",
    "import matplotlib.pyplot as plt\n",
    "import os\n",
    "from sklearn.metrics import mean_absolute_error, mean_squared_error"
   ]
  },
  {
   "cell_type": "code",
   "execution_count": 2,
   "id": "16cdfbd4-b38a-43fd-b756-676ca221b4bc",
   "metadata": {},
   "outputs": [],
   "source": [
    "# path to dataframes\n",
    "path_to_dfs = \"forecasted_counts/block_0103/\""
   ]
  },
  {
   "cell_type": "code",
   "execution_count": 3,
   "id": "e517faff-1694-419f-bd7d-13e76cefa34f",
   "metadata": {},
   "outputs": [],
   "source": [
    "# os.listdir(path_to_dfs)"
   ]
  },
  {
   "cell_type": "code",
   "execution_count": 4,
   "id": "34a0b10e-63ef-433d-bc8a-21cccaf3ece2",
   "metadata": {},
   "outputs": [],
   "source": [
    "averaged_forecasts_csvs = []\n",
    "for file in os.listdir(path_to_dfs):\n",
    "    if file[:8] =='averaged':\n",
    "        averaged_forecasts_csvs.append(file)"
   ]
  },
  {
   "cell_type": "code",
   "execution_count": 5,
   "id": "dbdb3d7e-5b1a-4bab-8edc-34db54869856",
   "metadata": {},
   "outputs": [
    {
     "data": {
      "text/plain": [
       "['averaged_forecasts_sub_0.csv',\n",
       " 'averaged_forecasts_sub_1.csv',\n",
       " 'averaged_forecasts_sub_10.csv',\n",
       " 'averaged_forecasts_sub_11.csv',\n",
       " 'averaged_forecasts_sub_2.csv',\n",
       " 'averaged_forecasts_sub_3.csv',\n",
       " 'averaged_forecasts_sub_4.csv',\n",
       " 'averaged_forecasts_sub_5.csv',\n",
       " 'averaged_forecasts_sub_6.csv',\n",
       " 'averaged_forecasts_sub_7.csv',\n",
       " 'averaged_forecasts_sub_8.csv',\n",
       " 'averaged_forecasts_sub_9.csv']"
      ]
     },
     "execution_count": 5,
     "metadata": {},
     "output_type": "execute_result"
    }
   ],
   "source": [
    "averaged_forecasts_csvs.sort()\n",
    "averaged_forecasts_csvs"
   ]
  },
  {
   "cell_type": "code",
   "execution_count": 6,
   "id": "e64ec5d3-ef54-423f-af9a-56eca9d9e82e",
   "metadata": {},
   "outputs": [],
   "source": [
    "# add the 10, 11 at the end\n",
    "csv_files_10_11 = ['averaged_forecasts_sub_10.csv', 'averaged_forecasts_sub_11.csv']"
   ]
  },
  {
   "cell_type": "code",
   "execution_count": 7,
   "id": "0ebe0a4d-521c-496e-a946-269fba9f29f8",
   "metadata": {},
   "outputs": [],
   "source": [
    "other_files = [i for i in averaged_forecasts_csvs if i not in csv_files_10_11]"
   ]
  },
  {
   "cell_type": "code",
   "execution_count": 8,
   "id": "7cb7f455-42e2-4846-a1c3-04c626eb6536",
   "metadata": {},
   "outputs": [],
   "source": [
    "ordered_csv_files = other_files + csv_files_10_11"
   ]
  },
  {
   "cell_type": "code",
   "execution_count": 9,
   "id": "c0ab9bbb-b6de-42ee-ab0f-dbbf3d0e5233",
   "metadata": {},
   "outputs": [
    {
     "data": {
      "text/plain": [
       "['averaged_forecasts_sub_0.csv',\n",
       " 'averaged_forecasts_sub_1.csv',\n",
       " 'averaged_forecasts_sub_2.csv',\n",
       " 'averaged_forecasts_sub_3.csv',\n",
       " 'averaged_forecasts_sub_4.csv',\n",
       " 'averaged_forecasts_sub_5.csv',\n",
       " 'averaged_forecasts_sub_6.csv',\n",
       " 'averaged_forecasts_sub_7.csv',\n",
       " 'averaged_forecasts_sub_8.csv',\n",
       " 'averaged_forecasts_sub_9.csv',\n",
       " 'averaged_forecasts_sub_10.csv',\n",
       " 'averaged_forecasts_sub_11.csv']"
      ]
     },
     "execution_count": 9,
     "metadata": {},
     "output_type": "execute_result"
    }
   ],
   "source": [
    "ordered_csv_files"
   ]
  },
  {
   "cell_type": "code",
   "execution_count": 10,
   "id": "d7210813-d54e-4a90-a3c9-509b6e153350",
   "metadata": {},
   "outputs": [],
   "source": [
    "all_dfs = []\n",
    "for file in ordered_csv_files:\n",
    "    read_df = pd.read_csv(path_to_dfs + '/' + file)\n",
    "    all_dfs.append(read_df)"
   ]
  },
  {
   "cell_type": "code",
   "execution_count": 11,
   "id": "e6536dbe-60f7-4ced-bf03-7fbbd91d0aa5",
   "metadata": {},
   "outputs": [],
   "source": [
    "# make a single dataframe out of the many\n",
    "combined_df = pd.concat(all_dfs, axis = 1)"
   ]
  },
  {
   "cell_type": "code",
   "execution_count": 12,
   "id": "cabf05c1-2fcf-43f6-a413-cf325d7e705b",
   "metadata": {},
   "outputs": [
    {
     "data": {
      "text/html": [
       "<div>\n",
       "<style scoped>\n",
       "    .dataframe tbody tr th:only-of-type {\n",
       "        vertical-align: middle;\n",
       "    }\n",
       "\n",
       "    .dataframe tbody tr th {\n",
       "        vertical-align: top;\n",
       "    }\n",
       "\n",
       "    .dataframe thead th {\n",
       "        text-align: right;\n",
       "    }\n",
       "</style>\n",
       "<table border=\"1\" class=\"dataframe\">\n",
       "  <thead>\n",
       "    <tr style=\"text-align: right;\">\n",
       "      <th></th>\n",
       "      <th>True_value</th>\n",
       "      <th>Forecasted_value</th>\n",
       "      <th>True_value</th>\n",
       "      <th>Forecasted_value</th>\n",
       "      <th>True_value</th>\n",
       "      <th>Forecasted_value</th>\n",
       "      <th>True_value</th>\n",
       "      <th>Forecasted_value</th>\n",
       "      <th>True_value</th>\n",
       "      <th>Forecasted_value</th>\n",
       "      <th>...</th>\n",
       "      <th>True_value</th>\n",
       "      <th>Forecasted_value</th>\n",
       "      <th>True_value</th>\n",
       "      <th>Forecasted_value</th>\n",
       "      <th>True_value</th>\n",
       "      <th>Forecasted_value</th>\n",
       "      <th>True_value</th>\n",
       "      <th>Forecasted_value</th>\n",
       "      <th>True_value</th>\n",
       "      <th>Forecasted_value</th>\n",
       "    </tr>\n",
       "  </thead>\n",
       "  <tbody>\n",
       "    <tr>\n",
       "      <th>0</th>\n",
       "      <td>3.000000</td>\n",
       "      <td>3.502995</td>\n",
       "      <td>4.008115</td>\n",
       "      <td>4.326490</td>\n",
       "      <td>6.203186</td>\n",
       "      <td>5.903662</td>\n",
       "      <td>2.000008</td>\n",
       "      <td>1.338628</td>\n",
       "      <td>3.344058</td>\n",
       "      <td>4.409308</td>\n",
       "      <td>...</td>\n",
       "      <td>1.000653</td>\n",
       "      <td>0.412638</td>\n",
       "      <td>0.655942</td>\n",
       "      <td>1.451323</td>\n",
       "      <td>2.054460</td>\n",
       "      <td>2.462344</td>\n",
       "      <td>3.999930</td>\n",
       "      <td>3.446359</td>\n",
       "      <td>0.000000</td>\n",
       "      <td>3.446359</td>\n",
       "    </tr>\n",
       "    <tr>\n",
       "      <th>1</th>\n",
       "      <td>4.002516</td>\n",
       "      <td>3.395932</td>\n",
       "      <td>3.788700</td>\n",
       "      <td>4.016761</td>\n",
       "      <td>7.895105</td>\n",
       "      <td>5.203614</td>\n",
       "      <td>1.922893</td>\n",
       "      <td>1.336902</td>\n",
       "      <td>5.020036</td>\n",
       "      <td>3.926179</td>\n",
       "      <td>...</td>\n",
       "      <td>0.171887</td>\n",
       "      <td>0.828952</td>\n",
       "      <td>1.977448</td>\n",
       "      <td>1.390231</td>\n",
       "      <td>2.655942</td>\n",
       "      <td>2.309512</td>\n",
       "      <td>4.321506</td>\n",
       "      <td>3.590898</td>\n",
       "      <td>0.000000</td>\n",
       "      <td>3.590898</td>\n",
       "    </tr>\n",
       "    <tr>\n",
       "      <th>2</th>\n",
       "      <td>4.000155</td>\n",
       "      <td>3.814880</td>\n",
       "      <td>4.004599</td>\n",
       "      <td>4.545232</td>\n",
       "      <td>6.674109</td>\n",
       "      <td>5.510455</td>\n",
       "      <td>0.999997</td>\n",
       "      <td>1.356144</td>\n",
       "      <td>3.999845</td>\n",
       "      <td>3.884913</td>\n",
       "      <td>...</td>\n",
       "      <td>0.000005</td>\n",
       "      <td>0.906043</td>\n",
       "      <td>3.000000</td>\n",
       "      <td>1.716366</td>\n",
       "      <td>3.000000</td>\n",
       "      <td>2.400968</td>\n",
       "      <td>5.999987</td>\n",
       "      <td>3.983727</td>\n",
       "      <td>0.000013</td>\n",
       "      <td>3.983727</td>\n",
       "    </tr>\n",
       "    <tr>\n",
       "      <th>3</th>\n",
       "      <td>3.000000</td>\n",
       "      <td>3.388231</td>\n",
       "      <td>4.000000</td>\n",
       "      <td>3.685815</td>\n",
       "      <td>4.000031</td>\n",
       "      <td>4.334354</td>\n",
       "      <td>0.500000</td>\n",
       "      <td>1.329767</td>\n",
       "      <td>3.000000</td>\n",
       "      <td>3.888840</td>\n",
       "      <td>...</td>\n",
       "      <td>0.500000</td>\n",
       "      <td>0.466146</td>\n",
       "      <td>1.000000</td>\n",
       "      <td>1.351411</td>\n",
       "      <td>1.865198</td>\n",
       "      <td>1.324217</td>\n",
       "      <td>4.080343</td>\n",
       "      <td>2.786875</td>\n",
       "      <td>0.000000</td>\n",
       "      <td>2.786875</td>\n",
       "    </tr>\n",
       "    <tr>\n",
       "      <th>4</th>\n",
       "      <td>3.000000</td>\n",
       "      <td>3.320000</td>\n",
       "      <td>4.022552</td>\n",
       "      <td>3.788454</td>\n",
       "      <td>4.633390</td>\n",
       "      <td>5.224694</td>\n",
       "      <td>0.985549</td>\n",
       "      <td>1.362508</td>\n",
       "      <td>2.000000</td>\n",
       "      <td>3.866236</td>\n",
       "      <td>...</td>\n",
       "      <td>0.022552</td>\n",
       "      <td>0.100696</td>\n",
       "      <td>2.000000</td>\n",
       "      <td>1.358309</td>\n",
       "      <td>1.000032</td>\n",
       "      <td>1.362116</td>\n",
       "      <td>4.991866</td>\n",
       "      <td>2.783088</td>\n",
       "      <td>0.008102</td>\n",
       "      <td>2.783088</td>\n",
       "    </tr>\n",
       "  </tbody>\n",
       "</table>\n",
       "<p>5 rows × 24 columns</p>\n",
       "</div>"
      ],
      "text/plain": [
       "   True_value  Forecasted_value  True_value  Forecasted_value  True_value  \\\n",
       "0    3.000000          3.502995    4.008115          4.326490    6.203186   \n",
       "1    4.002516          3.395932    3.788700          4.016761    7.895105   \n",
       "2    4.000155          3.814880    4.004599          4.545232    6.674109   \n",
       "3    3.000000          3.388231    4.000000          3.685815    4.000031   \n",
       "4    3.000000          3.320000    4.022552          3.788454    4.633390   \n",
       "\n",
       "   Forecasted_value  True_value  Forecasted_value  True_value  \\\n",
       "0          5.903662    2.000008          1.338628    3.344058   \n",
       "1          5.203614    1.922893          1.336902    5.020036   \n",
       "2          5.510455    0.999997          1.356144    3.999845   \n",
       "3          4.334354    0.500000          1.329767    3.000000   \n",
       "4          5.224694    0.985549          1.362508    2.000000   \n",
       "\n",
       "   Forecasted_value  ...  True_value  Forecasted_value  True_value  \\\n",
       "0          4.409308  ...    1.000653          0.412638    0.655942   \n",
       "1          3.926179  ...    0.171887          0.828952    1.977448   \n",
       "2          3.884913  ...    0.000005          0.906043    3.000000   \n",
       "3          3.888840  ...    0.500000          0.466146    1.000000   \n",
       "4          3.866236  ...    0.022552          0.100696    2.000000   \n",
       "\n",
       "   Forecasted_value  True_value  Forecasted_value  True_value  \\\n",
       "0          1.451323    2.054460          2.462344    3.999930   \n",
       "1          1.390231    2.655942          2.309512    4.321506   \n",
       "2          1.716366    3.000000          2.400968    5.999987   \n",
       "3          1.351411    1.865198          1.324217    4.080343   \n",
       "4          1.358309    1.000032          1.362116    4.991866   \n",
       "\n",
       "   Forecasted_value  True_value  Forecasted_value  \n",
       "0          3.446359    0.000000          3.446359  \n",
       "1          3.590898    0.000000          3.590898  \n",
       "2          3.983727    0.000013          3.983727  \n",
       "3          2.786875    0.000000          2.786875  \n",
       "4          2.783088    0.008102          2.783088  \n",
       "\n",
       "[5 rows x 24 columns]"
      ]
     },
     "execution_count": 12,
     "metadata": {},
     "output_type": "execute_result"
    }
   ],
   "source": [
    "combined_df.head()"
   ]
  },
  {
   "cell_type": "code",
   "execution_count": 13,
   "id": "2bd7311d-b36e-4352-9a44-ebec9719e9ae",
   "metadata": {},
   "outputs": [
    {
     "data": {
      "text/plain": [
       "(7, 24)"
      ]
     },
     "execution_count": 13,
     "metadata": {},
     "output_type": "execute_result"
    }
   ],
   "source": [
    "combined_df.shape"
   ]
  },
  {
   "cell_type": "code",
   "execution_count": 14,
   "id": "ae952a0a-3035-4353-aede-905d22bd842f",
   "metadata": {},
   "outputs": [],
   "source": [
    "# get the true values\n",
    "True_values_df = combined_df[['True_value']]"
   ]
  },
  {
   "cell_type": "code",
   "execution_count": 15,
   "id": "baf73275-144e-4bb3-bd47-d94c519f86a2",
   "metadata": {},
   "outputs": [
    {
     "data": {
      "text/html": [
       "<div>\n",
       "<style scoped>\n",
       "    .dataframe tbody tr th:only-of-type {\n",
       "        vertical-align: middle;\n",
       "    }\n",
       "\n",
       "    .dataframe tbody tr th {\n",
       "        vertical-align: top;\n",
       "    }\n",
       "\n",
       "    .dataframe thead th {\n",
       "        text-align: right;\n",
       "    }\n",
       "</style>\n",
       "<table border=\"1\" class=\"dataframe\">\n",
       "  <thead>\n",
       "    <tr style=\"text-align: right;\">\n",
       "      <th></th>\n",
       "      <th>True_value</th>\n",
       "      <th>True_value</th>\n",
       "      <th>True_value</th>\n",
       "      <th>True_value</th>\n",
       "      <th>True_value</th>\n",
       "      <th>True_value</th>\n",
       "      <th>True_value</th>\n",
       "      <th>True_value</th>\n",
       "      <th>True_value</th>\n",
       "      <th>True_value</th>\n",
       "      <th>True_value</th>\n",
       "      <th>True_value</th>\n",
       "    </tr>\n",
       "  </thead>\n",
       "  <tbody>\n",
       "    <tr>\n",
       "      <th>0</th>\n",
       "      <td>3.000000</td>\n",
       "      <td>4.008115</td>\n",
       "      <td>6.203186</td>\n",
       "      <td>2.000008e+00</td>\n",
       "      <td>3.344058</td>\n",
       "      <td>3.945552</td>\n",
       "      <td>9.788757</td>\n",
       "      <td>1.000653</td>\n",
       "      <td>0.655942</td>\n",
       "      <td>2.054460</td>\n",
       "      <td>3.999930</td>\n",
       "      <td>0.000000</td>\n",
       "    </tr>\n",
       "    <tr>\n",
       "      <th>1</th>\n",
       "      <td>4.002516</td>\n",
       "      <td>3.788700</td>\n",
       "      <td>7.895105</td>\n",
       "      <td>1.922893e+00</td>\n",
       "      <td>5.020036</td>\n",
       "      <td>3.211300</td>\n",
       "      <td>4.032669</td>\n",
       "      <td>0.171887</td>\n",
       "      <td>1.977448</td>\n",
       "      <td>2.655942</td>\n",
       "      <td>4.321506</td>\n",
       "      <td>0.000000</td>\n",
       "    </tr>\n",
       "    <tr>\n",
       "      <th>2</th>\n",
       "      <td>4.000155</td>\n",
       "      <td>4.004599</td>\n",
       "      <td>6.674109</td>\n",
       "      <td>9.999968e-01</td>\n",
       "      <td>3.999845</td>\n",
       "      <td>3.995401</td>\n",
       "      <td>5.325889</td>\n",
       "      <td>0.000005</td>\n",
       "      <td>3.000000</td>\n",
       "      <td>3.000000</td>\n",
       "      <td>5.999987</td>\n",
       "      <td>0.000013</td>\n",
       "    </tr>\n",
       "    <tr>\n",
       "      <th>3</th>\n",
       "      <td>3.000000</td>\n",
       "      <td>4.000000</td>\n",
       "      <td>4.000031</td>\n",
       "      <td>5.000000e-01</td>\n",
       "      <td>3.000000</td>\n",
       "      <td>3.054460</td>\n",
       "      <td>5.999969</td>\n",
       "      <td>0.500000</td>\n",
       "      <td>1.000000</td>\n",
       "      <td>1.865198</td>\n",
       "      <td>4.080343</td>\n",
       "      <td>0.000000</td>\n",
       "    </tr>\n",
       "    <tr>\n",
       "      <th>4</th>\n",
       "      <td>3.000000</td>\n",
       "      <td>4.022552</td>\n",
       "      <td>4.633390</td>\n",
       "      <td>9.855494e-01</td>\n",
       "      <td>2.000000</td>\n",
       "      <td>4.080343</td>\n",
       "      <td>5.255614</td>\n",
       "      <td>0.022552</td>\n",
       "      <td>2.000000</td>\n",
       "      <td>1.000032</td>\n",
       "      <td>4.991866</td>\n",
       "      <td>0.008102</td>\n",
       "    </tr>\n",
       "    <tr>\n",
       "      <th>5</th>\n",
       "      <td>4.000000</td>\n",
       "      <td>6.054452</td>\n",
       "      <td>5.051951</td>\n",
       "      <td>1.948060e+00</td>\n",
       "      <td>2.000000</td>\n",
       "      <td>4.117899</td>\n",
       "      <td>5.764955</td>\n",
       "      <td>2.056697</td>\n",
       "      <td>1.000000</td>\n",
       "      <td>1.012700</td>\n",
       "      <td>5.995371</td>\n",
       "      <td>1.000000</td>\n",
       "    </tr>\n",
       "    <tr>\n",
       "      <th>6</th>\n",
       "      <td>1.000000</td>\n",
       "      <td>4.344055</td>\n",
       "      <td>3.921701</td>\n",
       "      <td>4.874045e-07</td>\n",
       "      <td>2.000000</td>\n",
       "      <td>3.035635</td>\n",
       "      <td>6.698575</td>\n",
       "      <td>2.000000</td>\n",
       "      <td>3.000000</td>\n",
       "      <td>1.000031</td>\n",
       "      <td>2.000000</td>\n",
       "      <td>0.000000</td>\n",
       "    </tr>\n",
       "  </tbody>\n",
       "</table>\n",
       "</div>"
      ],
      "text/plain": [
       "   True_value  True_value  True_value    True_value  True_value  True_value  \\\n",
       "0    3.000000    4.008115    6.203186  2.000008e+00    3.344058    3.945552   \n",
       "1    4.002516    3.788700    7.895105  1.922893e+00    5.020036    3.211300   \n",
       "2    4.000155    4.004599    6.674109  9.999968e-01    3.999845    3.995401   \n",
       "3    3.000000    4.000000    4.000031  5.000000e-01    3.000000    3.054460   \n",
       "4    3.000000    4.022552    4.633390  9.855494e-01    2.000000    4.080343   \n",
       "5    4.000000    6.054452    5.051951  1.948060e+00    2.000000    4.117899   \n",
       "6    1.000000    4.344055    3.921701  4.874045e-07    2.000000    3.035635   \n",
       "\n",
       "   True_value  True_value  True_value  True_value  True_value  True_value  \n",
       "0    9.788757    1.000653    0.655942    2.054460    3.999930    0.000000  \n",
       "1    4.032669    0.171887    1.977448    2.655942    4.321506    0.000000  \n",
       "2    5.325889    0.000005    3.000000    3.000000    5.999987    0.000013  \n",
       "3    5.999969    0.500000    1.000000    1.865198    4.080343    0.000000  \n",
       "4    5.255614    0.022552    2.000000    1.000032    4.991866    0.008102  \n",
       "5    5.764955    2.056697    1.000000    1.012700    5.995371    1.000000  \n",
       "6    6.698575    2.000000    3.000000    1.000031    2.000000    0.000000  "
      ]
     },
     "execution_count": 15,
     "metadata": {},
     "output_type": "execute_result"
    }
   ],
   "source": [
    "True_values_df"
   ]
  },
  {
   "cell_type": "code",
   "execution_count": 16,
   "id": "7645988e-8d19-400d-b5c9-301b6819514b",
   "metadata": {},
   "outputs": [],
   "source": [
    "# sum the true values - since the sub images are not overlapping, we can get the sum across columns in the above dataframe\n",
    "sum_true_values = True_values_df.sum(axis = 1)"
   ]
  },
  {
   "cell_type": "code",
   "execution_count": 17,
   "id": "17b55908-f95a-4308-a49d-92058bd738af",
   "metadata": {},
   "outputs": [
    {
     "data": {
      "text/plain": [
       "0    40.000660\n",
       "1    39.000002\n",
       "2    41.000000\n",
       "3    31.000000\n",
       "4    32.000000\n",
       "5    40.002085\n",
       "6    28.999997\n",
       "dtype: float64"
      ]
     },
     "execution_count": 17,
     "metadata": {},
     "output_type": "execute_result"
    }
   ],
   "source": [
    "sum_true_values"
   ]
  },
  {
   "cell_type": "code",
   "execution_count": 18,
   "id": "a516e483-354a-4c8f-b9b8-d464a6e7c216",
   "metadata": {},
   "outputs": [],
   "source": [
    "# get the forecasted values\n",
    "Forecasted_values_df = combined_df[['Forecasted_value']]"
   ]
  },
  {
   "cell_type": "code",
   "execution_count": 19,
   "id": "ea17d667-b9de-4625-9a95-576446a115a9",
   "metadata": {},
   "outputs": [
    {
     "data": {
      "text/html": [
       "<div>\n",
       "<style scoped>\n",
       "    .dataframe tbody tr th:only-of-type {\n",
       "        vertical-align: middle;\n",
       "    }\n",
       "\n",
       "    .dataframe tbody tr th {\n",
       "        vertical-align: top;\n",
       "    }\n",
       "\n",
       "    .dataframe thead th {\n",
       "        text-align: right;\n",
       "    }\n",
       "</style>\n",
       "<table border=\"1\" class=\"dataframe\">\n",
       "  <thead>\n",
       "    <tr style=\"text-align: right;\">\n",
       "      <th></th>\n",
       "      <th>Forecasted_value</th>\n",
       "      <th>Forecasted_value</th>\n",
       "      <th>Forecasted_value</th>\n",
       "      <th>Forecasted_value</th>\n",
       "      <th>Forecasted_value</th>\n",
       "      <th>Forecasted_value</th>\n",
       "      <th>Forecasted_value</th>\n",
       "      <th>Forecasted_value</th>\n",
       "      <th>Forecasted_value</th>\n",
       "      <th>Forecasted_value</th>\n",
       "      <th>Forecasted_value</th>\n",
       "      <th>Forecasted_value</th>\n",
       "    </tr>\n",
       "  </thead>\n",
       "  <tbody>\n",
       "    <tr>\n",
       "      <th>0</th>\n",
       "      <td>3.502995</td>\n",
       "      <td>4.326490</td>\n",
       "      <td>5.903662</td>\n",
       "      <td>1.338628</td>\n",
       "      <td>4.409308</td>\n",
       "      <td>3.406864</td>\n",
       "      <td>5.525224</td>\n",
       "      <td>0.412638</td>\n",
       "      <td>1.451323</td>\n",
       "      <td>2.462344</td>\n",
       "      <td>3.446359</td>\n",
       "      <td>3.446359</td>\n",
       "    </tr>\n",
       "    <tr>\n",
       "      <th>1</th>\n",
       "      <td>3.395932</td>\n",
       "      <td>4.016761</td>\n",
       "      <td>5.203614</td>\n",
       "      <td>1.336902</td>\n",
       "      <td>3.926179</td>\n",
       "      <td>3.371857</td>\n",
       "      <td>5.364756</td>\n",
       "      <td>0.828952</td>\n",
       "      <td>1.390231</td>\n",
       "      <td>2.309512</td>\n",
       "      <td>3.590898</td>\n",
       "      <td>3.590898</td>\n",
       "    </tr>\n",
       "    <tr>\n",
       "      <th>2</th>\n",
       "      <td>3.814880</td>\n",
       "      <td>4.545232</td>\n",
       "      <td>5.510455</td>\n",
       "      <td>1.356144</td>\n",
       "      <td>3.884913</td>\n",
       "      <td>3.872368</td>\n",
       "      <td>5.644076</td>\n",
       "      <td>0.906043</td>\n",
       "      <td>1.716366</td>\n",
       "      <td>2.400968</td>\n",
       "      <td>3.983727</td>\n",
       "      <td>3.983727</td>\n",
       "    </tr>\n",
       "    <tr>\n",
       "      <th>3</th>\n",
       "      <td>3.388231</td>\n",
       "      <td>3.685815</td>\n",
       "      <td>4.334354</td>\n",
       "      <td>1.329767</td>\n",
       "      <td>3.888840</td>\n",
       "      <td>2.576823</td>\n",
       "      <td>4.306230</td>\n",
       "      <td>0.466146</td>\n",
       "      <td>1.351411</td>\n",
       "      <td>1.324217</td>\n",
       "      <td>2.786875</td>\n",
       "      <td>2.786875</td>\n",
       "    </tr>\n",
       "    <tr>\n",
       "      <th>4</th>\n",
       "      <td>3.320000</td>\n",
       "      <td>3.788454</td>\n",
       "      <td>5.224694</td>\n",
       "      <td>1.362508</td>\n",
       "      <td>3.866236</td>\n",
       "      <td>2.924413</td>\n",
       "      <td>4.241324</td>\n",
       "      <td>0.100696</td>\n",
       "      <td>1.358309</td>\n",
       "      <td>1.362116</td>\n",
       "      <td>2.783088</td>\n",
       "      <td>2.783088</td>\n",
       "    </tr>\n",
       "    <tr>\n",
       "      <th>5</th>\n",
       "      <td>3.320607</td>\n",
       "      <td>3.392447</td>\n",
       "      <td>4.430379</td>\n",
       "      <td>1.333117</td>\n",
       "      <td>3.919806</td>\n",
       "      <td>2.794615</td>\n",
       "      <td>3.635818</td>\n",
       "      <td>0.897469</td>\n",
       "      <td>1.323661</td>\n",
       "      <td>1.652594</td>\n",
       "      <td>2.999238</td>\n",
       "      <td>2.999238</td>\n",
       "    </tr>\n",
       "    <tr>\n",
       "      <th>6</th>\n",
       "      <td>3.234726</td>\n",
       "      <td>3.687640</td>\n",
       "      <td>4.308504</td>\n",
       "      <td>1.348944</td>\n",
       "      <td>4.092342</td>\n",
       "      <td>3.509137</td>\n",
       "      <td>4.633303</td>\n",
       "      <td>0.813943</td>\n",
       "      <td>1.322282</td>\n",
       "      <td>1.420593</td>\n",
       "      <td>2.879916</td>\n",
       "      <td>2.879916</td>\n",
       "    </tr>\n",
       "  </tbody>\n",
       "</table>\n",
       "</div>"
      ],
      "text/plain": [
       "   Forecasted_value  Forecasted_value  Forecasted_value  Forecasted_value  \\\n",
       "0          3.502995          4.326490          5.903662          1.338628   \n",
       "1          3.395932          4.016761          5.203614          1.336902   \n",
       "2          3.814880          4.545232          5.510455          1.356144   \n",
       "3          3.388231          3.685815          4.334354          1.329767   \n",
       "4          3.320000          3.788454          5.224694          1.362508   \n",
       "5          3.320607          3.392447          4.430379          1.333117   \n",
       "6          3.234726          3.687640          4.308504          1.348944   \n",
       "\n",
       "   Forecasted_value  Forecasted_value  Forecasted_value  Forecasted_value  \\\n",
       "0          4.409308          3.406864          5.525224          0.412638   \n",
       "1          3.926179          3.371857          5.364756          0.828952   \n",
       "2          3.884913          3.872368          5.644076          0.906043   \n",
       "3          3.888840          2.576823          4.306230          0.466146   \n",
       "4          3.866236          2.924413          4.241324          0.100696   \n",
       "5          3.919806          2.794615          3.635818          0.897469   \n",
       "6          4.092342          3.509137          4.633303          0.813943   \n",
       "\n",
       "   Forecasted_value  Forecasted_value  Forecasted_value  Forecasted_value  \n",
       "0          1.451323          2.462344          3.446359          3.446359  \n",
       "1          1.390231          2.309512          3.590898          3.590898  \n",
       "2          1.716366          2.400968          3.983727          3.983727  \n",
       "3          1.351411          1.324217          2.786875          2.786875  \n",
       "4          1.358309          1.362116          2.783088          2.783088  \n",
       "5          1.323661          1.652594          2.999238          2.999238  \n",
       "6          1.322282          1.420593          2.879916          2.879916  "
      ]
     },
     "execution_count": 19,
     "metadata": {},
     "output_type": "execute_result"
    }
   ],
   "source": [
    "Forecasted_values_df"
   ]
  },
  {
   "cell_type": "code",
   "execution_count": 20,
   "id": "2e90c508-5b8b-4983-aac2-5c35f189baea",
   "metadata": {},
   "outputs": [],
   "source": [
    "sum_forecasted_values = Forecasted_values_df.sum(axis = 1)"
   ]
  },
  {
   "cell_type": "code",
   "execution_count": 21,
   "id": "2f240410-e460-4b15-a1cc-f187ad58adcb",
   "metadata": {},
   "outputs": [
    {
     "data": {
      "text/plain": [
       "0    39.632194\n",
       "1    38.326490\n",
       "2    41.618899\n",
       "3    32.225583\n",
       "4    33.114928\n",
       "5    32.698990\n",
       "6    34.131247\n",
       "dtype: float64"
      ]
     },
     "execution_count": 21,
     "metadata": {},
     "output_type": "execute_result"
    }
   ],
   "source": [
    "sum_forecasted_values"
   ]
  },
  {
   "cell_type": "code",
   "execution_count": 22,
   "id": "d39a2bff-50da-4a8c-a839-6fdc59464541",
   "metadata": {},
   "outputs": [],
   "source": [
    "# concatenate the sum dataframes\n",
    "block_0103_true_and_forecasted_values_df = pd.concat((sum_true_values, sum_forecasted_values), axis = 1)"
   ]
  },
  {
   "cell_type": "code",
   "execution_count": 23,
   "id": "ece45dcf-d266-403a-a712-cfebeabbb81b",
   "metadata": {},
   "outputs": [],
   "source": [
    "block_0103_true_and_forecasted_values_df.columns = [\"True_count\", \"Forecasted_count\"]"
   ]
  },
  {
   "cell_type": "code",
   "execution_count": 24,
   "id": "2e898fe4-6a0b-4496-a6a0-b8168adafc3a",
   "metadata": {},
   "outputs": [
    {
     "data": {
      "text/html": [
       "<div>\n",
       "<style scoped>\n",
       "    .dataframe tbody tr th:only-of-type {\n",
       "        vertical-align: middle;\n",
       "    }\n",
       "\n",
       "    .dataframe tbody tr th {\n",
       "        vertical-align: top;\n",
       "    }\n",
       "\n",
       "    .dataframe thead th {\n",
       "        text-align: right;\n",
       "    }\n",
       "</style>\n",
       "<table border=\"1\" class=\"dataframe\">\n",
       "  <thead>\n",
       "    <tr style=\"text-align: right;\">\n",
       "      <th></th>\n",
       "      <th>True_count</th>\n",
       "      <th>Forecasted_count</th>\n",
       "    </tr>\n",
       "  </thead>\n",
       "  <tbody>\n",
       "    <tr>\n",
       "      <th>0</th>\n",
       "      <td>40.000660</td>\n",
       "      <td>39.632194</td>\n",
       "    </tr>\n",
       "    <tr>\n",
       "      <th>1</th>\n",
       "      <td>39.000002</td>\n",
       "      <td>38.326490</td>\n",
       "    </tr>\n",
       "    <tr>\n",
       "      <th>2</th>\n",
       "      <td>41.000000</td>\n",
       "      <td>41.618899</td>\n",
       "    </tr>\n",
       "    <tr>\n",
       "      <th>3</th>\n",
       "      <td>31.000000</td>\n",
       "      <td>32.225583</td>\n",
       "    </tr>\n",
       "    <tr>\n",
       "      <th>4</th>\n",
       "      <td>32.000000</td>\n",
       "      <td>33.114928</td>\n",
       "    </tr>\n",
       "    <tr>\n",
       "      <th>5</th>\n",
       "      <td>40.002085</td>\n",
       "      <td>32.698990</td>\n",
       "    </tr>\n",
       "    <tr>\n",
       "      <th>6</th>\n",
       "      <td>28.999997</td>\n",
       "      <td>34.131247</td>\n",
       "    </tr>\n",
       "  </tbody>\n",
       "</table>\n",
       "</div>"
      ],
      "text/plain": [
       "   True_count  Forecasted_count\n",
       "0   40.000660         39.632194\n",
       "1   39.000002         38.326490\n",
       "2   41.000000         41.618899\n",
       "3   31.000000         32.225583\n",
       "4   32.000000         33.114928\n",
       "5   40.002085         32.698990\n",
       "6   28.999997         34.131247"
      ]
     },
     "execution_count": 24,
     "metadata": {},
     "output_type": "execute_result"
    }
   ],
   "source": [
    "block_0103_true_and_forecasted_values_df"
   ]
  },
  {
   "cell_type": "code",
   "execution_count": 25,
   "id": "bca68bdf-e1d6-47a8-9896-6d78365c5fd9",
   "metadata": {},
   "outputs": [],
   "source": [
    "block_0103_true_and_forecasted_values_df.to_csv(\"final_forecasted_counts/block_0103_finals_forecasts.csv\", index = False)"
   ]
  },
  {
   "cell_type": "code",
   "execution_count": 26,
   "id": "fdad64dc-eef9-4934-ab51-0239358d5856",
   "metadata": {},
   "outputs": [],
   "source": [
    "# # well we need to verify that the above true values are indeed correct\n",
    "# from preprocess script we have the following counts\n",
    "# [43, 49, 53, 59, 45, 42, 34, 39, 37, 43, 41, 39, 43, 40, 39, 41, 31, 32, 40, 29] # the last seven numbers match with what we have."
   ]
  },
  {
   "cell_type": "code",
   "execution_count": 27,
   "id": "c82cb6b5-096c-41cc-92d9-1819ba35bab3",
   "metadata": {},
   "outputs": [
    {
     "data": {
      "text/plain": [
       "3.451344747587073"
      ]
     },
     "execution_count": 27,
     "metadata": {},
     "output_type": "execute_result"
    }
   ],
   "source": [
    "# blockwise mean squared error\n",
    "rmse = np.sqrt(mean_squared_error(sum_true_values, sum_forecasted_values))\n",
    "rmse"
   ]
  },
  {
   "cell_type": "code",
   "execution_count": 28,
   "id": "574aea69-e6c6-439b-bb28-5fac882283d3",
   "metadata": {},
   "outputs": [
    {
     "data": {
      "text/plain": [
       "1.5323060953460297"
      ]
     },
     "execution_count": 28,
     "metadata": {},
     "output_type": "execute_result"
    }
   ],
   "source": [
    "# blockwise mean absolute error\n",
    "mae = np.sqrt(mean_absolute_error(sum_true_values, sum_forecasted_values))\n",
    "mae"
   ]
  },
  {
   "cell_type": "code",
   "execution_count": 29,
   "id": "9c64f574-9dd0-466b-b037-130d6cb3dce3",
   "metadata": {},
   "outputs": [],
   "source": [
    "po# May be define a function for this, so that it will be easier to get the forecasted dataframes for all blocks"
   ]
  },
  {
   "cell_type": "code",
   "execution_count": 30,
   "id": "0ebf338b-e1c0-4fba-a7ab-8512c98d9939",
   "metadata": {},
   "outputs": [],
   "source": [
    "# we need first the path to dfs per block\n",
    "def get_final_forecasted_dfs(path_to_dfs_in_block, block_name, true_values_col_name, forecasted_values_col_name, forecast_path):\n",
    "    # get the csv files that have the averaged \n",
    "    average_frcts_csv_files = [file for file in os.listdir(path_to_dfs_in_block) if file[:8] == 'averaged']\n",
    "    # sort these files\n",
    "    average_frcts_csv_files.sort\n",
    "    # get the later images to the end of the list\n",
    "    csv_files_10_11 = ['averaged_forecasts_sub_10.csv', 'averaged_forecasts_sub_11.csv']\n",
    "    # remove these from the total list\n",
    "    other_files = [i for i in average_frcts_csv_files if i not in csv_files_10_11]\n",
    "    # add the csv files in order\n",
    "    ordered_csv_files = other_files + csv_files_10_11\n",
    "    # print the ordered list of csv files\n",
    "    print(ordered_csv_files)\n",
    "    # read and append the list of the dfs\n",
    "    all_dfs = [pd.read_csv(path_to_dfs_in_block + '/' + df) for df in ordered_csv_files]\n",
    "    # combine all these dfs together\n",
    "    combined_df = pd.concat(all_dfs, axis = 1)\n",
    "    print(combined_df.shape)\n",
    "    # extract the true value columns only across the sub-images\n",
    "    True_counts_df = combined_df[[true_values_col_name]]\n",
    "    # sum the true values dfs\n",
    "    total_true_values = True_counts_df.sum(axis = 1)\n",
    "    # print these true values for later comparisons\n",
    "    print(total_true_values)\n",
    "    # extract the true value columns across sub images\n",
    "    Forecasted_counts_df = combined_df[[forecasted_values_col_name]]\n",
    "    # sum the forecasted values\n",
    "    total_forecasted_values = Forecasted_counts_df.sum(axis = 1)\n",
    "    # concatenate the sum dataframes\n",
    "    true_and_forecasted_values_df = pd.concat((total_true_values, total_forecasted_values), axis = 1)\n",
    "    # add column titles to the df\n",
    "    true_and_forecasted_values_df.columns = [\"True_count\", \"Forecasted_count\"]\n",
    "    # save this file\n",
    "    file_name = forecast_path + '/' + block_name + '.csv'\n",
    "    true_and_forecasted_values_df.to_csv(file_name, index = False)\n",
    "    # blockwise mean squared error\n",
    "    rmse = np.sqrt(mean_squared_error(total_true_values, total_forecasted_values))\n",
    "    # blockwise mae\n",
    "    mae = np.sqrt(mean_absolute_error(total_true_values, total_forecasted_values))\n",
    "\n",
    "    return(true_and_forecasted_values_df, rmse, mae)"
   ]
  },
  {
   "cell_type": "code",
   "execution_count": 31,
   "id": "33fbacb2-2aa9-427f-ab50-fcbb42801a40",
   "metadata": {},
   "outputs": [
    {
     "name": "stdout",
     "output_type": "stream",
     "text": [
      "['averaged_forecasts_sub_8.csv', 'averaged_forecasts_sub_6.csv', 'averaged_forecasts_sub_1.csv', 'averaged_forecasts_sub_0.csv', 'averaged_forecasts_sub_7.csv', 'averaged_forecasts_sub_9.csv', 'averaged_forecasts_sub_4.csv', 'averaged_forecasts_sub_3.csv', 'averaged_forecasts_sub_2.csv', 'averaged_forecasts_sub_5.csv', 'averaged_forecasts_sub_10.csv', 'averaged_forecasts_sub_11.csv']\n",
      "(7, 24)\n",
      "0    40.000660\n",
      "1    39.000002\n",
      "2    41.000000\n",
      "3    31.000000\n",
      "4    32.000000\n",
      "5    40.002085\n",
      "6    28.999997\n",
      "dtype: float64\n"
     ]
    }
   ],
   "source": [
    "# see if the function works\n",
    "df, rmse_0103, mae_0103 = get_final_forecasted_dfs(path_to_dfs, 'block_0103', 'True_value', 'Forecasted_value', 'final_forecasted_counts')"
   ]
  },
  {
   "cell_type": "code",
   "execution_count": 32,
   "id": "cb73647d-17d4-4e7a-af87-587b7ab4697f",
   "metadata": {},
   "outputs": [
    {
     "data": {
      "text/html": [
       "<div>\n",
       "<style scoped>\n",
       "    .dataframe tbody tr th:only-of-type {\n",
       "        vertical-align: middle;\n",
       "    }\n",
       "\n",
       "    .dataframe tbody tr th {\n",
       "        vertical-align: top;\n",
       "    }\n",
       "\n",
       "    .dataframe thead th {\n",
       "        text-align: right;\n",
       "    }\n",
       "</style>\n",
       "<table border=\"1\" class=\"dataframe\">\n",
       "  <thead>\n",
       "    <tr style=\"text-align: right;\">\n",
       "      <th></th>\n",
       "      <th>True_count</th>\n",
       "      <th>Forecasted_count</th>\n",
       "    </tr>\n",
       "  </thead>\n",
       "  <tbody>\n",
       "    <tr>\n",
       "      <th>0</th>\n",
       "      <td>40.000660</td>\n",
       "      <td>39.632194</td>\n",
       "    </tr>\n",
       "    <tr>\n",
       "      <th>1</th>\n",
       "      <td>39.000002</td>\n",
       "      <td>38.326490</td>\n",
       "    </tr>\n",
       "    <tr>\n",
       "      <th>2</th>\n",
       "      <td>41.000000</td>\n",
       "      <td>41.618899</td>\n",
       "    </tr>\n",
       "    <tr>\n",
       "      <th>3</th>\n",
       "      <td>31.000000</td>\n",
       "      <td>32.225583</td>\n",
       "    </tr>\n",
       "    <tr>\n",
       "      <th>4</th>\n",
       "      <td>32.000000</td>\n",
       "      <td>33.114928</td>\n",
       "    </tr>\n",
       "    <tr>\n",
       "      <th>5</th>\n",
       "      <td>40.002085</td>\n",
       "      <td>32.698990</td>\n",
       "    </tr>\n",
       "    <tr>\n",
       "      <th>6</th>\n",
       "      <td>28.999997</td>\n",
       "      <td>34.131247</td>\n",
       "    </tr>\n",
       "  </tbody>\n",
       "</table>\n",
       "</div>"
      ],
      "text/plain": [
       "   True_count  Forecasted_count\n",
       "0   40.000660         39.632194\n",
       "1   39.000002         38.326490\n",
       "2   41.000000         41.618899\n",
       "3   31.000000         32.225583\n",
       "4   32.000000         33.114928\n",
       "5   40.002085         32.698990\n",
       "6   28.999997         34.131247"
      ]
     },
     "execution_count": 32,
     "metadata": {},
     "output_type": "execute_result"
    }
   ],
   "source": [
    "df"
   ]
  },
  {
   "cell_type": "code",
   "execution_count": 33,
   "id": "840f4278-f7ce-49c4-bec6-4bef81852faa",
   "metadata": {},
   "outputs": [
    {
     "data": {
      "text/plain": [
       "3.451344747587071"
      ]
     },
     "execution_count": 33,
     "metadata": {},
     "output_type": "execute_result"
    }
   ],
   "source": [
    "rmse_0103"
   ]
  },
  {
   "cell_type": "code",
   "execution_count": 34,
   "id": "cafca5c1-b8e2-492b-b939-225fda30f2a9",
   "metadata": {},
   "outputs": [
    {
     "data": {
      "text/plain": [
       "1.5323060953460295"
      ]
     },
     "execution_count": 34,
     "metadata": {},
     "output_type": "execute_result"
    }
   ],
   "source": [
    "mae_0103"
   ]
  }
 ],
 "metadata": {
  "kernelspec": {
   "display_name": "Python (tfp_env_TN_CPU)",
   "language": "python",
   "name": "tfp_env_tn_cpu"
  },
  "language_info": {
   "codemirror_mode": {
    "name": "ipython",
    "version": 3
   },
   "file_extension": ".py",
   "mimetype": "text/x-python",
   "name": "python",
   "nbconvert_exporter": "python",
   "pygments_lexer": "ipython3",
   "version": "3.11.7"
  }
 },
 "nbformat": 4,
 "nbformat_minor": 5
}
