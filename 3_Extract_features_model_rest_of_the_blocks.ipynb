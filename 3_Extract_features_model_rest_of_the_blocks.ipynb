{
 "cells": [
  {
   "cell_type": "code",
   "execution_count": 1,
   "id": "744f1e62-9409-4432-bbaf-86d8e8e1e697",
   "metadata": {},
   "outputs": [
    {
     "name": "stderr",
     "output_type": "stream",
     "text": [
      "2024-07-15 17:12:53.973821: I tensorflow/core/util/port.cc:113] oneDNN custom operations are on. You may see slightly different numerical results due to floating-point round-off errors from different computation orders. To turn them off, set the environment variable `TF_ENABLE_ONEDNN_OPTS=0`.\n",
      "2024-07-15 17:12:54.309714: E external/local_xla/xla/stream_executor/cuda/cuda_dnn.cc:9261] Unable to register cuDNN factory: Attempting to register factory for plugin cuDNN when one has already been registered\n",
      "2024-07-15 17:12:54.309766: E external/local_xla/xla/stream_executor/cuda/cuda_fft.cc:607] Unable to register cuFFT factory: Attempting to register factory for plugin cuFFT when one has already been registered\n",
      "2024-07-15 17:12:54.386750: E external/local_xla/xla/stream_executor/cuda/cuda_blas.cc:1515] Unable to register cuBLAS factory: Attempting to register factory for plugin cuBLAS when one has already been registered\n",
      "2024-07-15 17:12:54.491002: I tensorflow/core/platform/cpu_feature_guard.cc:182] This TensorFlow binary is optimized to use available CPU instructions in performance-critical operations.\n",
      "To enable the following instructions: SSE4.1 SSE4.2 AVX AVX2 AVX512F AVX512_VNNI FMA, in other operations, rebuild TensorFlow with the appropriate compiler flags.\n"
     ]
    }
   ],
   "source": [
    "import tensorflow as tf\n",
    "import numpy as np\n",
    "import pandas as pd\n",
    "import matplotlib.pyplot as plt\n",
    "import os"
   ]
  },
  {
   "cell_type": "code",
   "execution_count": 2,
   "id": "6dc290f0-0905-4b4c-9d4b-29130bda116e",
   "metadata": {},
   "outputs": [
    {
     "name": "stderr",
     "output_type": "stream",
     "text": [
      "2024-07-15 17:13:08.661484: I tensorflow/core/common_runtime/gpu/gpu_device.cc:1929] Created device /job:localhost/replica:0/task:0/device:GPU:0 with 31141 MB memory:  -> device: 0, name: Tesla V100S-PCIE-32GB, pci bus id: 0000:06:00.0, compute capability: 7.0\n"
     ]
    }
   ],
   "source": [
    "# load the trained model\n",
    "gmp_model = tf.keras.models.load_model('models/trained_gmp_model_dense_32_new.h5')"
   ]
  },
  {
   "cell_type": "code",
   "execution_count": 3,
   "id": "9d4d6da8-e696-443d-83a5-d152a8006f2d",
   "metadata": {},
   "outputs": [
    {
     "name": "stdout",
     "output_type": "stream",
     "text": [
      "Model: \"model_1\"\n",
      "_________________________________________________________________\n",
      " Layer (type)                Output Shape              Param #   \n",
      "=================================================================\n",
      " input_1 (InputLayer)        [(None, None, None, 3)]   0         \n",
      "                                                                 \n",
      " conv2d (Conv2D)             (None, None, None, 32)    896       \n",
      "                                                                 \n",
      " activation (Activation)     (None, None, None, 32)    0         \n",
      "                                                                 \n",
      " conv2d_1 (Conv2D)           (None, None, None, 32)    9248      \n",
      "                                                                 \n",
      " activation_1 (Activation)   (None, None, None, 32)    0         \n",
      "                                                                 \n",
      " max_pooling2d (MaxPooling2  (None, None, None, 32)    0         \n",
      " D)                                                              \n",
      "                                                                 \n",
      " dropout (Dropout)           (None, None, None, 32)    0         \n",
      "                                                                 \n",
      " conv2d_2 (Conv2D)           (None, None, None, 64)    18496     \n",
      "                                                                 \n",
      " activation_2 (Activation)   (None, None, None, 64)    0         \n",
      "                                                                 \n",
      " conv2d_3 (Conv2D)           (None, None, None, 64)    36928     \n",
      "                                                                 \n",
      " activation_3 (Activation)   (None, None, None, 64)    0         \n",
      "                                                                 \n",
      " max_pooling2d_1 (MaxPoolin  (None, None, None, 64)    0         \n",
      " g2D)                                                            \n",
      "                                                                 \n",
      " New_dropout_0 (Dropout)     (None, None, None, 64)    0         \n",
      "                                                                 \n",
      " global_max_pooling2d (Glob  (None, 64)                0         \n",
      " alMaxPooling2D)                                                 \n",
      "                                                                 \n",
      " New_Dense_0 (Dense)         (None, 64)                4160      \n",
      "                                                                 \n",
      " New_Activation_0 (Activati  (None, 64)                0         \n",
      " on)                                                             \n",
      "                                                                 \n",
      " New_dropout_1 (Dropout)     (None, 64)                0         \n",
      "                                                                 \n",
      " New_Dense_1 (Dense)         (None, 32)                2080      \n",
      "                                                                 \n",
      " New_Activation_1 (Activati  (None, 32)                0         \n",
      " on)                                                             \n",
      "                                                                 \n",
      " New_dropout_2 (Dropout)     (None, 32)                0         \n",
      "                                                                 \n",
      " New_Dense_2 (Dense)         (None, 1)                 33        \n",
      "                                                                 \n",
      " New_Activation_2 (Activati  (None, 1)                 0         \n",
      " on)                                                             \n",
      "                                                                 \n",
      "=================================================================\n",
      "Total params: 71841 (280.63 KB)\n",
      "Trainable params: 43201 (168.75 KB)\n",
      "Non-trainable params: 28640 (111.88 KB)\n",
      "_________________________________________________________________\n"
     ]
    }
   ],
   "source": [
    "gmp_model.summary()"
   ]
  },
  {
   "cell_type": "code",
   "execution_count": 4,
   "id": "cc984dd1-d0db-44bc-be23-e2f07f8c6056",
   "metadata": {},
   "outputs": [
    {
     "data": {
      "text/plain": [
       "[PhysicalDevice(name='/physical_device:GPU:0', device_type='GPU')]"
      ]
     },
     "execution_count": 4,
     "metadata": {},
     "output_type": "execute_result"
    }
   ],
   "source": [
    "# check gpu utility\n",
    "tf.config.list_physical_devices(\"GPU\")"
   ]
  },
  {
   "cell_type": "code",
   "execution_count": 5,
   "id": "1b31ef8d-bc4f-4520-b83a-b079ebef0620",
   "metadata": {},
   "outputs": [],
   "source": [
    "# feature extractor input\n",
    "feat_ext_input = gmp_model.input"
   ]
  },
  {
   "cell_type": "code",
   "execution_count": 6,
   "id": "831255f5-b7a0-4a4a-aef0-eebeb5d09564",
   "metadata": {},
   "outputs": [],
   "source": [
    "# feature extractor output - do this at the ReLu activation layer - as this will give the same features as the dropout layer (It does not matter if it is the dropout or the activation layer, the extracted features will be the same)\n",
    "feat_ext_output = gmp_model.layers[-4].output"
   ]
  },
  {
   "cell_type": "code",
   "execution_count": 7,
   "id": "16d372bc-01b8-4245-a49c-695d633f06fe",
   "metadata": {},
   "outputs": [],
   "source": [
    "feature_extractor_model = tf.keras.models.Model(inputs = feat_ext_input, outputs = feat_ext_output)"
   ]
  },
  {
   "cell_type": "code",
   "execution_count": 8,
   "id": "7a8524a1-1f6b-4886-8963-6d8c27b2cad1",
   "metadata": {},
   "outputs": [
    {
     "name": "stdout",
     "output_type": "stream",
     "text": [
      "Model: \"model\"\n",
      "_________________________________________________________________\n",
      " Layer (type)                Output Shape              Param #   \n",
      "=================================================================\n",
      " input_1 (InputLayer)        [(None, None, None, 3)]   0         \n",
      "                                                                 \n",
      " conv2d (Conv2D)             (None, None, None, 32)    896       \n",
      "                                                                 \n",
      " activation (Activation)     (None, None, None, 32)    0         \n",
      "                                                                 \n",
      " conv2d_1 (Conv2D)           (None, None, None, 32)    9248      \n",
      "                                                                 \n",
      " activation_1 (Activation)   (None, None, None, 32)    0         \n",
      "                                                                 \n",
      " max_pooling2d (MaxPooling2  (None, None, None, 32)    0         \n",
      " D)                                                              \n",
      "                                                                 \n",
      " dropout (Dropout)           (None, None, None, 32)    0         \n",
      "                                                                 \n",
      " conv2d_2 (Conv2D)           (None, None, None, 64)    18496     \n",
      "                                                                 \n",
      " activation_2 (Activation)   (None, None, None, 64)    0         \n",
      "                                                                 \n",
      " conv2d_3 (Conv2D)           (None, None, None, 64)    36928     \n",
      "                                                                 \n",
      " activation_3 (Activation)   (None, None, None, 64)    0         \n",
      "                                                                 \n",
      " max_pooling2d_1 (MaxPoolin  (None, None, None, 64)    0         \n",
      " g2D)                                                            \n",
      "                                                                 \n",
      " New_dropout_0 (Dropout)     (None, None, None, 64)    0         \n",
      "                                                                 \n",
      " global_max_pooling2d (Glob  (None, 64)                0         \n",
      " alMaxPooling2D)                                                 \n",
      "                                                                 \n",
      " New_Dense_0 (Dense)         (None, 64)                4160      \n",
      "                                                                 \n",
      " New_Activation_0 (Activati  (None, 64)                0         \n",
      " on)                                                             \n",
      "                                                                 \n",
      " New_dropout_1 (Dropout)     (None, 64)                0         \n",
      "                                                                 \n",
      " New_Dense_1 (Dense)         (None, 32)                2080      \n",
      "                                                                 \n",
      " New_Activation_1 (Activati  (None, 32)                0         \n",
      " on)                                                             \n",
      "                                                                 \n",
      "=================================================================\n",
      "Total params: 71808 (280.50 KB)\n",
      "Trainable params: 43168 (168.62 KB)\n",
      "Non-trainable params: 28640 (111.88 KB)\n",
      "_________________________________________________________________\n"
     ]
    }
   ],
   "source": [
    "feature_extractor_model.summary()"
   ]
  },
  {
   "cell_type": "code",
   "execution_count": 9,
   "id": "c5337a30-8ae6-444a-92de-cab12ad4be61",
   "metadata": {},
   "outputs": [],
   "source": [
    "# We might need to be cautious here though, as dropout will set some neurons to 0, and the extracted features will therefore become zero - workaround - use the Dense layer to extract features before the pred head (and the dropout layer)"
   ]
  },
  {
   "cell_type": "code",
   "execution_count": 10,
   "id": "6eaf510b-b638-4d3f-a229-c57fb6dece34",
   "metadata": {},
   "outputs": [],
   "source": [
    "def extract_features_and_get_counts(model, preprocessed_path, all_in_folder, digits_image, digits_dense, character, store_path):\n",
    "    necessary_sub_images = [item for item in all_in_folder if item.split(\".\")[0][-digits_image:] == ('_' + character)]\n",
    "    necessary_sub_images.sort()\n",
    "    necessary_sub_dense_maps = [item for item in all_in_folder if item.split(\".\")[0][-digits_dense:] == ('_' + character + '_density')]\n",
    "    necessary_sub_dense_maps.sort()\n",
    "    print(necessary_sub_images[0])\n",
    "    # check if the image and density maps tally\n",
    "    print(np.mean([item.split('.')[0] for item in necessary_sub_images] == [item.split(\".\")[0][:-8] for item in necessary_sub_dense_maps]))\n",
    "    \n",
    "    collect_extracted_features = []\n",
    "    collect_corresponding_counts = []\n",
    "\n",
    "    # collect the subwindow-wise features and corresponding counts\n",
    "    for i in range(len(necessary_sub_images)):\n",
    "        # load the subimage\n",
    "        load_image = np.load(os.path.join(preprocessed_path, necessary_sub_images[i]))\n",
    "        # reshape it to get the prediction\n",
    "        load_image_reshape = load_image[None, ...]\n",
    "        # get the prediction from the model\n",
    "        extracted_features = model.predict(load_image_reshape, verbose = 0)\n",
    "        collect_extracted_features.append(extracted_features)\n",
    "\n",
    "        # load the count map\n",
    "        load_count_map = np.load(os.path.join(preprocessed_path, necessary_sub_dense_maps[i]))\n",
    "        count = np.sum(load_count_map)\n",
    "        collect_corresponding_counts.append(count)\n",
    "\n",
    "    # collect all extracted features data and create a dataframe\n",
    "    Features_data = pd.DataFrame(np.vstack(collect_extracted_features), columns = ['feature_' + str(i) for i in range(np.vstack(collect_extracted_features).shape[1])])\n",
    "    # dataframe for counts\n",
    "    counts_subwindow = pd.DataFrame(collect_corresponding_counts, columns = ['tassel_count'])\n",
    "    # combine the two dataframes\n",
    "    combined_df = pd.concat((Features_data,counts_subwindow), axis = 1 )\n",
    "    # save this dataframe\n",
    "    save_path_name = store_path + 'extracted_features_sub_window_' + character + '.csv'\n",
    "    combined_df.to_csv(save_path_name, index = False)\n",
    "\n",
    "    return(combined_df)"
   ]
  },
  {
   "cell_type": "code",
   "execution_count": null,
   "id": "a303e08b-d90e-430e-b742-e18db7b3affa",
   "metadata": {},
   "outputs": [],
   "source": [
    "# There's actually another thing to check before we close off this notebook -  we need to make sure the sums of density maps match with what we had stored earlier at the location all_preprocessed_data/Block_0103/sub_count_dfs/ - Do this in a separate notebook?"
   ]
  },
  {
   "cell_type": "markdown",
   "id": "5025741c-883a-4883-a33e-79f0920e0a77",
   "metadata": {},
   "source": [
    "Block 0105"
   ]
  },
  {
   "cell_type": "code",
   "execution_count": null,
   "id": "7a68ddb9-b575-4c13-87d9-44fc8b0e7abf",
   "metadata": {},
   "outputs": [],
   "source": [
    "prev_preprocessed_image_loc_0105 = \"all_preprocessed_data/Block_0105/sub_images_and_counts\""
   ]
  },
  {
   "cell_type": "code",
   "execution_count": null,
   "id": "fee589c5-9f8a-4550-8e6a-0d5e1c8114b6",
   "metadata": {},
   "outputs": [],
   "source": [
    "folder_contents_0105 = os.listdir(prev_preprocessed_image_loc_0105)\n",
    "folder_contents_0105.sort()"
   ]
  },
  {
   "cell_type": "code",
   "execution_count": null,
   "id": "2182b622-14ec-4eb2-a3fa-51de46638900",
   "metadata": {},
   "outputs": [],
   "source": [
    "# folder_contents"
   ]
  },
  {
   "cell_type": "code",
   "execution_count": null,
   "id": "62893ee8-7d82-4687-b259-97cd1f42ec98",
   "metadata": {},
   "outputs": [],
   "source": [
    "folder_contents_0105[0]"
   ]
  },
  {
   "cell_type": "code",
   "execution_count": null,
   "id": "0838679c-812f-40ed-abf4-f5f83ce3ff15",
   "metadata": {},
   "outputs": [],
   "source": [
    "s_path_0105 = 'all_preprocessed_data/Block_0105//TS_ready_data_frames/'"
   ]
  },
  {
   "cell_type": "code",
   "execution_count": null,
   "id": "fcca9ca0-d948-4cbf-a298-01fbd75439d8",
   "metadata": {},
   "outputs": [],
   "source": [
    "# get the predictions for all subimages for the block? do separately for single digit subimages and double digit subimages separately\n",
    "character_list = list(range(10))\n",
    "character_list = list(map(str, character_list))"
   ]
  },
  {
   "cell_type": "code",
   "execution_count": null,
   "id": "9a4e4b43-a6c4-48a8-b772-ce9196fb6ec7",
   "metadata": {},
   "outputs": [],
   "source": [
    "%%time\n",
    "\n",
    "# for single digit subwindows\n",
    "catch_all_dfs_0105 = []\n",
    "for character in character_list:\n",
    "    features_df = extract_features_and_get_counts(feature_extractor_model, prev_preprocessed_image_loc_0105, folder_contents_0105, 2, 10, character, s_path_0105)\n",
    "    catch_all_dfs_0105.append(features_df)"
   ]
  },
  {
   "cell_type": "code",
   "execution_count": null,
   "id": "f7432406-ee1d-4864-b049-09783c7aeda7",
   "metadata": {},
   "outputs": [],
   "source": [
    "# get the predictions for double digits\n",
    "character_list_double = list(range(10, 12))\n",
    "character_list_double = list(map(str, character_list_double))"
   ]
  },
  {
   "cell_type": "code",
   "execution_count": null,
   "id": "ea5addea-93e6-4d1b-a88c-b6005ffbcc3c",
   "metadata": {},
   "outputs": [],
   "source": [
    "%%time\n",
    "\n",
    "# for double digit subwindows\n",
    "catch_all_dfs_0105 = []\n",
    "for character in character_list_double:\n",
    "    features_df = extract_features_and_get_counts(feature_extractor_model, prev_preprocessed_image_loc_0105, folder_contents_0105, 3, 11, character, s_path_0105)\n",
    "    catch_all_dfs_0105.append(features_df)"
   ]
  },
  {
   "cell_type": "code",
   "execution_count": null,
   "id": "d94e870b-0094-4358-9f6b-3cf01615eba4",
   "metadata": {},
   "outputs": [],
   "source": [
    "# catch_all_dfs_0105"
   ]
  },
  {
   "cell_type": "markdown",
   "id": "a8e73080-abaa-4194-ab60-c130df8f4227",
   "metadata": {},
   "source": [
    "Block 0106"
   ]
  },
  {
   "cell_type": "code",
   "execution_count": null,
   "id": "b3a94760-2b5e-4c70-9c54-fafbcaf12186",
   "metadata": {},
   "outputs": [],
   "source": [
    "prev_preprocessed_image_loc_0106 = \"all_preprocessed_data/Block_0106/sub_images_and_counts\""
   ]
  },
  {
   "cell_type": "code",
   "execution_count": null,
   "id": "51999735-68c8-4f3b-a92d-4f91e08150f7",
   "metadata": {},
   "outputs": [],
   "source": [
    "folder_contents_0106 = os.listdir(prev_preprocessed_image_loc_0106)\n",
    "folder_contents_0106.sort()"
   ]
  },
  {
   "cell_type": "code",
   "execution_count": null,
   "id": "0eb29f91-497f-42f6-a6a5-2788acc7830e",
   "metadata": {},
   "outputs": [],
   "source": [
    "# folder_contents"
   ]
  },
  {
   "cell_type": "code",
   "execution_count": null,
   "id": "c806836c-7e47-492f-949c-d13a930367d3",
   "metadata": {},
   "outputs": [],
   "source": [
    "folder_contents_0106[0]"
   ]
  },
  {
   "cell_type": "code",
   "execution_count": null,
   "id": "1eb059f8-cad3-468a-b835-49063c008839",
   "metadata": {},
   "outputs": [],
   "source": [
    "s_path_0106 = 'all_preprocessed_data/Block_0106//TS_ready_data_frames/'"
   ]
  },
  {
   "cell_type": "code",
   "execution_count": null,
   "id": "80a3b79b-70f2-4a65-83c9-614859739562",
   "metadata": {},
   "outputs": [],
   "source": [
    "# get the predictions for all subimages for the block? do separately for single digit subimages and double digit subimages separately\n",
    "character_list = list(range(10))\n",
    "character_list = list(map(str, character_list))"
   ]
  },
  {
   "cell_type": "code",
   "execution_count": null,
   "id": "1dbcf6b7-4ce8-4dcd-821f-bde37f719860",
   "metadata": {},
   "outputs": [],
   "source": [
    "%%time\n",
    "\n",
    "# for single digit subwindows\n",
    "catch_all_dfs_0106 = []\n",
    "for character in character_list:\n",
    "    features_df = extract_features_and_get_counts(feature_extractor_model, prev_preprocessed_image_loc_0106, folder_contents_0106, 2, 10, character, s_path_0106)\n",
    "    catch_all_dfs_0106.append(features_df)"
   ]
  },
  {
   "cell_type": "code",
   "execution_count": null,
   "id": "ae9fc14c-6a73-49d6-be08-ba51c1210a4f",
   "metadata": {},
   "outputs": [],
   "source": [
    "# get the predictions for double digits\n",
    "character_list_double = list(range(10, 12))\n",
    "character_list_double = list(map(str, character_list_double))"
   ]
  },
  {
   "cell_type": "code",
   "execution_count": null,
   "id": "9139b1d4-1bba-46ca-91cb-637bdc3bc6f4",
   "metadata": {},
   "outputs": [],
   "source": [
    "%%time\n",
    "\n",
    "# for double digit subwindows\n",
    "catch_all_dfs_0106 = []\n",
    "for character in character_list_double:\n",
    "    features_df = extract_features_and_get_counts(feature_extractor_model, prev_preprocessed_image_loc_0106, folder_contents_0106, 3, 11, character, s_path_0106)\n",
    "    catch_all_dfs_0106.append(features_df)"
   ]
  },
  {
   "cell_type": "code",
   "execution_count": null,
   "id": "e11d97f4-1278-4c7f-a845-0779836d7b89",
   "metadata": {},
   "outputs": [],
   "source": [
    "# catch_all_dfs_0105"
   ]
  },
  {
   "cell_type": "markdown",
   "id": "f78c76e5-4d33-4e9c-8429-c099ca6cc998",
   "metadata": {},
   "source": [
    "Block 0201"
   ]
  },
  {
   "cell_type": "code",
   "execution_count": null,
   "id": "6845f332-922a-40c4-b1a6-252ff20857ff",
   "metadata": {},
   "outputs": [],
   "source": [
    "prev_preprocessed_image_loc_0201 = \"all_preprocessed_data/Block_0201/sub_images_and_counts\""
   ]
  },
  {
   "cell_type": "code",
   "execution_count": null,
   "id": "81461164-dfd2-404f-be24-cfc72dbf9cf1",
   "metadata": {},
   "outputs": [],
   "source": [
    "folder_contents_0201 = os.listdir(prev_preprocessed_image_loc_0201)\n",
    "folder_contents_0201.sort()"
   ]
  },
  {
   "cell_type": "code",
   "execution_count": null,
   "id": "559af4df-fa5e-4aca-80f0-e035f5dce701",
   "metadata": {},
   "outputs": [],
   "source": [
    "# folder_contents_0201"
   ]
  },
  {
   "cell_type": "code",
   "execution_count": null,
   "id": "bd5466d1-8d1f-48b9-b986-bf1353e3e2a4",
   "metadata": {},
   "outputs": [],
   "source": [
    "folder_contents_0201[0]"
   ]
  },
  {
   "cell_type": "code",
   "execution_count": null,
   "id": "c179a11f-eb1c-49e2-bed2-1f068dd94330",
   "metadata": {},
   "outputs": [],
   "source": [
    "s_path_0201 = 'all_preprocessed_data/Block_0201//TS_ready_data_frames/'"
   ]
  },
  {
   "cell_type": "code",
   "execution_count": null,
   "id": "b97c66e6-7fb5-4805-9505-d38fd4558717",
   "metadata": {},
   "outputs": [],
   "source": [
    "# get the predictions for all subimages for the block? do separately for single digit subimages and double digit subimages separately\n",
    "character_list = list(range(10))\n",
    "character_list = list(map(str, character_list))"
   ]
  },
  {
   "cell_type": "code",
   "execution_count": null,
   "id": "4d7e4648-327f-4b91-b25c-046d6345d181",
   "metadata": {},
   "outputs": [],
   "source": [
    "%%time\n",
    "\n",
    "# for single digit subwindows\n",
    "catch_all_dfs_0201 = []\n",
    "for character in character_list:\n",
    "    features_df = extract_features_and_get_counts(feature_extractor_model, prev_preprocessed_image_loc_0201, folder_contents_0201, 2, 10, character, s_path_0201)\n",
    "    catch_all_dfs_0201.append(features_df)"
   ]
  },
  {
   "cell_type": "code",
   "execution_count": null,
   "id": "33ce14f9-a24e-4b08-8bf5-7789685dfc38",
   "metadata": {},
   "outputs": [],
   "source": [
    "# get the predictions for double digits\n",
    "character_list_double = list(range(10, 12))\n",
    "character_list_double = list(map(str, character_list_double))"
   ]
  },
  {
   "cell_type": "code",
   "execution_count": null,
   "id": "1d209e3c-7e65-430f-b21a-9fb2286dc748",
   "metadata": {},
   "outputs": [],
   "source": [
    "%%time\n",
    "\n",
    "# for double digit subwindows\n",
    "catch_all_dfs_0201 = []\n",
    "for character in character_list_double:\n",
    "    features_df = extract_features_and_get_counts(feature_extractor_model, prev_preprocessed_image_loc_0201, folder_contents_0201, 3, 11, character, s_path_0201)\n",
    "    catch_all_dfs_0201.append(features_df)"
   ]
  },
  {
   "cell_type": "code",
   "execution_count": null,
   "id": "9d86db67-a78d-4fac-bf31-6e3eff7b29c7",
   "metadata": {},
   "outputs": [],
   "source": [
    "# catch_all_dfs_0105"
   ]
  },
  {
   "cell_type": "markdown",
   "id": "aa56eb32-02e3-47c4-8efe-c45997a8dc63",
   "metadata": {},
   "source": [
    "Block 0202"
   ]
  },
  {
   "cell_type": "code",
   "execution_count": null,
   "id": "6c031bff-fce5-4c92-8ab6-b3a567888dc0",
   "metadata": {},
   "outputs": [],
   "source": [
    "prev_preprocessed_image_loc_0202 = \"all_preprocessed_data/Block_0202/sub_images_and_counts\""
   ]
  },
  {
   "cell_type": "code",
   "execution_count": null,
   "id": "9ad5ad8e-d2c9-4e8f-824d-ee4dea33abbc",
   "metadata": {},
   "outputs": [],
   "source": [
    "folder_contents_0202 = os.listdir(prev_preprocessed_image_loc_0202)\n",
    "folder_contents_0202.sort()"
   ]
  },
  {
   "cell_type": "code",
   "execution_count": null,
   "id": "4fe5e84d-c510-43bc-b148-93879487d5c0",
   "metadata": {},
   "outputs": [],
   "source": [
    "# folder_contents_0201"
   ]
  },
  {
   "cell_type": "code",
   "execution_count": null,
   "id": "37752e79-4d8b-4cd0-9957-7772d45c3383",
   "metadata": {},
   "outputs": [],
   "source": [
    "folder_contents_0202[0]"
   ]
  },
  {
   "cell_type": "code",
   "execution_count": null,
   "id": "5c368a9b-1493-4105-be96-0eca89986ecf",
   "metadata": {},
   "outputs": [],
   "source": [
    "s_path_0202 = 'all_preprocessed_data/Block_0202//TS_ready_data_frames/'"
   ]
  },
  {
   "cell_type": "code",
   "execution_count": null,
   "id": "d15441ce-e9ce-46d7-873f-ddaaa5573d04",
   "metadata": {},
   "outputs": [],
   "source": [
    "# get the predictions for all subimages for the block? do separately for single digit subimages and double digit subimages separately\n",
    "character_list = list(range(10))\n",
    "character_list = list(map(str, character_list))"
   ]
  },
  {
   "cell_type": "code",
   "execution_count": null,
   "id": "fd17f27e-6546-4ad8-b0a6-a0d9d699879d",
   "metadata": {},
   "outputs": [],
   "source": [
    "%%time\n",
    "\n",
    "# for single digit subwindows\n",
    "catch_all_dfs_0202 = []\n",
    "for character in character_list:\n",
    "    features_df = extract_features_and_get_counts(feature_extractor_model, prev_preprocessed_image_loc_0202, folder_contents_0202, 2, 10, character, s_path_0202)\n",
    "    catch_all_dfs_0202.append(features_df)"
   ]
  },
  {
   "cell_type": "code",
   "execution_count": null,
   "id": "b3f5e1ce-0a6e-4b4c-afdd-d518f6a43dc4",
   "metadata": {},
   "outputs": [],
   "source": [
    "# get the predictions for double digits\n",
    "character_list_double = list(range(10, 12))\n",
    "character_list_double = list(map(str, character_list_double))"
   ]
  },
  {
   "cell_type": "code",
   "execution_count": null,
   "id": "e87a0d62-ff7f-41c6-932d-a8477c0354d7",
   "metadata": {},
   "outputs": [],
   "source": [
    "%%time\n",
    "\n",
    "# for double digit subwindows\n",
    "catch_all_dfs_0202 = []\n",
    "for character in character_list_double:\n",
    "    features_df = extract_features_and_get_counts(feature_extractor_model, prev_preprocessed_image_loc_0202, folder_contents_0202, 3, 11, character, s_path_0202)\n",
    "    catch_all_dfs_0202.append(features_df)"
   ]
  },
  {
   "cell_type": "code",
   "execution_count": null,
   "id": "04c1810b-5246-40c6-9ee4-b2d1d34e8be7",
   "metadata": {},
   "outputs": [],
   "source": [
    "# catch_all_dfs_0105"
   ]
  },
  {
   "cell_type": "markdown",
   "id": "69940650-fd34-4ca0-bebc-19884c451504",
   "metadata": {},
   "source": [
    "Block 0205"
   ]
  },
  {
   "cell_type": "code",
   "execution_count": null,
   "id": "94586f37-dab4-4be8-a4be-7f23efab134a",
   "metadata": {},
   "outputs": [],
   "source": [
    "prev_preprocessed_image_loc_0205 = \"all_preprocessed_data/Block_0205/sub_images_and_counts\""
   ]
  },
  {
   "cell_type": "code",
   "execution_count": null,
   "id": "a3e68b80-c1af-404b-8ffd-4203e6d266c3",
   "metadata": {},
   "outputs": [],
   "source": [
    "folder_contents_0205 = os.listdir(prev_preprocessed_image_loc_0205)\n",
    "folder_contents_0205.sort()"
   ]
  },
  {
   "cell_type": "code",
   "execution_count": null,
   "id": "cfd7e256-f423-432f-a3f9-4cc299a5bf03",
   "metadata": {},
   "outputs": [],
   "source": [
    "# folder_contents_0201"
   ]
  },
  {
   "cell_type": "code",
   "execution_count": null,
   "id": "dd40fbb4-32bb-4242-ae50-9cc8ca7f595e",
   "metadata": {},
   "outputs": [],
   "source": [
    "folder_contents_0205[0]"
   ]
  },
  {
   "cell_type": "code",
   "execution_count": null,
   "id": "a66e4844-d632-48f0-8a4b-8743320de0fb",
   "metadata": {},
   "outputs": [],
   "source": [
    "s_path_0205 = 'all_preprocessed_data/Block_0205//TS_ready_data_frames/'"
   ]
  },
  {
   "cell_type": "code",
   "execution_count": null,
   "id": "dce9f46b-73b8-41b6-b33e-a774b5dc68e4",
   "metadata": {},
   "outputs": [],
   "source": [
    "# get the predictions for all subimages for the block? do separately for single digit subimages and double digit subimages separately\n",
    "character_list = list(range(10))\n",
    "character_list = list(map(str, character_list))"
   ]
  },
  {
   "cell_type": "code",
   "execution_count": null,
   "id": "dba4451f-6c2b-49eb-9678-da4805ba44b6",
   "metadata": {},
   "outputs": [],
   "source": [
    "%%time\n",
    "\n",
    "# for single digit subwindows\n",
    "catch_all_dfs_0205 = []\n",
    "for character in character_list:\n",
    "    features_df = extract_features_and_get_counts(feature_extractor_model, prev_preprocessed_image_loc_0205, folder_contents_0205, 2, 10, character, s_path_0205)\n",
    "    catch_all_dfs_0205.append(features_df)"
   ]
  },
  {
   "cell_type": "code",
   "execution_count": null,
   "id": "5a89ec1b-c7dd-46e5-8b11-44f1d9cccece",
   "metadata": {},
   "outputs": [],
   "source": [
    "# get the predictions for double digits\n",
    "character_list_double = list(range(10, 12))\n",
    "character_list_double = list(map(str, character_list_double))"
   ]
  },
  {
   "cell_type": "code",
   "execution_count": null,
   "id": "6149a1fe-93f6-4db4-bc47-4656adb81109",
   "metadata": {},
   "outputs": [],
   "source": [
    "%%time\n",
    "\n",
    "# for double digit subwindows\n",
    "catch_all_dfs_0205 = []\n",
    "for character in character_list_double:\n",
    "    features_df = extract_features_and_get_counts(feature_extractor_model, prev_preprocessed_image_loc_0205, folder_contents_0205, 3, 11, character, s_path_0205)\n",
    "    catch_all_dfs_0205.append(features_df)"
   ]
  },
  {
   "cell_type": "markdown",
   "id": "a3a421bd-57cf-4788-b76d-25015e98b038",
   "metadata": {},
   "source": [
    "Block 0206"
   ]
  },
  {
   "cell_type": "code",
   "execution_count": null,
   "id": "cbbb6038-8623-4bc6-9ecf-f5c8116472b5",
   "metadata": {},
   "outputs": [],
   "source": [
    "prev_preprocessed_image_loc_0206 = \"all_preprocessed_data/Block_0206/sub_images_and_counts\""
   ]
  },
  {
   "cell_type": "code",
   "execution_count": null,
   "id": "bc78ea12-ea56-4233-9eef-e3d88253c1b0",
   "metadata": {},
   "outputs": [],
   "source": [
    "folder_contents_0206 = os.listdir(prev_preprocessed_image_loc_0206)\n",
    "folder_contents_0206.sort()"
   ]
  },
  {
   "cell_type": "code",
   "execution_count": null,
   "id": "e87b9d60-4016-45fa-b9e0-6a3b2fbba65a",
   "metadata": {},
   "outputs": [],
   "source": [
    "# folder_contents_0201"
   ]
  },
  {
   "cell_type": "code",
   "execution_count": null,
   "id": "0cda89d5-6aef-48e0-8233-d4516434c2e6",
   "metadata": {},
   "outputs": [],
   "source": [
    "folder_contents_0206[0]"
   ]
  },
  {
   "cell_type": "code",
   "execution_count": null,
   "id": "ed13ef1a-5942-4105-9e6f-626a357252e6",
   "metadata": {},
   "outputs": [],
   "source": [
    "s_path_0206 = 'all_preprocessed_data/Block_0206//TS_ready_data_frames/'"
   ]
  },
  {
   "cell_type": "code",
   "execution_count": null,
   "id": "3929cf87-5d82-40bf-8feb-ab03439e0c71",
   "metadata": {},
   "outputs": [],
   "source": [
    "# get the predictions for all subimages for the block? do separately for single digit subimages and double digit subimages separately\n",
    "character_list = list(range(10))\n",
    "character_list = list(map(str, character_list))"
   ]
  },
  {
   "cell_type": "code",
   "execution_count": null,
   "id": "9b3aea7d-cb8c-4c6a-ba3f-986b5440c685",
   "metadata": {},
   "outputs": [],
   "source": [
    "%%time\n",
    "\n",
    "# for single digit subwindows\n",
    "catch_all_dfs_0206 = []\n",
    "for character in character_list:\n",
    "    features_df = extract_features_and_get_counts(feature_extractor_model, prev_preprocessed_image_loc_0206, folder_contents_0206, 2, 10, character, s_path_0206)\n",
    "    catch_all_dfs_0206.append(features_df)"
   ]
  },
  {
   "cell_type": "code",
   "execution_count": null,
   "id": "09d55258-1939-4438-ac59-166ec22d9417",
   "metadata": {},
   "outputs": [],
   "source": [
    "# get the predictions for double digits\n",
    "character_list_double = list(range(10, 12))\n",
    "character_list_double = list(map(str, character_list_double))"
   ]
  },
  {
   "cell_type": "code",
   "execution_count": null,
   "id": "6741dc46-8a38-45af-8937-13330de0edc5",
   "metadata": {},
   "outputs": [],
   "source": [
    "%%time\n",
    "\n",
    "# for double digit subwindows\n",
    "catch_all_dfs_0206 = []\n",
    "for character in character_list_double:\n",
    "    features_df = extract_features_and_get_counts(feature_extractor_model, prev_preprocessed_image_loc_0206, folder_contents_0206, 3, 11, character, s_path_0206)\n",
    "    catch_all_dfs_0206.append(features_df)"
   ]
  },
  {
   "cell_type": "markdown",
   "id": "d9c96878-2093-423a-bfc8-ff24c90b5354",
   "metadata": {},
   "source": [
    "Block 0302"
   ]
  },
  {
   "cell_type": "code",
   "execution_count": null,
   "id": "fc144e6c-9732-4b40-bebc-cd5a72b3d229",
   "metadata": {},
   "outputs": [],
   "source": [
    "prev_preprocessed_image_loc_0302 = \"all_preprocessed_data/Block_0302/sub_images_and_counts\""
   ]
  },
  {
   "cell_type": "code",
   "execution_count": null,
   "id": "d6e4ca23-407d-4547-9790-540cb1f27db2",
   "metadata": {},
   "outputs": [],
   "source": [
    "folder_contents_0302 = os.listdir(prev_preprocessed_image_loc_0302)\n",
    "folder_contents_0302.sort()"
   ]
  },
  {
   "cell_type": "code",
   "execution_count": null,
   "id": "3d809db7-8845-453a-97bd-39c4da47c33d",
   "metadata": {},
   "outputs": [],
   "source": [
    "# folder_contents_0201"
   ]
  },
  {
   "cell_type": "code",
   "execution_count": null,
   "id": "f9a0d643-1bd3-4a69-987a-407b56c85c68",
   "metadata": {},
   "outputs": [],
   "source": [
    "folder_contents_0302[0]"
   ]
  },
  {
   "cell_type": "code",
   "execution_count": null,
   "id": "9dbc5361-9fc2-422c-97aa-9244f83b8478",
   "metadata": {},
   "outputs": [],
   "source": [
    "s_path_0302 = 'all_preprocessed_data/Block_0302//TS_ready_data_frames/'"
   ]
  },
  {
   "cell_type": "code",
   "execution_count": null,
   "id": "c3075af0-d142-4519-96c2-504e26ebf30a",
   "metadata": {},
   "outputs": [],
   "source": [
    "# get the predictions for all subimages for the block? do separately for single digit subimages and double digit subimages separately\n",
    "character_list = list(range(10))\n",
    "character_list = list(map(str, character_list))"
   ]
  },
  {
   "cell_type": "code",
   "execution_count": null,
   "id": "bc85bb59-6c1f-41c3-a54c-4bff69bd0dd1",
   "metadata": {},
   "outputs": [],
   "source": [
    "%%time\n",
    "\n",
    "# for single digit subwindows\n",
    "catch_all_dfs_0302 = []\n",
    "for character in character_list:\n",
    "    features_df = extract_features_and_get_counts(feature_extractor_model, prev_preprocessed_image_loc_0302, folder_contents_0302, 2, 10, character, s_path_0302)\n",
    "    catch_all_dfs_0302.append(features_df)"
   ]
  },
  {
   "cell_type": "code",
   "execution_count": null,
   "id": "6a00f326-31df-4d48-99dc-2152170b5898",
   "metadata": {},
   "outputs": [],
   "source": [
    "# get the predictions for double digits\n",
    "character_list_double = list(range(10, 12))\n",
    "character_list_double = list(map(str, character_list_double))"
   ]
  },
  {
   "cell_type": "code",
   "execution_count": null,
   "id": "02793688-1087-4de1-9fe8-d8db66cd47cd",
   "metadata": {},
   "outputs": [],
   "source": [
    "%%time\n",
    "\n",
    "# for double digit subwindows\n",
    "catch_all_dfs_0302 = []\n",
    "for character in character_list_double:\n",
    "    features_df = extract_features_and_get_counts(feature_extractor_model, prev_preprocessed_image_loc_0302, folder_contents_0302, 3, 11, character, s_path_0302)\n",
    "    catch_all_dfs_0302.append(features_df)"
   ]
  },
  {
   "cell_type": "markdown",
   "id": "595a9b76-aa0a-44fb-9404-b37fbc196205",
   "metadata": {},
   "source": [
    "Block 0303"
   ]
  },
  {
   "cell_type": "code",
   "execution_count": null,
   "id": "b5173b5e-c6b1-4af8-95bd-6f500ebad9ff",
   "metadata": {},
   "outputs": [],
   "source": [
    "prev_preprocessed_image_loc_0303 = \"all_preprocessed_data/Block_0303/sub_images_and_counts\""
   ]
  },
  {
   "cell_type": "code",
   "execution_count": null,
   "id": "bc746a70-f8bf-4dfa-9955-c8a84c48447d",
   "metadata": {},
   "outputs": [],
   "source": [
    "folder_contents_0303 = os.listdir(prev_preprocessed_image_loc_0303)\n",
    "folder_contents_0303.sort()"
   ]
  },
  {
   "cell_type": "code",
   "execution_count": null,
   "id": "c595a956-46a5-43ba-ab83-de82a77feff5",
   "metadata": {},
   "outputs": [],
   "source": [
    "# folder_contents_0201"
   ]
  },
  {
   "cell_type": "code",
   "execution_count": null,
   "id": "1f3c4317-83fd-488c-b22b-2dfd12bfbb4f",
   "metadata": {},
   "outputs": [],
   "source": [
    "folder_contents_0303[0]"
   ]
  },
  {
   "cell_type": "code",
   "execution_count": null,
   "id": "240666bb-6ec5-4cb5-adc1-8793a3cf6bd0",
   "metadata": {},
   "outputs": [],
   "source": [
    "s_path_0303 = 'all_preprocessed_data/Block_0303//TS_ready_data_frames/'"
   ]
  },
  {
   "cell_type": "code",
   "execution_count": null,
   "id": "cc01b31d-aed1-4d88-8785-d98c76fefac4",
   "metadata": {},
   "outputs": [],
   "source": [
    "# get the predictions for all subimages for the block? do separately for single digit subimages and double digit subimages separately\n",
    "character_list = list(range(10))\n",
    "character_list = list(map(str, character_list))"
   ]
  },
  {
   "cell_type": "code",
   "execution_count": null,
   "id": "cd1682d8-0c46-48a2-baf7-1e800f3cc0af",
   "metadata": {},
   "outputs": [],
   "source": [
    "%%time\n",
    "\n",
    "# for single digit subwindows\n",
    "catch_all_dfs_0303 = []\n",
    "for character in character_list:\n",
    "    features_df = extract_features_and_get_counts(feature_extractor_model, prev_preprocessed_image_loc_0303, folder_contents_0303, 2, 10, character, s_path_0303)\n",
    "    catch_all_dfs_0303.append(features_df)"
   ]
  },
  {
   "cell_type": "code",
   "execution_count": null,
   "id": "ac1ac8d1-3bd2-4432-9e38-40edd6abdcad",
   "metadata": {},
   "outputs": [],
   "source": [
    "# get the predictions for double digits\n",
    "character_list_double = list(range(10, 12))\n",
    "character_list_double = list(map(str, character_list_double))"
   ]
  },
  {
   "cell_type": "code",
   "execution_count": null,
   "id": "99fd2a72-5e9a-41c4-a41c-8626c067c981",
   "metadata": {},
   "outputs": [],
   "source": [
    "%%time\n",
    "\n",
    "# for double digit subwindows\n",
    "catch_all_dfs_0303 = []\n",
    "for character in character_list_double:\n",
    "    features_df = extract_features_and_get_counts(feature_extractor_model, prev_preprocessed_image_loc_0303, folder_contents_0303, 3, 11, character, s_path_0303)\n",
    "    catch_all_dfs_0303.append(features_df)"
   ]
  },
  {
   "cell_type": "markdown",
   "id": "eb0cf095-8aa8-4d4f-9ba2-53485923273f",
   "metadata": {},
   "source": [
    "Block 0304"
   ]
  },
  {
   "cell_type": "code",
   "execution_count": null,
   "id": "63f087e7-bbb3-401d-9059-a594d2fd4cb6",
   "metadata": {},
   "outputs": [],
   "source": [
    "prev_preprocessed_image_loc_0304 = \"all_preprocessed_data/Block_0304/sub_images_and_counts\""
   ]
  },
  {
   "cell_type": "code",
   "execution_count": null,
   "id": "c940d3ae-006c-4ede-a946-5ab4c1de1655",
   "metadata": {},
   "outputs": [],
   "source": [
    "folder_contents_0304 = os.listdir(prev_preprocessed_image_loc_0304)\n",
    "folder_contents_0304.sort()"
   ]
  },
  {
   "cell_type": "code",
   "execution_count": null,
   "id": "9314b3fc-49b6-4249-9591-78cc06d43d84",
   "metadata": {},
   "outputs": [],
   "source": [
    "# folder_contents_0201"
   ]
  },
  {
   "cell_type": "code",
   "execution_count": null,
   "id": "ef28b5e6-af59-4a4a-aac0-a7c59eba6120",
   "metadata": {},
   "outputs": [],
   "source": [
    "folder_contents_0304[0]"
   ]
  },
  {
   "cell_type": "code",
   "execution_count": null,
   "id": "0a8d79cb-04dd-4e04-b2ea-a4f216b0491a",
   "metadata": {},
   "outputs": [],
   "source": [
    "s_path_0304 = 'all_preprocessed_data/Block_0304//TS_ready_data_frames/'"
   ]
  },
  {
   "cell_type": "code",
   "execution_count": null,
   "id": "c5e9a8fe-7e7d-4cae-a702-3571025bd4c7",
   "metadata": {},
   "outputs": [],
   "source": [
    "# get the predictions for all subimages for the block? do separately for single digit subimages and double digit subimages separately\n",
    "character_list = list(range(10))\n",
    "character_list = list(map(str, character_list))"
   ]
  },
  {
   "cell_type": "code",
   "execution_count": null,
   "id": "3a0a607f-fcb6-4db0-8577-4b58ac94c0f2",
   "metadata": {},
   "outputs": [],
   "source": [
    "%%time\n",
    "\n",
    "# for single digit subwindows\n",
    "catch_all_dfs_0304 = []\n",
    "for character in character_list:\n",
    "    features_df = extract_features_and_get_counts(feature_extractor_model, prev_preprocessed_image_loc_0304, folder_contents_0304, 2, 10, character, s_path_0304)\n",
    "    catch_all_dfs_0304.append(features_df)"
   ]
  },
  {
   "cell_type": "code",
   "execution_count": null,
   "id": "291ab071-f521-443d-8256-e81c7a04aea3",
   "metadata": {},
   "outputs": [],
   "source": [
    "# get the predictions for double digits\n",
    "character_list_double = list(range(10, 12))\n",
    "character_list_double = list(map(str, character_list_double))"
   ]
  },
  {
   "cell_type": "code",
   "execution_count": null,
   "id": "95c9c805-a02b-4e20-b04a-1db9bc9f6c4e",
   "metadata": {},
   "outputs": [],
   "source": [
    "%%time\n",
    "\n",
    "# for double digit subwindows\n",
    "catch_all_dfs_0304 = []\n",
    "for character in character_list_double:\n",
    "    features_df = extract_features_and_get_counts(feature_extractor_model, prev_preprocessed_image_loc_0304, folder_contents_0304, 3, 11, character, s_path_0304)\n",
    "    catch_all_dfs_0304.append(features_df)"
   ]
  },
  {
   "cell_type": "markdown",
   "id": "f00487da-4677-419b-a32a-c596727cec12",
   "metadata": {},
   "source": [
    "Block 0305"
   ]
  },
  {
   "cell_type": "code",
   "execution_count": null,
   "id": "22699717-8951-4c08-80bc-6db7a40ab7da",
   "metadata": {},
   "outputs": [],
   "source": [
    "prev_preprocessed_image_loc_0305 = \"all_preprocessed_data/Block_0305/sub_images_and_counts\""
   ]
  },
  {
   "cell_type": "code",
   "execution_count": null,
   "id": "f941a030-6071-413f-a46a-29e842f80bf0",
   "metadata": {},
   "outputs": [],
   "source": [
    "folder_contents_0305 = os.listdir(prev_preprocessed_image_loc_0305)\n",
    "folder_contents_0305.sort()"
   ]
  },
  {
   "cell_type": "code",
   "execution_count": null,
   "id": "967a96fd-389d-4de2-b70e-a6edcde29d08",
   "metadata": {},
   "outputs": [],
   "source": [
    "# folder_contents_0201"
   ]
  },
  {
   "cell_type": "code",
   "execution_count": null,
   "id": "82b14628-41a0-4192-abe7-e482e4ac40f8",
   "metadata": {},
   "outputs": [],
   "source": [
    "folder_contents_0305[0]"
   ]
  },
  {
   "cell_type": "code",
   "execution_count": null,
   "id": "2bc27835-8848-42a4-81d9-608d61951d0e",
   "metadata": {},
   "outputs": [],
   "source": [
    "s_path_0305 = 'all_preprocessed_data/Block_0305//TS_ready_data_frames/'"
   ]
  },
  {
   "cell_type": "code",
   "execution_count": null,
   "id": "3f00bb9f-de66-45c9-a1ed-fcc05f7fa3e5",
   "metadata": {},
   "outputs": [],
   "source": [
    "# get the predictions for all subimages for the block? do separately for single digit subimages and double digit subimages separately\n",
    "character_list = list(range(10))\n",
    "character_list = list(map(str, character_list))"
   ]
  },
  {
   "cell_type": "code",
   "execution_count": null,
   "id": "fc22b35e-97e8-4324-ac56-89dac65a4b14",
   "metadata": {},
   "outputs": [],
   "source": [
    "%%time\n",
    "\n",
    "# for single digit subwindows\n",
    "catch_all_dfs_0305 = []\n",
    "for character in character_list:\n",
    "    features_df = extract_features_and_get_counts(feature_extractor_model, prev_preprocessed_image_loc_0305, folder_contents_0305, 2, 10, character, s_path_0305)\n",
    "    catch_all_dfs_0305.append(features_df)"
   ]
  },
  {
   "cell_type": "code",
   "execution_count": null,
   "id": "7bf0cb11-2413-4ca3-883c-4f431b9d8e38",
   "metadata": {},
   "outputs": [],
   "source": [
    "# get the predictions for double digits\n",
    "character_list_double = list(range(10, 12))\n",
    "character_list_double = list(map(str, character_list_double))"
   ]
  },
  {
   "cell_type": "code",
   "execution_count": null,
   "id": "33c632de-822e-46e6-bf9d-1bfdaaebdbad",
   "metadata": {},
   "outputs": [],
   "source": [
    "%%time\n",
    "\n",
    "# for double digit subwindows\n",
    "catch_all_dfs_0305 = []\n",
    "for character in character_list_double:\n",
    "    features_df = extract_features_and_get_counts(feature_extractor_model, prev_preprocessed_image_loc_0305, folder_contents_0305, 3, 11, character, s_path_0305)\n",
    "    catch_all_dfs_0305.append(features_df)"
   ]
  },
  {
   "cell_type": "markdown",
   "id": "6b04392c-79a2-43f5-9ca0-3bb3bdf24562",
   "metadata": {},
   "source": [
    "Block 0306"
   ]
  },
  {
   "cell_type": "code",
   "execution_count": 11,
   "id": "1685abcc-0933-45d0-b126-45f4b0524007",
   "metadata": {},
   "outputs": [],
   "source": [
    "prev_preprocessed_image_loc_0306 = \"all_preprocessed_data/Block_0306/sub_images_and_counts\""
   ]
  },
  {
   "cell_type": "code",
   "execution_count": 12,
   "id": "64b24aea-f187-4fc4-a8a5-0b5c5e731a46",
   "metadata": {},
   "outputs": [],
   "source": [
    "folder_contents_0306 = os.listdir(prev_preprocessed_image_loc_0306)\n",
    "folder_contents_0306.sort()"
   ]
  },
  {
   "cell_type": "code",
   "execution_count": 13,
   "id": "8c847310-851f-434a-bda9-c79a94eea178",
   "metadata": {},
   "outputs": [],
   "source": [
    "# folder_contents_0201"
   ]
  },
  {
   "cell_type": "code",
   "execution_count": 14,
   "id": "1d29c5ce-7005-4bea-8cda-e7d9b3429247",
   "metadata": {},
   "outputs": [
    {
     "data": {
      "text/plain": [
       "'Block0306_2020_08_03_0.npy'"
      ]
     },
     "execution_count": 14,
     "metadata": {},
     "output_type": "execute_result"
    }
   ],
   "source": [
    "folder_contents_0306[0]"
   ]
  },
  {
   "cell_type": "code",
   "execution_count": 15,
   "id": "423fa1ba-9d83-4cec-b8bb-a4acd4202f9e",
   "metadata": {},
   "outputs": [],
   "source": [
    "s_path_0306 = 'all_preprocessed_data/Block_0306//TS_ready_data_frames/'"
   ]
  },
  {
   "cell_type": "code",
   "execution_count": 16,
   "id": "a6671fe6-5256-4ec0-8781-4b23840bb2ec",
   "metadata": {},
   "outputs": [],
   "source": [
    "# get the predictions for all subimages for the block? do separately for single digit subimages and double digit subimages separately\n",
    "character_list = list(range(10))\n",
    "character_list = list(map(str, character_list))"
   ]
  },
  {
   "cell_type": "code",
   "execution_count": 17,
   "id": "be983074-da51-48cc-bc1a-d07d1d2098fd",
   "metadata": {},
   "outputs": [
    {
     "name": "stdout",
     "output_type": "stream",
     "text": [
      "Block0306_2020_08_03_0.npy\n",
      "1.0\n"
     ]
    },
    {
     "name": "stderr",
     "output_type": "stream",
     "text": [
      "2024-07-15 17:13:09.860851: I external/local_xla/xla/stream_executor/cuda/cuda_dnn.cc:454] Loaded cuDNN version 8907\n"
     ]
    },
    {
     "name": "stdout",
     "output_type": "stream",
     "text": [
      "Block0306_2020_08_03_1.npy\n",
      "1.0\n",
      "Block0306_2020_08_03_2.npy\n",
      "1.0\n",
      "Block0306_2020_08_03_3.npy\n",
      "1.0\n",
      "Block0306_2020_08_03_4.npy\n",
      "1.0\n",
      "Block0306_2020_08_03_5.npy\n",
      "1.0\n",
      "Block0306_2020_08_03_6.npy\n",
      "1.0\n",
      "Block0306_2020_08_03_7.npy\n",
      "1.0\n",
      "Block0306_2020_08_03_8.npy\n",
      "1.0\n",
      "Block0306_2020_08_03_9.npy\n",
      "1.0\n",
      "CPU times: user 11.7 s, sys: 1.75 s, total: 13.4 s\n",
      "Wall time: 44.2 s\n"
     ]
    }
   ],
   "source": [
    "%%time\n",
    "\n",
    "# for single digit subwindows\n",
    "catch_all_dfs_0306 = []\n",
    "for character in character_list:\n",
    "    features_df = extract_features_and_get_counts(feature_extractor_model, prev_preprocessed_image_loc_0306, folder_contents_0306, 2, 10, character, s_path_0306)\n",
    "    catch_all_dfs_0306.append(features_df)"
   ]
  },
  {
   "cell_type": "code",
   "execution_count": 18,
   "id": "aaec577c-7702-4f2b-a9d7-5f47a0dd3bd4",
   "metadata": {},
   "outputs": [],
   "source": [
    "# get the predictions for double digits\n",
    "character_list_double = list(range(10, 12))\n",
    "character_list_double = list(map(str, character_list_double))"
   ]
  },
  {
   "cell_type": "code",
   "execution_count": 19,
   "id": "98a81181-3195-4e6f-9cc3-9469f797ba6f",
   "metadata": {},
   "outputs": [
    {
     "name": "stdout",
     "output_type": "stream",
     "text": [
      "Block0306_2020_08_03_10.npy\n",
      "1.0\n",
      "Block0306_2020_08_03_11.npy\n",
      "1.0\n",
      "CPU times: user 2.36 s, sys: 299 ms, total: 2.66 s\n",
      "Wall time: 8.45 s\n"
     ]
    }
   ],
   "source": [
    "%%time\n",
    "\n",
    "# for double digit subwindows\n",
    "catch_all_dfs_0306 = []\n",
    "for character in character_list_double:\n",
    "    features_df = extract_features_and_get_counts(feature_extractor_model, prev_preprocessed_image_loc_0306, folder_contents_0306, 3, 11, character, s_path_0306)\n",
    "    catch_all_dfs_0306.append(features_df)"
   ]
  }
 ],
 "metadata": {
  "kernelspec": {
   "display_name": "Python (tfp_for_TN)",
   "language": "python",
   "name": "tfp_for_tn"
  },
  "language_info": {
   "codemirror_mode": {
    "name": "ipython",
    "version": 3
   },
   "file_extension": ".py",
   "mimetype": "text/x-python",
   "name": "python",
   "nbconvert_exporter": "python",
   "pygments_lexer": "ipython3",
   "version": "3.10.14"
  }
 },
 "nbformat": 4,
 "nbformat_minor": 5
}
