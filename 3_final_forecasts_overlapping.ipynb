{
 "cells": [
  {
   "cell_type": "markdown",
   "id": "f29b3bc9-b1fa-44cb-8286-9016c7517519",
   "metadata": {},
   "source": [
    "Okay, this is a little tricky, let's try to figure this out."
   ]
  },
  {
   "cell_type": "code",
   "execution_count": 1,
   "id": "792bd9f2-28fd-4116-89fa-5bd269c51a47",
   "metadata": {},
   "outputs": [],
   "source": [
    "import pandas as pd\n",
    "import numpy as np\n",
    "import matplotlib.pyplot as plt\n",
    "import os\n",
    "from sklearn.metrics import mean_absolute_error, mean_squared_error\n",
    "from scipy.stats import pearsonr"
   ]
  },
  {
   "cell_type": "code",
   "execution_count": 2,
   "id": "16cdfbd4-b38a-43fd-b756-676ca221b4bc",
   "metadata": {},
   "outputs": [],
   "source": [
    "# path to dataframes\n",
    "path_to_dfs = \"forecasted_counts/block_0103/\""
   ]
  },
  {
   "cell_type": "code",
   "execution_count": 3,
   "id": "e517faff-1694-419f-bd7d-13e76cefa34f",
   "metadata": {},
   "outputs": [],
   "source": [
    "# os.listdir(path_to_dfs)"
   ]
  },
  {
   "cell_type": "code",
   "execution_count": 4,
   "id": "34a0b10e-63ef-433d-bc8a-21cccaf3ece2",
   "metadata": {},
   "outputs": [],
   "source": [
    "# choose only the average forecasts dataframes\n",
    "averaged_forecasts_csvs = []\n",
    "for file in os.listdir(path_to_dfs):\n",
    "    if file[:8] =='averaged':\n",
    "        averaged_forecasts_csvs.append(file)"
   ]
  },
  {
   "cell_type": "code",
   "execution_count": 5,
   "id": "e044a276-7544-48be-9b39-bc5869633754",
   "metadata": {},
   "outputs": [
    {
     "data": {
      "text/plain": [
       "42"
      ]
     },
     "execution_count": 5,
     "metadata": {},
     "output_type": "execute_result"
    }
   ],
   "source": [
    "len(averaged_forecasts_csvs)"
   ]
  },
  {
   "cell_type": "code",
   "execution_count": 6,
   "id": "dbdb3d7e-5b1a-4bab-8edc-34db54869856",
   "metadata": {},
   "outputs": [],
   "source": [
    "averaged_forecasts_csvs.sort() # - note these are not sorted, we need these sorted to match the correct counts to the correct subwindows"
   ]
  },
  {
   "cell_type": "code",
   "execution_count": 7,
   "id": "699db382-417b-470c-a2f6-f2060cdb51f7",
   "metadata": {},
   "outputs": [
    {
     "data": {
      "text/plain": [
       "'averaged_forecasts_sub_0.csv'"
      ]
     },
     "execution_count": 7,
     "metadata": {},
     "output_type": "execute_result"
    }
   ],
   "source": [
    "averaged_forecasts_csvs[0]"
   ]
  },
  {
   "cell_type": "code",
   "execution_count": 8,
   "id": "c0ab9bbb-b6de-42ee-ab0f-dbbf3d0e5233",
   "metadata": {},
   "outputs": [],
   "source": [
    "# order these csv files, let's write a for loop\n",
    "ordered_csv_files = ['averaged_forecasts_sub_' + str(i) + '.csv' for i in np.arange(42)]"
   ]
  },
  {
   "cell_type": "code",
   "execution_count": 9,
   "id": "8a27b7eb-00ca-4686-94fc-23103201e74e",
   "metadata": {},
   "outputs": [],
   "source": [
    "# ordered_csv_files"
   ]
  },
  {
   "cell_type": "code",
   "execution_count": 10,
   "id": "d7210813-d54e-4a90-a3c9-509b6e153350",
   "metadata": {},
   "outputs": [],
   "source": [
    "all_dfs = []\n",
    "for file in ordered_csv_files:\n",
    "    read_df = pd.read_csv(path_to_dfs + '/' + file)\n",
    "    all_dfs.append(read_df)"
   ]
  },
  {
   "cell_type": "code",
   "execution_count": 11,
   "id": "e6536dbe-60f7-4ced-bf03-7fbbd91d0aa5",
   "metadata": {},
   "outputs": [],
   "source": [
    "# make a single dataframe out of the many\n",
    "combined_df = pd.concat(all_dfs, axis = 1)"
   ]
  },
  {
   "cell_type": "code",
   "execution_count": 12,
   "id": "cabf05c1-2fcf-43f6-a413-cf325d7e705b",
   "metadata": {},
   "outputs": [
    {
     "data": {
      "text/html": [
       "<div>\n",
       "<style scoped>\n",
       "    .dataframe tbody tr th:only-of-type {\n",
       "        vertical-align: middle;\n",
       "    }\n",
       "\n",
       "    .dataframe tbody tr th {\n",
       "        vertical-align: top;\n",
       "    }\n",
       "\n",
       "    .dataframe thead th {\n",
       "        text-align: right;\n",
       "    }\n",
       "</style>\n",
       "<table border=\"1\" class=\"dataframe\">\n",
       "  <thead>\n",
       "    <tr style=\"text-align: right;\">\n",
       "      <th></th>\n",
       "      <th>True_value</th>\n",
       "      <th>Forecasted_value</th>\n",
       "      <th>True_value</th>\n",
       "      <th>Forecasted_value</th>\n",
       "      <th>True_value</th>\n",
       "      <th>Forecasted_value</th>\n",
       "      <th>True_value</th>\n",
       "      <th>Forecasted_value</th>\n",
       "      <th>True_value</th>\n",
       "      <th>Forecasted_value</th>\n",
       "      <th>...</th>\n",
       "      <th>True_value</th>\n",
       "      <th>Forecasted_value</th>\n",
       "      <th>True_value</th>\n",
       "      <th>Forecasted_value</th>\n",
       "      <th>True_value</th>\n",
       "      <th>Forecasted_value</th>\n",
       "      <th>True_value</th>\n",
       "      <th>Forecasted_value</th>\n",
       "      <th>True_value</th>\n",
       "      <th>Forecasted_value</th>\n",
       "    </tr>\n",
       "  </thead>\n",
       "  <tbody>\n",
       "    <tr>\n",
       "      <th>0</th>\n",
       "      <td>3.000000</td>\n",
       "      <td>3.518405</td>\n",
       "      <td>5.680015</td>\n",
       "      <td>4.711437</td>\n",
       "      <td>4.008115</td>\n",
       "      <td>4.301618</td>\n",
       "      <td>2.211300</td>\n",
       "      <td>3.509243</td>\n",
       "      <td>6.203186</td>\n",
       "      <td>5.859481</td>\n",
       "      <td>...</td>\n",
       "      <td>0.000531</td>\n",
       "      <td>0.079276</td>\n",
       "      <td>0.000674</td>\n",
       "      <td>0.027422</td>\n",
       "      <td>0.000142</td>\n",
       "      <td>0.070028</td>\n",
       "      <td>0.000000</td>\n",
       "      <td>0.072067</td>\n",
       "      <td>0.0</td>\n",
       "      <td>-0.000362</td>\n",
       "    </tr>\n",
       "    <tr>\n",
       "      <th>1</th>\n",
       "      <td>4.002516</td>\n",
       "      <td>3.732567</td>\n",
       "      <td>6.450665</td>\n",
       "      <td>4.825813</td>\n",
       "      <td>3.788700</td>\n",
       "      <td>4.349662</td>\n",
       "      <td>4.397723</td>\n",
       "      <td>2.930528</td>\n",
       "      <td>7.895105</td>\n",
       "      <td>5.337866</td>\n",
       "      <td>...</td>\n",
       "      <td>0.000674</td>\n",
       "      <td>0.061360</td>\n",
       "      <td>0.000000</td>\n",
       "      <td>-0.082306</td>\n",
       "      <td>0.000000</td>\n",
       "      <td>-0.023784</td>\n",
       "      <td>0.000000</td>\n",
       "      <td>0.048017</td>\n",
       "      <td>0.0</td>\n",
       "      <td>-0.000514</td>\n",
       "    </tr>\n",
       "    <tr>\n",
       "      <th>2</th>\n",
       "      <td>4.000155</td>\n",
       "      <td>3.428718</td>\n",
       "      <td>5.915424</td>\n",
       "      <td>5.178430</td>\n",
       "      <td>4.004599</td>\n",
       "      <td>4.501003</td>\n",
       "      <td>3.997293</td>\n",
       "      <td>3.555890</td>\n",
       "      <td>6.674109</td>\n",
       "      <td>5.828358</td>\n",
       "      <td>...</td>\n",
       "      <td>0.000000</td>\n",
       "      <td>0.085696</td>\n",
       "      <td>0.000000</td>\n",
       "      <td>0.027619</td>\n",
       "      <td>0.000005</td>\n",
       "      <td>0.110478</td>\n",
       "      <td>0.000005</td>\n",
       "      <td>0.065582</td>\n",
       "      <td>0.0</td>\n",
       "      <td>-0.000339</td>\n",
       "    </tr>\n",
       "    <tr>\n",
       "      <th>3</th>\n",
       "      <td>3.000000</td>\n",
       "      <td>4.329351</td>\n",
       "      <td>6.666009</td>\n",
       "      <td>5.262213</td>\n",
       "      <td>4.000000</td>\n",
       "      <td>4.504326</td>\n",
       "      <td>1.000000</td>\n",
       "      <td>2.507873</td>\n",
       "      <td>4.000031</td>\n",
       "      <td>6.039442</td>\n",
       "      <td>...</td>\n",
       "      <td>0.000000</td>\n",
       "      <td>0.058320</td>\n",
       "      <td>0.000000</td>\n",
       "      <td>-0.008478</td>\n",
       "      <td>0.000674</td>\n",
       "      <td>0.001183</td>\n",
       "      <td>0.000674</td>\n",
       "      <td>0.043805</td>\n",
       "      <td>0.0</td>\n",
       "      <td>0.000566</td>\n",
       "    </tr>\n",
       "    <tr>\n",
       "      <th>4</th>\n",
       "      <td>3.000000</td>\n",
       "      <td>3.944138</td>\n",
       "      <td>5.671839</td>\n",
       "      <td>5.235770</td>\n",
       "      <td>4.022552</td>\n",
       "      <td>4.438399</td>\n",
       "      <td>2.008101</td>\n",
       "      <td>2.936499</td>\n",
       "      <td>4.633390</td>\n",
       "      <td>5.194905</td>\n",
       "      <td>...</td>\n",
       "      <td>0.000000</td>\n",
       "      <td>0.066148</td>\n",
       "      <td>0.000000</td>\n",
       "      <td>-0.005671</td>\n",
       "      <td>0.004599</td>\n",
       "      <td>-0.036351</td>\n",
       "      <td>0.004599</td>\n",
       "      <td>0.028059</td>\n",
       "      <td>0.0</td>\n",
       "      <td>-0.000025</td>\n",
       "    </tr>\n",
       "  </tbody>\n",
       "</table>\n",
       "<p>5 rows × 84 columns</p>\n",
       "</div>"
      ],
      "text/plain": [
       "   True_value  Forecasted_value  True_value  Forecasted_value  True_value  \\\n",
       "0    3.000000          3.518405    5.680015          4.711437    4.008115   \n",
       "1    4.002516          3.732567    6.450665          4.825813    3.788700   \n",
       "2    4.000155          3.428718    5.915424          5.178430    4.004599   \n",
       "3    3.000000          4.329351    6.666009          5.262213    4.000000   \n",
       "4    3.000000          3.944138    5.671839          5.235770    4.022552   \n",
       "\n",
       "   Forecasted_value  True_value  Forecasted_value  True_value  \\\n",
       "0          4.301618    2.211300          3.509243    6.203186   \n",
       "1          4.349662    4.397723          2.930528    7.895105   \n",
       "2          4.501003    3.997293          3.555890    6.674109   \n",
       "3          4.504326    1.000000          2.507873    4.000031   \n",
       "4          4.438399    2.008101          2.936499    4.633390   \n",
       "\n",
       "   Forecasted_value  ...  True_value  Forecasted_value  True_value  \\\n",
       "0          5.859481  ...    0.000531          0.079276    0.000674   \n",
       "1          5.337866  ...    0.000674          0.061360    0.000000   \n",
       "2          5.828358  ...    0.000000          0.085696    0.000000   \n",
       "3          6.039442  ...    0.000000          0.058320    0.000000   \n",
       "4          5.194905  ...    0.000000          0.066148    0.000000   \n",
       "\n",
       "   Forecasted_value  True_value  Forecasted_value  True_value  \\\n",
       "0          0.027422    0.000142          0.070028    0.000000   \n",
       "1         -0.082306    0.000000         -0.023784    0.000000   \n",
       "2          0.027619    0.000005          0.110478    0.000005   \n",
       "3         -0.008478    0.000674          0.001183    0.000674   \n",
       "4         -0.005671    0.004599         -0.036351    0.004599   \n",
       "\n",
       "   Forecasted_value  True_value  Forecasted_value  \n",
       "0          0.072067         0.0         -0.000362  \n",
       "1          0.048017         0.0         -0.000514  \n",
       "2          0.065582         0.0         -0.000339  \n",
       "3          0.043805         0.0          0.000566  \n",
       "4          0.028059         0.0         -0.000025  \n",
       "\n",
       "[5 rows x 84 columns]"
      ]
     },
     "execution_count": 12,
     "metadata": {},
     "output_type": "execute_result"
    }
   ],
   "source": [
    "combined_df.head()"
   ]
  },
  {
   "cell_type": "code",
   "execution_count": 13,
   "id": "2bd7311d-b36e-4352-9a44-ebec9719e9ae",
   "metadata": {},
   "outputs": [
    {
     "data": {
      "text/plain": [
       "(7, 84)"
      ]
     },
     "execution_count": 13,
     "metadata": {},
     "output_type": "execute_result"
    }
   ],
   "source": [
    "combined_df.shape"
   ]
  },
  {
   "cell_type": "code",
   "execution_count": 14,
   "id": "ae952a0a-3035-4353-aede-905d22bd842f",
   "metadata": {},
   "outputs": [],
   "source": [
    "# get the true values\n",
    "True_values_df = combined_df[['True_value']]"
   ]
  },
  {
   "cell_type": "code",
   "execution_count": 15,
   "id": "baf73275-144e-4bb3-bd47-d94c519f86a2",
   "metadata": {},
   "outputs": [
    {
     "data": {
      "text/html": [
       "<div>\n",
       "<style scoped>\n",
       "    .dataframe tbody tr th:only-of-type {\n",
       "        vertical-align: middle;\n",
       "    }\n",
       "\n",
       "    .dataframe tbody tr th {\n",
       "        vertical-align: top;\n",
       "    }\n",
       "\n",
       "    .dataframe thead th {\n",
       "        text-align: right;\n",
       "    }\n",
       "</style>\n",
       "<table border=\"1\" class=\"dataframe\">\n",
       "  <thead>\n",
       "    <tr style=\"text-align: right;\">\n",
       "      <th></th>\n",
       "      <th>True_value</th>\n",
       "      <th>True_value</th>\n",
       "      <th>True_value</th>\n",
       "      <th>True_value</th>\n",
       "      <th>True_value</th>\n",
       "      <th>True_value</th>\n",
       "      <th>True_value</th>\n",
       "      <th>True_value</th>\n",
       "      <th>True_value</th>\n",
       "      <th>True_value</th>\n",
       "      <th>...</th>\n",
       "      <th>True_value</th>\n",
       "      <th>True_value</th>\n",
       "      <th>True_value</th>\n",
       "      <th>True_value</th>\n",
       "      <th>True_value</th>\n",
       "      <th>True_value</th>\n",
       "      <th>True_value</th>\n",
       "      <th>True_value</th>\n",
       "      <th>True_value</th>\n",
       "      <th>True_value</th>\n",
       "    </tr>\n",
       "  </thead>\n",
       "  <tbody>\n",
       "    <tr>\n",
       "      <th>0</th>\n",
       "      <td>3.000000</td>\n",
       "      <td>5.680015</td>\n",
       "      <td>4.008115</td>\n",
       "      <td>2.211300</td>\n",
       "      <td>6.203186</td>\n",
       "      <td>6.000008</td>\n",
       "      <td>2.000008</td>\n",
       "      <td>2.991899</td>\n",
       "      <td>3.841271</td>\n",
       "      <td>3.001654</td>\n",
       "      <td>...</td>\n",
       "      <td>3.999930</td>\n",
       "      <td>1.999930</td>\n",
       "      <td>0.000000</td>\n",
       "      <td>0.000000</td>\n",
       "      <td>0.000000</td>\n",
       "      <td>0.000531</td>\n",
       "      <td>0.000674</td>\n",
       "      <td>0.000142</td>\n",
       "      <td>0.000000</td>\n",
       "      <td>0.0</td>\n",
       "    </tr>\n",
       "    <tr>\n",
       "      <th>1</th>\n",
       "      <td>4.002516</td>\n",
       "      <td>6.450665</td>\n",
       "      <td>3.788700</td>\n",
       "      <td>4.397723</td>\n",
       "      <td>7.895105</td>\n",
       "      <td>5.840550</td>\n",
       "      <td>1.922893</td>\n",
       "      <td>5.020036</td>\n",
       "      <td>6.011305</td>\n",
       "      <td>3.000000</td>\n",
       "      <td>...</td>\n",
       "      <td>4.321506</td>\n",
       "      <td>2.000000</td>\n",
       "      <td>0.000000</td>\n",
       "      <td>0.000000</td>\n",
       "      <td>0.000674</td>\n",
       "      <td>0.000674</td>\n",
       "      <td>0.000000</td>\n",
       "      <td>0.000000</td>\n",
       "      <td>0.000000</td>\n",
       "      <td>0.0</td>\n",
       "    </tr>\n",
       "    <tr>\n",
       "      <th>2</th>\n",
       "      <td>4.000155</td>\n",
       "      <td>5.915424</td>\n",
       "      <td>4.004599</td>\n",
       "      <td>3.997293</td>\n",
       "      <td>6.674109</td>\n",
       "      <td>4.788695</td>\n",
       "      <td>0.999997</td>\n",
       "      <td>3.999930</td>\n",
       "      <td>5.547751</td>\n",
       "      <td>3.022552</td>\n",
       "      <td>...</td>\n",
       "      <td>5.999987</td>\n",
       "      <td>4.000000</td>\n",
       "      <td>0.000013</td>\n",
       "      <td>0.000000</td>\n",
       "      <td>0.000000</td>\n",
       "      <td>0.000000</td>\n",
       "      <td>0.000000</td>\n",
       "      <td>0.000005</td>\n",
       "      <td>0.000005</td>\n",
       "      <td>0.0</td>\n",
       "    </tr>\n",
       "    <tr>\n",
       "      <th>3</th>\n",
       "      <td>3.000000</td>\n",
       "      <td>6.666009</td>\n",
       "      <td>4.000000</td>\n",
       "      <td>1.000000</td>\n",
       "      <td>4.000031</td>\n",
       "      <td>3.500031</td>\n",
       "      <td>0.500000</td>\n",
       "      <td>3.996810</td>\n",
       "      <td>5.876725</td>\n",
       "      <td>3.000013</td>\n",
       "      <td>...</td>\n",
       "      <td>4.080343</td>\n",
       "      <td>3.000000</td>\n",
       "      <td>0.000000</td>\n",
       "      <td>0.000000</td>\n",
       "      <td>0.000000</td>\n",
       "      <td>0.000000</td>\n",
       "      <td>0.000000</td>\n",
       "      <td>0.000674</td>\n",
       "      <td>0.000674</td>\n",
       "      <td>0.0</td>\n",
       "    </tr>\n",
       "    <tr>\n",
       "      <th>4</th>\n",
       "      <td>3.000000</td>\n",
       "      <td>5.671839</td>\n",
       "      <td>4.022552</td>\n",
       "      <td>2.008101</td>\n",
       "      <td>4.633390</td>\n",
       "      <td>3.633390</td>\n",
       "      <td>0.985549</td>\n",
       "      <td>2.000000</td>\n",
       "      <td>3.211300</td>\n",
       "      <td>3.233852</td>\n",
       "      <td>...</td>\n",
       "      <td>4.991866</td>\n",
       "      <td>3.000000</td>\n",
       "      <td>0.008102</td>\n",
       "      <td>0.000000</td>\n",
       "      <td>0.000000</td>\n",
       "      <td>0.000000</td>\n",
       "      <td>0.000000</td>\n",
       "      <td>0.004599</td>\n",
       "      <td>0.004599</td>\n",
       "      <td>0.0</td>\n",
       "    </tr>\n",
       "    <tr>\n",
       "      <th>5</th>\n",
       "      <td>4.000000</td>\n",
       "      <td>8.271483</td>\n",
       "      <td>6.054452</td>\n",
       "      <td>2.054460</td>\n",
       "      <td>5.051951</td>\n",
       "      <td>5.000003</td>\n",
       "      <td>1.948060</td>\n",
       "      <td>2.000000</td>\n",
       "      <td>3.054791</td>\n",
       "      <td>4.076859</td>\n",
       "      <td>...</td>\n",
       "      <td>5.995371</td>\n",
       "      <td>4.999969</td>\n",
       "      <td>1.000000</td>\n",
       "      <td>0.000000</td>\n",
       "      <td>0.000000</td>\n",
       "      <td>0.000000</td>\n",
       "      <td>0.002516</td>\n",
       "      <td>0.010618</td>\n",
       "      <td>0.008102</td>\n",
       "      <td>0.0</td>\n",
       "    </tr>\n",
       "    <tr>\n",
       "      <th>6</th>\n",
       "      <td>1.000000</td>\n",
       "      <td>4.974901</td>\n",
       "      <td>4.500000</td>\n",
       "      <td>2.681041</td>\n",
       "      <td>4.155932</td>\n",
       "      <td>2.002517</td>\n",
       "      <td>0.002526</td>\n",
       "      <td>1.991898</td>\n",
       "      <td>4.967989</td>\n",
       "      <td>2.999985</td>\n",
       "      <td>...</td>\n",
       "      <td>3.000031</td>\n",
       "      <td>1.977448</td>\n",
       "      <td>0.000000</td>\n",
       "      <td>0.004599</td>\n",
       "      <td>0.004587</td>\n",
       "      <td>0.000000</td>\n",
       "      <td>0.000509</td>\n",
       "      <td>0.077012</td>\n",
       "      <td>0.076503</td>\n",
       "      <td>0.0</td>\n",
       "    </tr>\n",
       "  </tbody>\n",
       "</table>\n",
       "<p>7 rows × 42 columns</p>\n",
       "</div>"
      ],
      "text/plain": [
       "   True_value  True_value  True_value  True_value  True_value  True_value  \\\n",
       "0    3.000000    5.680015    4.008115    2.211300    6.203186    6.000008   \n",
       "1    4.002516    6.450665    3.788700    4.397723    7.895105    5.840550   \n",
       "2    4.000155    5.915424    4.004599    3.997293    6.674109    4.788695   \n",
       "3    3.000000    6.666009    4.000000    1.000000    4.000031    3.500031   \n",
       "4    3.000000    5.671839    4.022552    2.008101    4.633390    3.633390   \n",
       "5    4.000000    8.271483    6.054452    2.054460    5.051951    5.000003   \n",
       "6    1.000000    4.974901    4.500000    2.681041    4.155932    2.002517   \n",
       "\n",
       "   True_value  True_value  True_value  True_value  ...  True_value  \\\n",
       "0    2.000008    2.991899    3.841271    3.001654  ...    3.999930   \n",
       "1    1.922893    5.020036    6.011305    3.000000  ...    4.321506   \n",
       "2    0.999997    3.999930    5.547751    3.022552  ...    5.999987   \n",
       "3    0.500000    3.996810    5.876725    3.000013  ...    4.080343   \n",
       "4    0.985549    2.000000    3.211300    3.233852  ...    4.991866   \n",
       "5    1.948060    2.000000    3.054791    4.076859  ...    5.995371   \n",
       "6    0.002526    1.991898    4.967989    2.999985  ...    3.000031   \n",
       "\n",
       "   True_value  True_value  True_value  True_value  True_value  True_value  \\\n",
       "0    1.999930    0.000000    0.000000    0.000000    0.000531    0.000674   \n",
       "1    2.000000    0.000000    0.000000    0.000674    0.000674    0.000000   \n",
       "2    4.000000    0.000013    0.000000    0.000000    0.000000    0.000000   \n",
       "3    3.000000    0.000000    0.000000    0.000000    0.000000    0.000000   \n",
       "4    3.000000    0.008102    0.000000    0.000000    0.000000    0.000000   \n",
       "5    4.999969    1.000000    0.000000    0.000000    0.000000    0.002516   \n",
       "6    1.977448    0.000000    0.004599    0.004587    0.000000    0.000509   \n",
       "\n",
       "   True_value  True_value  True_value  \n",
       "0    0.000142    0.000000         0.0  \n",
       "1    0.000000    0.000000         0.0  \n",
       "2    0.000005    0.000005         0.0  \n",
       "3    0.000674    0.000674         0.0  \n",
       "4    0.004599    0.004599         0.0  \n",
       "5    0.010618    0.008102         0.0  \n",
       "6    0.077012    0.076503         0.0  \n",
       "\n",
       "[7 rows x 42 columns]"
      ]
     },
     "execution_count": 15,
     "metadata": {},
     "output_type": "execute_result"
    }
   ],
   "source": [
    "True_values_df"
   ]
  },
  {
   "cell_type": "code",
   "execution_count": 16,
   "id": "138ce648-90e4-47cc-84b4-eaf8308362cd",
   "metadata": {},
   "outputs": [],
   "source": [
    "# since the subwindows are now overlapping, we cannot directly add the counts - These needs to be now normalized - might have to think this through"
   ]
  },
  {
   "cell_type": "code",
   "execution_count": 17,
   "id": "7645988e-8d19-400d-b5c9-301b6819514b",
   "metadata": {},
   "outputs": [],
   "source": [
    "# sum the true values - since the sub images are not overlapping, we can get the sum across columns in the above dataframe\n",
    "sum_true_values = True_values_df.sum(axis = 1)"
   ]
  },
  {
   "cell_type": "code",
   "execution_count": 18,
   "id": "17b55908-f95a-4308-a49d-92058bd738af",
   "metadata": {},
   "outputs": [
    {
     "data": {
      "text/plain": [
       "0    133.547655\n",
       "1    126.067732\n",
       "2    139.849757\n",
       "3    107.537386\n",
       "4    104.110652\n",
       "5    131.280152\n",
       "6     97.747947\n",
       "dtype: float64"
      ]
     },
     "execution_count": 18,
     "metadata": {},
     "output_type": "execute_result"
    }
   ],
   "source": [
    "sum_true_values # note that these values do not match the actual counts we have - these needs to be properly normalized\n",
    "# We need to write out the code for proper normalization"
   ]
  },
  {
   "cell_type": "code",
   "execution_count": 19,
   "id": "e67dab1e-b8a2-4430-96cd-94a2f2e2386e",
   "metadata": {},
   "outputs": [],
   "source": [
    "# below is the code from previous work. we need to normalize both true and forecasted counts"
   ]
  },
  {
   "cell_type": "code",
   "execution_count": null,
   "id": "a346a559-4e7a-471b-a8c2-0c245e5f8e81",
   "metadata": {},
   "outputs": [],
   "source": [
    "# define a function to get the post-hoc prediction\n",
    "def prediction_on_test_data(model, numpy_folder, v_stack_folder, selected_file, stride = 8, kernel_size = 32):\n",
    "#     load the cnn model\n",
    "    \n",
    "# load the image data file\n",
    "    load_image = np.load(numpy_folder + \"/\"+ selected_file)\n",
    "    \n",
    "    # get the image height\n",
    "    img_height = load_image.shape[0]\n",
    "    # get the image weight\n",
    "    img_width = load_image.shape[1]\n",
    "\n",
    "    selected_stacked_file = 'test_ims_' + selected_file\n",
    "    all_test_sub_windows = np.load(v_stack_folder + \"/\"+ selected_stacked_file)\n",
    "\n",
    "    # now, to get the predictions, pass the sub windows\n",
    "    test_image_prediction = model.predict(all_test_sub_windows)\n",
    "    \n",
    "    # density map\n",
    "    Density_map = np.zeros((img_height, img_width))\n",
    "\n",
    "    # counts map\n",
    "    counts_map = np.zeros((img_height, img_width))\n",
    "    \n",
    "    # now, for every window, we will keep adding the values together and also add the counts\n",
    "    counter = 0\n",
    "#     need a counter to move into each predicted value in the pred values list\n",
    "    for ii in range(0, img_height, stride):\n",
    "        for jj in range(0, img_width, stride):\n",
    "#         operations for density map\n",
    "#             get the window of interest\n",
    "            new_window = Density_map[ii:ii + kernel_size,jj:jj+kernel_size]\n",
    "#     fill each with the value c_k\n",
    "            counts_window = np.full((new_window.shape[0], new_window.shape[1]), test_image_prediction[counter])\n",
    "#     get the shapes of this new window\n",
    "            cw_height = counts_window.shape[0]\n",
    "            cw_width = counts_window.shape[1]\n",
    "#         Do c_k/r_2\n",
    "            counts_window_new = counts_window/(cw_height*cw_width)\n",
    "#     This is the value in the window now\n",
    "            value_window = counts_window_new\n",
    "#     place the values in the corrsponding area of the density map\n",
    "            Density_map[ii:ii + kernel_size,jj:jj+kernel_size] = new_window + value_window\n",
    "\n",
    "#         Let's now focus on capturing the counts of the windows\n",
    "            new_window_c = counts_map[ii:ii + kernel_size,jj:jj+kernel_size]\n",
    "#     get the counts area\n",
    "            count = np.ones((new_window_c.shape[0], new_window_c.shape[1]))\n",
    "#     keep adding the counts to reflect the addition of densities\n",
    "            counts_map[ii:ii + kernel_size,jj:jj+kernel_size] = new_window_c + count\n",
    "#     increase the counter\n",
    "            counter = counter + 1\n",
    "            \n",
    "#         get the normalized count\n",
    "    normalized_counts = np.divide(Density_map, counts_map)\n",
    "    \n",
    "#     entire count on the test set\n",
    "    pred_on_test = np.sum(normalized_counts)\n",
    "    \n",
    "#     return the predicted value\n",
    "    return(pred_on_test, normalized_counts, selected_file)"
   ]
  },
  {
   "cell_type": "code",
   "execution_count": null,
   "id": "36b63781-817e-4608-91e3-c59f6ab8aa00",
   "metadata": {},
   "outputs": [],
   "source": []
  },
  {
   "cell_type": "code",
   "execution_count": null,
   "id": "936ab7fb-44b9-4aa8-b148-a5f81d6012ed",
   "metadata": {},
   "outputs": [],
   "source": []
  },
  {
   "cell_type": "code",
   "execution_count": null,
   "id": "94858691-e742-428f-9f52-771662e4a622",
   "metadata": {},
   "outputs": [],
   "source": []
  },
  {
   "cell_type": "code",
   "execution_count": null,
   "id": "05abf54e-e08b-4cfa-82ec-c27a3d73e0dc",
   "metadata": {},
   "outputs": [],
   "source": []
  },
  {
   "cell_type": "code",
   "execution_count": null,
   "id": "1eecd0d2-0790-4651-9e62-194412f05056",
   "metadata": {},
   "outputs": [],
   "source": []
  },
  {
   "cell_type": "code",
   "execution_count": null,
   "id": "7f4f1b8d-1552-4abf-8382-e45e7fec931f",
   "metadata": {},
   "outputs": [],
   "source": []
  },
  {
   "cell_type": "code",
   "execution_count": null,
   "id": "2ec60647-306e-475e-8678-66201a6f245e",
   "metadata": {},
   "outputs": [],
   "source": []
  },
  {
   "cell_type": "code",
   "execution_count": null,
   "id": "a516e483-354a-4c8f-b9b8-d464a6e7c216",
   "metadata": {},
   "outputs": [],
   "source": [
    "# get the forecasted values\n",
    "Forecasted_values_df = combined_df[['Forecasted_value']]"
   ]
  },
  {
   "cell_type": "code",
   "execution_count": null,
   "id": "ea17d667-b9de-4625-9a95-576446a115a9",
   "metadata": {},
   "outputs": [],
   "source": [
    "Forecasted_values_df"
   ]
  },
  {
   "cell_type": "code",
   "execution_count": null,
   "id": "a52bb5de-a241-49a4-b6ab-4702fda67c15",
   "metadata": {},
   "outputs": [],
   "source": [
    "Forecasted_values_df.shape"
   ]
  },
  {
   "cell_type": "code",
   "execution_count": null,
   "id": "2e90c508-5b8b-4983-aac2-5c35f189baea",
   "metadata": {},
   "outputs": [],
   "source": [
    "sum_forecasted_values = Forecasted_values_df.sum(axis = 1)"
   ]
  },
  {
   "cell_type": "code",
   "execution_count": null,
   "id": "2f240410-e460-4b15-a1cc-f187ad58adcb",
   "metadata": {},
   "outputs": [],
   "source": [
    "sum_forecasted_values"
   ]
  },
  {
   "cell_type": "code",
   "execution_count": null,
   "id": "d39a2bff-50da-4a8c-a839-6fdc59464541",
   "metadata": {},
   "outputs": [],
   "source": [
    "# concatenate the sum dataframes\n",
    "block_0106_true_and_forecasted_values_df = pd.concat((sum_true_values, sum_forecasted_values), axis = 1)"
   ]
  },
  {
   "cell_type": "code",
   "execution_count": null,
   "id": "ece45dcf-d266-403a-a712-cfebeabbb81b",
   "metadata": {},
   "outputs": [],
   "source": [
    "block_0106_true_and_forecasted_values_df.columns = [\"True_count\", \"Forecasted_count\"]"
   ]
  },
  {
   "cell_type": "code",
   "execution_count": null,
   "id": "2e898fe4-6a0b-4496-a6a0-b8168adafc3a",
   "metadata": {},
   "outputs": [],
   "source": [
    "block_0106_true_and_forecasted_values_df"
   ]
  },
  {
   "cell_type": "code",
   "execution_count": null,
   "id": "bca68bdf-e1d6-47a8-9896-6d78365c5fd9",
   "metadata": {},
   "outputs": [],
   "source": [
    "block_0106_true_and_forecasted_values_df.to_csv(\"final_forecasted_counts/block_0106_finals_forecasts.csv\", index = False)"
   ]
  },
  {
   "cell_type": "code",
   "execution_count": null,
   "id": "fdad64dc-eef9-4934-ab51-0239358d5856",
   "metadata": {},
   "outputs": [],
   "source": [
    "# # well we need to verify that the above true values are indeed correct\n",
    "# from preprocess script we have the following counts\n",
    "# [43, 49, 53, 59, 45, 42, 34, 39, 37, 43, 41, 39, 43, 40, 39, 41, 31, 32, 40, 29] # the last seven numbers match with what we have."
   ]
  },
  {
   "cell_type": "code",
   "execution_count": null,
   "id": "c82cb6b5-096c-41cc-92d9-1819ba35bab3",
   "metadata": {},
   "outputs": [],
   "source": [
    "# blockwise mean squared error\n",
    "rmse = np.sqrt(mean_squared_error(sum_true_values, sum_forecasted_values))\n",
    "rmse"
   ]
  },
  {
   "cell_type": "code",
   "execution_count": null,
   "id": "574aea69-e6c6-439b-bb28-5fac882283d3",
   "metadata": {},
   "outputs": [],
   "source": [
    "# blockwise mean absolute error\n",
    "mae = mean_absolute_error(sum_true_values, sum_forecasted_values)\n",
    "mae"
   ]
  },
  {
   "cell_type": "code",
   "execution_count": null,
   "id": "a51b5447-2294-4a41-b10e-eb527ff2c2a6",
   "metadata": {},
   "outputs": [],
   "source": [
    "corr = pearsonr(sum_true_values, sum_forecasted_values)\n",
    "corr"
   ]
  },
  {
   "cell_type": "code",
   "execution_count": null,
   "id": "9c64f574-9dd0-466b-b037-130d6cb3dce3",
   "metadata": {},
   "outputs": [],
   "source": [
    "# May be define a function for this, so that it will be easier to get the forecasted dataframes for all blocks"
   ]
  },
  {
   "cell_type": "code",
   "execution_count": null,
   "id": "0ebf338b-e1c0-4fba-a7ab-8512c98d9939",
   "metadata": {},
   "outputs": [],
   "source": [
    "# we need first the path to dfs per block\n",
    "def get_final_forecasted_dfs(path_to_dfs_in_block, block_name, true_values_col_name, forecasted_values_col_name, forecast_path):\n",
    "    # get the csv files that have the averaged \n",
    "    average_frcts_csv_files = [file for file in os.listdir(path_to_dfs_in_block) if file[:8] == 'averaged']\n",
    "    # sort these files\n",
    "    average_frcts_csv_files.sort()\n",
    "    # get the later images to the end of the list\n",
    "    csv_files_10_11 = ['averaged_forecasts_sub_10.csv', 'averaged_forecasts_sub_11.csv']\n",
    "    # remove these from the total list\n",
    "    other_files = [i for i in average_frcts_csv_files if i not in csv_files_10_11]\n",
    "    # add the csv files in order\n",
    "    ordered_csv_files = other_files + csv_files_10_11\n",
    "    # print the ordered list of csv files\n",
    "    print(ordered_csv_files)\n",
    "    # read and append the list of the dfs\n",
    "    all_dfs = [pd.read_csv(path_to_dfs_in_block + '/' + df) for df in ordered_csv_files]\n",
    "    # combine all these dfs together\n",
    "    combined_df = pd.concat(all_dfs, axis = 1)\n",
    "    print(combined_df.shape)\n",
    "    # extract the true value columns only across the sub-images\n",
    "    True_counts_df = combined_df[[true_values_col_name]]\n",
    "    # sum the true values dfs\n",
    "    total_true_values = True_counts_df.sum(axis = 1)\n",
    "    # print these true values for later comparisons\n",
    "    print(total_true_values)\n",
    "    # extract the true value columns across sub images\n",
    "    Forecasted_counts_df = combined_df[[forecasted_values_col_name]]\n",
    "    # sum the forecasted values\n",
    "    total_forecasted_values = Forecasted_counts_df.sum(axis = 1)\n",
    "    # concatenate the sum dataframes\n",
    "    true_and_forecasted_values_df = pd.concat((total_true_values, total_forecasted_values), axis = 1)\n",
    "    # add column titles to the df\n",
    "    true_and_forecasted_values_df.columns = [\"True_count\", \"Forecasted_count\"]\n",
    "    # save this file\n",
    "    file_name = forecast_path + '/' + block_name + '.csv'\n",
    "    true_and_forecasted_values_df.to_csv(file_name, index = False)\n",
    "    # blockwise mean squared error\n",
    "    rmse = np.sqrt(mean_squared_error(total_true_values, total_forecasted_values))\n",
    "    # blockwise mae\n",
    "    mae = mean_absolute_error(total_true_values, total_forecasted_values)\n",
    "\n",
    "    return(true_and_forecasted_values_df, rmse, mae,ordered_csv_files)"
   ]
  },
  {
   "cell_type": "code",
   "execution_count": null,
   "id": "33fbacb2-2aa9-427f-ab50-fcbb42801a40",
   "metadata": {},
   "outputs": [],
   "source": [
    "# see if the function works\n",
    "df, rmse_0106, mae_0106, ordered_files_0106 = get_final_forecasted_dfs(path_to_dfs, 'block_0106', 'True_value', 'Forecasted_value', 'final_forecasted_counts')"
   ]
  },
  {
   "cell_type": "code",
   "execution_count": null,
   "id": "cb73647d-17d4-4e7a-af87-587b7ab4697f",
   "metadata": {},
   "outputs": [],
   "source": [
    "df"
   ]
  },
  {
   "cell_type": "code",
   "execution_count": null,
   "id": "840f4278-f7ce-49c4-bec6-4bef81852faa",
   "metadata": {},
   "outputs": [],
   "source": [
    "rmse_0106"
   ]
  },
  {
   "cell_type": "code",
   "execution_count": null,
   "id": "cafca5c1-b8e2-492b-b939-225fda30f2a9",
   "metadata": {},
   "outputs": [],
   "source": [
    "mae_0106"
   ]
  },
  {
   "cell_type": "code",
   "execution_count": null,
   "id": "5869d4df-b5da-463e-a86b-30de60f04b79",
   "metadata": {},
   "outputs": [],
   "source": [
    "ordered_files_0106"
   ]
  },
  {
   "cell_type": "code",
   "execution_count": null,
   "id": "1f46179d-710d-4f08-87f4-93c5a59f0fb7",
   "metadata": {},
   "outputs": [],
   "source": [
    "# Getting the coverages and the widths for the forecasted values - This can be done with the saved all forecasts npy files\n",
    "# location for the forecast files (all forecasts)\n",
    "location_all_forecasts = 'forecasted_counts/block_0106'\n",
    "\n",
    "# contents at this location\n",
    "all_contents = os.listdir(location_all_forecasts)\n",
    "all_contents.sort()"
   ]
  },
  {
   "cell_type": "code",
   "execution_count": null,
   "id": "531f8e8c-e002-45de-8d32-6a4d78439a19",
   "metadata": {},
   "outputs": [],
   "source": [
    "# we need the npy files for all forecasts\n",
    "all_forecast_files = [file for file in all_contents if file[:3] == 'all']"
   ]
  },
  {
   "cell_type": "code",
   "execution_count": null,
   "id": "6971d19b-7cf3-40a6-8026-c2992188f5fb",
   "metadata": {},
   "outputs": [],
   "source": [
    "# arange the files in order\n",
    "later_npy_files = ['all_forecasts_sub_10.npy', 'all_forecasts_sub_11.npy']\n",
    "first_files = [file for file in all_forecast_files if file not in later_npy_files]"
   ]
  },
  {
   "cell_type": "code",
   "execution_count": null,
   "id": "5c8db109-fa2f-48b8-b699-3973f6f259bb",
   "metadata": {},
   "outputs": [],
   "source": [
    "final_all_forecast_files = first_files + later_npy_files"
   ]
  },
  {
   "cell_type": "code",
   "execution_count": null,
   "id": "71c2e5e0-57a1-487f-97ae-fe14edff435f",
   "metadata": {},
   "outputs": [],
   "source": [
    "loaded_npy_files = []\n",
    "for file in final_all_forecast_files:\n",
    "    joined_path = os.path.join(location_all_forecasts, file)\n",
    "    load_file = np.load(joined_path)\n",
    "    loaded_npy_files.append(load_file)"
   ]
  },
  {
   "cell_type": "code",
   "execution_count": null,
   "id": "f1412dc1-4d19-4fe5-8eb4-71ea21313a96",
   "metadata": {},
   "outputs": [],
   "source": [
    "len(loaded_npy_files)"
   ]
  },
  {
   "cell_type": "code",
   "execution_count": null,
   "id": "68455131-2710-402d-88e1-00bb40ef7bbf",
   "metadata": {},
   "outputs": [],
   "source": [
    "output = sum(loaded_npy_files)"
   ]
  },
  {
   "cell_type": "code",
   "execution_count": null,
   "id": "904c78d8-b419-4733-b104-cfe4ece3d8f8",
   "metadata": {},
   "outputs": [],
   "source": [
    "output.shape"
   ]
  },
  {
   "cell_type": "code",
   "execution_count": null,
   "id": "660e2d50-ad84-4be0-a07f-784f71b2cf70",
   "metadata": {},
   "outputs": [],
   "source": [
    "final_array = output.reshape(4000,7)"
   ]
  },
  {
   "cell_type": "code",
   "execution_count": null,
   "id": "ad3a472a-a81a-4ac6-92ca-7c57b3ff0138",
   "metadata": {},
   "outputs": [],
   "source": [
    "final_array"
   ]
  },
  {
   "cell_type": "code",
   "execution_count": null,
   "id": "99e9934e-1992-447d-b7f4-1c1006af1c7c",
   "metadata": {},
   "outputs": [],
   "source": [
    "li_train = np.percentile(final_array, axis = 0, q = (2.5, 97.5))[0,:].reshape(-1,1)    \n",
    "ui_train = np.percentile(final_array, axis = 0, q = (2.5, 97.5))[1,:].reshape(-1,1)"
   ]
  },
  {
   "cell_type": "code",
   "execution_count": null,
   "id": "9e74fa7e-b298-4f54-a9b2-9c56dc629fcb",
   "metadata": {},
   "outputs": [],
   "source": [
    "li_train"
   ]
  },
  {
   "cell_type": "code",
   "execution_count": null,
   "id": "18a79041-8b56-46d0-8258-cfd42d010716",
   "metadata": {},
   "outputs": [],
   "source": [
    "ui_train"
   ]
  },
  {
   "cell_type": "code",
   "execution_count": null,
   "id": "d6a49f50-f110-4291-b8bd-60bd23d22b66",
   "metadata": {},
   "outputs": [],
   "source": [
    "width_train = ui_train - li_train\n",
    "avg_width_train = width_train.mean(0)[0]"
   ]
  },
  {
   "cell_type": "code",
   "execution_count": null,
   "id": "779b45d0-cb9f-45e7-8ff5-96dfc86823c6",
   "metadata": {},
   "outputs": [],
   "source": [
    "avg_width_train"
   ]
  },
  {
   "cell_type": "code",
   "execution_count": null,
   "id": "bdd312c8-54da-4ee1-83ea-4eb810720389",
   "metadata": {},
   "outputs": [],
   "source": [
    "y_traina = block_0106_true_and_forecasted_values_df[[\"True_count\"]].values"
   ]
  },
  {
   "cell_type": "code",
   "execution_count": null,
   "id": "82a9df16-15ce-4cbc-8adf-da69a42379ce",
   "metadata": {},
   "outputs": [],
   "source": [
    "ind_train = (y_traina >= li_train) & (y_traina <= ui_train)\n",
    "coverage_train= ind_train.mean(0)[0]"
   ]
  },
  {
   "cell_type": "code",
   "execution_count": null,
   "id": "35ad80c2-95f8-4360-b658-f0a205295177",
   "metadata": {},
   "outputs": [],
   "source": [
    "coverage_train"
   ]
  },
  {
   "cell_type": "markdown",
   "id": "0e96fe53-c382-4e4d-a6cf-46d180fbdf03",
   "metadata": {},
   "source": [
    "Verify the true counts we have for the test data are indeed correct"
   ]
  },
  {
   "cell_type": "code",
   "execution_count": null,
   "id": "0c8aba1e-e9cd-4435-9999-a405bae32a0e",
   "metadata": {},
   "outputs": [],
   "source": [
    "# Verify the true counts - from np arrays - location Block_0103/sub_images_and_counts\n",
    "\n",
    "sub_count_loc = 'all_preprocessed_data/Block_0106/sub_images_and_counts'"
   ]
  },
  {
   "cell_type": "code",
   "execution_count": null,
   "id": "d015ac14-3c7c-47c5-abc9-9c0e7e89ad9a",
   "metadata": {},
   "outputs": [],
   "source": [
    "sub_density_maps = [i for i in os.listdir(sub_count_loc) if i.split(\".\")[0][-7:] == 'density']\n",
    "sub_density_maps.sort()"
   ]
  },
  {
   "cell_type": "code",
   "execution_count": null,
   "id": "77aa955b-e84e-4bbe-b854-6d04add2ed33",
   "metadata": {},
   "outputs": [],
   "source": [
    "# get the test dates\n",
    "test_time_periods = ['2020_08_26', '2020_08_27', '2020_08_28' ,'2020_08_31', '2020_09_02', '2020_09_07', '2020_09_16']"
   ]
  },
  {
   "cell_type": "code",
   "execution_count": null,
   "id": "4636b0bc-1590-4756-b86b-608620e1b521",
   "metadata": {},
   "outputs": [],
   "source": [
    "test_time_periods = ['Block0106_' + i for i in test_time_periods]"
   ]
  },
  {
   "cell_type": "code",
   "execution_count": null,
   "id": "5d92a668-24cd-430c-9637-94714da361b2",
   "metadata": {},
   "outputs": [],
   "source": [
    "# print the test dates\n",
    "test_time_periods"
   ]
  },
  {
   "cell_type": "code",
   "execution_count": null,
   "id": "d9b8161c-f03c-4f07-8e94-7397626efdf6",
   "metadata": {},
   "outputs": [],
   "source": [
    "# get the density maps for these days only for the computation of the total true counts of the test images\n",
    "test_density_maps = [i for i in sub_density_maps if i[:20] in test_time_periods]\n",
    "test_density_maps.sort()"
   ]
  },
  {
   "cell_type": "code",
   "execution_count": null,
   "id": "0fd6b163-8f24-469a-9ad4-0ea219dcb23a",
   "metadata": {},
   "outputs": [],
   "source": [
    "%%time\n",
    "# get the true counts\n",
    "true_counts_in_order = []\n",
    "step = 0\n",
    "# we have only seven time points\n",
    "for u in range(7):\n",
    "    catch_counts = []\n",
    "    # for each time steps we have 12 images, and since the sub windows are not overlapping we can add the values straightaway eben without sorting\n",
    "    for j in range(step, step + 12):\n",
    "        total_count = np.sum(np.load(os.path.join(sub_count_loc, test_density_maps[j])))\n",
    "        catch_counts.append(total_count)\n",
    "    true_counts_in_order.append(np.sum(catch_counts))\n",
    "    step = step + 12"
   ]
  },
  {
   "cell_type": "code",
   "execution_count": null,
   "id": "f943ed9e-52f6-4d1e-9baa-a1b987a8c581",
   "metadata": {},
   "outputs": [],
   "source": [
    "true_counts_in_order"
   ]
  },
  {
   "cell_type": "code",
   "execution_count": null,
   "id": "30df4fea-11dc-429a-860f-137595b16645",
   "metadata": {},
   "outputs": [],
   "source": [
    "df[['True_count']].values.flatten()"
   ]
  },
  {
   "cell_type": "code",
   "execution_count": null,
   "id": "8c262f1a-0ba3-45b8-8a0e-7badd89a61df",
   "metadata": {},
   "outputs": [],
   "source": [
    "# see if the two values we get match "
   ]
  },
  {
   "cell_type": "code",
   "execution_count": null,
   "id": "670e1295-1b80-4b32-a02d-2348a931f508",
   "metadata": {},
   "outputs": [],
   "source": [
    "np.mean(np.round(true_counts_in_order, 0) == np.round(df[['True_count']].values.flatten(), 0))"
   ]
  }
 ],
 "metadata": {
  "kernelspec": {
   "display_name": "Python (tfp_env_TN_CPU)",
   "language": "python",
   "name": "tfp_env_tn_cpu"
  },
  "language_info": {
   "codemirror_mode": {
    "name": "ipython",
    "version": 3
   },
   "file_extension": ".py",
   "mimetype": "text/x-python",
   "name": "python",
   "nbconvert_exporter": "python",
   "pygments_lexer": "ipython3",
   "version": "3.11.7"
  }
 },
 "nbformat": 4,
 "nbformat_minor": 5
}
