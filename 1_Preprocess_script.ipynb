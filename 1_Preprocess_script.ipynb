{
 "cells": [
  {
   "cell_type": "code",
   "execution_count": null,
   "id": "a8d5060a-b9ef-4b9d-b444-f73fc6302431",
   "metadata": {},
   "outputs": [],
   "source": [
    "import numpy as np\n",
    "import pandas as pd\n",
    "import matplotlib.pyplot as plt\n",
    "import tensorflow as tf\n",
    "import os\n",
    "from scipy import ndimage\n",
    "import xml.etree.ElementTree as ET\n",
    "import cv2\n",
    "import warnings\n",
    "from skimage.transform import resize"
   ]
  },
  {
   "cell_type": "code",
   "execution_count": null,
   "id": "56aa1267-8332-4578-acc5-118ae88c95e8",
   "metadata": {},
   "outputs": [],
   "source": [
    "# check for GPU\n",
    "tf.config.list_physical_devices(\"GPU\")"
   ]
  },
  {
   "cell_type": "markdown",
   "id": "d17d34e5-06c5-4c8f-8e31-8a95e976ac27",
   "metadata": {},
   "source": [
    "A function to create non-overlapping sub images and respcetive density counts"
   ]
  },
  {
   "cell_type": "code",
   "execution_count": null,
   "id": "8c93dcc9-3bee-4a28-b1a6-6a828228b43a",
   "metadata": {},
   "outputs": [],
   "source": [
    "# Steps\n",
    "\n",
    "# 1. need to read the images\n",
    "# 2. create the non-overlapping subwindows for the images\n",
    "# 3. create the density maps\n",
    "# 4. non-overlapping counts\n",
    "\n",
    "# Let's create functions for all these, so that it would be easy to prepocess the data"
   ]
  },
  {
   "cell_type": "code",
   "execution_count": null,
   "id": "0f0e9f0d-ca64-4650-8122-17135b7df27d",
   "metadata": {},
   "outputs": [],
   "source": [
    "# We will avoid the blocks on which the model was trained and validated - 101, 102, 203, 301, 204"
   ]
  },
  {
   "cell_type": "code",
   "execution_count": null,
   "id": "6599fe22-c343-43c9-9b0e-4cba2b5a3d7d",
   "metadata": {},
   "outputs": [],
   "source": [
    "# Let's do this first with block 0103"
   ]
  },
  {
   "cell_type": "code",
   "execution_count": null,
   "id": "ca9b92ca-7f60-4a32-9f3f-ce1b8b39edd5",
   "metadata": {},
   "outputs": [],
   "source": [
    "# Some of these maybe generic - but some may need to be written specifically to some images in the blocks"
   ]
  },
  {
   "cell_type": "code",
   "execution_count": null,
   "id": "6ab43c77-35c1-4af3-87bc-d337f2eb4316",
   "metadata": {},
   "outputs": [],
   "source": [
    "# Most images are vertical and horizontal, let's go with that"
   ]
  },
  {
   "cell_type": "code",
   "execution_count": null,
   "id": "9f24e222-2722-4d70-bdf1-5a45df20bfbc",
   "metadata": {},
   "outputs": [],
   "source": [
    "# separate the xml and image files\n",
    "def separate_images_and_xml(location_to_contents):\n",
    "    all_contents = os.listdir(location_to_contents)\n",
    "    all_contents.sort()\n",
    "\n",
    "    all_images = []\n",
    "    all_xmls = []\n",
    "    for item in all_contents:\n",
    "        if item.split(\".\")[-1] == 'xml':\n",
    "            all_xmls.append(item)\n",
    "        else:\n",
    "            all_images.append(item)\n",
    "\n",
    "    return all_images, all_xmls"
   ]
  },
  {
   "cell_type": "code",
   "execution_count": null,
   "id": "add75419-3a77-4aa8-ac7f-548c478b3dad",
   "metadata": {},
   "outputs": [],
   "source": [
    "# okay, what's next?\n",
    "# may be separating the annotated and not annotated images?\n",
    "def separate_annotated_and_not(image_list, xml_list):\n",
    "    annotated_images = []\n",
    "    not_annotated_images = []\n",
    "    for item in image_list:\n",
    "        if item.split('.')[0] + '.xml' in xml_list:\n",
    "            annotated_images.append(item)\n",
    "        else:\n",
    "            not_annotated_images.append(item)\n",
    "\n",
    "    return(annotated_images, not_annotated_images) "
   ]
  },
  {
   "cell_type": "code",
   "execution_count": null,
   "id": "08c958e2-4f17-4d3a-9abf-5970fa8b7b1b",
   "metadata": {},
   "outputs": [],
   "source": [
    "# separate the vertical and horizontal annotated images - This is the easiest way to go - this might be a problem in blocks 3 though, be careful.\n",
    "\n",
    "def separate_annnot_vertical_horizontal(annotated_images, all_xml_files, n):\n",
    "    annotated_images.sort()\n",
    "    all_xml_files.sort()\n",
    "    print(len(annotated_images), len(all_xml_files))\n",
    "    annot_vertical_images = annotated_images[:n]\n",
    "    annot_vertical_xmls = all_xml_files[:n]\n",
    "    annot_horizontal_images = annotated_images[n:]\n",
    "    annot_horizontal_xmls = all_xml_files[n:]\n",
    "    return(annot_vertical_images, annot_vertical_xmls, annot_horizontal_images, annot_horizontal_xmls)"
   ]
  },
  {
   "cell_type": "code",
   "execution_count": null,
   "id": "e31d85b5-b50d-44fb-b4a9-c8349ab52468",
   "metadata": {},
   "outputs": [],
   "source": [
    "# define a check function to make sure the image and xml file names match and are in order\n",
    "def check_matching(im_list, xml_list):\n",
    "    im_list.sort()\n",
    "    xml_list.sort()\n",
    "    im_names = [im.split('.')[0] for im in im_list]\n",
    "    xml_names = [xml.split('.')[0] for xml in xml_list]\n",
    "    print(im_names == xml_names)"
   ]
  },
  {
   "cell_type": "markdown",
   "id": "444a8d3b-2235-4dbd-b570-42e5f93f717d",
   "metadata": {},
   "source": [
    "##### Note here that since our subwindows need to make sense sequantially, it does not make sense to inlcude both vertical and horizontal images. Let's only pick the horizontal images, and let's do the forthcoming manipulations only for the horizontal images"
   ]
  },
  {
   "cell_type": "code",
   "execution_count": null,
   "id": "42656108-7dd0-4ce4-9b22-599b171b0866",
   "metadata": {},
   "outputs": [],
   "source": [
    "# create density maps for the horizontally annotated images\n",
    "def get_density_maps_horizontal(file_name, im_xml_path):\n",
    "    xml_file = file_name + '.xml'\n",
    "    xml_file_path = os.path.join(im_xml_path, xml_file)\n",
    "\n",
    "    # Get coords from the xml file\n",
    "    # parse the xml file\n",
    "    parsed_file = ET.parse(xml_file_path)\n",
    "    # get the roots\n",
    "    root = parsed_file.getroot()\n",
    "    # get the roots here\n",
    "    coords = []\n",
    "    for child in root:\n",
    "        for i in child:\n",
    "            for j in i:\n",
    "                coords.append(int(j.text))\n",
    "    \n",
    "    # chunk the points into sets of 4 - these are the coordinates of the bounding boxes\n",
    "    points_tupples = []\n",
    "    for i in range(0, len(coords), 4):\n",
    "        points_tupples.append(coords[i:i + 4])\n",
    "\n",
    "    # make a dataframe with these points\n",
    "    coords_df = pd.DataFrame(points_tupples, columns = [\"bleft_x\", \"bleft_y\", \"tright_x\", \"tright_y\"])\n",
    "\n",
    "    # compute the number of tassels in each image\n",
    "    no_of_tassels = len(points_tupples)\n",
    "\n",
    "    # compute the mid coordinates\n",
    "    coords_df[\"mid_x\"] = (round(0.5*(coords_df[\"bleft_x\"] + coords_df[\"tright_x\"]))).astype(int)\n",
    "    coords_df[\"mid_y\"] = (round(0.5*(coords_df[\"bleft_y\"] + coords_df[\"tright_y\"]))).astype(int)\n",
    "\n",
    "    # extract the mid cordinates\n",
    "    mid_coords = coords_df[[\"mid_x\", \"mid_y\"]]\n",
    "    # cap the coords at the max height and width values\n",
    "    mid_coords.loc[mid_coords['mid_x'] > 1024, 'mid_x'] = 1023\n",
    "    mid_coords.loc[mid_coords['mid_y'] > 768, 'mid_y'] = 767\n",
    "    warnings.filterwarnings(\"ignore\")\n",
    "\n",
    "    # plot the bounding boxes on images\n",
    "    # get image name and path - what if we give this the original image path instead of the npy location - because we really do not need the npy files for the exercise\n",
    "    image_name = file_name + '.jpeg'\n",
    "    print(image_name)\n",
    "    imge_file_path = os.path.join(im_xml_path, image_name)\n",
    "    # read the image\n",
    "    read_image = plt.imread(imge_file_path)\n",
    "    read_image = ndimage.rotate(read_image, 0)\n",
    "    # check the shape of the read image\n",
    "    read_image_shape = read_image.shape\n",
    "    #  plot the bounding boxes on the image\n",
    "    for points in points_tupples:\n",
    "        annotated_image = cv2.rectangle(read_image, (points[0],points[1]), (points[2],points[3]), color = (255,0,0), thickness = 2)\n",
    "    # plt.figure(figsize = (12,18))\n",
    "    plt.imshow(annotated_image)\n",
    "    plt.show()\n",
    "\n",
    "    # plot the mid points on the image\n",
    "    coords_list = mid_coords.values.tolist()\n",
    "    # read the image again\n",
    "    read_image_again = plt.imread(imge_file_path)\n",
    "    read_image_again = ndimage.rotate(read_image_again, 0)\n",
    "    # draw the circles on image\n",
    "    for i in coords_list:\n",
    "        image_with_mids = cv2.circle(read_image_again, i, radius=5, color=(255, 0, 0), thickness=-1)\n",
    "    # look at the annotated image\n",
    "    # plt.figure(figsize = (12,18))\n",
    "    plt.imshow(image_with_mids)\n",
    "    plt.show()\n",
    "\n",
    "    # also try creating the density map here\n",
    "    # first create the empty maps\n",
    "    np_image = np.zeros((read_image_shape[0], read_image_shape[1]))\n",
    "    # get the dot maps\n",
    "    for point in coords_list:\n",
    "        np_image[point[1], point[0]] = 1\n",
    "    # plot the image\n",
    "    # plt.figure(figsize = (12,18))\n",
    "    plt.imshow(np_image, cmap = \"Greys\")\n",
    "    plt.show()\n",
    "\n",
    "    # now define the kernel and run the convolution\n",
    "    one_d_kerenel = cv2.getGaussianKernel(50,5)\n",
    "    two_d_kernel = np.multiply(one_d_kerenel.T, one_d_kerenel)\n",
    "\n",
    "    # Shape of the 2D kernel\n",
    "    twoD_shape = two_d_kernel.shape\n",
    "        \n",
    "    # do the convolution\n",
    "    convolution = ndimage.convolve(np_image, two_d_kernel)\n",
    "        \n",
    "    # plot the density map\n",
    "    # plt.figure(figsize = (12,18))\n",
    "    plt.imshow(convolution, cmap = \"Greys\")\n",
    "    plt.show()\n",
    "        \n",
    "    # get the sums of the images\n",
    "    img_sum = np.sum(convolution)\n",
    "\n",
    "    # # save the density map - and maybe not needed to save the density map?\n",
    "    # np.save(save_density_path + '/' + file_name + '_density_map.npy', convolution)\n",
    "\n",
    "    return(file_name, read_image_shape, no_of_tassels, img_sum, convolution)"
   ]
  },
  {
   "cell_type": "code",
   "execution_count": null,
   "id": "d07bc3ae-fac9-4de9-97e5-4f03f3a14c85",
   "metadata": {},
   "outputs": [],
   "source": [
    "def create_subwindows_and_counts(im_folder_loc, image_name, conv_map, save_folder_name, stride = 300, kernel_size = 300):\n",
    "    im_name = image_name + '.jpeg'\n",
    "    joined_im_path = os.path.join(im_folder_loc, im_name)\n",
    "    # load the image and the count numpy files\n",
    "    loaded_im_file = plt.imread(joined_im_path)\n",
    "        \n",
    "    # create the subwindows and counts as follows\n",
    "    img_height = loaded_im_file.shape[0]\n",
    "    img_width = loaded_im_file.shape[1]\n",
    "    \n",
    "    density_sums = []\n",
    "    catch_sub_image_name = []\n",
    "    catch_dense_name = []\n",
    "    sub_image_shapes = []\n",
    "    sub_count_shapes = []\n",
    "    counter = 0\n",
    "    for i in  range(0, img_height, stride):\n",
    "        for j in range(0, img_width, stride):\n",
    "            sub_window = loaded_im_file[i: i + kernel_size, j : j + kernel_size,:]\n",
    "            # resize the subwindow - for 300*300\n",
    "            sub_window = resize(sub_window, (300, 300,3))\n",
    "            sub_image_shapes.append(sub_window.shape)\n",
    "            # save the sub window? \n",
    "            sub_window_name = image_name + '_' + str(counter) + '.npy'\n",
    "            save_subwindow_path = save_folder_name + '/' + sub_window_name\n",
    "            np.save(save_subwindow_path, sub_window)\n",
    "            catch_sub_image_name.append(sub_window_name)\n",
    "            \n",
    "            density = conv_map[i: i + kernel_size, j : j + kernel_size]\n",
    "            sub_count_shapes.append(density.shape)\n",
    "            dense_sum = np.sum(density)\n",
    "            density_sums.append(dense_sum)\n",
    "            # save density?\n",
    "            density_name = image_name + '_' + str(counter) + '_density.npy'\n",
    "            catch_dense_name.append(density_name)\n",
    "            save_density_path = save_folder_name + '/' + density_name\n",
    "            np.save(save_density_path, density)\n",
    "            counter += 1\n",
    "\n",
    "    # save the combined subwindows and counts\n",
    "    return(catch_sub_image_name, catch_dense_name, density_sums, sub_image_shapes, sub_count_shapes)"
   ]
  },
  {
   "cell_type": "markdown",
   "id": "9c8e80cf-0ad8-4028-ab1b-45626dfd65cc",
   "metadata": {},
   "source": [
    "Block 0103"
   ]
  },
  {
   "cell_type": "code",
   "execution_count": null,
   "id": "61635fc5-872f-4f95-9cca-7978b6e37bd6",
   "metadata": {},
   "outputs": [],
   "source": [
    "# test the funciton\n",
    "path_to_contents = \"../../S_lab_TasselNet/Block_3_TN/Block_3_images_and_xml\""
   ]
  },
  {
   "cell_type": "code",
   "execution_count": null,
   "id": "f27aadf5-57a4-4766-96c6-f8b4f9b6c97e",
   "metadata": {},
   "outputs": [],
   "source": [
    "all_ims_1, all_xmls_1 = separate_images_and_xml(path_to_contents)"
   ]
  },
  {
   "cell_type": "code",
   "execution_count": null,
   "id": "333543e4-0c13-4b14-b435-7bf900f4a5eb",
   "metadata": {},
   "outputs": [],
   "source": [
    "# the function works, check the lengths, the images will be more than the xml files\n",
    "len(all_xmls_1), len(all_ims_1)"
   ]
  },
  {
   "cell_type": "code",
   "execution_count": null,
   "id": "544c13d2-a64f-437c-84d0-6be17eb4ef15",
   "metadata": {},
   "outputs": [],
   "source": [
    "# the function works!\n",
    "blk1_annot, blk1_not_annot = separate_annotated_and_not(all_ims_1, all_xmls_1)"
   ]
  },
  {
   "cell_type": "code",
   "execution_count": null,
   "id": "3e5cd49c-e5f8-47be-8730-67bd9967e2fe",
   "metadata": {},
   "outputs": [],
   "source": [
    "# blk1_annot"
   ]
  },
  {
   "cell_type": "code",
   "execution_count": null,
   "id": "49366e3f-6612-4ce1-80a9-435fb19df71e",
   "metadata": {},
   "outputs": [],
   "source": [
    "# blk1_not_annot"
   ]
  },
  {
   "cell_type": "code",
   "execution_count": null,
   "id": "b1ccce86-53af-4597-a0a9-1951f8455a45",
   "metadata": {},
   "outputs": [],
   "source": [
    "# test the function for block 1\n",
    "a_vi, a_vx, a_hi, a_hx = separate_annnot_vertical_horizontal(blk1_annot, all_xmls_1, 6)"
   ]
  },
  {
   "cell_type": "code",
   "execution_count": null,
   "id": "4b223f6f-eb64-43ab-8174-64820d6c6a6c",
   "metadata": {},
   "outputs": [],
   "source": [
    "# The function is working\n",
    "check_matching(a_vi, a_vx), check_matching(a_hi, a_hx)"
   ]
  },
  {
   "cell_type": "code",
   "execution_count": null,
   "id": "f5fd4c17-fc60-494e-84bb-ed01fcc3262a",
   "metadata": {},
   "outputs": [],
   "source": [
    "# store the images as np arrays and create the density maps - I think the images are store here so that they can be later used to create the subwindows\n",
    "# may need to write out separate functions for special cases of images\n",
    "# let's write out the generic ones first, and later deal with these"
   ]
  },
  {
   "cell_type": "code",
   "execution_count": null,
   "id": "69ca8ba6-5ce3-47fd-8994-f5df0408e0cc",
   "metadata": {},
   "outputs": [],
   "source": [
    "all_horizontal_image_names = [file.split(\".\")[0] for file in a_hi]\n",
    "all_horizontal_image_names.sort()"
   ]
  },
  {
   "cell_type": "code",
   "execution_count": null,
   "id": "f2a93d51-71b2-4185-bf32-4f460e53817f",
   "metadata": {},
   "outputs": [],
   "source": [
    "print(all_horizontal_image_names)"
   ]
  },
  {
   "cell_type": "code",
   "execution_count": null,
   "id": "a12aae31-6949-4470-8c89-278a9aa4b60d",
   "metadata": {},
   "outputs": [],
   "source": [
    "len(all_horizontal_image_names)"
   ]
  },
  {
   "cell_type": "code",
   "execution_count": null,
   "id": "49c27de6-bd47-4be6-99da-d2b57ea271ad",
   "metadata": {
    "scrolled": true
   },
   "outputs": [],
   "source": [
    "%%time\n",
    "catch_all = []\n",
    "for i in all_horizontal_image_names:\n",
    "    contents_i = get_density_maps_horizontal(i, path_to_contents)\n",
    "    catch_all.append(contents_i)"
   ]
  },
  {
   "cell_type": "code",
   "execution_count": null,
   "id": "6be9aa69-ed2a-4407-b6d8-ac8b2cea0954",
   "metadata": {},
   "outputs": [],
   "source": [
    "%%time\n",
    "# just make sure that for each images the real counts and the convolved counts match\n",
    "blk_3_img_names = []\n",
    "blk_3_img_shapes = []\n",
    "blk_3_real_counts = []\n",
    "blk_3_convolved_counts = []\n",
    "blk_3_convolutions = []\n",
    "for i in range(len(catch_all)):\n",
    "    blk_3_img_names.append(catch_all[i][0])\n",
    "    blk_3_img_shapes.append(catch_all[i][1])\n",
    "    blk_3_real_counts.append(catch_all[i][2])\n",
    "    blk_3_convolved_counts.append(catch_all[i][3])\n",
    "    blk_3_convolutions.append(catch_all[i][4])\n"
   ]
  },
  {
   "cell_type": "code",
   "execution_count": null,
   "id": "0172f09d-7b28-4d37-ad66-5bee4b11ad20",
   "metadata": {},
   "outputs": [],
   "source": [
    "print(blk_3_img_shapes)"
   ]
  },
  {
   "cell_type": "code",
   "execution_count": null,
   "id": "010e4938-bf1a-45e9-a0ed-2ba984c7dabe",
   "metadata": {},
   "outputs": [],
   "source": [
    "np.round(blk_3_convolved_counts,0)"
   ]
  },
  {
   "cell_type": "code",
   "execution_count": null,
   "id": "8fbcc319-4d9e-40c8-9459-3fd2d1e7dbd3",
   "metadata": {},
   "outputs": [],
   "source": [
    "print(blk_3_real_counts)"
   ]
  },
  {
   "cell_type": "code",
   "execution_count": null,
   "id": "8407ccb5-1bef-44f9-bbd1-131b7993b5ef",
   "metadata": {},
   "outputs": [],
   "source": [
    "np.mean(blk_3_real_counts == np.round(blk_3_convolved_counts, 0))"
   ]
  },
  {
   "cell_type": "code",
   "execution_count": null,
   "id": "def96848-9038-4532-87cb-09a46b905895",
   "metadata": {},
   "outputs": [],
   "source": [
    "print(blk_3_img_names)"
   ]
  },
  {
   "cell_type": "code",
   "execution_count": null,
   "id": "65ee9741-dedb-4167-8ae4-26e91cbe398e",
   "metadata": {},
   "outputs": [],
   "source": [
    "save_subs_path = 'all_preprocessed_data/Block_0103/sub_images_and_counts'"
   ]
  },
  {
   "cell_type": "code",
   "execution_count": null,
   "id": "be38b024-413f-4ed1-9be5-c164585cbd67",
   "metadata": {},
   "outputs": [],
   "source": [
    "%%time\n",
    "catch_everything = []\n",
    "for item in range(len(blk_3_img_names)):\n",
    "    all_of_it = create_subwindows_and_counts(path_to_contents, blk_3_img_names[item], blk_3_convolutions[item], save_subs_path, stride = 300, kernel_size = 300)\n",
    "    catch_everything.append(all_of_it)"
   ]
  },
  {
   "cell_type": "code",
   "execution_count": null,
   "id": "5b2d63a6-9a55-4dbf-8bba-6f16736b13c3",
   "metadata": {},
   "outputs": [],
   "source": [
    "# how many files in here - that divided by 2*20 would be the number of TS sequences that we will have\n",
    "how_many = os.listdir(save_subs_path)\n",
    "len(how_many)/(2*20)"
   ]
  },
  {
   "cell_type": "code",
   "execution_count": null,
   "id": "d30dd0a7-dd3f-4d81-804a-04f3f0697e7a",
   "metadata": {},
   "outputs": [],
   "source": [
    "# we will create and save dataframes with the subwindow names and the subcounts image-wise for now - later look into dataframe combinations\n",
    "counter = 0\n",
    "for i in range(len(catch_everything)):\n",
    "    # create a dataframe\n",
    "    data_frame = pd.DataFrame(zip(catch_everything[i][0], catch_everything[i][2]), columns = ['subwindow_name', 'sub_counts'])\n",
    "    df_name = 'subcount_df_' + str(counter) + '.csv'\n",
    "    df_path = 'all_preprocessed_data/Block_0103/sub_count_dfs/' + df_name\n",
    "    # save the dataframe\n",
    "    data_frame.to_csv(df_path, index = False)\n",
    "    counter += 1 "
   ]
  },
  {
   "cell_type": "code",
   "execution_count": null,
   "id": "4ee7afc9-a16a-4087-8239-6b3c96cf660f",
   "metadata": {},
   "outputs": [],
   "source": [
    "# What more to verify here? - check the shapes of the subwindows and sub count maps\n",
    "print(catch_everything[0][3])"
   ]
  },
  {
   "cell_type": "code",
   "execution_count": null,
   "id": "4b40a584-aeb8-41ef-8bea-6fab91bfd6a0",
   "metadata": {},
   "outputs": [],
   "source": [
    "print(catch_everything[0][4])"
   ]
  },
  {
   "cell_type": "markdown",
   "id": "26500c24-bd0d-4a90-894c-65b69475864c",
   "metadata": {},
   "source": [
    "We need the data preprocessed for all the other blocks as well. Let's do that."
   ]
  },
  {
   "cell_type": "markdown",
   "id": "c6bbd977-ce56-4306-8c6b-f2d6fd0df889",
   "metadata": {},
   "source": [
    "Block 0104"
   ]
  },
  {
   "cell_type": "code",
   "execution_count": null,
   "id": "d2fb50bf-c478-48ca-b7c4-ec531b5cdc3e",
   "metadata": {},
   "outputs": [],
   "source": [
    "# test the funciton\n",
    "path_to_contents_blk_4 = \"../../S_lab_TasselNet/Block_4_TN/Block_4_images_and_xml\""
   ]
  },
  {
   "cell_type": "code",
   "execution_count": null,
   "id": "a99e3ae0-d837-429f-aef3-63e7b7465d78",
   "metadata": {},
   "outputs": [],
   "source": [
    "all_ims_4, all_xmls_4 = separate_images_and_xml(path_to_contents_blk_4)"
   ]
  },
  {
   "cell_type": "code",
   "execution_count": null,
   "id": "39aed9e8-0ba4-4537-a12d-1923c98e04e5",
   "metadata": {},
   "outputs": [],
   "source": [
    "# the function works, check the lengths, the images will be more than the xml files\n",
    "len(all_ims_4), len(all_xmls_4)"
   ]
  },
  {
   "cell_type": "code",
   "execution_count": null,
   "id": "ce544b8b-57b7-47b3-9a2f-55f1afee6343",
   "metadata": {},
   "outputs": [],
   "source": [
    "# all_ims_4"
   ]
  },
  {
   "cell_type": "code",
   "execution_count": null,
   "id": "fc0ee71a-cb35-4903-9034-138e2d299fcf",
   "metadata": {},
   "outputs": [],
   "source": [
    "# all_xmls_4"
   ]
  },
  {
   "cell_type": "code",
   "execution_count": null,
   "id": "a5c2a136-eef9-4bfc-8e26-d778ccb42295",
   "metadata": {},
   "outputs": [],
   "source": [
    "# the function works!\n",
    "blk4_annot, blk4_not_annot = separate_annotated_and_not(all_ims_4, all_xmls_4)"
   ]
  },
  {
   "cell_type": "code",
   "execution_count": null,
   "id": "bea53da2-ecd9-4bc8-b2de-d4c66a601365",
   "metadata": {},
   "outputs": [],
   "source": [
    "# blk4_annot"
   ]
  },
  {
   "cell_type": "code",
   "execution_count": null,
   "id": "b4e3451f-154e-4a1a-b847-d7f8feb82273",
   "metadata": {},
   "outputs": [],
   "source": [
    "# blk4_not_annot"
   ]
  },
  {
   "cell_type": "code",
   "execution_count": null,
   "id": "c1b86bd2-6e14-4239-97ff-02b50788a5b5",
   "metadata": {},
   "outputs": [],
   "source": [
    "# test the function for block 1\n",
    "a_vi_4, a_vx_4, a_hi_4, a_hx_4 = separate_annnot_vertical_horizontal(blk4_annot, all_xmls_4, 6)"
   ]
  },
  {
   "cell_type": "code",
   "execution_count": null,
   "id": "bc0cc51d-090f-4fd7-be3e-4513b954c648",
   "metadata": {},
   "outputs": [],
   "source": [
    "# The function is working\n",
    "check_matching(a_vi_4, a_vx_4), check_matching(a_hi_4, a_hx_4)"
   ]
  },
  {
   "cell_type": "code",
   "execution_count": null,
   "id": "59e52c5f-1346-4e68-86a4-b0da24a17a71",
   "metadata": {},
   "outputs": [],
   "source": [
    "len(a_vi_4), len(a_vx_4), len(a_hi_4), len(a_hx_4)"
   ]
  },
  {
   "cell_type": "code",
   "execution_count": null,
   "id": "51436e8e-b2bd-45dd-ab6c-fe3ffdd3d6fb",
   "metadata": {},
   "outputs": [],
   "source": [
    "# store the images as np arrays and create the density maps - I think the images are store here so that they can be later used to create the subwindows\n",
    "# may need to write out separate functions for special cases of images\n",
    "# let's write out the generic ones first, and later deal with these"
   ]
  },
  {
   "cell_type": "code",
   "execution_count": null,
   "id": "e83782ca-e747-4f62-b845-7adaf1dc0725",
   "metadata": {},
   "outputs": [],
   "source": [
    "all_horizontal_image_names_4 = [file.split(\".\")[0] for file in a_hi_4]\n",
    "all_horizontal_image_names_4.sort()"
   ]
  },
  {
   "cell_type": "code",
   "execution_count": null,
   "id": "f8b10cd3-b14e-451b-b33c-e887a1367a51",
   "metadata": {},
   "outputs": [],
   "source": [
    "print(all_horizontal_image_names_4)"
   ]
  },
  {
   "cell_type": "code",
   "execution_count": null,
   "id": "92251497-1eb9-48bd-9b8e-2da4bc8fc976",
   "metadata": {},
   "outputs": [],
   "source": [
    "len(all_horizontal_image_names_4)"
   ]
  },
  {
   "cell_type": "code",
   "execution_count": null,
   "id": "8405ef76-5cdb-4d4e-98f7-4dcc39ddf341",
   "metadata": {
    "scrolled": true
   },
   "outputs": [],
   "source": [
    "%%time\n",
    "catch_all_4 = []\n",
    "for i in all_horizontal_image_names_4:\n",
    "    contents_i = get_density_maps_horizontal(i, path_to_contents_blk_4)\n",
    "    catch_all_4.append(contents_i)"
   ]
  },
  {
   "cell_type": "code",
   "execution_count": null,
   "id": "ceb80964-a340-48d3-ad03-ea4f6c6fb4f0",
   "metadata": {},
   "outputs": [],
   "source": [
    "%%time\n",
    "# just make sure that for each images the real counts and the convolved counts match\n",
    "blk_4_img_names = []\n",
    "blk_4_img_shapes = []\n",
    "blk_4_real_counts = []\n",
    "blk_4_convolved_counts = []\n",
    "blk_4_convolutions = []\n",
    "for i in range(len(catch_all_4)):\n",
    "    blk_4_img_names.append(catch_all_4[i][0])\n",
    "    blk_4_img_shapes.append(catch_all_4[i][1])\n",
    "    blk_4_real_counts.append(catch_all_4[i][2])\n",
    "    blk_4_convolved_counts.append(catch_all_4[i][3])\n",
    "    blk_4_convolutions.append(catch_all_4[i][4])\n"
   ]
  },
  {
   "cell_type": "code",
   "execution_count": null,
   "id": "c516ab77-df9b-4729-889f-65be3f887cdf",
   "metadata": {},
   "outputs": [],
   "source": [
    "print(blk_4_img_shapes)"
   ]
  },
  {
   "cell_type": "code",
   "execution_count": null,
   "id": "1c76fe32-2650-47b0-983c-85aad8987718",
   "metadata": {},
   "outputs": [],
   "source": [
    "np.round(blk_4_convolved_counts, 0)"
   ]
  },
  {
   "cell_type": "code",
   "execution_count": null,
   "id": "0653a29a-5678-4a7a-98b8-15e3995e4d94",
   "metadata": {},
   "outputs": [],
   "source": [
    "print(blk_4_real_counts)"
   ]
  },
  {
   "cell_type": "code",
   "execution_count": null,
   "id": "39b3df77-3fdb-44d6-94d8-1f61d0dfadba",
   "metadata": {},
   "outputs": [],
   "source": [
    "np.mean(blk_4_real_counts == np.round(blk_4_convolved_counts, 0))"
   ]
  },
  {
   "cell_type": "code",
   "execution_count": null,
   "id": "7c32bf00-7f0b-4916-b67d-504fa268c102",
   "metadata": {},
   "outputs": [],
   "source": [
    "print(blk_4_img_names)"
   ]
  },
  {
   "cell_type": "code",
   "execution_count": null,
   "id": "fe709869-b2e1-4273-9f11-47aa996dadc7",
   "metadata": {},
   "outputs": [],
   "source": [
    "save_subs_path_4 = 'all_preprocessed_data/Block_0104/sub_images_and_counts'"
   ]
  },
  {
   "cell_type": "code",
   "execution_count": null,
   "id": "8579443c-4951-4d49-bbed-e8d5644e9185",
   "metadata": {},
   "outputs": [],
   "source": [
    "%%time\n",
    "catch_everything_4 = []\n",
    "for item in range(len(blk_4_img_names)):\n",
    "    all_of_it_4 = create_subwindows_and_counts(path_to_contents_blk_4, blk_4_img_names[item], blk_4_convolutions[item], save_subs_path_4, stride = 300, kernel_size = 300)\n",
    "    catch_everything_4.append(all_of_it_4)"
   ]
  },
  {
   "cell_type": "code",
   "execution_count": null,
   "id": "16d8c403-dbed-45fa-8ba0-c923f7d52795",
   "metadata": {},
   "outputs": [],
   "source": [
    "# how many files in here - that divided by 2*20 would be the number of TS sequences that we will have\n",
    "how_many = os.listdir(save_subs_path_4)\n",
    "len(how_many)/(2*20)"
   ]
  },
  {
   "cell_type": "code",
   "execution_count": null,
   "id": "78b9ad34-c03e-403b-b9cf-88e9493899af",
   "metadata": {},
   "outputs": [],
   "source": [
    "%%time\n",
    "# we will create and save dataframes with the subwindow names and the subcounts image-wise for now - later look into dataframe combinations\n",
    "counter = 0\n",
    "for i in range(len(catch_everything_4)):\n",
    "    # create a dataframe\n",
    "    data_frame = pd.DataFrame(zip(catch_everything_4[i][0], catch_everything_4[i][2]), columns = ['subwindow_name', 'sub_counts'])\n",
    "    df_name = 'subcount_df_' + str(counter) + '.csv'\n",
    "    df_path = 'all_preprocessed_data/Block_0104/sub_count_dfs/' + df_name\n",
    "    # save the dataframe\n",
    "    data_frame.to_csv(df_path, index = False)\n",
    "    counter += 1 "
   ]
  },
  {
   "cell_type": "code",
   "execution_count": null,
   "id": "56d8eaa7-742b-47fe-9911-3ad05bb955ce",
   "metadata": {},
   "outputs": [],
   "source": [
    "len(catch_everything_4)"
   ]
  },
  {
   "cell_type": "markdown",
   "id": "f0e6d15d-de4a-4a05-aaaf-32a57e4dc59d",
   "metadata": {},
   "source": [
    "Block 0105"
   ]
  },
  {
   "cell_type": "code",
   "execution_count": null,
   "id": "afa8b6e4-59b7-468f-be91-75d3df4ca138",
   "metadata": {},
   "outputs": [],
   "source": [
    "# test the funciton\n",
    "path_to_contents_blk_5 = \"../../S_lab_TasselNet/Block_5_TN/Block_5_images_and_xml\""
   ]
  },
  {
   "cell_type": "code",
   "execution_count": null,
   "id": "1e4b6513-dbe3-44f0-a801-6f1c981ed286",
   "metadata": {},
   "outputs": [],
   "source": [
    "all_ims_5, all_xmls_5 = separate_images_and_xml(path_to_contents_blk_5)"
   ]
  },
  {
   "cell_type": "code",
   "execution_count": null,
   "id": "ff7b5379-c789-4fea-ab79-91668f65579f",
   "metadata": {},
   "outputs": [],
   "source": [
    "# the function works, check the lengths, the images will be more than the xml files\n",
    "len(all_ims_5), len(all_xmls_5)"
   ]
  },
  {
   "cell_type": "code",
   "execution_count": null,
   "id": "6c6579f2-60c4-4633-a7ce-46ad0c425e5c",
   "metadata": {},
   "outputs": [],
   "source": [
    "# all_ims_5"
   ]
  },
  {
   "cell_type": "code",
   "execution_count": null,
   "id": "3f16fd38-109d-4293-aef5-c6cebac1f908",
   "metadata": {},
   "outputs": [],
   "source": [
    "# all_xmls_5"
   ]
  },
  {
   "cell_type": "code",
   "execution_count": null,
   "id": "f5a1f0a3-bc53-4d1e-8b97-bbf3453ba0e1",
   "metadata": {},
   "outputs": [],
   "source": [
    "# the function works!\n",
    "blk5_annot, blk5_not_annot = separate_annotated_and_not(all_ims_5, all_xmls_5)"
   ]
  },
  {
   "cell_type": "code",
   "execution_count": null,
   "id": "be9c161b-6c7f-45f3-9f05-1557df417f3c",
   "metadata": {},
   "outputs": [],
   "source": [
    "# blk5_annot"
   ]
  },
  {
   "cell_type": "code",
   "execution_count": null,
   "id": "3967b5f1-f365-45f6-9956-8442e908e389",
   "metadata": {},
   "outputs": [],
   "source": [
    "# blk5_not_annot"
   ]
  },
  {
   "cell_type": "code",
   "execution_count": null,
   "id": "8a61342b-6683-490e-8609-b2b205864199",
   "metadata": {},
   "outputs": [],
   "source": [
    "# test the function for block 1\n",
    "a_vi_5, a_vx_5, a_hi_5, a_hx_5 = separate_annnot_vertical_horizontal(blk5_annot, all_xmls_5, 6)"
   ]
  },
  {
   "cell_type": "code",
   "execution_count": null,
   "id": "bce4f5d1-7b4c-494e-8ac4-4b211da2dca4",
   "metadata": {},
   "outputs": [],
   "source": [
    "# The function is working\n",
    "check_matching(a_vi_5, a_vx_5), check_matching(a_hi_5, a_hx_5)"
   ]
  },
  {
   "cell_type": "code",
   "execution_count": null,
   "id": "cde0d741-0814-4557-a674-f25e7656d70c",
   "metadata": {},
   "outputs": [],
   "source": [
    "len(a_vi_5), len(a_vx_5), len(a_hi_5), len(a_hx_5)"
   ]
  },
  {
   "cell_type": "code",
   "execution_count": null,
   "id": "0b8f2eca-2be0-46f8-8fbc-e21afd5b9026",
   "metadata": {},
   "outputs": [],
   "source": [
    "all_horizontal_image_names_5 = [file.split(\".\")[0] for file in a_hi_5]\n",
    "all_horizontal_image_names_5.sort()"
   ]
  },
  {
   "cell_type": "code",
   "execution_count": null,
   "id": "90719587-edbb-4e58-bb34-3dfdfda25dcc",
   "metadata": {},
   "outputs": [],
   "source": [
    "print(all_horizontal_image_names_5)"
   ]
  },
  {
   "cell_type": "code",
   "execution_count": null,
   "id": "5cf230af-e363-434b-b11c-5ad4584484c5",
   "metadata": {},
   "outputs": [],
   "source": [
    "len(all_horizontal_image_names_5)"
   ]
  },
  {
   "cell_type": "code",
   "execution_count": null,
   "id": "c9818404-8fa9-4204-aa5d-d19f4121c33f",
   "metadata": {
    "scrolled": true
   },
   "outputs": [],
   "source": [
    "%%time\n",
    "catch_all_5 = []\n",
    "for i in all_horizontal_image_names_5:\n",
    "    contents_i = get_density_maps_horizontal(i, path_to_contents_blk_5)\n",
    "    catch_all_5.append(contents_i)"
   ]
  },
  {
   "cell_type": "code",
   "execution_count": null,
   "id": "9332b500-37db-4bc9-a253-0be68ff8630c",
   "metadata": {},
   "outputs": [],
   "source": [
    "%%time\n",
    "# just make sure that for each images the real counts and the convolved counts match\n",
    "blk_5_img_names = []\n",
    "blk_5_img_shapes = []\n",
    "blk_5_real_counts = []\n",
    "blk_5_convolved_counts = []\n",
    "blk_5_convolutions = []\n",
    "for i in range(len(catch_all_5)):\n",
    "    blk_5_img_names.append(catch_all_5[i][0])\n",
    "    blk_5_img_shapes.append(catch_all_5[i][1])\n",
    "    blk_5_real_counts.append(catch_all_5[i][2])\n",
    "    blk_5_convolved_counts.append(catch_all_5[i][3])\n",
    "    blk_5_convolutions.append(catch_all_5[i][4])\n"
   ]
  },
  {
   "cell_type": "code",
   "execution_count": null,
   "id": "b6f87e5e-c9c0-495f-9004-8ebcda2b246a",
   "metadata": {},
   "outputs": [],
   "source": [
    "print(blk_5_img_shapes)"
   ]
  },
  {
   "cell_type": "code",
   "execution_count": null,
   "id": "f702b57b-12cb-4783-a41c-e70df0f67bbb",
   "metadata": {},
   "outputs": [],
   "source": [
    "np.round(blk_5_convolved_counts, 0)"
   ]
  },
  {
   "cell_type": "code",
   "execution_count": null,
   "id": "50dc971e-e2b5-419b-b5f5-3af9cf349aad",
   "metadata": {},
   "outputs": [],
   "source": [
    "print(blk_5_real_counts)"
   ]
  },
  {
   "cell_type": "code",
   "execution_count": null,
   "id": "7074b265-9055-467c-ad8e-5393bcb1882d",
   "metadata": {},
   "outputs": [],
   "source": [
    "np.mean(blk_4_real_counts == np.round(blk_4_convolved_counts, 0))"
   ]
  },
  {
   "cell_type": "code",
   "execution_count": null,
   "id": "2a43116d-8888-48c0-843b-ed2849a425dc",
   "metadata": {},
   "outputs": [],
   "source": [
    "print(blk_5_img_names)"
   ]
  },
  {
   "cell_type": "code",
   "execution_count": null,
   "id": "44b3f9e5-f044-41f0-a53d-7728e1432cd0",
   "metadata": {},
   "outputs": [],
   "source": [
    "save_subs_path_5 = 'all_preprocessed_data/Block_0105/sub_images_and_counts'"
   ]
  },
  {
   "cell_type": "code",
   "execution_count": null,
   "id": "1eff9422-2100-4688-9da4-d94f63d0a5ce",
   "metadata": {},
   "outputs": [],
   "source": [
    "%%time\n",
    "catch_everything_5 = []\n",
    "for item in range(len(blk_5_img_names)):\n",
    "    all_of_it_5 = create_subwindows_and_counts(path_to_contents_blk_5, blk_5_img_names[item], blk_5_convolutions[item], save_subs_path_5, stride = 300, kernel_size = 300)\n",
    "    catch_everything_5.append(all_of_it_5)"
   ]
  },
  {
   "cell_type": "code",
   "execution_count": null,
   "id": "fa5e0728-ed4b-4970-8107-f5b73c85917f",
   "metadata": {},
   "outputs": [],
   "source": [
    "# how many files in here - that divided by 2*20 would be the number of TS sequences that we will have\n",
    "how_many = os.listdir(save_subs_path_5)\n",
    "len(how_many)/(2*20)"
   ]
  },
  {
   "cell_type": "code",
   "execution_count": null,
   "id": "d2bf04ce-0d67-4abf-855d-a429ecb92e33",
   "metadata": {},
   "outputs": [],
   "source": [
    "%%time\n",
    "# we will create and save dataframes with the subwindow names and the subcounts image-wise for now - later look into dataframe combinations\n",
    "counter = 0\n",
    "for i in range(len(catch_everything_5)):\n",
    "    # create a dataframe\n",
    "    data_frame = pd.DataFrame(zip(catch_everything_5[i][0], catch_everything_5[i][2]), columns = ['subwindow_name', 'sub_counts'])\n",
    "    df_name = 'subcount_df_' + str(counter) + '.csv'\n",
    "    df_path = 'all_preprocessed_data/Block_0105/sub_count_dfs/' + df_name\n",
    "    # save the dataframe\n",
    "    data_frame.to_csv(df_path, index = False)\n",
    "    counter += 1 "
   ]
  },
  {
   "cell_type": "code",
   "execution_count": null,
   "id": "a62e0157-4452-4788-8a12-1f840f3bb18c",
   "metadata": {},
   "outputs": [],
   "source": [
    "len(catch_everything_5)"
   ]
  },
  {
   "cell_type": "markdown",
   "id": "6d6e4c92-d951-4ba5-b097-a1aae5d97df8",
   "metadata": {},
   "source": [
    "Block 0106"
   ]
  },
  {
   "cell_type": "code",
   "execution_count": null,
   "id": "3ab571e2-8dfb-4d89-896d-c490744b195b",
   "metadata": {},
   "outputs": [],
   "source": [
    "# test the funciton\n",
    "path_to_contents_blk_6 = \"../../S_lab_TasselNet/Block_6_TN/Block_6_images_and_xml\""
   ]
  },
  {
   "cell_type": "code",
   "execution_count": null,
   "id": "724a30f8-1bdb-483a-8118-8081da2ecdbf",
   "metadata": {},
   "outputs": [],
   "source": [
    "all_ims_6, all_xmls_6 = separate_images_and_xml(path_to_contents_blk_6)"
   ]
  },
  {
   "cell_type": "code",
   "execution_count": null,
   "id": "0532d2f4-8248-4d4a-8ebe-b15e16083aee",
   "metadata": {},
   "outputs": [],
   "source": [
    "# the function works, check the lengths, the images will be more than the xml files\n",
    "len(all_ims_6), len(all_xmls_6)"
   ]
  },
  {
   "cell_type": "code",
   "execution_count": null,
   "id": "89d89347-9803-43d3-9a2d-191cebf25404",
   "metadata": {},
   "outputs": [],
   "source": [
    "# all_ims_6"
   ]
  },
  {
   "cell_type": "code",
   "execution_count": null,
   "id": "0153a9e2-6450-4d96-8bac-0b1bf0b04530",
   "metadata": {},
   "outputs": [],
   "source": [
    "# all_xmls_6"
   ]
  },
  {
   "cell_type": "code",
   "execution_count": null,
   "id": "c111c42c-05b7-4351-a38f-ee86ee30605e",
   "metadata": {},
   "outputs": [],
   "source": [
    "# the function works!\n",
    "blk6_annot, blk6_not_annot = separate_annotated_and_not(all_ims_6, all_xmls_6)"
   ]
  },
  {
   "cell_type": "code",
   "execution_count": null,
   "id": "0937db7f-3a53-4648-9ac6-5600f05b05df",
   "metadata": {},
   "outputs": [],
   "source": [
    "# blk6_annot"
   ]
  },
  {
   "cell_type": "code",
   "execution_count": null,
   "id": "1696d987-9a01-4912-a419-aa26ce632ab4",
   "metadata": {},
   "outputs": [],
   "source": [
    "# blk6_not_annot"
   ]
  },
  {
   "cell_type": "code",
   "execution_count": null,
   "id": "74676d1a-8738-4a72-9acf-3648bcc87edf",
   "metadata": {},
   "outputs": [],
   "source": [
    "# test the function for block 1\n",
    "a_vi_6, a_vx_6, a_hi_6, a_hx_6 = separate_annnot_vertical_horizontal(blk6_annot, all_xmls_6, 6)"
   ]
  },
  {
   "cell_type": "code",
   "execution_count": null,
   "id": "ee4c3fec-3f62-4203-af8e-e3513e8221ac",
   "metadata": {},
   "outputs": [],
   "source": [
    "# The function is working\n",
    "check_matching(a_vi_6, a_vx_6), check_matching(a_hi_6, a_hx_6)"
   ]
  },
  {
   "cell_type": "code",
   "execution_count": null,
   "id": "fae21b9f-0698-404b-88ed-6648247aaff6",
   "metadata": {},
   "outputs": [],
   "source": [
    "len(a_vi_6), len(a_vx_6), len(a_hi_6), len(a_hx_6)"
   ]
  },
  {
   "cell_type": "code",
   "execution_count": null,
   "id": "690b5034-bccd-4ef5-88f0-673b90bece40",
   "metadata": {},
   "outputs": [],
   "source": [
    "all_horizontal_image_names_6 = [file.split(\".\")[0] for file in a_hi_6]\n",
    "all_horizontal_image_names_6.sort()"
   ]
  },
  {
   "cell_type": "code",
   "execution_count": null,
   "id": "8d81cec0-72fb-4373-9161-ac28bf0f306a",
   "metadata": {},
   "outputs": [],
   "source": [
    "print(all_horizontal_image_names_6)"
   ]
  },
  {
   "cell_type": "code",
   "execution_count": null,
   "id": "302ce993-1f8a-4f37-911f-6b69e0b09dc1",
   "metadata": {},
   "outputs": [],
   "source": [
    "len(all_horizontal_image_names_6)"
   ]
  },
  {
   "cell_type": "code",
   "execution_count": null,
   "id": "95267357-69dd-417f-a587-4f3d81656809",
   "metadata": {
    "scrolled": true
   },
   "outputs": [],
   "source": [
    "%%time\n",
    "catch_all_6 = []\n",
    "for i in all_horizontal_image_names_6:\n",
    "    contents_i = get_density_maps_horizontal(i, path_to_contents_blk_6)\n",
    "    catch_all_6.append(contents_i)"
   ]
  },
  {
   "cell_type": "code",
   "execution_count": null,
   "id": "e6914f12-efcc-4e4c-a004-903c325a0d77",
   "metadata": {},
   "outputs": [],
   "source": [
    "%%time\n",
    "# just make sure that for each images the real counts and the convolved counts match\n",
    "blk_6_img_names = []\n",
    "blk_6_img_shapes = []\n",
    "blk_6_real_counts = []\n",
    "blk_6_convolved_counts = []\n",
    "blk_6_convolutions = []\n",
    "for i in range(len(catch_all_6)):\n",
    "    blk_6_img_names.append(catch_all_6[i][0])\n",
    "    blk_6_img_shapes.append(catch_all_6[i][1])\n",
    "    blk_6_real_counts.append(catch_all_6[i][2])\n",
    "    blk_6_convolved_counts.append(catch_all_6[i][3])\n",
    "    blk_6_convolutions.append(catch_all_6[i][4])\n"
   ]
  },
  {
   "cell_type": "code",
   "execution_count": null,
   "id": "e2b3bcf8-a897-492d-9635-666fbcb612ae",
   "metadata": {},
   "outputs": [],
   "source": [
    "print(blk_6_img_shapes)"
   ]
  },
  {
   "cell_type": "code",
   "execution_count": null,
   "id": "bdf0c1c4-4ee1-45f8-a188-1bd64ae25a81",
   "metadata": {},
   "outputs": [],
   "source": [
    "np.round(blk_6_convolved_counts, 0)"
   ]
  },
  {
   "cell_type": "code",
   "execution_count": null,
   "id": "9d944f97-3bd5-4627-a3e1-4592acc13397",
   "metadata": {},
   "outputs": [],
   "source": [
    "print(blk_6_real_counts)"
   ]
  },
  {
   "cell_type": "code",
   "execution_count": null,
   "id": "f68892e4-27bf-47a6-a5cc-caf971ba3bc6",
   "metadata": {},
   "outputs": [],
   "source": [
    "np.mean(blk_6_real_counts == np.round(blk_6_convolved_counts, 0))"
   ]
  },
  {
   "cell_type": "code",
   "execution_count": null,
   "id": "37ad9363-3beb-41e7-91c6-4710b0a53a35",
   "metadata": {},
   "outputs": [],
   "source": [
    "print(blk_6_img_names)"
   ]
  },
  {
   "cell_type": "code",
   "execution_count": null,
   "id": "e6a0e594-c45f-4c1f-be3c-5a916309021c",
   "metadata": {},
   "outputs": [],
   "source": [
    "save_subs_path_6 = 'all_preprocessed_data/Block_0106/sub_images_and_counts'"
   ]
  },
  {
   "cell_type": "code",
   "execution_count": null,
   "id": "372ac2d3-d318-4bba-9272-c40486e431c9",
   "metadata": {},
   "outputs": [],
   "source": [
    "%%time\n",
    "catch_everything_6 = []\n",
    "for item in range(len(blk_6_img_names)):\n",
    "    all_of_it_6 = create_subwindows_and_counts(path_to_contents_blk_6, blk_6_img_names[item], blk_6_convolutions[item], save_subs_path_6, stride = 300, kernel_size = 300)\n",
    "    catch_everything_6.append(all_of_it_6)"
   ]
  },
  {
   "cell_type": "code",
   "execution_count": null,
   "id": "082c513f-40f4-4b6e-b8a7-f5319698e6fe",
   "metadata": {},
   "outputs": [],
   "source": [
    "# how many files in here - that divided by 2*20 would be the number of TS sequences that we will have\n",
    "how_many = os.listdir(save_subs_path_6)\n",
    "len(how_many)/(2*20)"
   ]
  },
  {
   "cell_type": "code",
   "execution_count": null,
   "id": "9ed94c6d-3e1e-4054-9aaf-e6a460d651f7",
   "metadata": {},
   "outputs": [],
   "source": [
    "%%time\n",
    "# we will create and save dataframes with the subwindow names and the subcounts image-wise for now - later look into dataframe combinations\n",
    "counter = 0\n",
    "for i in range(len(catch_everything_6)):\n",
    "    # create a dataframe\n",
    "    data_frame = pd.DataFrame(zip(catch_everything_6[i][0], catch_everything_6[i][2]), columns = ['subwindow_name', 'sub_counts'])\n",
    "    df_name = 'subcount_df_' + str(counter) + '.csv'\n",
    "    df_path = 'all_preprocessed_data/Block_0106/sub_count_dfs/' + df_name\n",
    "    # save the dataframe\n",
    "    data_frame.to_csv(df_path, index = False)\n",
    "    counter += 1 "
   ]
  },
  {
   "cell_type": "code",
   "execution_count": null,
   "id": "19c67e39-e895-41e6-84ef-99be3fe1e5c5",
   "metadata": {},
   "outputs": [],
   "source": [
    "len(catch_everything_6)"
   ]
  },
  {
   "cell_type": "markdown",
   "id": "ba49c4fa-0e9b-4cc5-84c6-fd0e58fbc5f6",
   "metadata": {},
   "source": [
    "Block 0201"
   ]
  },
  {
   "cell_type": "code",
   "execution_count": null,
   "id": "de150692-760e-48ab-858b-16336363da5d",
   "metadata": {},
   "outputs": [],
   "source": [
    "# test the funciton\n",
    "path_to_contents_blk_7 = \"../../S_lab_TasselNet/Block_7_TN/Block_7_images_and_xml\""
   ]
  },
  {
   "cell_type": "code",
   "execution_count": null,
   "id": "a3785574-5621-488f-9ebd-63e9fe944986",
   "metadata": {},
   "outputs": [],
   "source": [
    "all_ims_7, all_xmls_7 = separate_images_and_xml(path_to_contents_blk_7)"
   ]
  },
  {
   "cell_type": "code",
   "execution_count": null,
   "id": "9569af56-9bb3-465d-a303-dd461a80b364",
   "metadata": {},
   "outputs": [],
   "source": [
    "# the function works, check the lengths, the images will be more than the xml files\n",
    "len(all_ims_7), len(all_xmls_7)"
   ]
  },
  {
   "cell_type": "code",
   "execution_count": null,
   "id": "143b46aa-d4ea-4b74-ab40-86aa941e33d6",
   "metadata": {},
   "outputs": [],
   "source": [
    "# all_ims_7"
   ]
  },
  {
   "cell_type": "code",
   "execution_count": null,
   "id": "69a67ec3-16a4-4395-a2d5-65841e255671",
   "metadata": {},
   "outputs": [],
   "source": [
    "# all_xmls_7"
   ]
  },
  {
   "cell_type": "code",
   "execution_count": null,
   "id": "5a4410c8-ed60-4ec3-a2e6-cb87c1338de7",
   "metadata": {},
   "outputs": [],
   "source": [
    "# the function works!\n",
    "blk7_annot, blk7_not_annot = separate_annotated_and_not(all_ims_7, all_xmls_7)"
   ]
  },
  {
   "cell_type": "code",
   "execution_count": null,
   "id": "03c6b917-4dec-4fac-bfb2-69227bc09363",
   "metadata": {},
   "outputs": [],
   "source": [
    "# blk7_annot"
   ]
  },
  {
   "cell_type": "code",
   "execution_count": null,
   "id": "ed27cea3-59f8-4d91-ad96-f18ad6ee9839",
   "metadata": {},
   "outputs": [],
   "source": [
    "# blk7_not_annot"
   ]
  },
  {
   "cell_type": "code",
   "execution_count": null,
   "id": "c0d94b31-e184-4cd0-8309-db08784a2bc2",
   "metadata": {},
   "outputs": [],
   "source": [
    "# test the function for block 1\n",
    "a_vi_7, a_vx_7, a_hi_7, a_hx_7 = separate_annnot_vertical_horizontal(blk7_annot, all_xmls_7, 5)"
   ]
  },
  {
   "cell_type": "code",
   "execution_count": null,
   "id": "5c148276-cfb5-45c3-8d95-041db371f67a",
   "metadata": {},
   "outputs": [],
   "source": [
    "len(a_vi_7), len(a_vx_7), len(a_hi_7), len(a_hx_7)"
   ]
  },
  {
   "cell_type": "code",
   "execution_count": null,
   "id": "bc5d36f7-d8eb-4d7a-a6b8-7716207cb19c",
   "metadata": {},
   "outputs": [],
   "source": [
    "# The function is working\n",
    "check_matching(a_vi_7, a_vx_7), check_matching(a_hi_7, a_hx_7)"
   ]
  },
  {
   "cell_type": "code",
   "execution_count": null,
   "id": "8f8dcb63-8542-49f7-a40f-bf3b465509cb",
   "metadata": {},
   "outputs": [],
   "source": [
    "all_horizontal_image_names_7 = [file.split(\".\")[0] for file in a_hi_7]\n",
    "all_horizontal_image_names_7.sort()"
   ]
  },
  {
   "cell_type": "code",
   "execution_count": null,
   "id": "fbe12a2f-9314-400f-96f3-c51632c635f2",
   "metadata": {},
   "outputs": [],
   "source": [
    "print(all_horizontal_image_names_7)"
   ]
  },
  {
   "cell_type": "code",
   "execution_count": null,
   "id": "d06051e0-397c-4394-800f-d5a8b937615a",
   "metadata": {},
   "outputs": [],
   "source": [
    "len(all_horizontal_image_names_7)"
   ]
  },
  {
   "cell_type": "code",
   "execution_count": null,
   "id": "7f3f3947-afc7-4462-9a2f-4c326c0d0b7d",
   "metadata": {
    "scrolled": true
   },
   "outputs": [],
   "source": [
    "%%time\n",
    "catch_all_7 = []\n",
    "for i in all_horizontal_image_names_7:\n",
    "    contents_i = get_density_maps_horizontal(i, path_to_contents_blk_7)\n",
    "    catch_all_7.append(contents_i)"
   ]
  },
  {
   "cell_type": "code",
   "execution_count": null,
   "id": "7d5a44f1-56d9-4c59-b8b4-f77f052d3235",
   "metadata": {},
   "outputs": [],
   "source": [
    "%%time\n",
    "# just make sure that for each images the real counts and the convolved counts match\n",
    "blk_7_img_names = []\n",
    "blk_7_img_shapes = []\n",
    "blk_7_real_counts = []\n",
    "blk_7_convolved_counts = []\n",
    "blk_7_convolutions = []\n",
    "for i in range(len(catch_all_7)):\n",
    "    blk_7_img_names.append(catch_all_7[i][0])\n",
    "    blk_7_img_shapes.append(catch_all_7[i][1])\n",
    "    blk_7_real_counts.append(catch_all_7[i][2])\n",
    "    blk_7_convolved_counts.append(catch_all_7[i][3])\n",
    "    blk_7_convolutions.append(catch_all_7[i][4])\n"
   ]
  },
  {
   "cell_type": "code",
   "execution_count": null,
   "id": "a2e4458c-524a-4447-af9a-fdd4a0a891d9",
   "metadata": {},
   "outputs": [],
   "source": [
    "print(blk_7_img_shapes)"
   ]
  },
  {
   "cell_type": "code",
   "execution_count": null,
   "id": "e139d465-1daa-4cab-8c32-ef73116cbeea",
   "metadata": {},
   "outputs": [],
   "source": [
    "np.round(blk_7_convolved_counts, 0)"
   ]
  },
  {
   "cell_type": "code",
   "execution_count": null,
   "id": "4133f1e4-2518-4cbf-9af6-7d3409e49f77",
   "metadata": {},
   "outputs": [],
   "source": [
    "print(blk_7_real_counts)"
   ]
  },
  {
   "cell_type": "code",
   "execution_count": null,
   "id": "7395ee65-00ee-4d93-8d2a-bf130ec98632",
   "metadata": {},
   "outputs": [],
   "source": [
    "np.mean(blk_7_real_counts == np.round(blk_7_convolved_counts, 0))"
   ]
  },
  {
   "cell_type": "code",
   "execution_count": null,
   "id": "03f00212-2622-4557-9a88-28f039926141",
   "metadata": {},
   "outputs": [],
   "source": [
    "print(blk_7_img_names)"
   ]
  },
  {
   "cell_type": "code",
   "execution_count": null,
   "id": "93241057-d186-475b-93da-f8596ade03d3",
   "metadata": {},
   "outputs": [],
   "source": [
    "save_subs_path_7 = 'all_preprocessed_data/Block_0201/sub_images_and_counts'"
   ]
  },
  {
   "cell_type": "code",
   "execution_count": null,
   "id": "46b1f42b-aced-4316-8060-a9aa25805357",
   "metadata": {},
   "outputs": [],
   "source": [
    "%%time\n",
    "catch_everything_7 = []\n",
    "for item in range(len(blk_7_img_names)):\n",
    "    all_of_it_7 = create_subwindows_and_counts(path_to_contents_blk_7, blk_7_img_names[item], blk_7_convolutions[item], save_subs_path_7, stride = 300, kernel_size = 300)\n",
    "    catch_everything_7.append(all_of_it_7)"
   ]
  },
  {
   "cell_type": "code",
   "execution_count": null,
   "id": "dfb9f6ff-b8c2-4d6e-b6de-3f918659c571",
   "metadata": {},
   "outputs": [],
   "source": [
    "# how many files in here - that divided by 2*20 would be the number of TS sequences that we will have\n",
    "how_many = os.listdir(save_subs_path_7)\n",
    "len(how_many)/(2*20)"
   ]
  },
  {
   "cell_type": "code",
   "execution_count": null,
   "id": "9d6eedf4-8c01-4067-9c7e-18c566a031a9",
   "metadata": {},
   "outputs": [],
   "source": [
    "%%time\n",
    "# we will create and save dataframes with the subwindow names and the subcounts image-wise for now - later look into dataframe combinations\n",
    "counter = 0\n",
    "for i in range(len(catch_everything_7)):\n",
    "    # create a dataframe\n",
    "    data_frame = pd.DataFrame(zip(catch_everything_7[i][0], catch_everything_7[i][2]), columns = ['subwindow_name', 'sub_counts'])\n",
    "    df_name = 'subcount_df_' + str(counter) + '.csv'\n",
    "    df_path = 'all_preprocessed_data/Block_0201/sub_count_dfs/' + df_name\n",
    "    # save the dataframe\n",
    "    data_frame.to_csv(df_path, index = False)\n",
    "    counter += 1 "
   ]
  },
  {
   "cell_type": "code",
   "execution_count": null,
   "id": "e48904b5-9cf3-41f8-b92e-d243a3518ba4",
   "metadata": {},
   "outputs": [],
   "source": [
    "len(catch_everything_7)"
   ]
  },
  {
   "cell_type": "markdown",
   "id": "a19bce74-4827-428b-8dcc-b9ba7181cc01",
   "metadata": {},
   "source": [
    "Block 0202"
   ]
  },
  {
   "cell_type": "code",
   "execution_count": null,
   "id": "778f47fa-764f-4483-8e90-18bab39878d9",
   "metadata": {},
   "outputs": [],
   "source": [
    "# test the funciton\n",
    "path_to_contents_blk_8 = \"../../S_lab_TasselNet/Block_8_TN/Block_8_images_and_xml\""
   ]
  },
  {
   "cell_type": "code",
   "execution_count": null,
   "id": "4d84f5f6-3b0f-49c0-9d7f-08373c3c1e17",
   "metadata": {},
   "outputs": [],
   "source": [
    "all_ims_8, all_xmls_8 = separate_images_and_xml(path_to_contents_blk_8)"
   ]
  },
  {
   "cell_type": "code",
   "execution_count": null,
   "id": "dc1120ec-e816-4706-a66a-b02d045f42f6",
   "metadata": {},
   "outputs": [],
   "source": [
    "# the function works, check the lengths, the images will be more than the xml files\n",
    "len(all_ims_8), len(all_xmls_8)"
   ]
  },
  {
   "cell_type": "code",
   "execution_count": null,
   "id": "8797d520-0571-4b30-b18b-d4af96fe4c5b",
   "metadata": {},
   "outputs": [],
   "source": [
    "# all_ims_8"
   ]
  },
  {
   "cell_type": "code",
   "execution_count": null,
   "id": "bb95b5b1-e4cf-4d9c-aefb-b9ba380ac791",
   "metadata": {},
   "outputs": [],
   "source": [
    "# all_xmls_8"
   ]
  },
  {
   "cell_type": "code",
   "execution_count": null,
   "id": "0e69c257-a5ab-4907-908a-73d5da2f6194",
   "metadata": {},
   "outputs": [],
   "source": [
    "# the function works!\n",
    "blk8_annot, blk8_not_annot = separate_annotated_and_not(all_ims_8, all_xmls_8)"
   ]
  },
  {
   "cell_type": "code",
   "execution_count": null,
   "id": "a08247ea-4a5f-4f47-b25a-586cc5a19399",
   "metadata": {},
   "outputs": [],
   "source": [
    "# blk8_annot"
   ]
  },
  {
   "cell_type": "code",
   "execution_count": null,
   "id": "52176ad3-ec96-45c0-945b-141199b464e5",
   "metadata": {},
   "outputs": [],
   "source": [
    "blk8_not_annot"
   ]
  },
  {
   "cell_type": "code",
   "execution_count": null,
   "id": "1ce99fd0-1177-4f77-8c3f-672804bf4716",
   "metadata": {},
   "outputs": [],
   "source": [
    "# test the function for block 1\n",
    "a_vi_8, a_vx_8, a_hi_8, a_hx_8 = separate_annnot_vertical_horizontal(blk8_annot, all_xmls_8, 8)"
   ]
  },
  {
   "cell_type": "code",
   "execution_count": null,
   "id": "6989cd9f-a851-4fcc-b92f-5d34ca55ab81",
   "metadata": {},
   "outputs": [],
   "source": [
    "len(a_vi_8), len(a_vx_8), len(a_hi_8), len(a_hx_8)"
   ]
  },
  {
   "cell_type": "code",
   "execution_count": null,
   "id": "afd57d98-bcfb-472d-926b-f48e5041529d",
   "metadata": {},
   "outputs": [],
   "source": [
    "# The function is working\n",
    "check_matching(a_vi_8, a_vx_8), check_matching(a_hi_8, a_hx_8)"
   ]
  },
  {
   "cell_type": "code",
   "execution_count": null,
   "id": "049c24df-51db-46bd-b811-d98f608920ac",
   "metadata": {},
   "outputs": [],
   "source": [
    "all_horizontal_image_names_8 = [file.split(\".\")[0] for file in a_hi_8]\n",
    "all_horizontal_image_names_8.sort()"
   ]
  },
  {
   "cell_type": "code",
   "execution_count": null,
   "id": "3d22b7e9-402c-476e-a3eb-f5703aa02b15",
   "metadata": {},
   "outputs": [],
   "source": [
    "print(all_horizontal_image_names_8)"
   ]
  },
  {
   "cell_type": "code",
   "execution_count": null,
   "id": "3e8d79c4-eb08-4d0f-a433-e15323e9a0e5",
   "metadata": {},
   "outputs": [],
   "source": [
    "len(all_horizontal_image_names_8)"
   ]
  },
  {
   "cell_type": "code",
   "execution_count": null,
   "id": "8a4fc220-d689-4114-a84b-1891fbe4bc69",
   "metadata": {
    "scrolled": true
   },
   "outputs": [],
   "source": [
    "%%time\n",
    "catch_all_8 = []\n",
    "for i in all_horizontal_image_names_8:\n",
    "    contents_i = get_density_maps_horizontal(i, path_to_contents_blk_8)\n",
    "    catch_all_8.append(contents_i)"
   ]
  },
  {
   "cell_type": "code",
   "execution_count": null,
   "id": "477d07ea-4a36-4c7a-88e4-330e7b22fbdd",
   "metadata": {},
   "outputs": [],
   "source": [
    "%%time\n",
    "# just make sure that for each images the real counts and the convolved counts match\n",
    "blk_8_img_names = []\n",
    "blk_8_img_shapes = []\n",
    "blk_8_real_counts = []\n",
    "blk_8_convolved_counts = []\n",
    "blk_8_convolutions = []\n",
    "for i in range(len(catch_all_8)):\n",
    "    blk_8_img_names.append(catch_all_8[i][0])\n",
    "    blk_8_img_shapes.append(catch_all_8[i][1])\n",
    "    blk_8_real_counts.append(catch_all_8[i][2])\n",
    "    blk_8_convolved_counts.append(catch_all_8[i][3])\n",
    "    blk_8_convolutions.append(catch_all_8[i][4])\n"
   ]
  },
  {
   "cell_type": "code",
   "execution_count": null,
   "id": "f19bb329-0f81-4598-9ee7-68c006bc4984",
   "metadata": {},
   "outputs": [],
   "source": [
    "print(blk_8_img_shapes)"
   ]
  },
  {
   "cell_type": "code",
   "execution_count": null,
   "id": "6c5649c8-dcff-4840-a171-a2ae36e7c470",
   "metadata": {},
   "outputs": [],
   "source": [
    "np.round(blk_8_convolved_counts, 0)"
   ]
  },
  {
   "cell_type": "code",
   "execution_count": null,
   "id": "c10753da-385d-45c3-b4bb-f9dcedfbe00d",
   "metadata": {},
   "outputs": [],
   "source": [
    "print(blk_8_real_counts)"
   ]
  },
  {
   "cell_type": "code",
   "execution_count": null,
   "id": "e68b7341-aebc-4ff9-a401-bc19c54c524b",
   "metadata": {},
   "outputs": [],
   "source": [
    "np.mean(blk_8_real_counts == np.round(blk_8_convolved_counts, 0))"
   ]
  },
  {
   "cell_type": "code",
   "execution_count": null,
   "id": "6a57cf20-a9f3-41b9-92b6-5f49590b1bf3",
   "metadata": {},
   "outputs": [],
   "source": [
    "print(blk_8_img_names)"
   ]
  },
  {
   "cell_type": "code",
   "execution_count": null,
   "id": "7b65b654-6edf-480a-ad1f-78afb3b7f349",
   "metadata": {},
   "outputs": [],
   "source": [
    "save_subs_path_8 = 'all_preprocessed_data/Block_0202/sub_images_and_counts'"
   ]
  },
  {
   "cell_type": "code",
   "execution_count": null,
   "id": "7b6465a1-9935-439d-b449-b32093364b18",
   "metadata": {},
   "outputs": [],
   "source": [
    "%%time\n",
    "catch_everything_8 = []\n",
    "for item in range(len(blk_8_img_names)):\n",
    "    all_of_it_8 = create_subwindows_and_counts(path_to_contents_blk_8, blk_8_img_names[item], blk_8_convolutions[item], save_subs_path_8, stride = 300, kernel_size = 300)\n",
    "    catch_everything_8.append(all_of_it_8)"
   ]
  },
  {
   "cell_type": "code",
   "execution_count": null,
   "id": "1cb13cf4-f297-47ef-af0e-ae2ec6deb9f8",
   "metadata": {},
   "outputs": [],
   "source": [
    "# how many files in here - that divided by 2*20 would be the number of TS sequences that we will have\n",
    "how_many = os.listdir(save_subs_path_8)\n",
    "len(how_many)/(2*20)"
   ]
  },
  {
   "cell_type": "code",
   "execution_count": null,
   "id": "6421ab6f-ba3e-409e-a32f-f6a839e42f47",
   "metadata": {},
   "outputs": [],
   "source": [
    "%%time\n",
    "# we will create and save dataframes with the subwindow names and the subcounts image-wise for now - later look into dataframe combinations\n",
    "counter = 0\n",
    "for i in range(len(catch_everything_8)):\n",
    "    # create a dataframe\n",
    "    data_frame = pd.DataFrame(zip(catch_everything_8[i][0], catch_everything_8[i][2]), columns = ['subwindow_name', 'sub_counts'])\n",
    "    df_name = 'subcount_df_' + str(counter) + '.csv'\n",
    "    df_path = 'all_preprocessed_data/Block_0202/sub_count_dfs/' + df_name\n",
    "    # save the dataframe\n",
    "    data_frame.to_csv(df_path, index = False)\n",
    "    counter += 1 "
   ]
  },
  {
   "cell_type": "code",
   "execution_count": null,
   "id": "3ca38a05-3a94-4d8a-a366-e253c3003cc8",
   "metadata": {},
   "outputs": [],
   "source": [
    "len(catch_everything_8)"
   ]
  },
  {
   "cell_type": "markdown",
   "id": "64a63bde-3ff6-49d8-a3fe-03413b0a8d69",
   "metadata": {},
   "source": [
    "Block 0205"
   ]
  },
  {
   "cell_type": "code",
   "execution_count": null,
   "id": "e89a8d94-04d8-43f2-a262-6f026328ab1e",
   "metadata": {},
   "outputs": [],
   "source": [
    "# test the funciton\n",
    "path_to_contents_blk_11 = \"../../S_lab_TasselNet/Block_11_TN/Block_11_images_and_xml\""
   ]
  },
  {
   "cell_type": "code",
   "execution_count": null,
   "id": "c0de1df7-94f4-45be-b7b4-53870266df86",
   "metadata": {},
   "outputs": [],
   "source": [
    "all_ims_11, all_xmls_11 = separate_images_and_xml(path_to_contents_blk_11)"
   ]
  },
  {
   "cell_type": "code",
   "execution_count": null,
   "id": "fc3c3830-b9cb-4b82-8b37-598b5a3bfdb7",
   "metadata": {},
   "outputs": [],
   "source": [
    "# the function works, check the lengths, the images will be more than the xml files\n",
    "len(all_ims_11), len(all_xmls_11)"
   ]
  },
  {
   "cell_type": "code",
   "execution_count": null,
   "id": "003517a3-f0f5-4ab1-bd0a-0e0243156a06",
   "metadata": {},
   "outputs": [],
   "source": [
    "# all_ims_11"
   ]
  },
  {
   "cell_type": "code",
   "execution_count": null,
   "id": "75664d2e-f677-40a3-9d1b-4dedcc315ed3",
   "metadata": {},
   "outputs": [],
   "source": [
    "# all_xmls_11"
   ]
  },
  {
   "cell_type": "code",
   "execution_count": null,
   "id": "6f9a8196-06e8-4538-b9f0-2adb694efa22",
   "metadata": {},
   "outputs": [],
   "source": [
    "blk11_annot, blk11_not_annot = separate_annotated_and_not(all_ims_11, all_xmls_11)"
   ]
  },
  {
   "cell_type": "code",
   "execution_count": null,
   "id": "83d73f33-fe00-4667-b8f1-bf5c4d465a13",
   "metadata": {},
   "outputs": [],
   "source": [
    "# blk11_annot"
   ]
  },
  {
   "cell_type": "code",
   "execution_count": null,
   "id": "02c36cc4-e559-494b-8387-2ba16ff96e77",
   "metadata": {},
   "outputs": [],
   "source": [
    "blk11_not_annot"
   ]
  },
  {
   "cell_type": "code",
   "execution_count": null,
   "id": "71d4b347-e841-48b2-ba1e-081f310bca59",
   "metadata": {},
   "outputs": [],
   "source": [
    "# test the function for block 1\n",
    "a_vi_11, a_vx_11, a_hi_11, a_hx_11 = separate_annnot_vertical_horizontal(blk11_annot, all_xmls_11, 6)"
   ]
  },
  {
   "cell_type": "code",
   "execution_count": null,
   "id": "0ada9948-5273-4785-831d-7fe65c8ebd9e",
   "metadata": {},
   "outputs": [],
   "source": [
    "len(a_vi_11), len(a_vx_11), len(a_hi_11), len(a_hx_11)"
   ]
  },
  {
   "cell_type": "code",
   "execution_count": null,
   "id": "75826b07-dd3c-4054-a4c0-53aea8e3d7a7",
   "metadata": {},
   "outputs": [],
   "source": [
    "# The function is working\n",
    "check_matching(a_vi_11, a_vx_11), check_matching(a_hi_11, a_hx_11)"
   ]
  },
  {
   "cell_type": "code",
   "execution_count": null,
   "id": "f2b669e0-216f-47ce-b54d-fba215461987",
   "metadata": {},
   "outputs": [],
   "source": [
    "all_horizontal_image_names_11 = [file.split(\".\")[0] for file in a_hi_11]\n",
    "all_horizontal_image_names_11.sort()"
   ]
  },
  {
   "cell_type": "code",
   "execution_count": null,
   "id": "2f28e9cd-f02a-4a0e-aa40-71772ae0512b",
   "metadata": {},
   "outputs": [],
   "source": [
    "print(all_horizontal_image_names_11)"
   ]
  },
  {
   "cell_type": "code",
   "execution_count": null,
   "id": "1f05f61c-5be6-4d54-ad28-b129abd48a01",
   "metadata": {},
   "outputs": [],
   "source": [
    "len(all_horizontal_image_names_11)"
   ]
  },
  {
   "cell_type": "code",
   "execution_count": null,
   "id": "326cdb41-40b7-4b9d-ade3-2e552ad76e66",
   "metadata": {
    "scrolled": true
   },
   "outputs": [],
   "source": [
    "%%time\n",
    "catch_all_11 = []\n",
    "for i in all_horizontal_image_names_11:\n",
    "    contents_i = get_density_maps_horizontal(i, path_to_contents_blk_11)\n",
    "    catch_all_11.append(contents_i)"
   ]
  },
  {
   "cell_type": "code",
   "execution_count": null,
   "id": "57d8925b-97c4-4f89-9c92-bf76b80b7553",
   "metadata": {},
   "outputs": [],
   "source": [
    "%%time\n",
    "# just make sure that for each images the real counts and the convolved counts match\n",
    "blk_11_img_names = []\n",
    "blk_11_img_shapes = []\n",
    "blk_11_real_counts = []\n",
    "blk_11_convolved_counts = []\n",
    "blk_11_convolutions = []\n",
    "for i in range(len(catch_all_11)):\n",
    "    blk_11_img_names.append(catch_all_11[i][0])\n",
    "    blk_11_img_shapes.append(catch_all_11[i][1])\n",
    "    blk_11_real_counts.append(catch_all_11[i][2])\n",
    "    blk_11_convolved_counts.append(catch_all_11[i][3])\n",
    "    blk_11_convolutions.append(catch_all_11[i][4])\n"
   ]
  },
  {
   "cell_type": "code",
   "execution_count": null,
   "id": "d0a1dad7-1e40-401f-a31a-735c2cfd9828",
   "metadata": {},
   "outputs": [],
   "source": [
    "print(blk_11_img_shapes)"
   ]
  },
  {
   "cell_type": "code",
   "execution_count": null,
   "id": "cf79357c-328a-4f9d-b1fd-8600841bd0bf",
   "metadata": {},
   "outputs": [],
   "source": [
    "np.round(blk_11_convolved_counts, 0)"
   ]
  },
  {
   "cell_type": "code",
   "execution_count": null,
   "id": "d5ceb40a-beef-42ca-809d-ea9ae5962606",
   "metadata": {},
   "outputs": [],
   "source": [
    "print(blk_11_real_counts)"
   ]
  },
  {
   "cell_type": "code",
   "execution_count": null,
   "id": "b9638fc6-73c3-4a5e-8052-543889e40ff1",
   "metadata": {},
   "outputs": [],
   "source": [
    "np.mean(blk_11_real_counts == np.round(blk_11_convolved_counts, 0))"
   ]
  },
  {
   "cell_type": "code",
   "execution_count": null,
   "id": "53fc4a3f-ad34-4b38-88f3-e43040024161",
   "metadata": {},
   "outputs": [],
   "source": [
    "print(blk_11_img_names)"
   ]
  },
  {
   "cell_type": "code",
   "execution_count": null,
   "id": "f726a511-de5f-41b8-99a3-d0907d874bb2",
   "metadata": {},
   "outputs": [],
   "source": [
    "save_subs_path_11 = 'all_preprocessed_data/Block_0205/sub_images_and_counts'"
   ]
  },
  {
   "cell_type": "code",
   "execution_count": null,
   "id": "2e53d28c-8ceb-4eff-ac2e-28739577b77d",
   "metadata": {},
   "outputs": [],
   "source": [
    "%%time\n",
    "catch_everything_11 = []\n",
    "for item in range(len(blk_11_img_names)):\n",
    "    all_of_it_11 = create_subwindows_and_counts(path_to_contents_blk_11, blk_11_img_names[item], blk_11_convolutions[item], save_subs_path_11, stride = 300, kernel_size = 300)\n",
    "    catch_everything_11.append(all_of_it_11)"
   ]
  },
  {
   "cell_type": "code",
   "execution_count": null,
   "id": "a4a4c6ad-cb7b-407a-a2ca-2309bde8581d",
   "metadata": {},
   "outputs": [],
   "source": [
    "# how many files in here - that divided by 2*20 would be the number of TS sequences that we will have\n",
    "how_many = os.listdir(save_subs_path_11)\n",
    "len(how_many)/(2*20)"
   ]
  },
  {
   "cell_type": "code",
   "execution_count": null,
   "id": "f350d65d-353c-4909-b129-5a9cc93bee6f",
   "metadata": {},
   "outputs": [],
   "source": [
    "%%time\n",
    "# we will create and save dataframes with the subwindow names and the subcounts image-wise for now - later look into dataframe combinations\n",
    "counter = 0\n",
    "for i in range(len(catch_everything_11)):\n",
    "    # create a dataframe\n",
    "    data_frame = pd.DataFrame(zip(catch_everything_11[i][0], catch_everything_11[i][2]), columns = ['subwindow_name', 'sub_counts'])\n",
    "    df_name = 'subcount_df_' + str(counter) + '.csv'\n",
    "    df_path = 'all_preprocessed_data/Block_0205/sub_count_dfs/' + df_name\n",
    "    # save the dataframe\n",
    "    data_frame.to_csv(df_path, index = False)\n",
    "    counter += 1 "
   ]
  },
  {
   "cell_type": "code",
   "execution_count": null,
   "id": "db983121-7288-4083-aa1b-40269f704b62",
   "metadata": {},
   "outputs": [],
   "source": [
    "len(catch_everything_11)"
   ]
  },
  {
   "cell_type": "markdown",
   "id": "08b0a130-b907-461f-a618-61e56c42a141",
   "metadata": {},
   "source": [
    "Block 0206"
   ]
  },
  {
   "cell_type": "code",
   "execution_count": null,
   "id": "1e728109-85d5-437d-9ffc-4488b57dfd62",
   "metadata": {},
   "outputs": [],
   "source": [
    "# test the funciton\n",
    "path_to_contents_blk_12 = \"../../S_lab_TasselNet/Block_12_TN/Block_12_images_and_xml\""
   ]
  },
  {
   "cell_type": "code",
   "execution_count": null,
   "id": "fdd3621f-7176-4e2b-9894-7eb411b9929e",
   "metadata": {},
   "outputs": [],
   "source": [
    "all_ims_12, all_xmls_12 = separate_images_and_xml(path_to_contents_blk_12)"
   ]
  },
  {
   "cell_type": "code",
   "execution_count": null,
   "id": "eb459845-dd4a-4999-87ac-b617f5e5f88d",
   "metadata": {},
   "outputs": [],
   "source": [
    "# the function works, check the lengths, the images will be more than the xml files\n",
    "len(all_ims_12), len(all_xmls_12)"
   ]
  },
  {
   "cell_type": "code",
   "execution_count": null,
   "id": "813faa3c-240b-4ae8-8827-a988a0be5142",
   "metadata": {},
   "outputs": [],
   "source": [
    "# all_ims_12"
   ]
  },
  {
   "cell_type": "code",
   "execution_count": null,
   "id": "6ac5f736-7e02-4419-99b1-d221c55ae726",
   "metadata": {},
   "outputs": [],
   "source": [
    "# all_xmls_12"
   ]
  },
  {
   "cell_type": "code",
   "execution_count": null,
   "id": "3bc14c4b-f0b2-4b40-876b-668ec6744aee",
   "metadata": {},
   "outputs": [],
   "source": [
    "blk12_annot, blk12_not_annot = separate_annotated_and_not(all_ims_12, all_xmls_12)"
   ]
  },
  {
   "cell_type": "code",
   "execution_count": null,
   "id": "d5d87dff-1be8-46ca-b585-f5d5e1427014",
   "metadata": {},
   "outputs": [],
   "source": [
    "# blk12_annot"
   ]
  },
  {
   "cell_type": "code",
   "execution_count": null,
   "id": "810c8b9e-c3d7-4bb1-84ec-44829c3fb314",
   "metadata": {},
   "outputs": [],
   "source": [
    "# blk12_not_annot"
   ]
  },
  {
   "cell_type": "code",
   "execution_count": null,
   "id": "4327a321-b9c0-4b3b-9474-aca4da54d8ee",
   "metadata": {},
   "outputs": [],
   "source": [
    "# test the function for block 1\n",
    "a_vi_12, a_vx_12, a_hi_12, a_hx_12 = separate_annnot_vertical_horizontal(blk12_annot, all_xmls_12, 7)"
   ]
  },
  {
   "cell_type": "code",
   "execution_count": null,
   "id": "b4ea8ca3-afed-4661-b709-dfe8853556af",
   "metadata": {},
   "outputs": [],
   "source": [
    "len(a_vi_12), len(a_vx_12), len(a_hi_12), len(a_hx_12)"
   ]
  },
  {
   "cell_type": "code",
   "execution_count": null,
   "id": "3c3e4097-ae11-4432-be88-6d7953337340",
   "metadata": {},
   "outputs": [],
   "source": [
    "# The function is working\n",
    "check_matching(a_vi_12, a_vx_12), check_matching(a_hi_12, a_hx_12)"
   ]
  },
  {
   "cell_type": "code",
   "execution_count": null,
   "id": "739473cd-6dbe-46fb-af27-a4a0fe229d1d",
   "metadata": {},
   "outputs": [],
   "source": [
    "all_horizontal_image_names_12 = [file.split(\".\")[0] for file in a_hi_12]\n",
    "all_horizontal_image_names_12.sort()"
   ]
  },
  {
   "cell_type": "code",
   "execution_count": null,
   "id": "b23158ec-347c-47b9-9974-26e70c326154",
   "metadata": {},
   "outputs": [],
   "source": [
    "print(all_horizontal_image_names_12)"
   ]
  },
  {
   "cell_type": "code",
   "execution_count": null,
   "id": "47a2a3a4-d051-4369-a92e-5a290af5e0e7",
   "metadata": {},
   "outputs": [],
   "source": [
    "len(all_horizontal_image_names_12)"
   ]
  },
  {
   "cell_type": "code",
   "execution_count": null,
   "id": "65a58d20-1619-4b64-acb3-a0e2837c23b7",
   "metadata": {
    "scrolled": true
   },
   "outputs": [],
   "source": [
    "%%time\n",
    "catch_all_12 = []\n",
    "for i in all_horizontal_image_names_12:\n",
    "    contents_i = get_density_maps_horizontal(i, path_to_contents_blk_12)\n",
    "    catch_all_12.append(contents_i)"
   ]
  },
  {
   "cell_type": "code",
   "execution_count": null,
   "id": "b644bf01-ee80-4566-bf4d-887768093fbe",
   "metadata": {},
   "outputs": [],
   "source": [
    "%%time\n",
    "# just make sure that for each images the real counts and the convolved counts match\n",
    "blk_12_img_names = []\n",
    "blk_12_img_shapes = []\n",
    "blk_12_real_counts = []\n",
    "blk_12_convolved_counts = []\n",
    "blk_12_convolutions = []\n",
    "for i in range(len(catch_all_12)):\n",
    "    blk_12_img_names.append(catch_all_12[i][0])\n",
    "    blk_12_img_shapes.append(catch_all_12[i][1])\n",
    "    blk_12_real_counts.append(catch_all_12[i][2])\n",
    "    blk_12_convolved_counts.append(catch_all_12[i][3])\n",
    "    blk_12_convolutions.append(catch_all_12[i][4])\n"
   ]
  },
  {
   "cell_type": "code",
   "execution_count": null,
   "id": "c1f4a985-f322-4fc7-a898-640f54531f06",
   "metadata": {},
   "outputs": [],
   "source": [
    "print(blk_12_img_shapes)"
   ]
  },
  {
   "cell_type": "code",
   "execution_count": null,
   "id": "3e4cf2ad-fa1b-4e4d-8c1c-9c8d65a6bcbb",
   "metadata": {},
   "outputs": [],
   "source": [
    "np.round(blk_12_convolved_counts, 0)"
   ]
  },
  {
   "cell_type": "code",
   "execution_count": null,
   "id": "8758623d-157a-41b5-9822-bf22bc65e5bd",
   "metadata": {},
   "outputs": [],
   "source": [
    "print(blk_12_real_counts)"
   ]
  },
  {
   "cell_type": "code",
   "execution_count": null,
   "id": "60ead14b-c0f3-4da4-9b31-27f8868d41fd",
   "metadata": {},
   "outputs": [],
   "source": [
    "np.mean(blk_12_real_counts == np.round(blk_12_convolved_counts, 0))"
   ]
  },
  {
   "cell_type": "code",
   "execution_count": null,
   "id": "3c281263-b0b1-488f-a9d1-6610bb56f10c",
   "metadata": {},
   "outputs": [],
   "source": [
    "print(blk_12_img_names)"
   ]
  },
  {
   "cell_type": "code",
   "execution_count": null,
   "id": "0a1f1d72-2164-4720-9f13-f3c87c45427d",
   "metadata": {},
   "outputs": [],
   "source": [
    "save_subs_path_12 = 'all_preprocessed_data/Block_0206/sub_images_and_counts'"
   ]
  },
  {
   "cell_type": "code",
   "execution_count": null,
   "id": "12e1f9f8-b052-460a-997f-34f2c4d9fda3",
   "metadata": {},
   "outputs": [],
   "source": [
    "%%time\n",
    "catch_everything_12 = []\n",
    "for item in range(len(blk_12_img_names)):\n",
    "    all_of_it_12 = create_subwindows_and_counts(path_to_contents_blk_12, blk_12_img_names[item], blk_12_convolutions[item], save_subs_path_12, stride = 300, kernel_size = 300)\n",
    "    catch_everything_12.append(all_of_it_12)"
   ]
  },
  {
   "cell_type": "code",
   "execution_count": null,
   "id": "d9f46c21-a4c0-40d0-9e68-df20df3b183e",
   "metadata": {},
   "outputs": [],
   "source": [
    "# how many files in here - that divided by 2*20 would be the number of TS sequences that we will have\n",
    "how_many = os.listdir(save_subs_path_12)\n",
    "len(how_many)/(2*20)"
   ]
  },
  {
   "cell_type": "code",
   "execution_count": null,
   "id": "b065e292-7043-4c24-9dd1-74d336401f33",
   "metadata": {},
   "outputs": [],
   "source": [
    "%%time\n",
    "# we will create and save dataframes with the subwindow names and the subcounts image-wise for now - later look into dataframe combinations\n",
    "counter = 0\n",
    "for i in range(len(catch_everything_12)):\n",
    "    # create a dataframe\n",
    "    data_frame = pd.DataFrame(zip(catch_everything_12[i][0], catch_everything_12[i][2]), columns = ['subwindow_name', 'sub_counts'])\n",
    "    df_name = 'subcount_df_' + str(counter) + '.csv'\n",
    "    df_path = 'all_preprocessed_data/Block_0206/sub_count_dfs/' + df_name\n",
    "    # save the dataframe\n",
    "    data_frame.to_csv(df_path, index = False)\n",
    "    counter += 1 "
   ]
  },
  {
   "cell_type": "code",
   "execution_count": null,
   "id": "76fa4210-3f1d-4f41-a350-03ac5dbdc48f",
   "metadata": {},
   "outputs": [],
   "source": [
    "len(catch_everything_12)"
   ]
  },
  {
   "cell_type": "markdown",
   "id": "bdc7eaac-a45e-4550-908b-5cdad2179947",
   "metadata": {},
   "source": [
    "Block 0302"
   ]
  },
  {
   "cell_type": "code",
   "execution_count": null,
   "id": "7cdb7e4a-4725-40d8-9e71-2edd3bbe216c",
   "metadata": {},
   "outputs": [],
   "source": [
    "# test the funciton\n",
    "path_to_contents_blk_14 = \"../../S_lab_TasselNet/Block_14_TN/Block_14_images_and_xml\""
   ]
  },
  {
   "cell_type": "code",
   "execution_count": null,
   "id": "c8722e57-1e95-4675-9805-cff9a80295b9",
   "metadata": {},
   "outputs": [],
   "source": [
    "all_ims_14, all_xmls_14 = separate_images_and_xml(path_to_contents_blk_14)"
   ]
  },
  {
   "cell_type": "code",
   "execution_count": null,
   "id": "15c30a13-c11a-46bb-bebb-2ec04aeac6d8",
   "metadata": {},
   "outputs": [],
   "source": [
    "# the function works, check the lengths, the images will be more than the xml files\n",
    "len(all_ims_14), len(all_xmls_14)"
   ]
  },
  {
   "cell_type": "code",
   "execution_count": null,
   "id": "85a7eb8a-ffab-46b5-b0a7-cbeaaac7395f",
   "metadata": {},
   "outputs": [],
   "source": [
    "# all_ims_14"
   ]
  },
  {
   "cell_type": "code",
   "execution_count": null,
   "id": "31408793-7f24-468a-bdfe-0731d4e94521",
   "metadata": {},
   "outputs": [],
   "source": [
    "# all_xmls_14"
   ]
  },
  {
   "cell_type": "code",
   "execution_count": null,
   "id": "784c24b1-3758-4f1d-b58f-ce8b3409c089",
   "metadata": {},
   "outputs": [],
   "source": [
    "blk14_annot, blk14_not_annot = separate_annotated_and_not(all_ims_14, all_xmls_14)"
   ]
  },
  {
   "cell_type": "code",
   "execution_count": null,
   "id": "0b401101-8d98-44f0-bfaa-36568c045ccb",
   "metadata": {},
   "outputs": [],
   "source": [
    "# blk14_annot"
   ]
  },
  {
   "cell_type": "code",
   "execution_count": null,
   "id": "a475fd69-7b79-436a-a6ca-43ea77842510",
   "metadata": {},
   "outputs": [],
   "source": [
    "# blk14_not_annot"
   ]
  },
  {
   "cell_type": "code",
   "execution_count": null,
   "id": "33276aeb-fd6a-4a95-9e01-329a43a55107",
   "metadata": {},
   "outputs": [],
   "source": [
    "# test the function for block 1\n",
    "a_vi_14, a_vx_14, a_hi_14, a_hx_14 = separate_annnot_vertical_horizontal(blk14_annot, all_xmls_14, 7)"
   ]
  },
  {
   "cell_type": "code",
   "execution_count": null,
   "id": "69a8a683-2c75-4290-bd4d-d25bf5f3d0d4",
   "metadata": {},
   "outputs": [],
   "source": [
    "len(a_vi_14), len(a_vx_14), len(a_hi_14), len(a_hx_14)"
   ]
  },
  {
   "cell_type": "code",
   "execution_count": null,
   "id": "ed580d83-2df3-42b4-8333-45db8571f57c",
   "metadata": {},
   "outputs": [],
   "source": [
    "# The function is working\n",
    "check_matching(a_vi_14, a_vx_14), check_matching(a_hi_14, a_hx_14)"
   ]
  },
  {
   "cell_type": "code",
   "execution_count": null,
   "id": "b9355f36-425f-4b99-bb8d-6a9bca54eaa9",
   "metadata": {},
   "outputs": [],
   "source": [
    "all_horizontal_image_names_14 = [file.split(\".\")[0] for file in a_hi_14]\n",
    "all_horizontal_image_names_14.sort()"
   ]
  },
  {
   "cell_type": "code",
   "execution_count": null,
   "id": "0814d7b3-5fe5-4b66-9473-4128b8511972",
   "metadata": {},
   "outputs": [],
   "source": [
    "print(all_horizontal_image_names_14)"
   ]
  },
  {
   "cell_type": "code",
   "execution_count": null,
   "id": "960e364a-2a82-4263-8042-5af18c953761",
   "metadata": {},
   "outputs": [],
   "source": [
    "len(all_horizontal_image_names_14)"
   ]
  },
  {
   "cell_type": "code",
   "execution_count": null,
   "id": "20d6b8e4-6ee0-4f0f-83c9-5be96b7f6317",
   "metadata": {
    "scrolled": true
   },
   "outputs": [],
   "source": [
    "%%time\n",
    "catch_all_14 = []\n",
    "for i in all_horizontal_image_names_14:\n",
    "    contents_i = get_density_maps_horizontal(i, path_to_contents_blk_14)\n",
    "    catch_all_14.append(contents_i)"
   ]
  },
  {
   "cell_type": "code",
   "execution_count": null,
   "id": "e2b08984-06e3-426b-b1bc-a1053847e75c",
   "metadata": {},
   "outputs": [],
   "source": [
    "%%time\n",
    "# just make sure that for each images the real counts and the convolved counts match\n",
    "blk_14_img_names = []\n",
    "blk_14_img_shapes = []\n",
    "blk_14_real_counts = []\n",
    "blk_14_convolved_counts = []\n",
    "blk_14_convolutions = []\n",
    "for i in range(len(catch_all_14)):\n",
    "    blk_14_img_names.append(catch_all_14[i][0])\n",
    "    blk_14_img_shapes.append(catch_all_14[i][1])\n",
    "    blk_14_real_counts.append(catch_all_14[i][2])\n",
    "    blk_14_convolved_counts.append(catch_all_14[i][3])\n",
    "    blk_14_convolutions.append(catch_all_14[i][4])\n"
   ]
  },
  {
   "cell_type": "code",
   "execution_count": null,
   "id": "cb501950-8d1b-421c-b295-318bec53557b",
   "metadata": {},
   "outputs": [],
   "source": [
    "print(blk_14_img_shapes)"
   ]
  },
  {
   "cell_type": "code",
   "execution_count": null,
   "id": "34bba1bd-d16b-40a7-a9de-2020f08285eb",
   "metadata": {},
   "outputs": [],
   "source": [
    "np.round(blk_14_convolved_counts, 0)"
   ]
  },
  {
   "cell_type": "code",
   "execution_count": null,
   "id": "ea23b4ae-d610-4476-aa83-3db4532d98b0",
   "metadata": {},
   "outputs": [],
   "source": [
    "print(blk_14_real_counts)"
   ]
  },
  {
   "cell_type": "code",
   "execution_count": null,
   "id": "2e86c311-2dd0-43ea-b4c3-b487eaf97252",
   "metadata": {},
   "outputs": [],
   "source": [
    "np.mean(blk_14_real_counts == np.round(blk_14_convolved_counts, 0))"
   ]
  },
  {
   "cell_type": "code",
   "execution_count": null,
   "id": "b7c17cc1-7bd2-4611-9afc-8e516a4fca7b",
   "metadata": {},
   "outputs": [],
   "source": [
    "print(blk_14_img_names)"
   ]
  },
  {
   "cell_type": "code",
   "execution_count": null,
   "id": "04f4ee88-d43a-4a0e-9ef0-ddf1bb3c0f19",
   "metadata": {},
   "outputs": [],
   "source": [
    "save_subs_path_14 = 'all_preprocessed_data/Block_0302/sub_images_and_counts'"
   ]
  },
  {
   "cell_type": "code",
   "execution_count": null,
   "id": "98aa954d-f9c5-40c5-a841-067d4b0eb925",
   "metadata": {},
   "outputs": [],
   "source": [
    "%%time\n",
    "catch_everything_14 = []\n",
    "for item in range(len(blk_14_img_names)):\n",
    "    all_of_it_14 = create_subwindows_and_counts(path_to_contents_blk_14, blk_14_img_names[item], blk_14_convolutions[item], save_subs_path_14, stride = 300, kernel_size = 300)\n",
    "    catch_everything_14.append(all_of_it_14)"
   ]
  },
  {
   "cell_type": "code",
   "execution_count": null,
   "id": "0f121b63-1410-40c0-855c-6097d307ec1e",
   "metadata": {},
   "outputs": [],
   "source": [
    "# how many files in here - that divided by 2*20 would be the number of TS sequences that we will have\n",
    "how_many = os.listdir(save_subs_path_14)\n",
    "len(how_many)/(2*20)"
   ]
  },
  {
   "cell_type": "code",
   "execution_count": null,
   "id": "9c60ea1a-f0c9-4286-baef-2ed8af533d31",
   "metadata": {},
   "outputs": [],
   "source": [
    "%%time\n",
    "# we will create and save dataframes with the subwindow names and the subcounts image-wise for now - later look into dataframe combinations\n",
    "counter = 0\n",
    "for i in range(len(catch_everything_14)):\n",
    "    # create a dataframe\n",
    "    data_frame = pd.DataFrame(zip(catch_everything_14[i][0], catch_everything_14[i][2]), columns = ['subwindow_name', 'sub_counts'])\n",
    "    df_name = 'subcount_df_' + str(counter) + '.csv'\n",
    "    df_path = 'all_preprocessed_data/Block_0302/sub_count_dfs/' + df_name\n",
    "    # save the dataframe\n",
    "    data_frame.to_csv(df_path, index = False)\n",
    "    counter += 1 "
   ]
  },
  {
   "cell_type": "code",
   "execution_count": null,
   "id": "3d94d61a-f695-489c-b986-9689af16f6a3",
   "metadata": {},
   "outputs": [],
   "source": [
    "len(catch_everything_14)"
   ]
  }
 ],
 "metadata": {
  "kernelspec": {
   "display_name": "Python (tfp_for_TN)",
   "language": "python",
   "name": "tfp_for_tn"
  },
  "language_info": {
   "codemirror_mode": {
    "name": "ipython",
    "version": 3
   },
   "file_extension": ".py",
   "mimetype": "text/x-python",
   "name": "python",
   "nbconvert_exporter": "python",
   "pygments_lexer": "ipython3",
   "version": "3.10.14"
  }
 },
 "nbformat": 4,
 "nbformat_minor": 5
}
