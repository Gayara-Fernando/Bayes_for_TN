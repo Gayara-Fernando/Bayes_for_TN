{
 "cells": [
  {
   "cell_type": "markdown",
   "id": "3bf08190-4b44-41b8-8179-f571b55697a5",
   "metadata": {},
   "source": [
    "We will also use the previously created train and validation files."
   ]
  },
  {
   "cell_type": "code",
   "execution_count": 1,
   "id": "391a55db-a1dc-46fa-8730-61420f2829e6",
   "metadata": {},
   "outputs": [
    {
     "name": "stderr",
     "output_type": "stream",
     "text": [
      "2024-06-17 18:05:30.267125: I tensorflow/core/util/port.cc:113] oneDNN custom operations are on. You may see slightly different numerical results due to floating-point round-off errors from different computation orders. To turn them off, set the environment variable `TF_ENABLE_ONEDNN_OPTS=0`.\n",
      "2024-06-17 18:05:31.559389: E external/local_xla/xla/stream_executor/cuda/cuda_dnn.cc:9261] Unable to register cuDNN factory: Attempting to register factory for plugin cuDNN when one has already been registered\n",
      "2024-06-17 18:05:31.559465: E external/local_xla/xla/stream_executor/cuda/cuda_fft.cc:607] Unable to register cuFFT factory: Attempting to register factory for plugin cuFFT when one has already been registered\n",
      "2024-06-17 18:05:31.710496: E external/local_xla/xla/stream_executor/cuda/cuda_blas.cc:1515] Unable to register cuBLAS factory: Attempting to register factory for plugin cuBLAS when one has already been registered\n",
      "2024-06-17 18:05:31.981894: I tensorflow/core/platform/cpu_feature_guard.cc:182] This TensorFlow binary is optimized to use available CPU instructions in performance-critical operations.\n",
      "To enable the following instructions: SSE4.1 SSE4.2 AVX AVX2 AVX512F AVX512_VNNI FMA, in other operations, rebuild TensorFlow with the appropriate compiler flags.\n"
     ]
    }
   ],
   "source": [
    "# import the necessary packages\n",
    "import numpy as np\n",
    "import pandas as pd\n",
    "import matplotlib.pyplot as plt\n",
    "import tensorflow as tf\n",
    "import os\n",
    "from scipy import ndimage\n",
    "from sklearn.model_selection import train_test_split"
   ]
  },
  {
   "cell_type": "code",
   "execution_count": 2,
   "id": "7ee02b6c-a4dd-4c6c-9721-64bbb3213c61",
   "metadata": {},
   "outputs": [
    {
     "data": {
      "text/plain": [
       "[PhysicalDevice(name='/physical_device:GPU:0', device_type='GPU')]"
      ]
     },
     "execution_count": 2,
     "metadata": {},
     "output_type": "execute_result"
    }
   ],
   "source": [
    "tf.config.list_physical_devices(\"GPU\")"
   ]
  },
  {
   "cell_type": "code",
   "execution_count": 3,
   "id": "a5ae6497-d892-49ba-86a4-81e121d4f2b6",
   "metadata": {},
   "outputs": [],
   "source": [
    "sub_window_and_count_path_train = \"../../S_lab_TasselNet/Method_2/final_train_sub_windows_and_counts\"\n",
    "sub_window_and_count_path_valid = \"../../S_lab_TasselNet/Method_2/final_valid_sub_windows_and_counts\""
   ]
  },
  {
   "cell_type": "code",
   "execution_count": 4,
   "id": "e7cd701e-e95f-43be-8684-26525fd6e11a",
   "metadata": {},
   "outputs": [
    {
     "name": "stdout",
     "output_type": "stream",
     "text": [
      "(1572864, 32, 32, 3)\n",
      "(1572864,)\n",
      "CPU times: user 99 ms, sys: 29.7 s, total: 29.8 s\n",
      "Wall time: 1min 20s\n"
     ]
    }
   ],
   "source": [
    "%%time\n",
    "# load the data\n",
    "\n",
    "# subwindow data\n",
    "X_train = np.load(os.path.join(sub_window_and_count_path_train, 'train_sub_windows.npy'))\n",
    "print(X_train.shape)\n",
    "\n",
    "# sub counts data\n",
    "y_train = np.load(os.path.join(sub_window_and_count_path_train,'train_sub_counts.npy'))\n",
    "print(y_train.shape)"
   ]
  },
  {
   "cell_type": "code",
   "execution_count": 5,
   "id": "ff6d46f3-8e37-4b88-b6a2-0cf08ece75d5",
   "metadata": {},
   "outputs": [
    {
     "name": "stdout",
     "output_type": "stream",
     "text": [
      "(393216, 32, 32, 3)\n",
      "(393216,)\n",
      "CPU times: user 4.39 ms, sys: 7.64 s, total: 7.64 s\n",
      "Wall time: 21.8 s\n"
     ]
    }
   ],
   "source": [
    "%%time\n",
    "# load validation data\n",
    "# sub windows\n",
    "X_valid = np.load(os.path.join(sub_window_and_count_path_valid,'valid_sub_windows.npy'))\n",
    "print(X_valid.shape)\n",
    "\n",
    "# sub counts data\n",
    "y_valid = np.load(os.path.join(sub_window_and_count_path_valid,'valid_sub_counts.npy'))\n",
    "print(y_valid.shape)"
   ]
  },
  {
   "cell_type": "code",
   "execution_count": 6,
   "id": "3b53e89c-a8a8-4e85-bab3-a461e254f1fd",
   "metadata": {},
   "outputs": [
    {
     "name": "stderr",
     "output_type": "stream",
     "text": [
      "2024-06-17 18:08:02.981537: I tensorflow/core/common_runtime/gpu/gpu_device.cc:1929] Created device /job:localhost/replica:0/task:0/device:GPU:0 with 31141 MB memory:  -> device: 0, name: Tesla V100S-PCIE-32GB, pci bus id: 0000:06:00.0, compute capability: 7.0\n"
     ]
    },
    {
     "data": {
      "text/plain": [
       "<KerasTensor: shape=(None, None, None, 3) dtype=float32 (created by layer 'input_1')>"
      ]
     },
     "execution_count": 6,
     "metadata": {},
     "output_type": "execute_result"
    }
   ],
   "source": [
    "# load and add the new layers to the prev trained model\n",
    "gmp_model = tf.keras.models.load_model('../../S_lab_TasselNet/models/tasselnet_global_max_pool_04_23_2022.h5')\n",
    "# look at the input shape\n",
    "gmp_model.input"
   ]
  },
  {
   "cell_type": "code",
   "execution_count": 7,
   "id": "4cd3fc22-409f-41f6-a2d5-57ca371db054",
   "metadata": {},
   "outputs": [
    {
     "name": "stdout",
     "output_type": "stream",
     "text": [
      "Model: \"model\"\n",
      "_________________________________________________________________\n",
      " Layer (type)                Output Shape              Param #   \n",
      "=================================================================\n",
      " input_1 (InputLayer)        [(None, None, None, 3)]   0         \n",
      "                                                                 \n",
      " conv2d (Conv2D)             (None, None, None, 32)    896       \n",
      "                                                                 \n",
      " activation (Activation)     (None, None, None, 32)    0         \n",
      "                                                                 \n",
      " conv2d_1 (Conv2D)           (None, None, None, 32)    9248      \n",
      "                                                                 \n",
      " activation_1 (Activation)   (None, None, None, 32)    0         \n",
      "                                                                 \n",
      " max_pooling2d (MaxPooling2  (None, None, None, 32)    0         \n",
      " D)                                                              \n",
      "                                                                 \n",
      " dropout (Dropout)           (None, None, None, 32)    0         \n",
      "                                                                 \n",
      " conv2d_2 (Conv2D)           (None, None, None, 64)    18496     \n",
      "                                                                 \n",
      " activation_2 (Activation)   (None, None, None, 64)    0         \n",
      "                                                                 \n",
      " conv2d_3 (Conv2D)           (None, None, None, 64)    36928     \n",
      "                                                                 \n",
      " activation_3 (Activation)   (None, None, None, 64)    0         \n",
      "                                                                 \n",
      " max_pooling2d_1 (MaxPoolin  (None, None, None, 64)    0         \n",
      " g2D)                                                            \n",
      "                                                                 \n",
      " dropout_1 (Dropout)         (None, None, None, 64)    0         \n",
      "                                                                 \n",
      " global_max_pooling2d (Glob  (None, 64)                0         \n",
      " alMaxPooling2D)                                                 \n",
      "                                                                 \n",
      " dense (Dense)               (None, 512)               33280     \n",
      "                                                                 \n",
      " activation_4 (Activation)   (None, 512)               0         \n",
      "                                                                 \n",
      " dropout_2 (Dropout)         (None, 512)               0         \n",
      "                                                                 \n",
      " dense_1 (Dense)             (None, 1)                 513       \n",
      "                                                                 \n",
      "=================================================================\n",
      "Total params: 99361 (388.13 KB)\n",
      "Trainable params: 99361 (388.13 KB)\n",
      "Non-trainable params: 0 (0.00 Byte)\n",
      "_________________________________________________________________\n"
     ]
    }
   ],
   "source": [
    "gmp_model.summary()"
   ]
  },
  {
   "cell_type": "code",
   "execution_count": 8,
   "id": "1873f97a-5157-42ee-b7b3-6b8648d6872f",
   "metadata": {},
   "outputs": [],
   "source": [
    "# need to remove some of the last layers\n",
    "output_trial = gmp_model.layers[-7].output"
   ]
  },
  {
   "cell_type": "code",
   "execution_count": 9,
   "id": "2bd4f78c-ff91-4d47-a043-d8653d3aa891",
   "metadata": {},
   "outputs": [
    {
     "name": "stdout",
     "output_type": "stream",
     "text": [
      "Model: \"model\"\n",
      "_________________________________________________________________\n",
      " Layer (type)                Output Shape              Param #   \n",
      "=================================================================\n",
      " input_1 (InputLayer)        [(None, None, None, 3)]   0         \n",
      "                                                                 \n",
      " conv2d (Conv2D)             (None, None, None, 32)    896       \n",
      "                                                                 \n",
      " activation (Activation)     (None, None, None, 32)    0         \n",
      "                                                                 \n",
      " conv2d_1 (Conv2D)           (None, None, None, 32)    9248      \n",
      "                                                                 \n",
      " activation_1 (Activation)   (None, None, None, 32)    0         \n",
      "                                                                 \n",
      " max_pooling2d (MaxPooling2  (None, None, None, 32)    0         \n",
      " D)                                                              \n",
      "                                                                 \n",
      " dropout (Dropout)           (None, None, None, 32)    0         \n",
      "                                                                 \n",
      " conv2d_2 (Conv2D)           (None, None, None, 64)    18496     \n",
      "                                                                 \n",
      " activation_2 (Activation)   (None, None, None, 64)    0         \n",
      "                                                                 \n",
      " conv2d_3 (Conv2D)           (None, None, None, 64)    36928     \n",
      "                                                                 \n",
      " activation_3 (Activation)   (None, None, None, 64)    0         \n",
      "                                                                 \n",
      " max_pooling2d_1 (MaxPoolin  (None, None, None, 64)    0         \n",
      " g2D)                                                            \n",
      "                                                                 \n",
      "=================================================================\n",
      "Total params: 65568 (256.12 KB)\n",
      "Trainable params: 65568 (256.12 KB)\n",
      "Non-trainable params: 0 (0.00 Byte)\n",
      "_________________________________________________________________\n"
     ]
    }
   ],
   "source": [
    "# create the functional API model\n",
    "reduced_model = tf.keras.models.Model(gmp_model.input, output_trial)\n",
    "reduced_model.summary()"
   ]
  },
  {
   "cell_type": "code",
   "execution_count": 10,
   "id": "a85a7530-c70d-472a-965d-c0712759e1df",
   "metadata": {},
   "outputs": [],
   "source": [
    "# okay, now need to add back the dropout, the dense and activation\n",
    "\n",
    "# add dropout\n",
    "added_dropout = tf.keras.layers.Dropout(0.5, name = \"New_dropout_0\")(gmp_model.layers[-7].output)\n",
    "\n",
    "# add global max pooling\n",
    "added_flatten = tf.keras.layers.GlobalMaxPooling2D()(added_dropout)\n",
    "\n",
    "# add dense\n",
    "added_dense = tf.keras.layers.Dense(64, name = \"New_Dense_0\")(added_flatten)\n",
    "\n",
    "# add activation\n",
    "added_Act = tf.keras.layers.Activation('relu', name = \"New_Activation_0\")(added_dense)\n",
    "\n",
    "# add dropout\n",
    "added_dropout2 = tf.keras.layers.Dropout(0.5, name = \"New_dropout_1\")(added_Act)\n",
    "\n",
    "# add another dense\n",
    "added_dense_1 = tf.keras.layers.Dense(32, name = \"New_Dense_1\")(added_dropout2)\n",
    "\n",
    "# add activation\n",
    "added_Act_1 = tf.keras.layers.Activation('relu', name = \"New_Activation_1\")(added_dense_1)\n",
    "\n",
    "# add dropout\n",
    "added_dropout3 = tf.keras.layers.Dropout(0.5, name = \"New_dropout_2\")(added_Act_1)\n",
    "\n",
    "# add pred head\n",
    "added_dense_3 = tf.keras.layers.Dense(1, name = \"New_Dense_2\")(added_dropout3)\n",
    "\n",
    "# add activation\n",
    "added_Act_2 = tf.keras.layers.Activation('relu', name = \"New_Activation_2\")(added_dense_3)\n",
    "\n",
    "# define the new model with functional API\n",
    "new_model = tf.keras.models.Model(gmp_model.input, added_Act_2)"
   ]
  },
  {
   "cell_type": "code",
   "execution_count": 11,
   "id": "be70bd10-9b9b-49c4-88f2-eb1fd2b6dd1e",
   "metadata": {},
   "outputs": [
    {
     "name": "stdout",
     "output_type": "stream",
     "text": [
      "Model: \"model_1\"\n",
      "_________________________________________________________________\n",
      " Layer (type)                Output Shape              Param #   \n",
      "=================================================================\n",
      " input_1 (InputLayer)        [(None, None, None, 3)]   0         \n",
      "                                                                 \n",
      " conv2d (Conv2D)             (None, None, None, 32)    896       \n",
      "                                                                 \n",
      " activation (Activation)     (None, None, None, 32)    0         \n",
      "                                                                 \n",
      " conv2d_1 (Conv2D)           (None, None, None, 32)    9248      \n",
      "                                                                 \n",
      " activation_1 (Activation)   (None, None, None, 32)    0         \n",
      "                                                                 \n",
      " max_pooling2d (MaxPooling2  (None, None, None, 32)    0         \n",
      " D)                                                              \n",
      "                                                                 \n",
      " dropout (Dropout)           (None, None, None, 32)    0         \n",
      "                                                                 \n",
      " conv2d_2 (Conv2D)           (None, None, None, 64)    18496     \n",
      "                                                                 \n",
      " activation_2 (Activation)   (None, None, None, 64)    0         \n",
      "                                                                 \n",
      " conv2d_3 (Conv2D)           (None, None, None, 64)    36928     \n",
      "                                                                 \n",
      " activation_3 (Activation)   (None, None, None, 64)    0         \n",
      "                                                                 \n",
      " max_pooling2d_1 (MaxPoolin  (None, None, None, 64)    0         \n",
      " g2D)                                                            \n",
      "                                                                 \n",
      " New_dropout_0 (Dropout)     (None, None, None, 64)    0         \n",
      "                                                                 \n",
      " global_max_pooling2d (Glob  (None, 64)                0         \n",
      " alMaxPooling2D)                                                 \n",
      "                                                                 \n",
      " New_Dense_0 (Dense)         (None, 64)                4160      \n",
      "                                                                 \n",
      " New_Activation_0 (Activati  (None, 64)                0         \n",
      " on)                                                             \n",
      "                                                                 \n",
      " New_dropout_1 (Dropout)     (None, 64)                0         \n",
      "                                                                 \n",
      " New_Dense_1 (Dense)         (None, 32)                2080      \n",
      "                                                                 \n",
      " New_Activation_1 (Activati  (None, 32)                0         \n",
      " on)                                                             \n",
      "                                                                 \n",
      " New_dropout_2 (Dropout)     (None, 32)                0         \n",
      "                                                                 \n",
      " New_Dense_2 (Dense)         (None, 1)                 33        \n",
      "                                                                 \n",
      " New_Activation_2 (Activati  (None, 1)                 0         \n",
      " on)                                                             \n",
      "                                                                 \n",
      "=================================================================\n",
      "Total params: 71841 (280.63 KB)\n",
      "Trainable params: 71841 (280.63 KB)\n",
      "Non-trainable params: 0 (0.00 Byte)\n",
      "_________________________________________________________________\n"
     ]
    }
   ],
   "source": [
    "# print the model summary\n",
    "new_model.summary()"
   ]
  },
  {
   "cell_type": "markdown",
   "id": "2e3ffb4d-a2b9-4d59-8ec9-992fcc9cb770",
   "metadata": {},
   "source": [
    "This is where we need to write the function - Rylie has two functions a generator, and also a batch-wise prediction function. May be we only need the generator function? Let's see."
   ]
  },
  {
   "cell_type": "code",
   "execution_count": 12,
   "id": "db0a8ba1-7114-43d4-b660-835434d0a13c",
   "metadata": {},
   "outputs": [],
   "source": [
    "def data_generator(x_data, y_data, batch_size, shuffle=False, peek=False, verbose=False):\n",
    "    num_samples = len(x_data)\n",
    "    indices = np.arange(num_samples)\n",
    "    \n",
    "    if peek:    # Give first batch unshuffled and don't change start index when peeking for training\n",
    "        end = min(batch_size, num_samples)\n",
    "        if verbose:\n",
    "            print(f\"Generating peeking batch up to index {end}\")\n",
    "        batch_x = x_data[:end]\n",
    "        batch_y = y_data[:end]\n",
    "        peek = False\n",
    "        yield (batch_x, batch_y)\n",
    "\n",
    "    while True:    # Loop indefinitely for epochs\n",
    "        # Shuffle indices at the start of each epoch after the peek, if shuffle is enabled\n",
    "        if shuffle:\n",
    "            np.random.shuffle(indices)\n",
    "        \n",
    "        for start in range(0, num_samples, batch_size):\n",
    "            end = min(start + batch_size, num_samples)\n",
    "            batch_indices = indices[start:end]\n",
    "\n",
    "            # Print batch indices if verbose\n",
    "            if verbose:\n",
    "                # Warning: calling verbose when shuffling will usually clutter output\n",
    "                if shuffle:\n",
    "                    if len(batch_indices) < 16:\n",
    "                        print(f\"Batch indices: {np.sort(batch_indices)}\")\n",
    "                    else:\n",
    "                        print(f\"Printing batch indices would clutter output. Skipped.\")\n",
    "                    print(f\"Length: {len(batch_indices)}\")\n",
    "                else:\n",
    "                    print(f\"Generating batch from index {start} to {end}\")\n",
    "                # traceback.print_stack()\n",
    "\n",
    "            # Generate batches\n",
    "            batch_x = x_data[batch_indices]\n",
    "            batch_y = y_data[batch_indices]\n",
    "\n",
    "            # Yield the current batch\n",
    "            yield (batch_x, batch_y)"
   ]
  },
  {
   "cell_type": "code",
   "execution_count": 13,
   "id": "72ba2784-1400-4111-b713-13882a25fe24",
   "metadata": {},
   "outputs": [
    {
     "name": "stdout",
     "output_type": "stream",
     "text": [
      "CPU times: user 0 ns, sys: 4 µs, total: 4 µs\n",
      "Wall time: 9.06 µs\n"
     ]
    }
   ],
   "source": [
    "%%time\n",
    "batch_size = 1024\n",
    "generator_batch_size = 1024\n",
    "train_gen = data_generator(X_train, y_train, batch_size, shuffle=False, peek=True, verbose=False)\n",
    "val_gen = data_generator(X_valid, y_valid, generator_batch_size, shuffle=False, peek=True, verbose=False)"
   ]
  },
  {
   "cell_type": "code",
   "execution_count": 14,
   "id": "2af42a61-f284-413a-8976-dbe1ffea513c",
   "metadata": {},
   "outputs": [],
   "source": [
    "steps_per_epoch = int(np.ceil(len(X_train) / batch_size))\n",
    "train_steps = int(np.ceil(len(X_train) / generator_batch_size))\n",
    "validation_steps = int(np.ceil(len(X_valid) / generator_batch_size))"
   ]
  },
  {
   "cell_type": "code",
   "execution_count": 15,
   "id": "da1d2f51-9955-4c19-b43c-4ce534700318",
   "metadata": {},
   "outputs": [
    {
     "data": {
      "text/plain": [
       "(1536, 1536, 384)"
      ]
     },
     "execution_count": 15,
     "metadata": {},
     "output_type": "execute_result"
    }
   ],
   "source": [
    "steps_per_epoch, train_steps, validation_steps"
   ]
  },
  {
   "cell_type": "code",
   "execution_count": 16,
   "id": "70df5184-421f-4fbc-8b3a-c90a7958a364",
   "metadata": {},
   "outputs": [
    {
     "name": "stdout",
     "output_type": "stream",
     "text": [
      "Epoch 1/100\n"
     ]
    },
    {
     "name": "stderr",
     "output_type": "stream",
     "text": [
      "2024-06-17 18:08:05.677545: E tensorflow/core/grappler/optimizers/meta_optimizer.cc:961] layout failed: INVALID_ARGUMENT: Size of values 0 does not match size of permutation 4 @ fanin shape inmodel_1/dropout/dropout/SelectV2-2-TransposeNHWCToNCHW-LayoutOptimizer\n",
      "2024-06-17 18:08:06.590921: I external/local_xla/xla/stream_executor/cuda/cuda_dnn.cc:454] Loaded cuDNN version 8907\n",
      "2024-06-17 18:08:14.781658: I external/local_xla/xla/service/service.cc:168] XLA service 0x144b812ada60 initialized for platform CUDA (this does not guarantee that XLA will be used). Devices:\n",
      "2024-06-17 18:08:14.781700: I external/local_xla/xla/service/service.cc:176]   StreamExecutor device (0): Tesla V100S-PCIE-32GB, Compute Capability 7.0\n",
      "2024-06-17 18:08:14.940640: I tensorflow/compiler/mlir/tensorflow/utils/dump_mlir_util.cc:269] disabling MLIR crash reproducer, set env var `MLIR_CRASH_REPRODUCER_DIRECTORY` to enable.\n",
      "WARNING: All log messages before absl::InitializeLog() is called are written to STDERR\n",
      "I0000 00:00:1718665695.569995 2022668 device_compiler.h:186] Compiled cluster using XLA!  This line is logged at most once for the lifetime of the process.\n"
     ]
    },
    {
     "name": "stdout",
     "output_type": "stream",
     "text": [
      "1536/1536 [==============================] - 39s 18ms/step - loss: 0.0301 - mean_absolute_error: 0.0679 - val_loss: 0.0209 - val_mean_absolute_error: 0.0457\n",
      "Epoch 2/100\n",
      "1536/1536 [==============================] - 28s 18ms/step - loss: 0.0279 - mean_absolute_error: 0.0696 - val_loss: 0.0204 - val_mean_absolute_error: 0.0539\n",
      "Epoch 3/100\n",
      "1536/1536 [==============================] - 27s 18ms/step - loss: 0.0272 - mean_absolute_error: 0.0689 - val_loss: 0.0203 - val_mean_absolute_error: 0.0562\n",
      "Epoch 4/100\n",
      "1536/1536 [==============================] - 28s 18ms/step - loss: 0.0269 - mean_absolute_error: 0.0681 - val_loss: 0.0201 - val_mean_absolute_error: 0.0565\n",
      "Epoch 5/100\n",
      "1536/1536 [==============================] - 28s 18ms/step - loss: 0.0267 - mean_absolute_error: 0.0674 - val_loss: 0.0200 - val_mean_absolute_error: 0.0559\n",
      "Epoch 6/100\n",
      "1536/1536 [==============================] - 27s 18ms/step - loss: 0.0265 - mean_absolute_error: 0.0670 - val_loss: 0.0200 - val_mean_absolute_error: 0.0559\n",
      "Epoch 7/100\n",
      "1536/1536 [==============================] - 27s 18ms/step - loss: 0.0264 - mean_absolute_error: 0.0667 - val_loss: 0.0199 - val_mean_absolute_error: 0.0544\n",
      "Epoch 8/100\n",
      "1536/1536 [==============================] - 27s 18ms/step - loss: 0.0264 - mean_absolute_error: 0.0662 - val_loss: 0.0199 - val_mean_absolute_error: 0.0543\n",
      "Epoch 9/100\n",
      "1536/1536 [==============================] - 27s 18ms/step - loss: 0.0263 - mean_absolute_error: 0.0660 - val_loss: 0.0199 - val_mean_absolute_error: 0.0533\n",
      "Epoch 10/100\n",
      "1536/1536 [==============================] - 27s 18ms/step - loss: 0.0262 - mean_absolute_error: 0.0658 - val_loss: 0.0198 - val_mean_absolute_error: 0.0521\n",
      "Epoch 11/100\n",
      "1536/1536 [==============================] - 28s 18ms/step - loss: 0.0262 - mean_absolute_error: 0.0656 - val_loss: 0.0198 - val_mean_absolute_error: 0.0520\n",
      "Epoch 12/100\n",
      "1536/1536 [==============================] - 28s 18ms/step - loss: 0.0261 - mean_absolute_error: 0.0654 - val_loss: 0.0198 - val_mean_absolute_error: 0.0517\n",
      "Epoch 13/100\n",
      "1536/1536 [==============================] - 27s 18ms/step - loss: 0.0261 - mean_absolute_error: 0.0653 - val_loss: 0.0198 - val_mean_absolute_error: 0.0517\n",
      "Epoch 14/100\n",
      "1536/1536 [==============================] - 28s 18ms/step - loss: 0.0260 - mean_absolute_error: 0.0651 - val_loss: 0.0198 - val_mean_absolute_error: 0.0504\n",
      "Epoch 15/100\n",
      "1536/1536 [==============================] - 28s 18ms/step - loss: 0.0260 - mean_absolute_error: 0.0649 - val_loss: 0.0198 - val_mean_absolute_error: 0.0502\n",
      "Epoch 16/100\n",
      "1536/1536 [==============================] - 28s 18ms/step - loss: 0.0260 - mean_absolute_error: 0.0649 - val_loss: 0.0198 - val_mean_absolute_error: 0.0507\n",
      "Epoch 17/100\n",
      "1536/1536 [==============================] - 27s 18ms/step - loss: 0.0260 - mean_absolute_error: 0.0648 - val_loss: 0.0198 - val_mean_absolute_error: 0.0497\n",
      "Epoch 18/100\n",
      "1536/1536 [==============================] - 28s 18ms/step - loss: 0.0259 - mean_absolute_error: 0.0647 - val_loss: 0.0198 - val_mean_absolute_error: 0.0487\n",
      "Epoch 19/100\n",
      "1536/1536 [==============================] - 28s 18ms/step - loss: 0.0259 - mean_absolute_error: 0.0646 - val_loss: 0.0198 - val_mean_absolute_error: 0.0498\n",
      "Epoch 20/100\n",
      "1536/1536 [==============================] - 27s 17ms/step - loss: 0.0259 - mean_absolute_error: 0.0646 - val_loss: 0.0198 - val_mean_absolute_error: 0.0485\n",
      "Epoch 21/100\n",
      "1536/1536 [==============================] - 28s 18ms/step - loss: 0.0259 - mean_absolute_error: 0.0645 - val_loss: 0.0198 - val_mean_absolute_error: 0.0478\n",
      "Epoch 22/100\n",
      "1536/1536 [==============================] - 28s 18ms/step - loss: 0.0259 - mean_absolute_error: 0.0645 - val_loss: 0.0198 - val_mean_absolute_error: 0.0484\n",
      "Epoch 23/100\n",
      "1536/1536 [==============================] - 28s 18ms/step - loss: 0.0258 - mean_absolute_error: 0.0645 - val_loss: 0.0198 - val_mean_absolute_error: 0.0481\n",
      "Epoch 24/100\n",
      "1536/1536 [==============================] - 28s 18ms/step - loss: 0.0258 - mean_absolute_error: 0.0645 - val_loss: 0.0198 - val_mean_absolute_error: 0.0477\n",
      "Epoch 25/100\n",
      "1536/1536 [==============================] - 28s 18ms/step - loss: 0.0258 - mean_absolute_error: 0.0645 - val_loss: 0.0198 - val_mean_absolute_error: 0.0474\n",
      "Epoch 26/100\n",
      "1535/1536 [============================>.] - ETA: 0s - loss: 0.0258 - mean_absolute_error: 0.0644Restoring model weights from the end of the best epoch: 16.\n",
      "1536/1536 [==============================] - 28s 18ms/step - loss: 0.0258 - mean_absolute_error: 0.0645 - val_loss: 0.0198 - val_mean_absolute_error: 0.0477\n",
      "Epoch 26: early stopping\n",
      "CPU times: user 19min 6s, sys: 22.9 s, total: 19min 29s\n",
      "Wall time: 12min 10s\n"
     ]
    }
   ],
   "source": [
    "%%time\n",
    "# frozen model\n",
    "\n",
    "#     freeze layers\n",
    "for layer in gmp_model.layers:\n",
    "    layer.trainable = False\n",
    "    \n",
    "# compile the model\n",
    "opt = tf.keras.optimizers.Adam(learning_rate=0.0001)\n",
    "new_model.compile(loss='mean_squared_error', optimizer=opt, metrics = ['mean_absolute_error'])\n",
    "    \n",
    "# add early stopping\n",
    "es = tf.keras.callbacks.EarlyStopping(monitor='val_loss', restore_best_weights = True, verbose=1, patience=10)\n",
    "\n",
    "# fit the generator - the steps are a must here\n",
    "history = new_model.fit(train_gen,\n",
    "          validation_data = val_gen, steps_per_epoch=steps_per_epoch, \n",
    "                                  validation_steps=validation_steps,                        \n",
    "          epochs = 100, callbacks = [es])"
   ]
  },
  {
   "cell_type": "code",
   "execution_count": 17,
   "id": "bac0e3d6-adbf-4b65-aef7-25e47ee06e22",
   "metadata": {},
   "outputs": [
    {
     "name": "stdout",
     "output_type": "stream",
     "text": [
      "Epoch 1/100\n"
     ]
    },
    {
     "name": "stderr",
     "output_type": "stream",
     "text": [
      "2024-06-17 18:20:15.755560: E tensorflow/core/grappler/optimizers/meta_optimizer.cc:961] layout failed: INVALID_ARGUMENT: Size of values 0 does not match size of permutation 4 @ fanin shape inmodel_1/dropout/dropout/SelectV2-2-TransposeNHWCToNCHW-LayoutOptimizer\n"
     ]
    },
    {
     "name": "stdout",
     "output_type": "stream",
     "text": [
      "1536/1536 [==============================] - 32s 18ms/step - loss: 0.0250 - mean_absolute_error: 0.0610 - val_loss: 0.0196 - val_mean_absolute_error: 0.0498\n",
      "Epoch 2/100\n",
      "1536/1536 [==============================] - 28s 18ms/step - loss: 0.0243 - mean_absolute_error: 0.0595 - val_loss: 0.0194 - val_mean_absolute_error: 0.0516\n",
      "Epoch 3/100\n",
      "1536/1536 [==============================] - 28s 18ms/step - loss: 0.0239 - mean_absolute_error: 0.0586 - val_loss: 0.0192 - val_mean_absolute_error: 0.0532\n",
      "Epoch 4/100\n",
      "1536/1536 [==============================] - 28s 18ms/step - loss: 0.0236 - mean_absolute_error: 0.0577 - val_loss: 0.0190 - val_mean_absolute_error: 0.0532\n",
      "Epoch 5/100\n",
      "1536/1536 [==============================] - 28s 18ms/step - loss: 0.0234 - mean_absolute_error: 0.0572 - val_loss: 0.0188 - val_mean_absolute_error: 0.0526\n",
      "Epoch 6/100\n",
      "1536/1536 [==============================] - 28s 18ms/step - loss: 0.0232 - mean_absolute_error: 0.0567 - val_loss: 0.0187 - val_mean_absolute_error: 0.0536\n",
      "Epoch 7/100\n",
      "1536/1536 [==============================] - 28s 18ms/step - loss: 0.0230 - mean_absolute_error: 0.0561 - val_loss: 0.0185 - val_mean_absolute_error: 0.0523\n",
      "Epoch 8/100\n",
      "1536/1536 [==============================] - 28s 18ms/step - loss: 0.0228 - mean_absolute_error: 0.0557 - val_loss: 0.0184 - val_mean_absolute_error: 0.0539\n",
      "Epoch 9/100\n",
      "1536/1536 [==============================] - 28s 18ms/step - loss: 0.0227 - mean_absolute_error: 0.0554 - val_loss: 0.0183 - val_mean_absolute_error: 0.0538\n",
      "Epoch 10/100\n",
      "1536/1536 [==============================] - 28s 18ms/step - loss: 0.0226 - mean_absolute_error: 0.0552 - val_loss: 0.0183 - val_mean_absolute_error: 0.0552\n",
      "Epoch 11/100\n",
      "1536/1536 [==============================] - 27s 18ms/step - loss: 0.0225 - mean_absolute_error: 0.0549 - val_loss: 0.0181 - val_mean_absolute_error: 0.0529\n",
      "Epoch 12/100\n",
      "1536/1536 [==============================] - 28s 18ms/step - loss: 0.0224 - mean_absolute_error: 0.0546 - val_loss: 0.0181 - val_mean_absolute_error: 0.0542\n",
      "Epoch 13/100\n",
      "1536/1536 [==============================] - 27s 18ms/step - loss: 0.0223 - mean_absolute_error: 0.0544 - val_loss: 0.0179 - val_mean_absolute_error: 0.0532\n",
      "Epoch 14/100\n",
      "1536/1536 [==============================] - 28s 18ms/step - loss: 0.0222 - mean_absolute_error: 0.0542 - val_loss: 0.0179 - val_mean_absolute_error: 0.0543\n",
      "Epoch 15/100\n",
      "1536/1536 [==============================] - 28s 18ms/step - loss: 0.0222 - mean_absolute_error: 0.0541 - val_loss: 0.0178 - val_mean_absolute_error: 0.0537\n",
      "Epoch 16/100\n",
      "1536/1536 [==============================] - 27s 18ms/step - loss: 0.0221 - mean_absolute_error: 0.0539 - val_loss: 0.0179 - val_mean_absolute_error: 0.0556\n",
      "Epoch 17/100\n",
      "1536/1536 [==============================] - 28s 18ms/step - loss: 0.0220 - mean_absolute_error: 0.0538 - val_loss: 0.0179 - val_mean_absolute_error: 0.0552\n",
      "Epoch 18/100\n",
      "1536/1536 [==============================] - 28s 18ms/step - loss: 0.0220 - mean_absolute_error: 0.0536 - val_loss: 0.0178 - val_mean_absolute_error: 0.0554\n",
      "Epoch 19/100\n",
      "1536/1536 [==============================] - 28s 18ms/step - loss: 0.0219 - mean_absolute_error: 0.0535 - val_loss: 0.0178 - val_mean_absolute_error: 0.0568\n",
      "Epoch 20/100\n",
      "1536/1536 [==============================] - 28s 18ms/step - loss: 0.0219 - mean_absolute_error: 0.0533 - val_loss: 0.0178 - val_mean_absolute_error: 0.0565\n",
      "Epoch 21/100\n",
      "1536/1536 [==============================] - 28s 18ms/step - loss: 0.0218 - mean_absolute_error: 0.0533 - val_loss: 0.0178 - val_mean_absolute_error: 0.0560\n",
      "Epoch 22/100\n",
      "1536/1536 [==============================] - 28s 18ms/step - loss: 0.0218 - mean_absolute_error: 0.0530 - val_loss: 0.0179 - val_mean_absolute_error: 0.0580\n",
      "Epoch 23/100\n",
      "1536/1536 [==============================] - 28s 18ms/step - loss: 0.0217 - mean_absolute_error: 0.0530 - val_loss: 0.0178 - val_mean_absolute_error: 0.0572\n",
      "Epoch 24/100\n",
      "1536/1536 [==============================] - 28s 18ms/step - loss: 0.0217 - mean_absolute_error: 0.0531 - val_loss: 0.0178 - val_mean_absolute_error: 0.0573\n",
      "Epoch 25/100\n",
      "1536/1536 [==============================] - 28s 18ms/step - loss: 0.0217 - mean_absolute_error: 0.0528 - val_loss: 0.0179 - val_mean_absolute_error: 0.0593\n",
      "Epoch 26/100\n",
      "1536/1536 [==============================] - 28s 18ms/step - loss: 0.0216 - mean_absolute_error: 0.0529 - val_loss: 0.0177 - val_mean_absolute_error: 0.0565\n",
      "Epoch 27/100\n",
      "1536/1536 [==============================] - 28s 18ms/step - loss: 0.0216 - mean_absolute_error: 0.0527 - val_loss: 0.0177 - val_mean_absolute_error: 0.0563\n",
      "Epoch 28/100\n",
      "1536/1536 [==============================] - 28s 18ms/step - loss: 0.0215 - mean_absolute_error: 0.0526 - val_loss: 0.0177 - val_mean_absolute_error: 0.0570\n",
      "Epoch 29/100\n",
      "1536/1536 [==============================] - 28s 18ms/step - loss: 0.0215 - mean_absolute_error: 0.0527 - val_loss: 0.0177 - val_mean_absolute_error: 0.0564\n",
      "Epoch 30/100\n",
      "1536/1536 [==============================] - 28s 18ms/step - loss: 0.0215 - mean_absolute_error: 0.0525 - val_loss: 0.0177 - val_mean_absolute_error: 0.0573\n",
      "Epoch 31/100\n",
      "1536/1536 [==============================] - 27s 18ms/step - loss: 0.0215 - mean_absolute_error: 0.0525 - val_loss: 0.0177 - val_mean_absolute_error: 0.0576\n",
      "Epoch 32/100\n",
      "1536/1536 [==============================] - 28s 18ms/step - loss: 0.0214 - mean_absolute_error: 0.0525 - val_loss: 0.0176 - val_mean_absolute_error: 0.0567\n",
      "Epoch 33/100\n",
      "1536/1536 [==============================] - 27s 18ms/step - loss: 0.0214 - mean_absolute_error: 0.0524 - val_loss: 0.0177 - val_mean_absolute_error: 0.0580\n",
      "Epoch 34/100\n",
      "1536/1536 [==============================] - 28s 18ms/step - loss: 0.0214 - mean_absolute_error: 0.0525 - val_loss: 0.0179 - val_mean_absolute_error: 0.0596\n",
      "Epoch 35/100\n",
      "1536/1536 [==============================] - 27s 18ms/step - loss: 0.0213 - mean_absolute_error: 0.0523 - val_loss: 0.0176 - val_mean_absolute_error: 0.0566\n",
      "Epoch 36/100\n",
      "1536/1536 [==============================] - 28s 18ms/step - loss: 0.0213 - mean_absolute_error: 0.0524 - val_loss: 0.0176 - val_mean_absolute_error: 0.0568\n",
      "Epoch 37/100\n",
      "1536/1536 [==============================] - 27s 18ms/step - loss: 0.0213 - mean_absolute_error: 0.0523 - val_loss: 0.0178 - val_mean_absolute_error: 0.0592\n",
      "Epoch 38/100\n",
      "1536/1536 [==============================] - 28s 18ms/step - loss: 0.0213 - mean_absolute_error: 0.0522 - val_loss: 0.0176 - val_mean_absolute_error: 0.0572\n",
      "Epoch 39/100\n",
      "1536/1536 [==============================] - 28s 18ms/step - loss: 0.0212 - mean_absolute_error: 0.0522 - val_loss: 0.0176 - val_mean_absolute_error: 0.0563\n",
      "Epoch 40/100\n",
      "1536/1536 [==============================] - 28s 18ms/step - loss: 0.0212 - mean_absolute_error: 0.0520 - val_loss: 0.0176 - val_mean_absolute_error: 0.0560\n",
      "Epoch 41/100\n",
      "1536/1536 [==============================] - 28s 18ms/step - loss: 0.0212 - mean_absolute_error: 0.0520 - val_loss: 0.0176 - val_mean_absolute_error: 0.0569\n",
      "Epoch 42/100\n",
      "1536/1536 [==============================] - 28s 18ms/step - loss: 0.0212 - mean_absolute_error: 0.0519 - val_loss: 0.0179 - val_mean_absolute_error: 0.0604\n",
      "Epoch 43/100\n",
      "1536/1536 [==============================] - 28s 18ms/step - loss: 0.0212 - mean_absolute_error: 0.0520 - val_loss: 0.0178 - val_mean_absolute_error: 0.0590\n",
      "Epoch 44/100\n",
      "1536/1536 [==============================] - 28s 18ms/step - loss: 0.0212 - mean_absolute_error: 0.0518 - val_loss: 0.0175 - val_mean_absolute_error: 0.0557\n",
      "Epoch 45/100\n",
      "1536/1536 [==============================] - 27s 18ms/step - loss: 0.0211 - mean_absolute_error: 0.0517 - val_loss: 0.0174 - val_mean_absolute_error: 0.0537\n",
      "Epoch 46/100\n",
      "1536/1536 [==============================] - 28s 18ms/step - loss: 0.0211 - mean_absolute_error: 0.0519 - val_loss: 0.0177 - val_mean_absolute_error: 0.0577\n",
      "Epoch 47/100\n",
      "1536/1536 [==============================] - 27s 18ms/step - loss: 0.0211 - mean_absolute_error: 0.0518 - val_loss: 0.0175 - val_mean_absolute_error: 0.0554\n",
      "Epoch 48/100\n",
      "1536/1536 [==============================] - 28s 18ms/step - loss: 0.0211 - mean_absolute_error: 0.0516 - val_loss: 0.0174 - val_mean_absolute_error: 0.0540\n",
      "Epoch 49/100\n",
      "1536/1536 [==============================] - 28s 18ms/step - loss: 0.0210 - mean_absolute_error: 0.0517 - val_loss: 0.0173 - val_mean_absolute_error: 0.0535\n",
      "Epoch 50/100\n",
      "1536/1536 [==============================] - 28s 18ms/step - loss: 0.0210 - mean_absolute_error: 0.0516 - val_loss: 0.0176 - val_mean_absolute_error: 0.0570\n",
      "Epoch 51/100\n",
      "1536/1536 [==============================] - 28s 18ms/step - loss: 0.0210 - mean_absolute_error: 0.0516 - val_loss: 0.0175 - val_mean_absolute_error: 0.0559\n",
      "Epoch 52/100\n",
      "1536/1536 [==============================] - 28s 18ms/step - loss: 0.0210 - mean_absolute_error: 0.0515 - val_loss: 0.0175 - val_mean_absolute_error: 0.0549\n",
      "Epoch 53/100\n",
      "1536/1536 [==============================] - 28s 18ms/step - loss: 0.0210 - mean_absolute_error: 0.0515 - val_loss: 0.0175 - val_mean_absolute_error: 0.0558\n",
      "Epoch 54/100\n",
      "1536/1536 [==============================] - 27s 18ms/step - loss: 0.0210 - mean_absolute_error: 0.0515 - val_loss: 0.0176 - val_mean_absolute_error: 0.0562\n",
      "Epoch 55/100\n",
      "1536/1536 [==============================] - 28s 18ms/step - loss: 0.0209 - mean_absolute_error: 0.0513 - val_loss: 0.0174 - val_mean_absolute_error: 0.0545\n",
      "Epoch 56/100\n",
      "1536/1536 [==============================] - 28s 18ms/step - loss: 0.0209 - mean_absolute_error: 0.0515 - val_loss: 0.0178 - val_mean_absolute_error: 0.0588\n",
      "Epoch 57/100\n",
      "1536/1536 [==============================] - 28s 18ms/step - loss: 0.0209 - mean_absolute_error: 0.0514 - val_loss: 0.0173 - val_mean_absolute_error: 0.0534\n",
      "Epoch 58/100\n",
      "1536/1536 [==============================] - 28s 18ms/step - loss: 0.0209 - mean_absolute_error: 0.0513 - val_loss: 0.0175 - val_mean_absolute_error: 0.0559\n",
      "Epoch 59/100\n",
      "1536/1536 [==============================] - 28s 18ms/step - loss: 0.0208 - mean_absolute_error: 0.0512 - val_loss: 0.0174 - val_mean_absolute_error: 0.0544\n",
      "Epoch 60/100\n",
      "1536/1536 [==============================] - 28s 18ms/step - loss: 0.0209 - mean_absolute_error: 0.0511 - val_loss: 0.0176 - val_mean_absolute_error: 0.0567\n",
      "Epoch 61/100\n",
      "1536/1536 [==============================] - 28s 18ms/step - loss: 0.0208 - mean_absolute_error: 0.0512 - val_loss: 0.0174 - val_mean_absolute_error: 0.0539\n",
      "Epoch 62/100\n",
      "1536/1536 [==============================] - 27s 18ms/step - loss: 0.0209 - mean_absolute_error: 0.0513 - val_loss: 0.0173 - val_mean_absolute_error: 0.0530\n",
      "Epoch 63/100\n",
      "1536/1536 [==============================] - 28s 18ms/step - loss: 0.0208 - mean_absolute_error: 0.0511 - val_loss: 0.0173 - val_mean_absolute_error: 0.0533\n",
      "Epoch 64/100\n",
      "1536/1536 [==============================] - 28s 18ms/step - loss: 0.0208 - mean_absolute_error: 0.0511 - val_loss: 0.0176 - val_mean_absolute_error: 0.0568\n",
      "Epoch 65/100\n",
      "1536/1536 [==============================] - 28s 18ms/step - loss: 0.0208 - mean_absolute_error: 0.0510 - val_loss: 0.0174 - val_mean_absolute_error: 0.0542\n",
      "Epoch 66/100\n",
      "1536/1536 [==============================] - 27s 18ms/step - loss: 0.0208 - mean_absolute_error: 0.0510 - val_loss: 0.0174 - val_mean_absolute_error: 0.0539\n",
      "Epoch 67/100\n",
      "1536/1536 [==============================] - 27s 18ms/step - loss: 0.0208 - mean_absolute_error: 0.0510 - val_loss: 0.0174 - val_mean_absolute_error: 0.0548\n",
      "Epoch 68/100\n",
      "1536/1536 [==============================] - 28s 18ms/step - loss: 0.0208 - mean_absolute_error: 0.0510 - val_loss: 0.0173 - val_mean_absolute_error: 0.0524\n",
      "Epoch 69/100\n",
      "1536/1536 [==============================] - 28s 18ms/step - loss: 0.0207 - mean_absolute_error: 0.0510 - val_loss: 0.0173 - val_mean_absolute_error: 0.0535\n",
      "Epoch 70/100\n",
      "1536/1536 [==============================] - 28s 18ms/step - loss: 0.0207 - mean_absolute_error: 0.0511 - val_loss: 0.0171 - val_mean_absolute_error: 0.0505\n",
      "Epoch 71/100\n",
      "1536/1536 [==============================] - 28s 18ms/step - loss: 0.0207 - mean_absolute_error: 0.0509 - val_loss: 0.0174 - val_mean_absolute_error: 0.0541\n",
      "Epoch 72/100\n",
      "1536/1536 [==============================] - 27s 17ms/step - loss: 0.0207 - mean_absolute_error: 0.0509 - val_loss: 0.0175 - val_mean_absolute_error: 0.0550\n",
      "Epoch 73/100\n",
      "1536/1536 [==============================] - 27s 18ms/step - loss: 0.0207 - mean_absolute_error: 0.0509 - val_loss: 0.0174 - val_mean_absolute_error: 0.0545\n",
      "Epoch 74/100\n",
      "1536/1536 [==============================] - 28s 18ms/step - loss: 0.0207 - mean_absolute_error: 0.0509 - val_loss: 0.0175 - val_mean_absolute_error: 0.0558\n",
      "Epoch 75/100\n",
      "1536/1536 [==============================] - 28s 18ms/step - loss: 0.0207 - mean_absolute_error: 0.0510 - val_loss: 0.0172 - val_mean_absolute_error: 0.0516\n",
      "Epoch 76/100\n",
      "1536/1536 [==============================] - 28s 18ms/step - loss: 0.0207 - mean_absolute_error: 0.0509 - val_loss: 0.0172 - val_mean_absolute_error: 0.0520\n",
      "Epoch 77/100\n",
      "1536/1536 [==============================] - 28s 18ms/step - loss: 0.0207 - mean_absolute_error: 0.0509 - val_loss: 0.0173 - val_mean_absolute_error: 0.0533\n",
      "Epoch 78/100\n",
      "1536/1536 [==============================] - 28s 18ms/step - loss: 0.0206 - mean_absolute_error: 0.0509 - val_loss: 0.0175 - val_mean_absolute_error: 0.0558\n",
      "Epoch 79/100\n",
      "1536/1536 [==============================] - 28s 18ms/step - loss: 0.0207 - mean_absolute_error: 0.0510 - val_loss: 0.0174 - val_mean_absolute_error: 0.0545\n",
      "Epoch 80/100\n",
      "1533/1536 [============================>.] - ETA: 0s - loss: 0.0206 - mean_absolute_error: 0.0509Restoring model weights from the end of the best epoch: 70.\n",
      "1536/1536 [==============================] - 28s 18ms/step - loss: 0.0206 - mean_absolute_error: 0.0509 - val_loss: 0.0173 - val_mean_absolute_error: 0.0532\n",
      "Epoch 80: early stopping\n",
      "CPU times: user 1h 1min 25s, sys: 1min 15s, total: 1h 2min 41s\n",
      "Wall time: 37min 3s\n"
     ]
    }
   ],
   "source": [
    "%%time\n",
    "# # unfreeze few layers and retrain - finetune the model\n",
    "gmp_model.trainable = True\n",
    "\n",
    "set_trainable = False\n",
    "\n",
    "for layer in gmp_model.layers:\n",
    "    if layer.name == 'conv2d_3':\n",
    "        set_trainable = True\n",
    "    if set_trainable:\n",
    "        layer.trainable = True\n",
    "    else:\n",
    "        layer.trainable = False\n",
    "            \n",
    "    # # compile the mdoel\n",
    "opt = tf.keras.optimizers.Adam(learning_rate=0.0001)\n",
    "new_model.compile(loss='mean_squared_error', optimizer=opt, metrics = ['mean_absolute_error'])\n",
    "    \n",
    "    # # add early stopping\n",
    "es = tf.keras.callbacks.EarlyStopping(monitor='val_loss', restore_best_weights = True, verbose=1, patience=10)\n",
    "    \n",
    "    # # fit the model (fine tuned)\n",
    "history_new = new_model.fit(train_gen,\n",
    "          validation_data = val_gen, steps_per_epoch=steps_per_epoch, \n",
    "                                  validation_steps=validation_steps,                        \n",
    "          epochs = 100, callbacks = [es])\n"
   ]
  },
  {
   "cell_type": "code",
   "execution_count": 18,
   "id": "cf517d99-90fc-4dd3-b645-b1744040542b",
   "metadata": {},
   "outputs": [
    {
     "name": "stderr",
     "output_type": "stream",
     "text": [
      "/common/statsgeneral/gayara/tfp_for_TN/lib/python3.10/site-packages/keras/src/engine/training.py:3103: UserWarning: You are saving your model as an HDF5 file via `model.save()`. This file format is considered legacy. We recommend using instead the native Keras format, e.g. `model.save('my_model.keras')`.\n",
      "  saving_api.save_model(\n"
     ]
    }
   ],
   "source": [
    "# save the finetuned model\n",
    "model_name = 'trained_gmp_model_dense_32.h5'\n",
    "new_model.save('models' + '/' + model_name)"
   ]
  }
 ],
 "metadata": {
  "kernelspec": {
   "display_name": "Python (tfp_for_TN)",
   "language": "python",
   "name": "tfp_for_tn"
  },
  "language_info": {
   "codemirror_mode": {
    "name": "ipython",
    "version": 3
   },
   "file_extension": ".py",
   "mimetype": "text/x-python",
   "name": "python",
   "nbconvert_exporter": "python",
   "pygments_lexer": "ipython3",
   "version": "3.10.14"
  }
 },
 "nbformat": 4,
 "nbformat_minor": 5
}
