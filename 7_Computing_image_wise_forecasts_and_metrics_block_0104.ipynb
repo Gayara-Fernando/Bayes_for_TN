{
 "cells": [
  {
   "cell_type": "code",
   "execution_count": 1,
   "id": "792bd9f2-28fd-4116-89fa-5bd269c51a47",
   "metadata": {},
   "outputs": [],
   "source": [
    "import pandas as pd\n",
    "import numpy as np\n",
    "import matplotlib.pyplot as plt\n",
    "import os\n",
    "from sklearn.metrics import mean_absolute_error, mean_squared_error"
   ]
  },
  {
   "cell_type": "code",
   "execution_count": 2,
   "id": "16cdfbd4-b38a-43fd-b756-676ca221b4bc",
   "metadata": {},
   "outputs": [],
   "source": [
    "# path to dataframes\n",
    "path_to_dfs = \"forecasted_counts/block_0104/\""
   ]
  },
  {
   "cell_type": "code",
   "execution_count": 3,
   "id": "e517faff-1694-419f-bd7d-13e76cefa34f",
   "metadata": {},
   "outputs": [],
   "source": [
    "# os.listdir(path_to_dfs)"
   ]
  },
  {
   "cell_type": "code",
   "execution_count": 4,
   "id": "34a0b10e-63ef-433d-bc8a-21cccaf3ece2",
   "metadata": {},
   "outputs": [],
   "source": [
    "averaged_forecasts_csvs = []\n",
    "for file in os.listdir(path_to_dfs):\n",
    "    if file[:8] =='averaged':\n",
    "        averaged_forecasts_csvs.append(file)"
   ]
  },
  {
   "cell_type": "code",
   "execution_count": 5,
   "id": "dbdb3d7e-5b1a-4bab-8edc-34db54869856",
   "metadata": {},
   "outputs": [
    {
     "data": {
      "text/plain": [
       "['averaged_forecasts_sub_0.csv',\n",
       " 'averaged_forecasts_sub_1.csv',\n",
       " 'averaged_forecasts_sub_10.csv',\n",
       " 'averaged_forecasts_sub_11.csv',\n",
       " 'averaged_forecasts_sub_2.csv',\n",
       " 'averaged_forecasts_sub_3.csv',\n",
       " 'averaged_forecasts_sub_4.csv',\n",
       " 'averaged_forecasts_sub_5.csv',\n",
       " 'averaged_forecasts_sub_6.csv',\n",
       " 'averaged_forecasts_sub_7.csv',\n",
       " 'averaged_forecasts_sub_8.csv',\n",
       " 'averaged_forecasts_sub_9.csv']"
      ]
     },
     "execution_count": 5,
     "metadata": {},
     "output_type": "execute_result"
    }
   ],
   "source": [
    "averaged_forecasts_csvs.sort()\n",
    "averaged_forecasts_csvs"
   ]
  },
  {
   "cell_type": "code",
   "execution_count": 6,
   "id": "e64ec5d3-ef54-423f-af9a-56eca9d9e82e",
   "metadata": {},
   "outputs": [],
   "source": [
    "# add the 10, 11 at the end\n",
    "csv_files_10_11 = ['averaged_forecasts_sub_10.csv', 'averaged_forecasts_sub_11.csv']"
   ]
  },
  {
   "cell_type": "code",
   "execution_count": 7,
   "id": "0ebe0a4d-521c-496e-a946-269fba9f29f8",
   "metadata": {},
   "outputs": [],
   "source": [
    "other_files = [i for i in averaged_forecasts_csvs if i not in csv_files_10_11]"
   ]
  },
  {
   "cell_type": "code",
   "execution_count": 8,
   "id": "7cb7f455-42e2-4846-a1c3-04c626eb6536",
   "metadata": {},
   "outputs": [],
   "source": [
    "ordered_csv_files = other_files + csv_files_10_11"
   ]
  },
  {
   "cell_type": "code",
   "execution_count": 9,
   "id": "c0ab9bbb-b6de-42ee-ab0f-dbbf3d0e5233",
   "metadata": {},
   "outputs": [
    {
     "data": {
      "text/plain": [
       "['averaged_forecasts_sub_0.csv',\n",
       " 'averaged_forecasts_sub_1.csv',\n",
       " 'averaged_forecasts_sub_2.csv',\n",
       " 'averaged_forecasts_sub_3.csv',\n",
       " 'averaged_forecasts_sub_4.csv',\n",
       " 'averaged_forecasts_sub_5.csv',\n",
       " 'averaged_forecasts_sub_6.csv',\n",
       " 'averaged_forecasts_sub_7.csv',\n",
       " 'averaged_forecasts_sub_8.csv',\n",
       " 'averaged_forecasts_sub_9.csv',\n",
       " 'averaged_forecasts_sub_10.csv',\n",
       " 'averaged_forecasts_sub_11.csv']"
      ]
     },
     "execution_count": 9,
     "metadata": {},
     "output_type": "execute_result"
    }
   ],
   "source": [
    "ordered_csv_files"
   ]
  },
  {
   "cell_type": "code",
   "execution_count": 10,
   "id": "d7210813-d54e-4a90-a3c9-509b6e153350",
   "metadata": {},
   "outputs": [],
   "source": [
    "all_dfs = []\n",
    "for file in ordered_csv_files:\n",
    "    read_df = pd.read_csv(path_to_dfs + '/' + file)\n",
    "    all_dfs.append(read_df)"
   ]
  },
  {
   "cell_type": "code",
   "execution_count": 11,
   "id": "e6536dbe-60f7-4ced-bf03-7fbbd91d0aa5",
   "metadata": {},
   "outputs": [],
   "source": [
    "# make a single dataframe out of the many\n",
    "combined_df = pd.concat(all_dfs, axis = 1)"
   ]
  },
  {
   "cell_type": "code",
   "execution_count": 12,
   "id": "cabf05c1-2fcf-43f6-a413-cf325d7e705b",
   "metadata": {},
   "outputs": [
    {
     "data": {
      "text/html": [
       "<div>\n",
       "<style scoped>\n",
       "    .dataframe tbody tr th:only-of-type {\n",
       "        vertical-align: middle;\n",
       "    }\n",
       "\n",
       "    .dataframe tbody tr th {\n",
       "        vertical-align: top;\n",
       "    }\n",
       "\n",
       "    .dataframe thead th {\n",
       "        text-align: right;\n",
       "    }\n",
       "</style>\n",
       "<table border=\"1\" class=\"dataframe\">\n",
       "  <thead>\n",
       "    <tr style=\"text-align: right;\">\n",
       "      <th></th>\n",
       "      <th>True_value</th>\n",
       "      <th>Forecasted_value</th>\n",
       "      <th>True_value</th>\n",
       "      <th>Forecasted_value</th>\n",
       "      <th>True_value</th>\n",
       "      <th>Forecasted_value</th>\n",
       "      <th>True_value</th>\n",
       "      <th>Forecasted_value</th>\n",
       "      <th>True_value</th>\n",
       "      <th>Forecasted_value</th>\n",
       "      <th>...</th>\n",
       "      <th>True_value</th>\n",
       "      <th>Forecasted_value</th>\n",
       "      <th>True_value</th>\n",
       "      <th>Forecasted_value</th>\n",
       "      <th>True_value</th>\n",
       "      <th>Forecasted_value</th>\n",
       "      <th>True_value</th>\n",
       "      <th>Forecasted_value</th>\n",
       "      <th>True_value</th>\n",
       "      <th>Forecasted_value</th>\n",
       "    </tr>\n",
       "  </thead>\n",
       "  <tbody>\n",
       "    <tr>\n",
       "      <th>0</th>\n",
       "      <td>3.0</td>\n",
       "      <td>3.090382</td>\n",
       "      <td>5.000000</td>\n",
       "      <td>4.345422</td>\n",
       "      <td>3.000000</td>\n",
       "      <td>3.965861</td>\n",
       "      <td>0.0</td>\n",
       "      <td>0.404849</td>\n",
       "      <td>5.035696</td>\n",
       "      <td>3.746100</td>\n",
       "      <td>...</td>\n",
       "      <td>0.002516</td>\n",
       "      <td>0.720516</td>\n",
       "      <td>2.000000</td>\n",
       "      <td>1.983630</td>\n",
       "      <td>3.999930</td>\n",
       "      <td>3.439458</td>\n",
       "      <td>1.000013</td>\n",
       "      <td>1.667192</td>\n",
       "      <td>0.997484</td>\n",
       "      <td>1.120003</td>\n",
       "    </tr>\n",
       "    <tr>\n",
       "      <th>1</th>\n",
       "      <td>3.0</td>\n",
       "      <td>3.357837</td>\n",
       "      <td>3.885234</td>\n",
       "      <td>4.337047</td>\n",
       "      <td>4.999504</td>\n",
       "      <td>4.022651</td>\n",
       "      <td>0.0</td>\n",
       "      <td>0.421353</td>\n",
       "      <td>4.080343</td>\n",
       "      <td>3.796304</td>\n",
       "      <td>...</td>\n",
       "      <td>0.000000</td>\n",
       "      <td>1.126536</td>\n",
       "      <td>3.000000</td>\n",
       "      <td>1.665170</td>\n",
       "      <td>2.963009</td>\n",
       "      <td>3.509813</td>\n",
       "      <td>0.345385</td>\n",
       "      <td>1.481683</td>\n",
       "      <td>0.000000</td>\n",
       "      <td>1.063996</td>\n",
       "    </tr>\n",
       "    <tr>\n",
       "      <th>2</th>\n",
       "      <td>4.0</td>\n",
       "      <td>2.777556</td>\n",
       "      <td>4.996880</td>\n",
       "      <td>4.704496</td>\n",
       "      <td>5.002446</td>\n",
       "      <td>4.848159</td>\n",
       "      <td>0.0</td>\n",
       "      <td>0.862991</td>\n",
       "      <td>4.691607</td>\n",
       "      <td>3.663024</td>\n",
       "      <td>...</td>\n",
       "      <td>0.000000</td>\n",
       "      <td>0.808601</td>\n",
       "      <td>3.964335</td>\n",
       "      <td>2.287876</td>\n",
       "      <td>3.884737</td>\n",
       "      <td>3.351333</td>\n",
       "      <td>2.000670</td>\n",
       "      <td>1.556076</td>\n",
       "      <td>0.000000</td>\n",
       "      <td>1.071001</td>\n",
       "    </tr>\n",
       "    <tr>\n",
       "      <th>3</th>\n",
       "      <td>4.0</td>\n",
       "      <td>3.519596</td>\n",
       "      <td>6.267051</td>\n",
       "      <td>5.766768</td>\n",
       "      <td>4.678494</td>\n",
       "      <td>3.966531</td>\n",
       "      <td>0.0</td>\n",
       "      <td>-0.301113</td>\n",
       "      <td>4.000000</td>\n",
       "      <td>4.191371</td>\n",
       "      <td>...</td>\n",
       "      <td>0.999995</td>\n",
       "      <td>0.949014</td>\n",
       "      <td>2.000000</td>\n",
       "      <td>0.805012</td>\n",
       "      <td>4.000000</td>\n",
       "      <td>3.584534</td>\n",
       "      <td>2.344058</td>\n",
       "      <td>1.650069</td>\n",
       "      <td>1.000005</td>\n",
       "      <td>0.570715</td>\n",
       "    </tr>\n",
       "    <tr>\n",
       "      <th>4</th>\n",
       "      <td>3.0</td>\n",
       "      <td>3.583932</td>\n",
       "      <td>5.976258</td>\n",
       "      <td>5.865704</td>\n",
       "      <td>2.748851</td>\n",
       "      <td>3.956424</td>\n",
       "      <td>1.0</td>\n",
       "      <td>0.181418</td>\n",
       "      <td>5.211974</td>\n",
       "      <td>4.328288</td>\n",
       "      <td>...</td>\n",
       "      <td>1.999969</td>\n",
       "      <td>0.698139</td>\n",
       "      <td>3.021878</td>\n",
       "      <td>1.028499</td>\n",
       "      <td>4.633545</td>\n",
       "      <td>3.490240</td>\n",
       "      <td>2.080343</td>\n",
       "      <td>1.619888</td>\n",
       "      <td>2.000000</td>\n",
       "      <td>0.777397</td>\n",
       "    </tr>\n",
       "  </tbody>\n",
       "</table>\n",
       "<p>5 rows × 24 columns</p>\n",
       "</div>"
      ],
      "text/plain": [
       "   True_value  Forecasted_value  True_value  Forecasted_value  True_value  \\\n",
       "0         3.0          3.090382    5.000000          4.345422    3.000000   \n",
       "1         3.0          3.357837    3.885234          4.337047    4.999504   \n",
       "2         4.0          2.777556    4.996880          4.704496    5.002446   \n",
       "3         4.0          3.519596    6.267051          5.766768    4.678494   \n",
       "4         3.0          3.583932    5.976258          5.865704    2.748851   \n",
       "\n",
       "   Forecasted_value  True_value  Forecasted_value  True_value  \\\n",
       "0          3.965861         0.0          0.404849    5.035696   \n",
       "1          4.022651         0.0          0.421353    4.080343   \n",
       "2          4.848159         0.0          0.862991    4.691607   \n",
       "3          3.966531         0.0         -0.301113    4.000000   \n",
       "4          3.956424         1.0          0.181418    5.211974   \n",
       "\n",
       "   Forecasted_value  ...  True_value  Forecasted_value  True_value  \\\n",
       "0          3.746100  ...    0.002516          0.720516    2.000000   \n",
       "1          3.796304  ...    0.000000          1.126536    3.000000   \n",
       "2          3.663024  ...    0.000000          0.808601    3.964335   \n",
       "3          4.191371  ...    0.999995          0.949014    2.000000   \n",
       "4          4.328288  ...    1.999969          0.698139    3.021878   \n",
       "\n",
       "   Forecasted_value  True_value  Forecasted_value  True_value  \\\n",
       "0          1.983630    3.999930          3.439458    1.000013   \n",
       "1          1.665170    2.963009          3.509813    0.345385   \n",
       "2          2.287876    3.884737          3.351333    2.000670   \n",
       "3          0.805012    4.000000          3.584534    2.344058   \n",
       "4          1.028499    4.633545          3.490240    2.080343   \n",
       "\n",
       "   Forecasted_value  True_value  Forecasted_value  \n",
       "0          1.667192    0.997484          1.120003  \n",
       "1          1.481683    0.000000          1.063996  \n",
       "2          1.556076    0.000000          1.071001  \n",
       "3          1.650069    1.000005          0.570715  \n",
       "4          1.619888    2.000000          0.777397  \n",
       "\n",
       "[5 rows x 24 columns]"
      ]
     },
     "execution_count": 12,
     "metadata": {},
     "output_type": "execute_result"
    }
   ],
   "source": [
    "combined_df.head()"
   ]
  },
  {
   "cell_type": "code",
   "execution_count": 13,
   "id": "2bd7311d-b36e-4352-9a44-ebec9719e9ae",
   "metadata": {},
   "outputs": [
    {
     "data": {
      "text/plain": [
       "(7, 24)"
      ]
     },
     "execution_count": 13,
     "metadata": {},
     "output_type": "execute_result"
    }
   ],
   "source": [
    "combined_df.shape"
   ]
  },
  {
   "cell_type": "code",
   "execution_count": 14,
   "id": "ae952a0a-3035-4353-aede-905d22bd842f",
   "metadata": {},
   "outputs": [],
   "source": [
    "# get the true values\n",
    "True_values_df = combined_df[['True_value']]"
   ]
  },
  {
   "cell_type": "code",
   "execution_count": 15,
   "id": "baf73275-144e-4bb3-bd47-d94c519f86a2",
   "metadata": {},
   "outputs": [
    {
     "data": {
      "text/html": [
       "<div>\n",
       "<style scoped>\n",
       "    .dataframe tbody tr th:only-of-type {\n",
       "        vertical-align: middle;\n",
       "    }\n",
       "\n",
       "    .dataframe tbody tr th {\n",
       "        vertical-align: top;\n",
       "    }\n",
       "\n",
       "    .dataframe thead th {\n",
       "        text-align: right;\n",
       "    }\n",
       "</style>\n",
       "<table border=\"1\" class=\"dataframe\">\n",
       "  <thead>\n",
       "    <tr style=\"text-align: right;\">\n",
       "      <th></th>\n",
       "      <th>True_value</th>\n",
       "      <th>True_value</th>\n",
       "      <th>True_value</th>\n",
       "      <th>True_value</th>\n",
       "      <th>True_value</th>\n",
       "      <th>True_value</th>\n",
       "      <th>True_value</th>\n",
       "      <th>True_value</th>\n",
       "      <th>True_value</th>\n",
       "      <th>True_value</th>\n",
       "      <th>True_value</th>\n",
       "      <th>True_value</th>\n",
       "    </tr>\n",
       "  </thead>\n",
       "  <tbody>\n",
       "    <tr>\n",
       "      <th>0</th>\n",
       "      <td>3.000000</td>\n",
       "      <td>5.000000</td>\n",
       "      <td>3.000000</td>\n",
       "      <td>0.000000</td>\n",
       "      <td>5.035696</td>\n",
       "      <td>6.964375</td>\n",
       "      <td>1.999987</td>\n",
       "      <td>0.002516</td>\n",
       "      <td>2.000000</td>\n",
       "      <td>3.999930</td>\n",
       "      <td>1.000013</td>\n",
       "      <td>0.997484</td>\n",
       "    </tr>\n",
       "    <tr>\n",
       "      <th>1</th>\n",
       "      <td>3.000000</td>\n",
       "      <td>3.885234</td>\n",
       "      <td>4.999504</td>\n",
       "      <td>0.000000</td>\n",
       "      <td>4.080343</td>\n",
       "      <td>6.067392</td>\n",
       "      <td>1.659135</td>\n",
       "      <td>0.000000</td>\n",
       "      <td>3.000000</td>\n",
       "      <td>2.963009</td>\n",
       "      <td>0.345385</td>\n",
       "      <td>0.000000</td>\n",
       "    </tr>\n",
       "    <tr>\n",
       "      <th>2</th>\n",
       "      <td>4.000000</td>\n",
       "      <td>4.996880</td>\n",
       "      <td>5.002446</td>\n",
       "      <td>0.000000</td>\n",
       "      <td>4.691607</td>\n",
       "      <td>8.339459</td>\n",
       "      <td>2.119867</td>\n",
       "      <td>0.000000</td>\n",
       "      <td>3.964335</td>\n",
       "      <td>3.884737</td>\n",
       "      <td>2.000670</td>\n",
       "      <td>0.000000</td>\n",
       "    </tr>\n",
       "    <tr>\n",
       "      <th>3</th>\n",
       "      <td>4.000000</td>\n",
       "      <td>6.267051</td>\n",
       "      <td>4.678494</td>\n",
       "      <td>0.000000</td>\n",
       "      <td>4.000000</td>\n",
       "      <td>9.696634</td>\n",
       "      <td>1.013762</td>\n",
       "      <td>0.999995</td>\n",
       "      <td>2.000000</td>\n",
       "      <td>4.000000</td>\n",
       "      <td>2.344058</td>\n",
       "      <td>1.000005</td>\n",
       "    </tr>\n",
       "    <tr>\n",
       "      <th>4</th>\n",
       "      <td>3.000000</td>\n",
       "      <td>5.976258</td>\n",
       "      <td>2.748851</td>\n",
       "      <td>1.000000</td>\n",
       "      <td>5.211974</td>\n",
       "      <td>7.132603</td>\n",
       "      <td>2.193389</td>\n",
       "      <td>1.999969</td>\n",
       "      <td>3.021878</td>\n",
       "      <td>4.633545</td>\n",
       "      <td>2.080343</td>\n",
       "      <td>2.000000</td>\n",
       "    </tr>\n",
       "    <tr>\n",
       "      <th>5</th>\n",
       "      <td>4.885411</td>\n",
       "      <td>5.115885</td>\n",
       "      <td>3.156840</td>\n",
       "      <td>3.125455</td>\n",
       "      <td>5.502185</td>\n",
       "      <td>6.496521</td>\n",
       "      <td>1.788700</td>\n",
       "      <td>3.043554</td>\n",
       "      <td>3.211298</td>\n",
       "      <td>3.788700</td>\n",
       "      <td>1.054460</td>\n",
       "      <td>1.000000</td>\n",
       "    </tr>\n",
       "    <tr>\n",
       "      <th>6</th>\n",
       "      <td>3.000000</td>\n",
       "      <td>2.344058</td>\n",
       "      <td>3.002520</td>\n",
       "      <td>3.002801</td>\n",
       "      <td>2.000001</td>\n",
       "      <td>7.447157</td>\n",
       "      <td>1.999996</td>\n",
       "      <td>0.000000</td>\n",
       "      <td>2.000160</td>\n",
       "      <td>4.208624</td>\n",
       "      <td>1.000000</td>\n",
       "      <td>0.000000</td>\n",
       "    </tr>\n",
       "  </tbody>\n",
       "</table>\n",
       "</div>"
      ],
      "text/plain": [
       "   True_value  True_value  True_value  True_value  True_value  True_value  \\\n",
       "0    3.000000    5.000000    3.000000    0.000000    5.035696    6.964375   \n",
       "1    3.000000    3.885234    4.999504    0.000000    4.080343    6.067392   \n",
       "2    4.000000    4.996880    5.002446    0.000000    4.691607    8.339459   \n",
       "3    4.000000    6.267051    4.678494    0.000000    4.000000    9.696634   \n",
       "4    3.000000    5.976258    2.748851    1.000000    5.211974    7.132603   \n",
       "5    4.885411    5.115885    3.156840    3.125455    5.502185    6.496521   \n",
       "6    3.000000    2.344058    3.002520    3.002801    2.000001    7.447157   \n",
       "\n",
       "   True_value  True_value  True_value  True_value  True_value  True_value  \n",
       "0    1.999987    0.002516    2.000000    3.999930    1.000013    0.997484  \n",
       "1    1.659135    0.000000    3.000000    2.963009    0.345385    0.000000  \n",
       "2    2.119867    0.000000    3.964335    3.884737    2.000670    0.000000  \n",
       "3    1.013762    0.999995    2.000000    4.000000    2.344058    1.000005  \n",
       "4    2.193389    1.999969    3.021878    4.633545    2.080343    2.000000  \n",
       "5    1.788700    3.043554    3.211298    3.788700    1.054460    1.000000  \n",
       "6    1.999996    0.000000    2.000160    4.208624    1.000000    0.000000  "
      ]
     },
     "execution_count": 15,
     "metadata": {},
     "output_type": "execute_result"
    }
   ],
   "source": [
    "True_values_df"
   ]
  },
  {
   "cell_type": "code",
   "execution_count": 16,
   "id": "7645988e-8d19-400d-b5c9-301b6819514b",
   "metadata": {},
   "outputs": [],
   "source": [
    "# sum the true values - since the sub images are not overlapping, we can get the sum across columns in the above dataframe\n",
    "sum_true_values = True_values_df.sum(axis = 1)"
   ]
  },
  {
   "cell_type": "code",
   "execution_count": 17,
   "id": "17b55908-f95a-4308-a49d-92058bd738af",
   "metadata": {},
   "outputs": [
    {
     "data": {
      "text/plain": [
       "0    33.000000\n",
       "1    30.000000\n",
       "2    39.000001\n",
       "3    40.000001\n",
       "4    40.998811\n",
       "5    42.169009\n",
       "6    30.005317\n",
       "dtype: float64"
      ]
     },
     "execution_count": 17,
     "metadata": {},
     "output_type": "execute_result"
    }
   ],
   "source": [
    "sum_true_values"
   ]
  },
  {
   "cell_type": "code",
   "execution_count": 18,
   "id": "a516e483-354a-4c8f-b9b8-d464a6e7c216",
   "metadata": {},
   "outputs": [],
   "source": [
    "# get the forecasted values\n",
    "Forecasted_values_df = combined_df[['Forecasted_value']]"
   ]
  },
  {
   "cell_type": "code",
   "execution_count": 19,
   "id": "ea17d667-b9de-4625-9a95-576446a115a9",
   "metadata": {},
   "outputs": [
    {
     "data": {
      "text/html": [
       "<div>\n",
       "<style scoped>\n",
       "    .dataframe tbody tr th:only-of-type {\n",
       "        vertical-align: middle;\n",
       "    }\n",
       "\n",
       "    .dataframe tbody tr th {\n",
       "        vertical-align: top;\n",
       "    }\n",
       "\n",
       "    .dataframe thead th {\n",
       "        text-align: right;\n",
       "    }\n",
       "</style>\n",
       "<table border=\"1\" class=\"dataframe\">\n",
       "  <thead>\n",
       "    <tr style=\"text-align: right;\">\n",
       "      <th></th>\n",
       "      <th>Forecasted_value</th>\n",
       "      <th>Forecasted_value</th>\n",
       "      <th>Forecasted_value</th>\n",
       "      <th>Forecasted_value</th>\n",
       "      <th>Forecasted_value</th>\n",
       "      <th>Forecasted_value</th>\n",
       "      <th>Forecasted_value</th>\n",
       "      <th>Forecasted_value</th>\n",
       "      <th>Forecasted_value</th>\n",
       "      <th>Forecasted_value</th>\n",
       "      <th>Forecasted_value</th>\n",
       "      <th>Forecasted_value</th>\n",
       "    </tr>\n",
       "  </thead>\n",
       "  <tbody>\n",
       "    <tr>\n",
       "      <th>0</th>\n",
       "      <td>3.090382</td>\n",
       "      <td>4.345422</td>\n",
       "      <td>3.965861</td>\n",
       "      <td>0.404849</td>\n",
       "      <td>3.746100</td>\n",
       "      <td>3.893562</td>\n",
       "      <td>2.360484</td>\n",
       "      <td>0.720516</td>\n",
       "      <td>1.983630</td>\n",
       "      <td>3.439458</td>\n",
       "      <td>1.667192</td>\n",
       "      <td>1.120003</td>\n",
       "    </tr>\n",
       "    <tr>\n",
       "      <th>1</th>\n",
       "      <td>3.357837</td>\n",
       "      <td>4.337047</td>\n",
       "      <td>4.022651</td>\n",
       "      <td>0.421353</td>\n",
       "      <td>3.796304</td>\n",
       "      <td>3.869701</td>\n",
       "      <td>2.320263</td>\n",
       "      <td>1.126536</td>\n",
       "      <td>1.665170</td>\n",
       "      <td>3.509813</td>\n",
       "      <td>1.481683</td>\n",
       "      <td>1.063996</td>\n",
       "    </tr>\n",
       "    <tr>\n",
       "      <th>2</th>\n",
       "      <td>2.777556</td>\n",
       "      <td>4.704496</td>\n",
       "      <td>4.848159</td>\n",
       "      <td>0.862991</td>\n",
       "      <td>3.663024</td>\n",
       "      <td>4.157682</td>\n",
       "      <td>1.990893</td>\n",
       "      <td>0.808601</td>\n",
       "      <td>2.287876</td>\n",
       "      <td>3.351333</td>\n",
       "      <td>1.556076</td>\n",
       "      <td>1.071001</td>\n",
       "    </tr>\n",
       "    <tr>\n",
       "      <th>3</th>\n",
       "      <td>3.519596</td>\n",
       "      <td>5.766768</td>\n",
       "      <td>3.966531</td>\n",
       "      <td>-0.301113</td>\n",
       "      <td>4.191371</td>\n",
       "      <td>3.872577</td>\n",
       "      <td>3.758284</td>\n",
       "      <td>0.949014</td>\n",
       "      <td>0.805012</td>\n",
       "      <td>3.584534</td>\n",
       "      <td>1.650069</td>\n",
       "      <td>0.570715</td>\n",
       "    </tr>\n",
       "    <tr>\n",
       "      <th>4</th>\n",
       "      <td>3.583932</td>\n",
       "      <td>5.865704</td>\n",
       "      <td>3.956424</td>\n",
       "      <td>0.181418</td>\n",
       "      <td>4.328288</td>\n",
       "      <td>3.735846</td>\n",
       "      <td>4.300022</td>\n",
       "      <td>0.698139</td>\n",
       "      <td>1.028499</td>\n",
       "      <td>3.490240</td>\n",
       "      <td>1.619888</td>\n",
       "      <td>0.777397</td>\n",
       "    </tr>\n",
       "    <tr>\n",
       "      <th>5</th>\n",
       "      <td>3.266204</td>\n",
       "      <td>6.283763</td>\n",
       "      <td>3.989910</td>\n",
       "      <td>0.490976</td>\n",
       "      <td>4.235282</td>\n",
       "      <td>3.898197</td>\n",
       "      <td>2.578542</td>\n",
       "      <td>1.079273</td>\n",
       "      <td>0.336472</td>\n",
       "      <td>3.805908</td>\n",
       "      <td>1.671351</td>\n",
       "      <td>0.739065</td>\n",
       "    </tr>\n",
       "    <tr>\n",
       "      <th>6</th>\n",
       "      <td>3.256188</td>\n",
       "      <td>5.846380</td>\n",
       "      <td>3.971091</td>\n",
       "      <td>0.158528</td>\n",
       "      <td>4.186745</td>\n",
       "      <td>3.987216</td>\n",
       "      <td>3.109307</td>\n",
       "      <td>0.549958</td>\n",
       "      <td>1.036284</td>\n",
       "      <td>4.127296</td>\n",
       "      <td>1.696865</td>\n",
       "      <td>0.603353</td>\n",
       "    </tr>\n",
       "  </tbody>\n",
       "</table>\n",
       "</div>"
      ],
      "text/plain": [
       "   Forecasted_value  Forecasted_value  Forecasted_value  Forecasted_value  \\\n",
       "0          3.090382          4.345422          3.965861          0.404849   \n",
       "1          3.357837          4.337047          4.022651          0.421353   \n",
       "2          2.777556          4.704496          4.848159          0.862991   \n",
       "3          3.519596          5.766768          3.966531         -0.301113   \n",
       "4          3.583932          5.865704          3.956424          0.181418   \n",
       "5          3.266204          6.283763          3.989910          0.490976   \n",
       "6          3.256188          5.846380          3.971091          0.158528   \n",
       "\n",
       "   Forecasted_value  Forecasted_value  Forecasted_value  Forecasted_value  \\\n",
       "0          3.746100          3.893562          2.360484          0.720516   \n",
       "1          3.796304          3.869701          2.320263          1.126536   \n",
       "2          3.663024          4.157682          1.990893          0.808601   \n",
       "3          4.191371          3.872577          3.758284          0.949014   \n",
       "4          4.328288          3.735846          4.300022          0.698139   \n",
       "5          4.235282          3.898197          2.578542          1.079273   \n",
       "6          4.186745          3.987216          3.109307          0.549958   \n",
       "\n",
       "   Forecasted_value  Forecasted_value  Forecasted_value  Forecasted_value  \n",
       "0          1.983630          3.439458          1.667192          1.120003  \n",
       "1          1.665170          3.509813          1.481683          1.063996  \n",
       "2          2.287876          3.351333          1.556076          1.071001  \n",
       "3          0.805012          3.584534          1.650069          0.570715  \n",
       "4          1.028499          3.490240          1.619888          0.777397  \n",
       "5          0.336472          3.805908          1.671351          0.739065  \n",
       "6          1.036284          4.127296          1.696865          0.603353  "
      ]
     },
     "execution_count": 19,
     "metadata": {},
     "output_type": "execute_result"
    }
   ],
   "source": [
    "Forecasted_values_df"
   ]
  },
  {
   "cell_type": "code",
   "execution_count": 20,
   "id": "a52bb5de-a241-49a4-b6ab-4702fda67c15",
   "metadata": {},
   "outputs": [
    {
     "data": {
      "text/plain": [
       "(7, 12)"
      ]
     },
     "execution_count": 20,
     "metadata": {},
     "output_type": "execute_result"
    }
   ],
   "source": [
    "Forecasted_values_df.shape"
   ]
  },
  {
   "cell_type": "code",
   "execution_count": 21,
   "id": "2e90c508-5b8b-4983-aac2-5c35f189baea",
   "metadata": {},
   "outputs": [],
   "source": [
    "sum_forecasted_values = Forecasted_values_df.sum(axis = 1)"
   ]
  },
  {
   "cell_type": "code",
   "execution_count": 22,
   "id": "2f240410-e460-4b15-a1cc-f187ad58adcb",
   "metadata": {},
   "outputs": [
    {
     "data": {
      "text/plain": [
       "0    30.737459\n",
       "1    30.972355\n",
       "2    32.079689\n",
       "3    32.333357\n",
       "4    33.565798\n",
       "5    32.374945\n",
       "6    32.529211\n",
       "dtype: float64"
      ]
     },
     "execution_count": 22,
     "metadata": {},
     "output_type": "execute_result"
    }
   ],
   "source": [
    "sum_forecasted_values"
   ]
  },
  {
   "cell_type": "code",
   "execution_count": 23,
   "id": "d39a2bff-50da-4a8c-a839-6fdc59464541",
   "metadata": {},
   "outputs": [],
   "source": [
    "# concatenate the sum dataframes\n",
    "block_0104_true_and_forecasted_values_df = pd.concat((sum_true_values, sum_forecasted_values), axis = 1)"
   ]
  },
  {
   "cell_type": "code",
   "execution_count": 24,
   "id": "ece45dcf-d266-403a-a712-cfebeabbb81b",
   "metadata": {},
   "outputs": [],
   "source": [
    "block_0104_true_and_forecasted_values_df.columns = [\"True_count\", \"Forecasted_count\"]"
   ]
  },
  {
   "cell_type": "code",
   "execution_count": 25,
   "id": "2e898fe4-6a0b-4496-a6a0-b8168adafc3a",
   "metadata": {},
   "outputs": [
    {
     "data": {
      "text/html": [
       "<div>\n",
       "<style scoped>\n",
       "    .dataframe tbody tr th:only-of-type {\n",
       "        vertical-align: middle;\n",
       "    }\n",
       "\n",
       "    .dataframe tbody tr th {\n",
       "        vertical-align: top;\n",
       "    }\n",
       "\n",
       "    .dataframe thead th {\n",
       "        text-align: right;\n",
       "    }\n",
       "</style>\n",
       "<table border=\"1\" class=\"dataframe\">\n",
       "  <thead>\n",
       "    <tr style=\"text-align: right;\">\n",
       "      <th></th>\n",
       "      <th>True_count</th>\n",
       "      <th>Forecasted_count</th>\n",
       "    </tr>\n",
       "  </thead>\n",
       "  <tbody>\n",
       "    <tr>\n",
       "      <th>0</th>\n",
       "      <td>33.000000</td>\n",
       "      <td>30.737459</td>\n",
       "    </tr>\n",
       "    <tr>\n",
       "      <th>1</th>\n",
       "      <td>30.000000</td>\n",
       "      <td>30.972355</td>\n",
       "    </tr>\n",
       "    <tr>\n",
       "      <th>2</th>\n",
       "      <td>39.000001</td>\n",
       "      <td>32.079689</td>\n",
       "    </tr>\n",
       "    <tr>\n",
       "      <th>3</th>\n",
       "      <td>40.000001</td>\n",
       "      <td>32.333357</td>\n",
       "    </tr>\n",
       "    <tr>\n",
       "      <th>4</th>\n",
       "      <td>40.998811</td>\n",
       "      <td>33.565798</td>\n",
       "    </tr>\n",
       "    <tr>\n",
       "      <th>5</th>\n",
       "      <td>42.169009</td>\n",
       "      <td>32.374945</td>\n",
       "    </tr>\n",
       "    <tr>\n",
       "      <th>6</th>\n",
       "      <td>30.005317</td>\n",
       "      <td>32.529211</td>\n",
       "    </tr>\n",
       "  </tbody>\n",
       "</table>\n",
       "</div>"
      ],
      "text/plain": [
       "   True_count  Forecasted_count\n",
       "0   33.000000         30.737459\n",
       "1   30.000000         30.972355\n",
       "2   39.000001         32.079689\n",
       "3   40.000001         32.333357\n",
       "4   40.998811         33.565798\n",
       "5   42.169009         32.374945\n",
       "6   30.005317         32.529211"
      ]
     },
     "execution_count": 25,
     "metadata": {},
     "output_type": "execute_result"
    }
   ],
   "source": [
    "block_0104_true_and_forecasted_values_df"
   ]
  },
  {
   "cell_type": "code",
   "execution_count": 26,
   "id": "bca68bdf-e1d6-47a8-9896-6d78365c5fd9",
   "metadata": {},
   "outputs": [],
   "source": [
    "block_0104_true_and_forecasted_values_df.to_csv(\"final_forecasted_counts/block_0104_finals_forecasts.csv\", index = False)"
   ]
  },
  {
   "cell_type": "code",
   "execution_count": 27,
   "id": "fdad64dc-eef9-4934-ab51-0239358d5856",
   "metadata": {},
   "outputs": [],
   "source": [
    "# # well we need to verify that the above true values are indeed correct\n",
    "# from preprocess script we have the following counts\n",
    "# [43, 49, 53, 59, 45, 42, 34, 39, 37, 43, 41, 39, 43, 40, 39, 41, 31, 32, 40, 29] # the last seven numbers match with what we have."
   ]
  },
  {
   "cell_type": "code",
   "execution_count": 28,
   "id": "c82cb6b5-096c-41cc-92d9-1819ba35bab3",
   "metadata": {},
   "outputs": [
    {
     "data": {
      "text/plain": [
       "6.213764968258293"
      ]
     },
     "execution_count": 28,
     "metadata": {},
     "output_type": "execute_result"
    }
   ],
   "source": [
    "# blockwise mean squared error\n",
    "rmse = np.sqrt(mean_squared_error(sum_true_values, sum_forecasted_values))\n",
    "rmse"
   ]
  },
  {
   "cell_type": "code",
   "execution_count": 29,
   "id": "574aea69-e6c6-439b-bb28-5fac882283d3",
   "metadata": {},
   "outputs": [
    {
     "data": {
      "text/plain": [
       "5.367546107821808"
      ]
     },
     "execution_count": 29,
     "metadata": {},
     "output_type": "execute_result"
    }
   ],
   "source": [
    "# blockwise mean absolute error\n",
    "mae = mean_absolute_error(sum_true_values, sum_forecasted_values)\n",
    "mae"
   ]
  },
  {
   "cell_type": "code",
   "execution_count": 30,
   "id": "1f46179d-710d-4f08-87f4-93c5a59f0fb7",
   "metadata": {},
   "outputs": [],
   "source": [
    "# Getting the coverages and the widths for the forecasted values - This can be done with the saved all forecasts npy files\n",
    "# location for the forecast files (all forecasts)\n",
    "location_all_forecasts = 'forecasted_counts/block_0104'\n",
    "\n",
    "# contents at this location\n",
    "all_contents = os.listdir(location_all_forecasts)\n",
    "all_contents.sort()"
   ]
  },
  {
   "cell_type": "code",
   "execution_count": 31,
   "id": "531f8e8c-e002-45de-8d32-6a4d78439a19",
   "metadata": {},
   "outputs": [],
   "source": [
    "# we need the npy files for all forecasts\n",
    "all_forecast_files = [file for file in all_contents if file[:3] == 'all']"
   ]
  },
  {
   "cell_type": "code",
   "execution_count": 32,
   "id": "6971d19b-7cf3-40a6-8026-c2992188f5fb",
   "metadata": {},
   "outputs": [],
   "source": [
    "# arange the files in order\n",
    "later_npy_files = ['all_forecasts_sub_10.npy', 'all_forecasts_sub_11.npy']\n",
    "first_files = [file for file in all_forecast_files if file not in later_npy_files]"
   ]
  },
  {
   "cell_type": "code",
   "execution_count": 33,
   "id": "5c8db109-fa2f-48b8-b699-3973f6f259bb",
   "metadata": {},
   "outputs": [],
   "source": [
    "final_all_forecast_files = first_files + later_npy_files"
   ]
  },
  {
   "cell_type": "code",
   "execution_count": 34,
   "id": "b0cea633-68a3-4df8-a3e0-dc1816d70b27",
   "metadata": {},
   "outputs": [
    {
     "data": {
      "text/plain": [
       "['all_forecasts_sub_0.npy',\n",
       " 'all_forecasts_sub_1.npy',\n",
       " 'all_forecasts_sub_2.npy',\n",
       " 'all_forecasts_sub_3.npy',\n",
       " 'all_forecasts_sub_4.npy',\n",
       " 'all_forecasts_sub_5.npy',\n",
       " 'all_forecasts_sub_6.npy',\n",
       " 'all_forecasts_sub_7.npy',\n",
       " 'all_forecasts_sub_8.npy',\n",
       " 'all_forecasts_sub_9.npy',\n",
       " 'all_forecasts_sub_10.npy',\n",
       " 'all_forecasts_sub_11.npy']"
      ]
     },
     "execution_count": 34,
     "metadata": {},
     "output_type": "execute_result"
    }
   ],
   "source": [
    "final_all_forecast_files"
   ]
  },
  {
   "cell_type": "code",
   "execution_count": 35,
   "id": "71c2e5e0-57a1-487f-97ae-fe14edff435f",
   "metadata": {},
   "outputs": [],
   "source": [
    "loaded_npy_files = []\n",
    "for file in final_all_forecast_files:\n",
    "    joined_path = os.path.join(location_all_forecasts, file)\n",
    "    load_file = np.load(joined_path)\n",
    "    loaded_npy_files.append(load_file)"
   ]
  },
  {
   "cell_type": "code",
   "execution_count": 36,
   "id": "f1412dc1-4d19-4fe5-8eb4-71ea21313a96",
   "metadata": {},
   "outputs": [
    {
     "data": {
      "text/plain": [
       "12"
      ]
     },
     "execution_count": 36,
     "metadata": {},
     "output_type": "execute_result"
    }
   ],
   "source": [
    "len(loaded_npy_files)"
   ]
  },
  {
   "cell_type": "code",
   "execution_count": 37,
   "id": "68455131-2710-402d-88e1-00bb40ef7bbf",
   "metadata": {},
   "outputs": [],
   "source": [
    "output = sum(loaded_npy_files)"
   ]
  },
  {
   "cell_type": "code",
   "execution_count": 38,
   "id": "904c78d8-b419-4733-b104-cfe4ece3d8f8",
   "metadata": {},
   "outputs": [
    {
     "data": {
      "text/plain": [
       "(1000, 4, 7)"
      ]
     },
     "execution_count": 38,
     "metadata": {},
     "output_type": "execute_result"
    }
   ],
   "source": [
    "output.shape"
   ]
  },
  {
   "cell_type": "code",
   "execution_count": 39,
   "id": "660e2d50-ad84-4be0-a07f-784f71b2cf70",
   "metadata": {},
   "outputs": [],
   "source": [
    "final_array = output.reshape(4000,7)"
   ]
  },
  {
   "cell_type": "code",
   "execution_count": 40,
   "id": "ad3a472a-a81a-4ac6-92ca-7c57b3ff0138",
   "metadata": {},
   "outputs": [
    {
     "data": {
      "text/plain": [
       "array([[30.289557, 28.149418, 24.19578 , ..., 36.761703, 42.41029 ,\n",
       "        62.847298],\n",
       "       [23.974836, 30.433416, 23.879543, ..., 35.37668 , 40.820133,\n",
       "        34.000633],\n",
       "       [24.286087, 34.472332, 23.576845, ..., 19.764013, 20.226458,\n",
       "        29.617722],\n",
       "       ...,\n",
       "       [31.908293, 24.577797, 27.64894 , ..., 39.340336, 25.279364,\n",
       "        32.378395],\n",
       "       [28.35446 , 34.587856, 29.27621 , ..., 23.334278, 33.145123,\n",
       "        36.254562],\n",
       "       [26.42628 , 32.170025, 29.67711 , ..., 28.403378, 25.643152,\n",
       "        22.763128]], dtype=float32)"
      ]
     },
     "execution_count": 40,
     "metadata": {},
     "output_type": "execute_result"
    }
   ],
   "source": [
    "final_array"
   ]
  },
  {
   "cell_type": "code",
   "execution_count": 41,
   "id": "99e9934e-1992-447d-b7f4-1c1006af1c7c",
   "metadata": {},
   "outputs": [],
   "source": [
    "li_train = np.percentile(final_array, axis = 0, q = (2.5, 97.5))[0,:].reshape(-1,1)    \n",
    "ui_train = np.percentile(final_array, axis = 0, q = (2.5, 97.5))[1,:].reshape(-1,1)"
   ]
  },
  {
   "cell_type": "code",
   "execution_count": 42,
   "id": "9e74fa7e-b298-4f54-a9b2-9c56dc629fcb",
   "metadata": {},
   "outputs": [
    {
     "data": {
      "text/plain": [
       "array([[19.47134061],\n",
       "       [18.68034563],\n",
       "       [20.35248752],\n",
       "       [18.25764036],\n",
       "       [16.78010378],\n",
       "       [14.53195755],\n",
       "       [10.9002497 ]])"
      ]
     },
     "execution_count": 42,
     "metadata": {},
     "output_type": "execute_result"
    }
   ],
   "source": [
    "li_train"
   ]
  },
  {
   "cell_type": "code",
   "execution_count": 43,
   "id": "18a79041-8b56-46d0-8258-cfd42d010716",
   "metadata": {},
   "outputs": [
    {
     "data": {
      "text/plain": [
       "array([[41.61416979],\n",
       "       [42.64579172],\n",
       "       [42.44498062],\n",
       "       [46.47115459],\n",
       "       [49.3372385 ],\n",
       "       [49.38569136],\n",
       "       [53.74965582]])"
      ]
     },
     "execution_count": 43,
     "metadata": {},
     "output_type": "execute_result"
    }
   ],
   "source": [
    "ui_train"
   ]
  },
  {
   "cell_type": "code",
   "execution_count": 44,
   "id": "d6a49f50-f110-4291-b8bd-60bd23d22b66",
   "metadata": {},
   "outputs": [],
   "source": [
    "width_train = ui_train - li_train\n",
    "avg_width_train = width_train.mean(0)[0]"
   ]
  },
  {
   "cell_type": "code",
   "execution_count": 45,
   "id": "779b45d0-cb9f-45e7-8ff5-96dfc86823c6",
   "metadata": {},
   "outputs": [
    {
     "data": {
      "text/plain": [
       "29.52493675095695"
      ]
     },
     "execution_count": 45,
     "metadata": {},
     "output_type": "execute_result"
    }
   ],
   "source": [
    "avg_width_train"
   ]
  },
  {
   "cell_type": "code",
   "execution_count": 46,
   "id": "bdd312c8-54da-4ee1-83ea-4eb810720389",
   "metadata": {},
   "outputs": [],
   "source": [
    "y_traina = block_0104_true_and_forecasted_values_df[[\"True_count\"]].values"
   ]
  },
  {
   "cell_type": "code",
   "execution_count": 47,
   "id": "82a9df16-15ce-4cbc-8adf-da69a42379ce",
   "metadata": {},
   "outputs": [],
   "source": [
    "ind_train = (y_traina >= li_train) & (y_traina <= ui_train)\n",
    "coverage_train= ind_train.mean(0)[0]"
   ]
  },
  {
   "cell_type": "code",
   "execution_count": 48,
   "id": "35ad80c2-95f8-4360-b658-f0a205295177",
   "metadata": {},
   "outputs": [
    {
     "data": {
      "text/plain": [
       "1.0"
      ]
     },
     "execution_count": 48,
     "metadata": {},
     "output_type": "execute_result"
    }
   ],
   "source": [
    "coverage_train"
   ]
  },
  {
   "cell_type": "markdown",
   "id": "4b5662ba-53fc-4d0a-8ab1-90943332b833",
   "metadata": {},
   "source": [
    "Verify the true counts we have for the test data are indeed correct"
   ]
  },
  {
   "cell_type": "code",
   "execution_count": 49,
   "id": "724217e5-4573-4dbd-a4a9-456196eba610",
   "metadata": {},
   "outputs": [],
   "source": [
    "# Verify the true counts - from np arrays - location Block_0103/sub_images_and_counts\n",
    "\n",
    "sub_count_loc = 'all_preprocessed_data/Block_0104/sub_images_and_counts'"
   ]
  },
  {
   "cell_type": "code",
   "execution_count": 50,
   "id": "511c69c2-0d2b-4162-b53b-6d0376d45f98",
   "metadata": {},
   "outputs": [],
   "source": [
    "sub_density_maps = [i for i in os.listdir(sub_count_loc) if i.split(\".\")[0][-7:] == 'density']\n",
    "sub_density_maps.sort()"
   ]
  },
  {
   "cell_type": "code",
   "execution_count": 51,
   "id": "092d45fa-dd71-4715-8a49-bd42ba88b0e2",
   "metadata": {},
   "outputs": [],
   "source": [
    "# get the test dates\n",
    "test_time_periods = ['2020_08_26', '2020_08_27', '2020_08_28' ,'2020_08_31', '2020_09_02', '2020_09_07', '2020_09_16']"
   ]
  },
  {
   "cell_type": "code",
   "execution_count": 52,
   "id": "56e5dc17-fc4e-4cd8-a111-fa54fcfb18c9",
   "metadata": {},
   "outputs": [],
   "source": [
    "test_time_periods = ['Block0104_' + i for i in test_time_periods]"
   ]
  },
  {
   "cell_type": "code",
   "execution_count": 53,
   "id": "9a4441c3-9e9d-4ef7-907a-401bc2f28902",
   "metadata": {},
   "outputs": [
    {
     "data": {
      "text/plain": [
       "['Block0104_2020_08_26',\n",
       " 'Block0104_2020_08_27',\n",
       " 'Block0104_2020_08_28',\n",
       " 'Block0104_2020_08_31',\n",
       " 'Block0104_2020_09_02',\n",
       " 'Block0104_2020_09_07',\n",
       " 'Block0104_2020_09_16']"
      ]
     },
     "execution_count": 53,
     "metadata": {},
     "output_type": "execute_result"
    }
   ],
   "source": [
    "# print the test dates\n",
    "test_time_periods"
   ]
  },
  {
   "cell_type": "code",
   "execution_count": 54,
   "id": "52e5be85-4f78-4f07-8793-22f442cd0f64",
   "metadata": {},
   "outputs": [],
   "source": [
    "# get the density maps for these days only for the computation of the total true counts of the test images\n",
    "test_density_maps = [i for i in sub_density_maps if i[:20] in test_time_periods]\n",
    "test_density_maps.sort()"
   ]
  },
  {
   "cell_type": "code",
   "execution_count": 55,
   "id": "6e1f6a4a-a307-422d-a54f-8a83e0f47dec",
   "metadata": {},
   "outputs": [
    {
     "name": "stdout",
     "output_type": "stream",
     "text": [
      "CPU times: user 41.3 ms, sys: 92.4 ms, total: 134 ms\n",
      "Wall time: 5.18 s\n"
     ]
    }
   ],
   "source": [
    "%%time\n",
    "# get the true counts\n",
    "true_counts_in_order = []\n",
    "step = 0\n",
    "# we have only seven time points\n",
    "for u in range(7):\n",
    "    catch_counts = []\n",
    "    # for each time steps we have 12 images, and since the sub windows are not overlapping we can add the values straightaway eben without sorting\n",
    "    for j in range(step, step + 12):\n",
    "        total_count = np.sum(np.load(os.path.join(sub_count_loc, test_density_maps[j])))\n",
    "        catch_counts.append(total_count)\n",
    "    true_counts_in_order.append(np.sum(catch_counts))\n",
    "    step = step + 12"
   ]
  },
  {
   "cell_type": "code",
   "execution_count": 56,
   "id": "33f37ab4-eea8-455d-9ae9-a81a0e637b28",
   "metadata": {},
   "outputs": [
    {
     "data": {
      "text/plain": [
       "[33.00000000000001,\n",
       " 30.000000000000004,\n",
       " 39.00000127295261,\n",
       " 40.0,\n",
       " 40.99881043962578,\n",
       " 42.16900880475353,\n",
       " 30.005316665182647]"
      ]
     },
     "execution_count": 56,
     "metadata": {},
     "output_type": "execute_result"
    }
   ],
   "source": [
    "true_counts_in_order"
   ]
  },
  {
   "cell_type": "code",
   "execution_count": 58,
   "id": "e6f3e49f-9a23-45f7-ad44-7b607ede05eb",
   "metadata": {},
   "outputs": [
    {
     "data": {
      "text/plain": [
       "array([33.00000045, 30.00000045, 39.00000143, 40.00000054, 40.99881077,\n",
       "       42.16900909, 30.00531685])"
      ]
     },
     "execution_count": 58,
     "metadata": {},
     "output_type": "execute_result"
    }
   ],
   "source": [
    "block_0104_true_and_forecasted_values_df[['True_count']].values.flatten()"
   ]
  },
  {
   "cell_type": "code",
   "execution_count": 60,
   "id": "c1b0dbd4-f9bb-4137-9e7b-b39563577895",
   "metadata": {},
   "outputs": [],
   "source": [
    "# see if the two values we get match "
   ]
  },
  {
   "cell_type": "code",
   "execution_count": 59,
   "id": "aadb3fce-ef55-45a9-9b38-79a4a7affe30",
   "metadata": {},
   "outputs": [
    {
     "data": {
      "text/plain": [
       "1.0"
      ]
     },
     "execution_count": 59,
     "metadata": {},
     "output_type": "execute_result"
    }
   ],
   "source": [
    "np.mean(np.round(true_counts_in_order, 0) == np.round(block_0104_true_and_forecasted_values_df[['True_count']].values.flatten(), 0))"
   ]
  }
 ],
 "metadata": {
  "kernelspec": {
   "display_name": "Python (tfp_env_TN_CPU)",
   "language": "python",
   "name": "tfp_env_tn_cpu"
  },
  "language_info": {
   "codemirror_mode": {
    "name": "ipython",
    "version": 3
   },
   "file_extension": ".py",
   "mimetype": "text/x-python",
   "name": "python",
   "nbconvert_exporter": "python",
   "pygments_lexer": "ipython3",
   "version": "3.11.7"
  }
 },
 "nbformat": 4,
 "nbformat_minor": 5
}
